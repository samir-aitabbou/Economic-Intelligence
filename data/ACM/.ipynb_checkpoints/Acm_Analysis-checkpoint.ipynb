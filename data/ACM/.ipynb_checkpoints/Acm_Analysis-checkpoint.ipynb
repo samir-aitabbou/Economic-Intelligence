{
 "cells": [
  {
   "cell_type": "code",
   "execution_count": 2,
   "id": "d78858ef",
   "metadata": {},
   "outputs": [
    {
     "name": "stdout",
     "output_type": "stream",
     "text": [
      "Collecting pandas\n",
      "  Downloading pandas-1.5.2-cp311-cp311-win_amd64.whl (10.3 MB)\n",
      "     -------------------------------------- 10.3/10.3 MB 523.2 kB/s eta 0:00:00\n",
      "Requirement already satisfied: python-dateutil>=2.8.1 in c:\\users\\samir\\appdata\\local\\programs\\python\\python311\\lib\\site-packages (from pandas) (2.8.2)\n",
      "Collecting pytz>=2020.1\n",
      "  Downloading pytz-2022.7-py2.py3-none-any.whl (499 kB)\n",
      "     ------------------------------------ 499.4/499.4 kB 489.1 kB/s eta 0:00:00\n",
      "Collecting numpy>=1.21.0\n",
      "  Downloading numpy-1.24.0-cp311-cp311-win_amd64.whl (14.8 MB)\n",
      "     -------------------------------------- 14.8/14.8 MB 373.3 kB/s eta 0:00:00\n",
      "Requirement already satisfied: six>=1.5 in c:\\users\\samir\\appdata\\local\\programs\\python\\python311\\lib\\site-packages (from python-dateutil>=2.8.1->pandas) (1.16.0)\n",
      "Installing collected packages: pytz, numpy, pandas\n",
      "Successfully installed numpy-1.24.0 pandas-1.5.2 pytz-2022.7\n",
      "Note: you may need to restart the kernel to use updated packages.\n"
     ]
    }
   ],
   "source": [
    "pip install pandas"
   ]
  },
  {
   "cell_type": "code",
   "execution_count": 1,
   "id": "ffa4d7a6",
   "metadata": {},
   "outputs": [],
   "source": [
    "import pandas as pd"
   ]
  },
  {
   "cell_type": "code",
   "execution_count": 4,
   "id": "388ee637",
   "metadata": {},
   "outputs": [],
   "source": [
    "data = pd.read_csv(\"Acm.csv\")"
   ]
  },
  {
   "cell_type": "code",
   "execution_count": 5,
   "id": "1c53cd90",
   "metadata": {},
   "outputs": [
    {
     "data": {
      "text/html": [
       "<div>\n",
       "<style scoped>\n",
       "    .dataframe tbody tr th:only-of-type {\n",
       "        vertical-align: middle;\n",
       "    }\n",
       "\n",
       "    .dataframe tbody tr th {\n",
       "        vertical-align: top;\n",
       "    }\n",
       "\n",
       "    .dataframe thead th {\n",
       "        text-align: right;\n",
       "    }\n",
       "</style>\n",
       "<table border=\"1\" class=\"dataframe\">\n",
       "  <thead>\n",
       "    <tr style=\"text-align: right;\">\n",
       "      <th></th>\n",
       "      <th>title</th>\n",
       "      <th>authors_name</th>\n",
       "      <th>auths_institution</th>\n",
       "      <th>auths_per_institution</th>\n",
       "      <th>abstract</th>\n",
       "      <th>location</th>\n",
       "      <th>pub_date</th>\n",
       "      <th>citation_nbres</th>\n",
       "      <th>download_nbres</th>\n",
       "      <th>dio</th>\n",
       "    </tr>\n",
       "  </thead>\n",
       "  <tbody>\n",
       "    <tr>\n",
       "      <th>0</th>\n",
       "      <td>Blockchain Extension for PostgreSQL Data Storage</td>\n",
       "      <td>Yash Madhwal,Darkhan Nurlybay,Yury A Yanovich</td>\n",
       "      <td>Skolkovo Institute of Science and Technology,N...</td>\n",
       "      <td>(Yash Madhwal) FROM (Skolkovo Institute of Sci...</td>\n",
       "      <td>Blockchain is an emerging technology with the ...</td>\n",
       "      <td>Russia</td>\n",
       "      <td>02 October 2021</td>\n",
       "      <td>0</td>\n",
       "      <td>1,272</td>\n",
       "      <td>https://doi.org/10.1145/3475992.3476002</td>\n",
       "    </tr>\n",
       "    <tr>\n",
       "      <th>1</th>\n",
       "      <td>Overview of Blockchain Data Privacy Protection</td>\n",
       "      <td>Qi Zhang,Hai Lv,Junwei Ma,Jingye Li,Jieni Zhang</td>\n",
       "      <td>State Grid Shanxi Electric Power Company,Beiji...</td>\n",
       "      <td>(Qi Zhang) FROM (State Grid Shanxi Electric Po...</td>\n",
       "      <td>Blockchain has the advantages of decentralizat...</td>\n",
       "      <td>China</td>\n",
       "      <td>02 October 2021</td>\n",
       "      <td>0</td>\n",
       "      <td>447</td>\n",
       "      <td>https://doi.org/10.1145/3475992.3476000</td>\n",
       "    </tr>\n",
       "    <tr>\n",
       "      <th>2</th>\n",
       "      <td>Blockchain Enabled IoT Edge Computing</td>\n",
       "      <td>Pankaj Mendki</td>\n",
       "      <td>Talentica Software Pvt Ltd, Pune</td>\n",
       "      <td>(Pankaj Mendki) FROM (Talentica Software Pvt L...</td>\n",
       "      <td>Number of internet connected devices is increa...</td>\n",
       "      <td>India</td>\n",
       "      <td>15 March 2019</td>\n",
       "      <td>15</td>\n",
       "      <td>1,526</td>\n",
       "      <td>https://doi.org/10.1145/3320154.3320166</td>\n",
       "    </tr>\n",
       "    <tr>\n",
       "      <th>3</th>\n",
       "      <td>Towards a Blockchain Deployment at UAE Univers...</td>\n",
       "      <td>Leila Ismail,Heba Hameed,Mahra AlShamsi,Manaye...</td>\n",
       "      <td>IEEE, College of Information Technology, UAE U...</td>\n",
       "      <td>(Leila Ismail) FROM (IEEE, College of Informat...</td>\n",
       "      <td>Blockchain technology initially developed for ...</td>\n",
       "      <td>UAE</td>\n",
       "      <td>15 March 2019</td>\n",
       "      <td>13</td>\n",
       "      <td>1,374</td>\n",
       "      <td>https://doi.org/10.1145/3320154.3320156</td>\n",
       "    </tr>\n",
       "    <tr>\n",
       "      <th>4</th>\n",
       "      <td>PoolParty: Efficient Blockchain-Agnostic Decen...</td>\n",
       "      <td>Nicholas Dana Troutman,Aron Laszka</td>\n",
       "      <td>University of Houston,University of Houston</td>\n",
       "      <td>(Nicholas Dana Troutman) FROM (University of H...</td>\n",
       "      <td>Blockchain mining is increasingly dominated by...</td>\n",
       "      <td>USA</td>\n",
       "      <td>20 July 2021</td>\n",
       "      <td>0</td>\n",
       "      <td>80</td>\n",
       "      <td>https://doi.org/10.1145/3460537.3460554</td>\n",
       "    </tr>\n",
       "  </tbody>\n",
       "</table>\n",
       "</div>"
      ],
      "text/plain": [
       "                                               title  \\\n",
       "0   Blockchain Extension for PostgreSQL Data Storage   \n",
       "1     Overview of Blockchain Data Privacy Protection   \n",
       "2              Blockchain Enabled IoT Edge Computing   \n",
       "3  Towards a Blockchain Deployment at UAE Univers...   \n",
       "4  PoolParty: Efficient Blockchain-Agnostic Decen...   \n",
       "\n",
       "                                        authors_name  \\\n",
       "0      Yash Madhwal,Darkhan Nurlybay,Yury A Yanovich   \n",
       "1    Qi Zhang,Hai Lv,Junwei Ma,Jingye Li,Jieni Zhang   \n",
       "2                                      Pankaj Mendki   \n",
       "3  Leila Ismail,Heba Hameed,Mahra AlShamsi,Manaye...   \n",
       "4                 Nicholas Dana Troutman,Aron Laszka   \n",
       "\n",
       "                                   auths_institution  \\\n",
       "0  Skolkovo Institute of Science and Technology,N...   \n",
       "1  State Grid Shanxi Electric Power Company,Beiji...   \n",
       "2                   Talentica Software Pvt Ltd, Pune   \n",
       "3  IEEE, College of Information Technology, UAE U...   \n",
       "4        University of Houston,University of Houston   \n",
       "\n",
       "                               auths_per_institution  \\\n",
       "0  (Yash Madhwal) FROM (Skolkovo Institute of Sci...   \n",
       "1  (Qi Zhang) FROM (State Grid Shanxi Electric Po...   \n",
       "2  (Pankaj Mendki) FROM (Talentica Software Pvt L...   \n",
       "3  (Leila Ismail) FROM (IEEE, College of Informat...   \n",
       "4  (Nicholas Dana Troutman) FROM (University of H...   \n",
       "\n",
       "                                            abstract location  \\\n",
       "0  Blockchain is an emerging technology with the ...   Russia   \n",
       "1  Blockchain has the advantages of decentralizat...    China   \n",
       "2  Number of internet connected devices is increa...    India   \n",
       "3  Blockchain technology initially developed for ...      UAE   \n",
       "4  Blockchain mining is increasingly dominated by...      USA   \n",
       "\n",
       "          pub_date  citation_nbres download_nbres  \\\n",
       "0  02 October 2021               0          1,272   \n",
       "1  02 October 2021               0            447   \n",
       "2    15 March 2019              15          1,526   \n",
       "3    15 March 2019              13          1,374   \n",
       "4     20 July 2021               0             80   \n",
       "\n",
       "                                       dio  \n",
       "0  https://doi.org/10.1145/3475992.3476002  \n",
       "1  https://doi.org/10.1145/3475992.3476000  \n",
       "2  https://doi.org/10.1145/3320154.3320166  \n",
       "3  https://doi.org/10.1145/3320154.3320156  \n",
       "4  https://doi.org/10.1145/3460537.3460554  "
      ]
     },
     "execution_count": 5,
     "metadata": {},
     "output_type": "execute_result"
    }
   ],
   "source": [
    "data.head()"
   ]
  },
  {
   "cell_type": "code",
   "execution_count": 6,
   "id": "bf175adc",
   "metadata": {},
   "outputs": [
    {
     "data": {
      "text/plain": [
       "'Skolkovo Institute of Science and Technology,National Research University Higher School of Economics,Skolkovo Institute of Science and Technology'"
      ]
     },
     "execution_count": 6,
     "metadata": {},
     "output_type": "execute_result"
    }
   ],
   "source": [
    "data[\"auths_institution\"][0]"
   ]
  },
  {
   "cell_type": "code",
   "execution_count": 7,
   "id": "f0a99d46",
   "metadata": {},
   "outputs": [
    {
     "data": {
      "text/plain": [
       "'(Yash Madhwal) FROM (Skolkovo Institute of Science and Technology),(Darkhan Nurlybay) FROM (National Research University Higher School of Economics),(Yury A Yanovich) FROM (Skolkovo Institute of Science and Technology)'"
      ]
     },
     "execution_count": 7,
     "metadata": {},
     "output_type": "execute_result"
    }
   ],
   "source": [
    "data[\"auths_per_institution\"][0]"
   ]
  },
  {
   "cell_type": "code",
   "execution_count": 8,
   "id": "1d0a2cf0",
   "metadata": {},
   "outputs": [
    {
     "data": {
      "text/plain": [
       "'Russia'"
      ]
     },
     "execution_count": 8,
     "metadata": {},
     "output_type": "execute_result"
    }
   ],
   "source": [
    "data[\"location\"][0]"
   ]
  },
  {
   "cell_type": "code",
   "execution_count": null,
   "id": "2e0bd081",
   "metadata": {},
   "outputs": [],
   "source": []
  }
 ],
 "metadata": {
  "kernelspec": {
   "display_name": "Python 3 (ipykernel)",
   "language": "python",
   "name": "python3"
  },
  "language_info": {
   "codemirror_mode": {
    "name": "ipython",
    "version": 3
   },
   "file_extension": ".py",
   "mimetype": "text/x-python",
   "name": "python",
   "nbconvert_exporter": "python",
   "pygments_lexer": "ipython3",
   "version": "3.11.1"
  }
 },
 "nbformat": 4,
 "nbformat_minor": 5
}
