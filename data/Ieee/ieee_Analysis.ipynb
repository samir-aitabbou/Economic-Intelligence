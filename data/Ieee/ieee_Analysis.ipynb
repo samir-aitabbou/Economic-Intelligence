{
 "cells": [
  {
   "cell_type": "code",
   "execution_count": 1,
   "id": "f23d74d9",
   "metadata": {},
   "outputs": [],
   "source": [
    "import pandas as pd"
   ]
  },
  {
   "cell_type": "code",
   "execution_count": 2,
   "id": "9ceb091c",
   "metadata": {},
   "outputs": [
    {
     "name": "stdout",
     "output_type": "stream",
     "text": [
      "14550\n"
     ]
    },
    {
     "data": {
      "text/html": [
       "<div>\n",
       "<style scoped>\n",
       "    .dataframe tbody tr th:only-of-type {\n",
       "        vertical-align: middle;\n",
       "    }\n",
       "\n",
       "    .dataframe tbody tr th {\n",
       "        vertical-align: top;\n",
       "    }\n",
       "\n",
       "    .dataframe thead th {\n",
       "        text-align: right;\n",
       "    }\n",
       "</style>\n",
       "<table border=\"1\" class=\"dataframe\">\n",
       "  <thead>\n",
       "    <tr style=\"text-align: right;\">\n",
       "      <th></th>\n",
       "      <th>Document Title</th>\n",
       "      <th>Authors</th>\n",
       "      <th>Author Affiliations</th>\n",
       "      <th>Publication Title</th>\n",
       "      <th>Date Added To Xplore</th>\n",
       "      <th>Publication Year</th>\n",
       "      <th>Volume</th>\n",
       "      <th>Issue</th>\n",
       "      <th>Start Page</th>\n",
       "      <th>End Page</th>\n",
       "      <th>...</th>\n",
       "      <th>Mesh_Terms</th>\n",
       "      <th>Article Citation Count</th>\n",
       "      <th>Patent Citation Count</th>\n",
       "      <th>Reference Count</th>\n",
       "      <th>License</th>\n",
       "      <th>Online Date</th>\n",
       "      <th>Issue Date</th>\n",
       "      <th>Meeting Date</th>\n",
       "      <th>Publisher</th>\n",
       "      <th>Document Identifier</th>\n",
       "    </tr>\n",
       "  </thead>\n",
       "  <tbody>\n",
       "    <tr>\n",
       "      <th>0</th>\n",
       "      <td>A Blockchain-based Model Migration Approach fo...</td>\n",
       "      <td>C. Zhang; Y. Xu; H. Elahi; D. Zhang; Y. Tan; J...</td>\n",
       "      <td>College of Computer Science and Electronic Eng...</td>\n",
       "      <td>IEEE Internet of Things Journal</td>\n",
       "      <td>NaN</td>\n",
       "      <td>2022</td>\n",
       "      <td>PP</td>\n",
       "      <td>99</td>\n",
       "      <td>1</td>\n",
       "      <td>1</td>\n",
       "      <td>...</td>\n",
       "      <td>NaN</td>\n",
       "      <td>NaN</td>\n",
       "      <td>NaN</td>\n",
       "      <td>NaN</td>\n",
       "      <td>IEEE</td>\n",
       "      <td>2 May 2022</td>\n",
       "      <td>NaN</td>\n",
       "      <td>NaN</td>\n",
       "      <td>IEEE</td>\n",
       "      <td>IEEE Early Access Articles</td>\n",
       "    </tr>\n",
       "    <tr>\n",
       "      <th>1</th>\n",
       "      <td>BESIFL: Blockchain Empowered Secure and Incent...</td>\n",
       "      <td>Y. Xu; Z. Lu; K. Gai; Q. Duan; J. Lin; J. Wu; ...</td>\n",
       "      <td>School of Computer Science, Fudan University, ...</td>\n",
       "      <td>IEEE Internet of Things Journal</td>\n",
       "      <td>NaN</td>\n",
       "      <td>2021</td>\n",
       "      <td>PP</td>\n",
       "      <td>99</td>\n",
       "      <td>1</td>\n",
       "      <td>1</td>\n",
       "      <td>...</td>\n",
       "      <td>NaN</td>\n",
       "      <td>2.0</td>\n",
       "      <td>NaN</td>\n",
       "      <td>NaN</td>\n",
       "      <td>IEEE</td>\n",
       "      <td>27 Dec 2021</td>\n",
       "      <td>NaN</td>\n",
       "      <td>NaN</td>\n",
       "      <td>IEEE</td>\n",
       "      <td>IEEE Early Access Articles</td>\n",
       "    </tr>\n",
       "    <tr>\n",
       "      <th>2</th>\n",
       "      <td>BPPS:Blockchain-Enabled Privacy-Preserving Sch...</td>\n",
       "      <td>K. Park; J. Lee; A. K. Das; Y. Park</td>\n",
       "      <td>Blockchain Research Section, Electronics and T...</td>\n",
       "      <td>IEEE Transactions on Dependable and Secure Com...</td>\n",
       "      <td>NaN</td>\n",
       "      <td>2022</td>\n",
       "      <td>PP</td>\n",
       "      <td>99</td>\n",
       "      <td>1</td>\n",
       "      <td>1</td>\n",
       "      <td>...</td>\n",
       "      <td>NaN</td>\n",
       "      <td>3.0</td>\n",
       "      <td>NaN</td>\n",
       "      <td>NaN</td>\n",
       "      <td>IEEE</td>\n",
       "      <td>29 Mar 2022</td>\n",
       "      <td>NaN</td>\n",
       "      <td>NaN</td>\n",
       "      <td>IEEE</td>\n",
       "      <td>IEEE Early Access Articles</td>\n",
       "    </tr>\n",
       "    <tr>\n",
       "      <th>3</th>\n",
       "      <td>TRUCON: Blockchain-Based Trusted Data Sharing ...</td>\n",
       "      <td>M. Yuan; Y. Xu; C. Zhang; Y. Tan; Y. Wang; J. ...</td>\n",
       "      <td>School of Computer Science and Engineering, Ce...</td>\n",
       "      <td>IEEE Transactions on Intelligent Transportatio...</td>\n",
       "      <td>NaN</td>\n",
       "      <td>2022</td>\n",
       "      <td>PP</td>\n",
       "      <td>99</td>\n",
       "      <td>1</td>\n",
       "      <td>12</td>\n",
       "      <td>...</td>\n",
       "      <td>NaN</td>\n",
       "      <td>NaN</td>\n",
       "      <td>NaN</td>\n",
       "      <td>NaN</td>\n",
       "      <td>IEEE</td>\n",
       "      <td>15 Dec 2022</td>\n",
       "      <td>NaN</td>\n",
       "      <td>NaN</td>\n",
       "      <td>IEEE</td>\n",
       "      <td>IEEE Early Access Articles</td>\n",
       "    </tr>\n",
       "    <tr>\n",
       "      <th>4</th>\n",
       "      <td>Conditional Anonymous Remote Healthcare Data S...</td>\n",
       "      <td>J. Liu; W. Jiang; R. Sun; A. K. Bashir; M. D. ...</td>\n",
       "      <td>Shaanxi Key Laboratory of Blockchain and Secur...</td>\n",
       "      <td>IEEE Journal of Biomedical and Health Informatics</td>\n",
       "      <td>NaN</td>\n",
       "      <td>2022</td>\n",
       "      <td>PP</td>\n",
       "      <td>99</td>\n",
       "      <td>1</td>\n",
       "      <td>12</td>\n",
       "      <td>...</td>\n",
       "      <td>NaN</td>\n",
       "      <td>NaN</td>\n",
       "      <td>NaN</td>\n",
       "      <td>NaN</td>\n",
       "      <td>IEEE</td>\n",
       "      <td>15 Jun 2022</td>\n",
       "      <td>NaN</td>\n",
       "      <td>NaN</td>\n",
       "      <td>IEEE</td>\n",
       "      <td>IEEE Early Access Articles</td>\n",
       "    </tr>\n",
       "  </tbody>\n",
       "</table>\n",
       "<p>5 rows × 30 columns</p>\n",
       "</div>"
      ],
      "text/plain": [
       "                                      Document Title  \\\n",
       "0  A Blockchain-based Model Migration Approach fo...   \n",
       "1  BESIFL: Blockchain Empowered Secure and Incent...   \n",
       "2  BPPS:Blockchain-Enabled Privacy-Preserving Sch...   \n",
       "3  TRUCON: Blockchain-Based Trusted Data Sharing ...   \n",
       "4  Conditional Anonymous Remote Healthcare Data S...   \n",
       "\n",
       "                                             Authors  \\\n",
       "0  C. Zhang; Y. Xu; H. Elahi; D. Zhang; Y. Tan; J...   \n",
       "1  Y. Xu; Z. Lu; K. Gai; Q. Duan; J. Lin; J. Wu; ...   \n",
       "2                K. Park; J. Lee; A. K. Das; Y. Park   \n",
       "3  M. Yuan; Y. Xu; C. Zhang; Y. Tan; Y. Wang; J. ...   \n",
       "4  J. Liu; W. Jiang; R. Sun; A. K. Bashir; M. D. ...   \n",
       "\n",
       "                                 Author Affiliations  \\\n",
       "0  College of Computer Science and Electronic Eng...   \n",
       "1  School of Computer Science, Fudan University, ...   \n",
       "2  Blockchain Research Section, Electronics and T...   \n",
       "3  School of Computer Science and Engineering, Ce...   \n",
       "4  Shaanxi Key Laboratory of Blockchain and Secur...   \n",
       "\n",
       "                                   Publication Title  Date Added To Xplore  \\\n",
       "0                    IEEE Internet of Things Journal                   NaN   \n",
       "1                    IEEE Internet of Things Journal                   NaN   \n",
       "2  IEEE Transactions on Dependable and Secure Com...                   NaN   \n",
       "3  IEEE Transactions on Intelligent Transportatio...                   NaN   \n",
       "4  IEEE Journal of Biomedical and Health Informatics                   NaN   \n",
       "\n",
       "   Publication Year Volume  Issue  Start Page  End Page  ... Mesh_Terms  \\\n",
       "0              2022     PP     99           1         1  ...        NaN   \n",
       "1              2021     PP     99           1         1  ...        NaN   \n",
       "2              2022     PP     99           1         1  ...        NaN   \n",
       "3              2022     PP     99           1        12  ...        NaN   \n",
       "4              2022     PP     99           1        12  ...        NaN   \n",
       "\n",
       "  Article Citation Count  Patent Citation Count Reference Count License  \\\n",
       "0                    NaN                    NaN             NaN    IEEE   \n",
       "1                    2.0                    NaN             NaN    IEEE   \n",
       "2                    3.0                    NaN             NaN    IEEE   \n",
       "3                    NaN                    NaN             NaN    IEEE   \n",
       "4                    NaN                    NaN             NaN    IEEE   \n",
       "\n",
       "   Online Date Issue Date Meeting Date  Publisher         Document Identifier  \n",
       "0   2 May 2022        NaN          NaN       IEEE  IEEE Early Access Articles  \n",
       "1  27 Dec 2021        NaN          NaN       IEEE  IEEE Early Access Articles  \n",
       "2  29 Mar 2022        NaN          NaN       IEEE  IEEE Early Access Articles  \n",
       "3  15 Dec 2022        NaN          NaN       IEEE  IEEE Early Access Articles  \n",
       "4  15 Jun 2022        NaN          NaN       IEEE  IEEE Early Access Articles  \n",
       "\n",
       "[5 rows x 30 columns]"
      ]
     },
     "execution_count": 2,
     "metadata": {},
     "output_type": "execute_result"
    }
   ],
   "source": [
    "df = pd.read_csv(\"ieee.csv\")\n",
    "print(df.size)\n",
    "df.head()\n"
   ]
  },
  {
   "cell_type": "code",
   "execution_count": 3,
   "id": "041a8fbb",
   "metadata": {},
   "outputs": [
    {
     "data": {
      "text/plain": [
       "Index(['Document Title', 'Authors', 'Author Affiliations', 'Publication Title',\n",
       "       'Date Added To Xplore', 'Publication Year', 'Volume', 'Issue',\n",
       "       'Start Page', 'End Page', 'Abstract', 'ISSN', 'ISBNs', 'DOI',\n",
       "       'Funding Information', 'PDF Link', 'Author Keywords', 'IEEE Terms',\n",
       "       'INSPEC Controlled Terms', 'INSPEC Non-Controlled Terms', 'Mesh_Terms',\n",
       "       'Article Citation Count', 'Patent Citation Count', 'Reference Count',\n",
       "       'License', 'Online Date', 'Issue Date', 'Meeting Date', 'Publisher',\n",
       "       'Document Identifier'],\n",
       "      dtype='object')"
      ]
     },
     "execution_count": 3,
     "metadata": {},
     "output_type": "execute_result"
    }
   ],
   "source": [
    "df.columns.unique()"
   ]
  },
  {
   "cell_type": "code",
   "execution_count": 4,
   "id": "1c002986",
   "metadata": {},
   "outputs": [],
   "source": [
    "columns=['Publication Title','Date Added To Xplore','Volume','Issue','Start Page', 'End Page','Funding Information', 'PDF Link', 'Author Keywords', 'IEEE Terms',\n",
    "       'INSPEC Controlled Terms', 'INSPEC Non-Controlled Terms', 'Mesh_Terms','Reference Count',\n",
    "       'License', 'Online Date', 'Issue Date', 'Meeting Date']\n",
    "df.drop(columns, inplace=True, axis=1)\n"
   ]
  },
  {
   "cell_type": "code",
   "execution_count": 5,
   "id": "b2f35f26",
   "metadata": {},
   "outputs": [
    {
     "data": {
      "text/plain": [
       "5820"
      ]
     },
     "execution_count": 5,
     "metadata": {},
     "output_type": "execute_result"
    }
   ],
   "source": [
    "df.size"
   ]
  },
  {
   "cell_type": "code",
   "execution_count": 6,
   "id": "d03c872d",
   "metadata": {},
   "outputs": [
    {
     "data": {
      "text/plain": [
       "Index(['Document Title', 'Authors', 'Author Affiliations', 'Publication Year',\n",
       "       'Abstract', 'ISSN', 'ISBNs', 'DOI', 'Article Citation Count',\n",
       "       'Patent Citation Count', 'Publisher', 'Document Identifier'],\n",
       "      dtype='object')"
      ]
     },
     "execution_count": 6,
     "metadata": {},
     "output_type": "execute_result"
    }
   ],
   "source": [
    "df.columns.unique()"
   ]
  },
  {
   "cell_type": "code",
   "execution_count": 7,
   "id": "a6543b73",
   "metadata": {},
   "outputs": [
    {
     "data": {
      "text/html": [
       "<div>\n",
       "<style scoped>\n",
       "    .dataframe tbody tr th:only-of-type {\n",
       "        vertical-align: middle;\n",
       "    }\n",
       "\n",
       "    .dataframe tbody tr th {\n",
       "        vertical-align: top;\n",
       "    }\n",
       "\n",
       "    .dataframe thead th {\n",
       "        text-align: right;\n",
       "    }\n",
       "</style>\n",
       "<table border=\"1\" class=\"dataframe\">\n",
       "  <thead>\n",
       "    <tr style=\"text-align: right;\">\n",
       "      <th></th>\n",
       "      <th>Document Title</th>\n",
       "      <th>Authors</th>\n",
       "      <th>Author Affiliations</th>\n",
       "      <th>Publication Year</th>\n",
       "      <th>Abstract</th>\n",
       "      <th>ISSN</th>\n",
       "      <th>ISBNs</th>\n",
       "      <th>DOI</th>\n",
       "      <th>Article Citation Count</th>\n",
       "      <th>Patent Citation Count</th>\n",
       "      <th>Publisher</th>\n",
       "      <th>Document Identifier</th>\n",
       "    </tr>\n",
       "  </thead>\n",
       "  <tbody>\n",
       "    <tr>\n",
       "      <th>0</th>\n",
       "      <td>A Blockchain-based Model Migration Approach fo...</td>\n",
       "      <td>C. Zhang; Y. Xu; H. Elahi; D. Zhang; Y. Tan; J...</td>\n",
       "      <td>College of Computer Science and Electronic Eng...</td>\n",
       "      <td>2022</td>\n",
       "      <td>Model migration can accelerate model convergen...</td>\n",
       "      <td>2327-4662</td>\n",
       "      <td>NaN</td>\n",
       "      <td>10.1109/JIOT.2022.3171926</td>\n",
       "      <td>NaN</td>\n",
       "      <td>NaN</td>\n",
       "      <td>IEEE</td>\n",
       "      <td>IEEE Early Access Articles</td>\n",
       "    </tr>\n",
       "    <tr>\n",
       "      <th>1</th>\n",
       "      <td>BESIFL: Blockchain Empowered Secure and Incent...</td>\n",
       "      <td>Y. Xu; Z. Lu; K. Gai; Q. Duan; J. Lin; J. Wu; ...</td>\n",
       "      <td>School of Computer Science, Fudan University, ...</td>\n",
       "      <td>2021</td>\n",
       "      <td>Federated Learning (FL) offers a promising app...</td>\n",
       "      <td>2327-4662</td>\n",
       "      <td>NaN</td>\n",
       "      <td>10.1109/JIOT.2021.3138693</td>\n",
       "      <td>2.0</td>\n",
       "      <td>NaN</td>\n",
       "      <td>IEEE</td>\n",
       "      <td>IEEE Early Access Articles</td>\n",
       "    </tr>\n",
       "    <tr>\n",
       "      <th>2</th>\n",
       "      <td>BPPS:Blockchain-Enabled Privacy-Preserving Sch...</td>\n",
       "      <td>K. Park; J. Lee; A. K. Das; Y. Park</td>\n",
       "      <td>Blockchain Research Section, Electronics and T...</td>\n",
       "      <td>2022</td>\n",
       "      <td>With the ongoing revolutionary growth of the i...</td>\n",
       "      <td>1941-0018</td>\n",
       "      <td>NaN</td>\n",
       "      <td>10.1109/TDSC.2022.3163138</td>\n",
       "      <td>3.0</td>\n",
       "      <td>NaN</td>\n",
       "      <td>IEEE</td>\n",
       "      <td>IEEE Early Access Articles</td>\n",
       "    </tr>\n",
       "    <tr>\n",
       "      <th>3</th>\n",
       "      <td>TRUCON: Blockchain-Based Trusted Data Sharing ...</td>\n",
       "      <td>M. Yuan; Y. Xu; C. Zhang; Y. Tan; Y. Wang; J. ...</td>\n",
       "      <td>School of Computer Science and Engineering, Ce...</td>\n",
       "      <td>2022</td>\n",
       "      <td>The Internet of vehicles (IoV) has a substanti...</td>\n",
       "      <td>1558-0016</td>\n",
       "      <td>NaN</td>\n",
       "      <td>10.1109/TITS.2022.3226500</td>\n",
       "      <td>NaN</td>\n",
       "      <td>NaN</td>\n",
       "      <td>IEEE</td>\n",
       "      <td>IEEE Early Access Articles</td>\n",
       "    </tr>\n",
       "    <tr>\n",
       "      <th>4</th>\n",
       "      <td>Conditional Anonymous Remote Healthcare Data S...</td>\n",
       "      <td>J. Liu; W. Jiang; R. Sun; A. K. Bashir; M. D. ...</td>\n",
       "      <td>Shaanxi Key Laboratory of Blockchain and Secur...</td>\n",
       "      <td>2022</td>\n",
       "      <td>As an important carrier of healthcare data, El...</td>\n",
       "      <td>2168-2208</td>\n",
       "      <td>NaN</td>\n",
       "      <td>10.1109/JBHI.2022.3183397</td>\n",
       "      <td>NaN</td>\n",
       "      <td>NaN</td>\n",
       "      <td>IEEE</td>\n",
       "      <td>IEEE Early Access Articles</td>\n",
       "    </tr>\n",
       "  </tbody>\n",
       "</table>\n",
       "</div>"
      ],
      "text/plain": [
       "                                      Document Title  \\\n",
       "0  A Blockchain-based Model Migration Approach fo...   \n",
       "1  BESIFL: Blockchain Empowered Secure and Incent...   \n",
       "2  BPPS:Blockchain-Enabled Privacy-Preserving Sch...   \n",
       "3  TRUCON: Blockchain-Based Trusted Data Sharing ...   \n",
       "4  Conditional Anonymous Remote Healthcare Data S...   \n",
       "\n",
       "                                             Authors  \\\n",
       "0  C. Zhang; Y. Xu; H. Elahi; D. Zhang; Y. Tan; J...   \n",
       "1  Y. Xu; Z. Lu; K. Gai; Q. Duan; J. Lin; J. Wu; ...   \n",
       "2                K. Park; J. Lee; A. K. Das; Y. Park   \n",
       "3  M. Yuan; Y. Xu; C. Zhang; Y. Tan; Y. Wang; J. ...   \n",
       "4  J. Liu; W. Jiang; R. Sun; A. K. Bashir; M. D. ...   \n",
       "\n",
       "                                 Author Affiliations  Publication Year  \\\n",
       "0  College of Computer Science and Electronic Eng...              2022   \n",
       "1  School of Computer Science, Fudan University, ...              2021   \n",
       "2  Blockchain Research Section, Electronics and T...              2022   \n",
       "3  School of Computer Science and Engineering, Ce...              2022   \n",
       "4  Shaanxi Key Laboratory of Blockchain and Secur...              2022   \n",
       "\n",
       "                                            Abstract       ISSN  ISBNs  \\\n",
       "0  Model migration can accelerate model convergen...  2327-4662    NaN   \n",
       "1  Federated Learning (FL) offers a promising app...  2327-4662    NaN   \n",
       "2  With the ongoing revolutionary growth of the i...  1941-0018    NaN   \n",
       "3  The Internet of vehicles (IoV) has a substanti...  1558-0016    NaN   \n",
       "4  As an important carrier of healthcare data, El...  2168-2208    NaN   \n",
       "\n",
       "                         DOI  Article Citation Count  Patent Citation Count  \\\n",
       "0  10.1109/JIOT.2022.3171926                     NaN                    NaN   \n",
       "1  10.1109/JIOT.2021.3138693                     2.0                    NaN   \n",
       "2  10.1109/TDSC.2022.3163138                     3.0                    NaN   \n",
       "3  10.1109/TITS.2022.3226500                     NaN                    NaN   \n",
       "4  10.1109/JBHI.2022.3183397                     NaN                    NaN   \n",
       "\n",
       "  Publisher         Document Identifier  \n",
       "0      IEEE  IEEE Early Access Articles  \n",
       "1      IEEE  IEEE Early Access Articles  \n",
       "2      IEEE  IEEE Early Access Articles  \n",
       "3      IEEE  IEEE Early Access Articles  \n",
       "4      IEEE  IEEE Early Access Articles  "
      ]
     },
     "execution_count": 7,
     "metadata": {},
     "output_type": "execute_result"
    }
   ],
   "source": [
    "df.head()\n"
   ]
  },
  {
   "cell_type": "code",
   "execution_count": 8,
   "id": "e4401dca",
   "metadata": {},
   "outputs": [],
   "source": [
    "df.drop('Document Identifier', inplace=True, axis=1)"
   ]
  },
  {
   "cell_type": "code",
   "execution_count": 9,
   "id": "65b0570d",
   "metadata": {},
   "outputs": [
    {
     "data": {
      "text/html": [
       "<div>\n",
       "<style scoped>\n",
       "    .dataframe tbody tr th:only-of-type {\n",
       "        vertical-align: middle;\n",
       "    }\n",
       "\n",
       "    .dataframe tbody tr th {\n",
       "        vertical-align: top;\n",
       "    }\n",
       "\n",
       "    .dataframe thead th {\n",
       "        text-align: right;\n",
       "    }\n",
       "</style>\n",
       "<table border=\"1\" class=\"dataframe\">\n",
       "  <thead>\n",
       "    <tr style=\"text-align: right;\">\n",
       "      <th></th>\n",
       "      <th>Document Title</th>\n",
       "      <th>Authors</th>\n",
       "      <th>Author Affiliations</th>\n",
       "      <th>Publication Year</th>\n",
       "      <th>Abstract</th>\n",
       "      <th>ISSN</th>\n",
       "      <th>ISBNs</th>\n",
       "      <th>DOI</th>\n",
       "      <th>Article Citation Count</th>\n",
       "      <th>Patent Citation Count</th>\n",
       "      <th>Publisher</th>\n",
       "    </tr>\n",
       "  </thead>\n",
       "  <tbody>\n",
       "    <tr>\n",
       "      <th>0</th>\n",
       "      <td>A Blockchain-based Model Migration Approach fo...</td>\n",
       "      <td>C. Zhang; Y. Xu; H. Elahi; D. Zhang; Y. Tan; J...</td>\n",
       "      <td>College of Computer Science and Electronic Eng...</td>\n",
       "      <td>2022</td>\n",
       "      <td>Model migration can accelerate model convergen...</td>\n",
       "      <td>2327-4662</td>\n",
       "      <td>NaN</td>\n",
       "      <td>10.1109/JIOT.2022.3171926</td>\n",
       "      <td>NaN</td>\n",
       "      <td>NaN</td>\n",
       "      <td>IEEE</td>\n",
       "    </tr>\n",
       "    <tr>\n",
       "      <th>1</th>\n",
       "      <td>BESIFL: Blockchain Empowered Secure and Incent...</td>\n",
       "      <td>Y. Xu; Z. Lu; K. Gai; Q. Duan; J. Lin; J. Wu; ...</td>\n",
       "      <td>School of Computer Science, Fudan University, ...</td>\n",
       "      <td>2021</td>\n",
       "      <td>Federated Learning (FL) offers a promising app...</td>\n",
       "      <td>2327-4662</td>\n",
       "      <td>NaN</td>\n",
       "      <td>10.1109/JIOT.2021.3138693</td>\n",
       "      <td>2.0</td>\n",
       "      <td>NaN</td>\n",
       "      <td>IEEE</td>\n",
       "    </tr>\n",
       "    <tr>\n",
       "      <th>2</th>\n",
       "      <td>BPPS:Blockchain-Enabled Privacy-Preserving Sch...</td>\n",
       "      <td>K. Park; J. Lee; A. K. Das; Y. Park</td>\n",
       "      <td>Blockchain Research Section, Electronics and T...</td>\n",
       "      <td>2022</td>\n",
       "      <td>With the ongoing revolutionary growth of the i...</td>\n",
       "      <td>1941-0018</td>\n",
       "      <td>NaN</td>\n",
       "      <td>10.1109/TDSC.2022.3163138</td>\n",
       "      <td>3.0</td>\n",
       "      <td>NaN</td>\n",
       "      <td>IEEE</td>\n",
       "    </tr>\n",
       "    <tr>\n",
       "      <th>3</th>\n",
       "      <td>TRUCON: Blockchain-Based Trusted Data Sharing ...</td>\n",
       "      <td>M. Yuan; Y. Xu; C. Zhang; Y. Tan; Y. Wang; J. ...</td>\n",
       "      <td>School of Computer Science and Engineering, Ce...</td>\n",
       "      <td>2022</td>\n",
       "      <td>The Internet of vehicles (IoV) has a substanti...</td>\n",
       "      <td>1558-0016</td>\n",
       "      <td>NaN</td>\n",
       "      <td>10.1109/TITS.2022.3226500</td>\n",
       "      <td>NaN</td>\n",
       "      <td>NaN</td>\n",
       "      <td>IEEE</td>\n",
       "    </tr>\n",
       "    <tr>\n",
       "      <th>4</th>\n",
       "      <td>Conditional Anonymous Remote Healthcare Data S...</td>\n",
       "      <td>J. Liu; W. Jiang; R. Sun; A. K. Bashir; M. D. ...</td>\n",
       "      <td>Shaanxi Key Laboratory of Blockchain and Secur...</td>\n",
       "      <td>2022</td>\n",
       "      <td>As an important carrier of healthcare data, El...</td>\n",
       "      <td>2168-2208</td>\n",
       "      <td>NaN</td>\n",
       "      <td>10.1109/JBHI.2022.3183397</td>\n",
       "      <td>NaN</td>\n",
       "      <td>NaN</td>\n",
       "      <td>IEEE</td>\n",
       "    </tr>\n",
       "  </tbody>\n",
       "</table>\n",
       "</div>"
      ],
      "text/plain": [
       "                                      Document Title  \\\n",
       "0  A Blockchain-based Model Migration Approach fo...   \n",
       "1  BESIFL: Blockchain Empowered Secure and Incent...   \n",
       "2  BPPS:Blockchain-Enabled Privacy-Preserving Sch...   \n",
       "3  TRUCON: Blockchain-Based Trusted Data Sharing ...   \n",
       "4  Conditional Anonymous Remote Healthcare Data S...   \n",
       "\n",
       "                                             Authors  \\\n",
       "0  C. Zhang; Y. Xu; H. Elahi; D. Zhang; Y. Tan; J...   \n",
       "1  Y. Xu; Z. Lu; K. Gai; Q. Duan; J. Lin; J. Wu; ...   \n",
       "2                K. Park; J. Lee; A. K. Das; Y. Park   \n",
       "3  M. Yuan; Y. Xu; C. Zhang; Y. Tan; Y. Wang; J. ...   \n",
       "4  J. Liu; W. Jiang; R. Sun; A. K. Bashir; M. D. ...   \n",
       "\n",
       "                                 Author Affiliations  Publication Year  \\\n",
       "0  College of Computer Science and Electronic Eng...              2022   \n",
       "1  School of Computer Science, Fudan University, ...              2021   \n",
       "2  Blockchain Research Section, Electronics and T...              2022   \n",
       "3  School of Computer Science and Engineering, Ce...              2022   \n",
       "4  Shaanxi Key Laboratory of Blockchain and Secur...              2022   \n",
       "\n",
       "                                            Abstract       ISSN  ISBNs  \\\n",
       "0  Model migration can accelerate model convergen...  2327-4662    NaN   \n",
       "1  Federated Learning (FL) offers a promising app...  2327-4662    NaN   \n",
       "2  With the ongoing revolutionary growth of the i...  1941-0018    NaN   \n",
       "3  The Internet of vehicles (IoV) has a substanti...  1558-0016    NaN   \n",
       "4  As an important carrier of healthcare data, El...  2168-2208    NaN   \n",
       "\n",
       "                         DOI  Article Citation Count  Patent Citation Count  \\\n",
       "0  10.1109/JIOT.2022.3171926                     NaN                    NaN   \n",
       "1  10.1109/JIOT.2021.3138693                     2.0                    NaN   \n",
       "2  10.1109/TDSC.2022.3163138                     3.0                    NaN   \n",
       "3  10.1109/TITS.2022.3226500                     NaN                    NaN   \n",
       "4  10.1109/JBHI.2022.3183397                     NaN                    NaN   \n",
       "\n",
       "  Publisher  \n",
       "0      IEEE  \n",
       "1      IEEE  \n",
       "2      IEEE  \n",
       "3      IEEE  \n",
       "4      IEEE  "
      ]
     },
     "execution_count": 9,
     "metadata": {},
     "output_type": "execute_result"
    }
   ],
   "source": [
    "df.head()"
   ]
  },
  {
   "cell_type": "code",
   "execution_count": 10,
   "id": "bb2ce88f",
   "metadata": {},
   "outputs": [
    {
     "data": {
      "text/plain": [
       "'C. Zhang; Y. Xu; H. Elahi; D. Zhang; Y. Tan; J. Chen; Y. Zhang'"
      ]
     },
     "execution_count": 10,
     "metadata": {},
     "output_type": "execute_result"
    }
   ],
   "source": [
    "df['Authors'][0]"
   ]
  },
  {
   "cell_type": "code",
   "execution_count": 11,
   "id": "8b2a313d",
   "metadata": {},
   "outputs": [
    {
     "data": {
      "text/plain": [
       "'College of Computer Science and Electronic Engineering, Hunan University, Changsha 410082, China and also with the Key Laboratory of Blockchain and Cyberspace Governance of Zhejiang Province.; College of Computer Science and Electronic Engineering, Hunan University, Changsha 410082, China and also with the Key Laboratory of Blockchain and Cyberspace Governance of Zhejiang Province.; Department of Computing Science, Umea University, Sweden.; School of Computer Science and Engineering, Central South University, Changsha 410083, China.; College of Computer Science and Electronic Engineering, Hunan University, Changsha 410082, China.; College of Computer Science and Electronic Engineering, Hunan University, Changsha 410082, China.; College of Computer Science and Electronic Engineering, Hunan University, Changsha 410082, China.'"
      ]
     },
     "execution_count": 11,
     "metadata": {},
     "output_type": "execute_result"
    }
   ],
   "source": [
    "df['Author Affiliations'][0]"
   ]
  },
  {
   "cell_type": "markdown",
   "id": "1d330695",
   "metadata": {},
   "source": [
    "## we'll work on Author affiliations , so that article will be counted for every country"
   ]
  },
  {
   "cell_type": "code",
   "execution_count": 12,
   "id": "11a0fdfb",
   "metadata": {},
   "outputs": [
    {
     "data": {
      "text/html": [
       "<div>\n",
       "<style scoped>\n",
       "    .dataframe tbody tr th:only-of-type {\n",
       "        vertical-align: middle;\n",
       "    }\n",
       "\n",
       "    .dataframe tbody tr th {\n",
       "        vertical-align: top;\n",
       "    }\n",
       "\n",
       "    .dataframe thead th {\n",
       "        text-align: right;\n",
       "    }\n",
       "</style>\n",
       "<table border=\"1\" class=\"dataframe\">\n",
       "  <thead>\n",
       "    <tr style=\"text-align: right;\">\n",
       "      <th></th>\n",
       "      <th>Document Title</th>\n",
       "      <th>Authors</th>\n",
       "      <th>Author Affiliations</th>\n",
       "      <th>Publication Year</th>\n",
       "      <th>Abstract</th>\n",
       "      <th>ISSN</th>\n",
       "      <th>ISBNs</th>\n",
       "      <th>DOI</th>\n",
       "      <th>Article Citation Count</th>\n",
       "      <th>Patent Citation Count</th>\n",
       "      <th>Publisher</th>\n",
       "    </tr>\n",
       "  </thead>\n",
       "  <tbody>\n",
       "    <tr>\n",
       "      <th>0</th>\n",
       "      <td>A Blockchain-based Model Migration Approach fo...</td>\n",
       "      <td>C. Zhang; Y. Xu; H. Elahi; D. Zhang; Y. Tan; J...</td>\n",
       "      <td>College of Computer Science and Electronic Eng...</td>\n",
       "      <td>2022</td>\n",
       "      <td>Model migration can accelerate model convergen...</td>\n",
       "      <td>2327-4662</td>\n",
       "      <td>NaN</td>\n",
       "      <td>10.1109/JIOT.2022.3171926</td>\n",
       "      <td>NaN</td>\n",
       "      <td>NaN</td>\n",
       "      <td>IEEE</td>\n",
       "    </tr>\n",
       "    <tr>\n",
       "      <th>1</th>\n",
       "      <td>BESIFL: Blockchain Empowered Secure and Incent...</td>\n",
       "      <td>Y. Xu; Z. Lu; K. Gai; Q. Duan; J. Lin; J. Wu; ...</td>\n",
       "      <td>School of Computer Science, Fudan University, ...</td>\n",
       "      <td>2021</td>\n",
       "      <td>Federated Learning (FL) offers a promising app...</td>\n",
       "      <td>2327-4662</td>\n",
       "      <td>NaN</td>\n",
       "      <td>10.1109/JIOT.2021.3138693</td>\n",
       "      <td>2.0</td>\n",
       "      <td>NaN</td>\n",
       "      <td>IEEE</td>\n",
       "    </tr>\n",
       "    <tr>\n",
       "      <th>2</th>\n",
       "      <td>BPPS:Blockchain-Enabled Privacy-Preserving Sch...</td>\n",
       "      <td>K. Park; J. Lee; A. K. Das; Y. Park</td>\n",
       "      <td>Blockchain Research Section, Electronics and T...</td>\n",
       "      <td>2022</td>\n",
       "      <td>With the ongoing revolutionary growth of the i...</td>\n",
       "      <td>1941-0018</td>\n",
       "      <td>NaN</td>\n",
       "      <td>10.1109/TDSC.2022.3163138</td>\n",
       "      <td>3.0</td>\n",
       "      <td>NaN</td>\n",
       "      <td>IEEE</td>\n",
       "    </tr>\n",
       "    <tr>\n",
       "      <th>3</th>\n",
       "      <td>TRUCON: Blockchain-Based Trusted Data Sharing ...</td>\n",
       "      <td>M. Yuan; Y. Xu; C. Zhang; Y. Tan; Y. Wang; J. ...</td>\n",
       "      <td>School of Computer Science and Engineering, Ce...</td>\n",
       "      <td>2022</td>\n",
       "      <td>The Internet of vehicles (IoV) has a substanti...</td>\n",
       "      <td>1558-0016</td>\n",
       "      <td>NaN</td>\n",
       "      <td>10.1109/TITS.2022.3226500</td>\n",
       "      <td>NaN</td>\n",
       "      <td>NaN</td>\n",
       "      <td>IEEE</td>\n",
       "    </tr>\n",
       "    <tr>\n",
       "      <th>4</th>\n",
       "      <td>Conditional Anonymous Remote Healthcare Data S...</td>\n",
       "      <td>J. Liu; W. Jiang; R. Sun; A. K. Bashir; M. D. ...</td>\n",
       "      <td>Shaanxi Key Laboratory of Blockchain and Secur...</td>\n",
       "      <td>2022</td>\n",
       "      <td>As an important carrier of healthcare data, El...</td>\n",
       "      <td>2168-2208</td>\n",
       "      <td>NaN</td>\n",
       "      <td>10.1109/JBHI.2022.3183397</td>\n",
       "      <td>NaN</td>\n",
       "      <td>NaN</td>\n",
       "      <td>IEEE</td>\n",
       "    </tr>\n",
       "    <tr>\n",
       "      <th>5</th>\n",
       "      <td>Secure and Efficiently Searchable IoT Communic...</td>\n",
       "      <td>H. Zhang; X. Zhang; Z. Guo; H. Wang; D. Cui; Q...</td>\n",
       "      <td>State key Laboratory of Networking and Switchi...</td>\n",
       "      <td>2021</td>\n",
       "      <td>With the rapid development of the Internet of ...</td>\n",
       "      <td>2327-4662</td>\n",
       "      <td>NaN</td>\n",
       "      <td>10.1109/JIOT.2021.3121482</td>\n",
       "      <td>NaN</td>\n",
       "      <td>NaN</td>\n",
       "      <td>IEEE</td>\n",
       "    </tr>\n",
       "    <tr>\n",
       "      <th>6</th>\n",
       "      <td>MSTDB: A Hybrid Storage-Empowered Scalable Sem...</td>\n",
       "      <td>E. Zhou; Z. Hong; Y. Xiao; D. Zhao; Q. Pei; S....</td>\n",
       "      <td>State Key Laboratory of ISN, School of Cyber E...</td>\n",
       "      <td>2022</td>\n",
       "      <td>Blockchain has been regarded as a trusted carr...</td>\n",
       "      <td>1558-2191</td>\n",
       "      <td>NaN</td>\n",
       "      <td>10.1109/TKDE.2022.3220522</td>\n",
       "      <td>NaN</td>\n",
       "      <td>NaN</td>\n",
       "      <td>IEEE</td>\n",
       "    </tr>\n",
       "    <tr>\n",
       "      <th>7</th>\n",
       "      <td>Blockchain-enabled Secure and Trusted Federate...</td>\n",
       "      <td>Z. Zhou; Y. Tian; J. Xiong; J. Ma; C. Peng</td>\n",
       "      <td>Guizhou Provincial Key Laboratory of Cryptogra...</td>\n",
       "      <td>2022</td>\n",
       "      <td>Federated learning breaks down data silos and ...</td>\n",
       "      <td>1941-0050</td>\n",
       "      <td>NaN</td>\n",
       "      <td>10.1109/TII.2022.3215192</td>\n",
       "      <td>NaN</td>\n",
       "      <td>NaN</td>\n",
       "      <td>IEEE</td>\n",
       "    </tr>\n",
       "    <tr>\n",
       "      <th>8</th>\n",
       "      <td>A Tractable Probabilistic Approach to Analyze ...</td>\n",
       "      <td>A. Hafid; A. S. Hafid; M. Samih</td>\n",
       "      <td>Montreal Blockchain Laboratory, Department of ...</td>\n",
       "      <td>2022</td>\n",
       "      <td>Blockchain like Bitcoin and Ethereum suffer fr...</td>\n",
       "      <td>2168-6750</td>\n",
       "      <td>NaN</td>\n",
       "      <td>10.1109/TETC.2022.3179638</td>\n",
       "      <td>1.0</td>\n",
       "      <td>NaN</td>\n",
       "      <td>IEEE</td>\n",
       "    </tr>\n",
       "    <tr>\n",
       "      <th>9</th>\n",
       "      <td>Immutable Log Storage as a Service on Private ...</td>\n",
       "      <td>W. Pourmajidi; L. Zhang; J. Steinbacher; T. Er...</td>\n",
       "      <td>Department of Computer Science, Ryerson Univer...</td>\n",
       "      <td>2021</td>\n",
       "      <td>Service Level Agreements (SLA) are employed to...</td>\n",
       "      <td>1939-1374</td>\n",
       "      <td>NaN</td>\n",
       "      <td>10.1109/TSC.2021.3120690</td>\n",
       "      <td>1.0</td>\n",
       "      <td>NaN</td>\n",
       "      <td>IEEE</td>\n",
       "    </tr>\n",
       "  </tbody>\n",
       "</table>\n",
       "</div>"
      ],
      "text/plain": [
       "                                      Document Title  \\\n",
       "0  A Blockchain-based Model Migration Approach fo...   \n",
       "1  BESIFL: Blockchain Empowered Secure and Incent...   \n",
       "2  BPPS:Blockchain-Enabled Privacy-Preserving Sch...   \n",
       "3  TRUCON: Blockchain-Based Trusted Data Sharing ...   \n",
       "4  Conditional Anonymous Remote Healthcare Data S...   \n",
       "5  Secure and Efficiently Searchable IoT Communic...   \n",
       "6  MSTDB: A Hybrid Storage-Empowered Scalable Sem...   \n",
       "7  Blockchain-enabled Secure and Trusted Federate...   \n",
       "8  A Tractable Probabilistic Approach to Analyze ...   \n",
       "9  Immutable Log Storage as a Service on Private ...   \n",
       "\n",
       "                                             Authors  \\\n",
       "0  C. Zhang; Y. Xu; H. Elahi; D. Zhang; Y. Tan; J...   \n",
       "1  Y. Xu; Z. Lu; K. Gai; Q. Duan; J. Lin; J. Wu; ...   \n",
       "2                K. Park; J. Lee; A. K. Das; Y. Park   \n",
       "3  M. Yuan; Y. Xu; C. Zhang; Y. Tan; Y. Wang; J. ...   \n",
       "4  J. Liu; W. Jiang; R. Sun; A. K. Bashir; M. D. ...   \n",
       "5  H. Zhang; X. Zhang; Z. Guo; H. Wang; D. Cui; Q...   \n",
       "6  E. Zhou; Z. Hong; Y. Xiao; D. Zhao; Q. Pei; S....   \n",
       "7         Z. Zhou; Y. Tian; J. Xiong; J. Ma; C. Peng   \n",
       "8                    A. Hafid; A. S. Hafid; M. Samih   \n",
       "9  W. Pourmajidi; L. Zhang; J. Steinbacher; T. Er...   \n",
       "\n",
       "                                 Author Affiliations  Publication Year  \\\n",
       "0  College of Computer Science and Electronic Eng...              2022   \n",
       "1  School of Computer Science, Fudan University, ...              2021   \n",
       "2  Blockchain Research Section, Electronics and T...              2022   \n",
       "3  School of Computer Science and Engineering, Ce...              2022   \n",
       "4  Shaanxi Key Laboratory of Blockchain and Secur...              2022   \n",
       "5  State key Laboratory of Networking and Switchi...              2021   \n",
       "6  State Key Laboratory of ISN, School of Cyber E...              2022   \n",
       "7  Guizhou Provincial Key Laboratory of Cryptogra...              2022   \n",
       "8  Montreal Blockchain Laboratory, Department of ...              2022   \n",
       "9  Department of Computer Science, Ryerson Univer...              2021   \n",
       "\n",
       "                                            Abstract       ISSN  ISBNs  \\\n",
       "0  Model migration can accelerate model convergen...  2327-4662    NaN   \n",
       "1  Federated Learning (FL) offers a promising app...  2327-4662    NaN   \n",
       "2  With the ongoing revolutionary growth of the i...  1941-0018    NaN   \n",
       "3  The Internet of vehicles (IoV) has a substanti...  1558-0016    NaN   \n",
       "4  As an important carrier of healthcare data, El...  2168-2208    NaN   \n",
       "5  With the rapid development of the Internet of ...  2327-4662    NaN   \n",
       "6  Blockchain has been regarded as a trusted carr...  1558-2191    NaN   \n",
       "7  Federated learning breaks down data silos and ...  1941-0050    NaN   \n",
       "8  Blockchain like Bitcoin and Ethereum suffer fr...  2168-6750    NaN   \n",
       "9  Service Level Agreements (SLA) are employed to...  1939-1374    NaN   \n",
       "\n",
       "                         DOI  Article Citation Count  Patent Citation Count  \\\n",
       "0  10.1109/JIOT.2022.3171926                     NaN                    NaN   \n",
       "1  10.1109/JIOT.2021.3138693                     2.0                    NaN   \n",
       "2  10.1109/TDSC.2022.3163138                     3.0                    NaN   \n",
       "3  10.1109/TITS.2022.3226500                     NaN                    NaN   \n",
       "4  10.1109/JBHI.2022.3183397                     NaN                    NaN   \n",
       "5  10.1109/JIOT.2021.3121482                     NaN                    NaN   \n",
       "6  10.1109/TKDE.2022.3220522                     NaN                    NaN   \n",
       "7   10.1109/TII.2022.3215192                     NaN                    NaN   \n",
       "8  10.1109/TETC.2022.3179638                     1.0                    NaN   \n",
       "9   10.1109/TSC.2021.3120690                     1.0                    NaN   \n",
       "\n",
       "  Publisher  \n",
       "0      IEEE  \n",
       "1      IEEE  \n",
       "2      IEEE  \n",
       "3      IEEE  \n",
       "4      IEEE  \n",
       "5      IEEE  \n",
       "6      IEEE  \n",
       "7      IEEE  \n",
       "8      IEEE  \n",
       "9      IEEE  "
      ]
     },
     "execution_count": 12,
     "metadata": {},
     "output_type": "execute_result"
    }
   ],
   "source": [
    "work_echantillon = df.head(10)\n",
    "work_echantillon"
   ]
  },
  {
   "cell_type": "code",
   "execution_count": 13,
   "id": "a7255093",
   "metadata": {},
   "outputs": [
    {
     "data": {
      "text/plain": [
       "'School of Computer Science, Fudan University, 200433 Shanghai, China, and also with Engineering Research Center of Cyber Security Auditing and Monitoring, Ministry of Education, 200433 Shanghai, China.; School of Computer Science, Fudan University, 200433 Shanghai, China, and also with Shanghai Blockchain Engineering Research Center, 200433 Shanghai, China.; School of Cyberspace Science and Technology, Beijing Institute of Technology, 100124 Beijing, China. (e-mail: gaikeke@bit.edu.cn); School of Information Sciences and Technology, The Pennsylvania State University, 16802, USA.; School of Computer Science, Fudan University, 200433 Shanghai, China, and also with Engineering Research Center of Cyber Security Auditing and Monitoring, Ministry of Education, 200433 Shanghai, China.; School of Computer Science, Fudan University, 200433 Shanghai, China, and also with Peng Cheng Laboratory, 518055 Shenzhen, China.; Department of Information Systems and Cyber Security, University of Texas at San Antonio, San Antonio, TX, USA.'"
      ]
     },
     "execution_count": 13,
     "metadata": {},
     "output_type": "execute_result"
    }
   ],
   "source": [
    "one_affiliation = work_echantillon['Author Affiliations'][1]\n",
    "one_affiliation"
   ]
  },
  {
   "cell_type": "code",
   "execution_count": 14,
   "id": "ac645580",
   "metadata": {},
   "outputs": [
    {
     "name": "stdout",
     "output_type": "stream",
     "text": [
      "Requirement already satisfied: pycountry in c:\\users\\samir\\appdata\\local\\programs\\python\\python311\\lib\\site-packages (22.3.5)Note: you may need to restart the kernel to use updated packages.\n",
      "\n",
      "Requirement already satisfied: setuptools in c:\\users\\samir\\appdata\\local\\programs\\python\\python311\\lib\\site-packages (from pycountry) (65.5.0)\n"
     ]
    }
   ],
   "source": [
    "pip install pycountry"
   ]
  },
  {
   "cell_type": "code",
   "execution_count": 15,
   "id": "4044d020",
   "metadata": {},
   "outputs": [
    {
     "name": "stdout",
     "output_type": "stream",
     "text": [
      "Requirement already satisfied: countryinfo in c:\\users\\samir\\appdata\\local\\programs\\python\\python311\\lib\\site-packages (0.1.2)\n",
      "Note: you may need to restart the kernel to use updated packages.\n"
     ]
    }
   ],
   "source": [
    "pip install countryinfo"
   ]
  },
  {
   "cell_type": "code",
   "execution_count": 2,
   "id": "cba35213",
   "metadata": {},
   "outputs": [],
   "source": [
    "from countryinfo import CountryInfo"
   ]
  },
  {
   "cell_type": "code",
   "execution_count": 17,
   "id": "7083b1c6",
   "metadata": {},
   "outputs": [],
   "source": [
    "import pycountry"
   ]
  },
  {
   "cell_type": "code",
   "execution_count": 15,
   "id": "658b65e9",
   "metadata": {},
   "outputs": [
    {
     "name": "stdout",
     "output_type": "stream",
     "text": [
      "Others names :  ['GB', 'UK', 'Great Britain']\n",
      "Capital is :  London\n",
      "Currencies is : ['GBP']\n",
      "Lanuage is :  ['en']\n",
      "Borders are :  ['IRL']\n"
     ]
    }
   ],
   "source": [
    "country = CountryInfo(\"United Kingdom\" )\n",
    "print(\"Others names : \",country.alt_spellings())\n",
    "print(\"Capital is : \",country.capital())\n",
    "print(\"Currencies is :\",country.currencies())\n",
    "print(\"Lanuage is : \",country.languages())\n",
    "print(\"Borders are : \",country.borders())"
   ]
  },
  {
   "cell_type": "code",
   "execution_count": 19,
   "id": "8902b3ee",
   "metadata": {},
   "outputs": [],
   "source": [
    "import string \n",
    "def findCountry(stringText):\n",
    "    countiers_names = ''\n",
    "    nouns = stringText.split(' ')\n",
    "    for i in nouns:\n",
    "        # Remove punctuation from string\n",
    "        i = i.translate(str.maketrans('', '', string.punctuation))\n",
    "        i = i.replace(\" \",\"\")\n",
    "        \n",
    "        country = CountryInfo(str(i))\n",
    "        country_others_names = country.alt_spellings()\n",
    "        if country_others_names:\n",
    "            countiers_names= countiers_names+' '+str(i)\n",
    "    return countiers_names   "
   ]
  },
  {
   "cell_type": "code",
   "execution_count": 20,
   "id": "29391894",
   "metadata": {},
   "outputs": [
    {
     "data": {
      "text/plain": [
       "' USA india france Sweden'"
      ]
     },
     "execution_count": 20,
     "metadata": {},
     "output_type": "execute_result"
    }
   ],
   "source": [
    "tt = findCountry(\"USA india france Sweden Korea 34129\")\n",
    "tt"
   ]
  },
  {
   "cell_type": "code",
   "execution_count": 43,
   "id": "4a833e45",
   "metadata": {},
   "outputs": [],
   "source": [
    "def Get_Countries(affiliations):\n",
    "    \n",
    "    cleaned_Countries = [' ']\n",
    "    \n",
    "    affiliations_splited = affiliations.split(';')\n",
    "    \n",
    "    Noised_countries = []\n",
    "    for i in affiliations_splited:\n",
    "        try:\n",
    "            country = i.split(',')[-2:]\n",
    "            Noised_countries.append(country[0]+' '+country[1])\n",
    "        except:\n",
    "            try:\n",
    "                country = i.split(',')[-1]\n",
    "                Noised_countries.append(country)\n",
    "            except:\n",
    "                print(\" country doesn't exist\")\n",
    "                continue\n",
    "\n",
    "        \n",
    "        \n",
    "    for country in Noised_countries:\n",
    "        clean_country = findCountry(country)\n",
    "        print(\"nnnnnnnnnnnnnnnnnnnnn\",clean_country)\n",
    "        \n",
    "        if not(clean_country in cleaned_Countries):\n",
    "            print(\"condition verified\")\n",
    "            cleaned_Countries.append(clean_country)\n",
    "        \n",
    "    return cleaned_Countries\n",
    "    "
   ]
  },
  {
   "cell_type": "code",
   "execution_count": 22,
   "id": "a6947759",
   "metadata": {},
   "outputs": [
    {
     "data": {
      "text/plain": [
       "'College of Computer Science and Electronic Engineering, Hunan University, Changsha 410082, China and also with the Key Laboratory of Blockchain and Cyberspace Governance of Zhejiang Province.; College of Computer Science and Electronic Engineering, Hunan University, Changsha 410082, China and also with the Key Laboratory of Blockchain and Cyberspace Governance of Zhejiang Province.; Department of Computing Science, Umea University, Sweden.; School of Computer Science and Engineering, Central South University, Changsha 410083, China.; College of Computer Science and Electronic Engineering, Hunan University, Changsha 410082, China.; College of Computer Science and Electronic Engineering, Hunan University, Changsha 410082, China.; College of Computer Science and Electronic Engineering, Hunan University, Changsha 410082, China.'"
      ]
     },
     "execution_count": 22,
     "metadata": {},
     "output_type": "execute_result"
    }
   ],
   "source": [
    "df['Author Affiliations'][0]"
   ]
  },
  {
   "cell_type": "code",
   "execution_count": 23,
   "id": "fcf7b191",
   "metadata": {},
   "outputs": [
    {
     "name": "stdout",
     "output_type": "stream",
     "text": [
      "nnnnnnnnnnnnnnnnnnnnn    China\n",
      "condition verified\n",
      "nnnnnnnnnnnnnnnnnnnnn    China\n",
      "nnnnnnnnnnnnnnnnnnnnn    Sweden\n",
      "condition verified\n",
      "nnnnnnnnnnnnnnnnnnnnn    China\n",
      "nnnnnnnnnnnnnnnnnnnnn    China\n",
      "nnnnnnnnnnnnnnnnnnnnn    China\n",
      "nnnnnnnnnnnnnnnnnnnnn    China\n"
     ]
    }
   ],
   "source": [
    "tt = Get_Countries(df['Author Affiliations'][0])\n"
   ]
  },
  {
   "cell_type": "code",
   "execution_count": 24,
   "id": "e2bf4cb3",
   "metadata": {},
   "outputs": [
    {
     "name": "stdout",
     "output_type": "stream",
     "text": [
      " \n",
      "   China\n",
      "   Sweden\n"
     ]
    }
   ],
   "source": [
    "for i in tt:\n",
    "    print(i)"
   ]
  },
  {
   "cell_type": "code",
   "execution_count": 25,
   "id": "6d698b73",
   "metadata": {},
   "outputs": [],
   "source": [
    "def addCountry_Row(row):\n",
    "    new_rows = []\n",
    "    countries = Get_Countries(row[\"Author Affiliations\"])\n",
    "#     if len(countries)>1:\n",
    "    for country in countries:\n",
    "        if country != '':\n",
    "            country = country.replace(\" \",\"\")\n",
    "            if country!='':\n",
    "                df2 = {'Document Title':row[\"Document Title\"],\n",
    "                       'Authors':row[\"Authors\"],\n",
    "                       'Author Affiliations':country,\n",
    "                       'Publication Year':row[\"Publication Year\"],\n",
    "                       'Abstract':row[\"Abstract\"],\n",
    "                       'ISSN':row[\"ISSN\"],\n",
    "                       'ISBNs':row[\"ISBNs\"],\n",
    "                       'DOI':row[\"DOI\"],\n",
    "                       'Article Citation Count':row[\"Article Citation Count\"],\n",
    "                       'Patent Citation Count':row[\"Patent Citation Count\"],\n",
    "                       'Publisher':row[\"Publisher\"]\n",
    "                      }\n",
    "                new_rows.append(df2)\n",
    "    return new_rows"
   ]
  },
  {
   "cell_type": "code",
   "execution_count": 26,
   "id": "12188857",
   "metadata": {},
   "outputs": [],
   "source": [
    "clean_data = pd.DataFrame([[]])"
   ]
  },
  {
   "cell_type": "code",
   "execution_count": 27,
   "id": "5a084ff5",
   "metadata": {},
   "outputs": [
    {
     "name": "stdout",
     "output_type": "stream",
     "text": [
      "nnnnnnnnnnnnnnnnnnnnn    China\n",
      "condition verified\n",
      "nnnnnnnnnnnnnnnnnnnnn    China\n",
      "nnnnnnnnnnnnnnnnnnnnn    Sweden\n",
      "condition verified\n",
      "nnnnnnnnnnnnnnnnnnnnn    China\n",
      "nnnnnnnnnnnnnnnnnnnnn    China\n",
      "nnnnnnnnnnnnnnnnnnnnn    China\n",
      "nnnnnnnnnnnnnnnnnnnnn    China\n"
     ]
    },
    {
     "name": "stderr",
     "output_type": "stream",
     "text": [
      "C:\\Users\\samir\\AppData\\Local\\Temp\\ipykernel_11084\\525557116.py:10: FutureWarning: The frame.append method is deprecated and will be removed from pandas in a future version. Use pandas.concat instead.\n",
      "  clean_data = clean_data.append(new_row, ignore_index = True)\n",
      "C:\\Users\\samir\\AppData\\Local\\Temp\\ipykernel_11084\\525557116.py:10: FutureWarning: The frame.append method is deprecated and will be removed from pandas in a future version. Use pandas.concat instead.\n",
      "  clean_data = clean_data.append(new_row, ignore_index = True)\n"
     ]
    },
    {
     "name": "stdout",
     "output_type": "stream",
     "text": [
      "nnnnnnnnnnnnnnnnnnnnn    China\n",
      "condition verified\n",
      "nnnnnnnnnnnnnnnnnnnnn    China\n",
      "nnnnnnnnnnnnnnnnnnnnn    China\n",
      "nnnnnnnnnnnnnnnnnnnnn    USA\n",
      "condition verified\n",
      "nnnnnnnnnnnnnnnnnnnnn    China\n",
      "nnnnnnnnnnnnnnnnnnnnn    China\n",
      "nnnnnnnnnnnnnnnnnnnnn    USA\n"
     ]
    },
    {
     "name": "stderr",
     "output_type": "stream",
     "text": [
      "C:\\Users\\samir\\AppData\\Local\\Temp\\ipykernel_11084\\525557116.py:10: FutureWarning: The frame.append method is deprecated and will be removed from pandas in a future version. Use pandas.concat instead.\n",
      "  clean_data = clean_data.append(new_row, ignore_index = True)\n",
      "C:\\Users\\samir\\AppData\\Local\\Temp\\ipykernel_11084\\525557116.py:10: FutureWarning: The frame.append method is deprecated and will be removed from pandas in a future version. Use pandas.concat instead.\n",
      "  clean_data = clean_data.append(new_row, ignore_index = True)\n"
     ]
    },
    {
     "name": "stdout",
     "output_type": "stream",
     "text": [
      "nnnnnnnnnnnnnnnnnnnnn   \n",
      "condition verified\n",
      "nnnnnnnnnnnnnnnnnnnnn   \n",
      "nnnnnnnnnnnnnnnnnnnnn   India \n",
      "condition verified\n",
      "nnnnnnnnnnnnnnnnnnnnn   \n"
     ]
    },
    {
     "name": "stderr",
     "output_type": "stream",
     "text": [
      "C:\\Users\\samir\\AppData\\Local\\Temp\\ipykernel_11084\\525557116.py:10: FutureWarning: The frame.append method is deprecated and will be removed from pandas in a future version. Use pandas.concat instead.\n",
      "  clean_data = clean_data.append(new_row, ignore_index = True)\n"
     ]
    },
    {
     "name": "stdout",
     "output_type": "stream",
     "text": [
      "nnnnnnnnnnnnnnnnnnnnn    China\n",
      "condition verified\n",
      "nnnnnnnnnnnnnnnnnnnnn    China\n",
      "nnnnnnnnnnnnnnnnnnnnn    China\n",
      "nnnnnnnnnnnnnnnnnnnnn    China\n",
      "nnnnnnnnnnnnnnnnnnnnn    China\n",
      "nnnnnnnnnnnnnnnnnnnnn    China\n",
      "nnnnnnnnnnnnnnnnnnnnn    China\n"
     ]
    },
    {
     "name": "stderr",
     "output_type": "stream",
     "text": [
      "C:\\Users\\samir\\AppData\\Local\\Temp\\ipykernel_11084\\525557116.py:10: FutureWarning: The frame.append method is deprecated and will be removed from pandas in a future version. Use pandas.concat instead.\n",
      "  clean_data = clean_data.append(new_row, ignore_index = True)\n"
     ]
    },
    {
     "name": "stdout",
     "output_type": "stream",
     "text": [
      "nnnnnnnnnnnnnnnnnnnnn   \n",
      "condition verified\n",
      "nnnnnnnnnnnnnnnnnnnnn   China\n",
      "condition verified\n",
      "nnnnnnnnnnnnnnnnnnnnn   \n",
      "nnnnnnnnnnnnnnnnnnnnn   China\n",
      "nnnnnnnnnnnnnnnnnnnnn   \n",
      "nnnnnnnnnnnnnnnnnnnnn   China\n",
      "nnnnnnnnnnnnnnnnnnnnn   \n",
      "nnnnnnnnnnnnnnnnnnnnn   \n",
      "nnnnnnnnnnnnnnnnnnnnn    China\n",
      "condition verified\n",
      "nnnnnnnnnnnnnnnnnnnnn    Japan\n",
      "condition verified\n"
     ]
    },
    {
     "name": "stderr",
     "output_type": "stream",
     "text": [
      "C:\\Users\\samir\\AppData\\Local\\Temp\\ipykernel_11084\\525557116.py:10: FutureWarning: The frame.append method is deprecated and will be removed from pandas in a future version. Use pandas.concat instead.\n",
      "  clean_data = clean_data.append(new_row, ignore_index = True)\n",
      "C:\\Users\\samir\\AppData\\Local\\Temp\\ipykernel_11084\\525557116.py:10: FutureWarning: The frame.append method is deprecated and will be removed from pandas in a future version. Use pandas.concat instead.\n",
      "  clean_data = clean_data.append(new_row, ignore_index = True)\n",
      "C:\\Users\\samir\\AppData\\Local\\Temp\\ipykernel_11084\\525557116.py:10: FutureWarning: The frame.append method is deprecated and will be removed from pandas in a future version. Use pandas.concat instead.\n",
      "  clean_data = clean_data.append(new_row, ignore_index = True)\n"
     ]
    },
    {
     "name": "stdout",
     "output_type": "stream",
     "text": [
      "nnnnnnnnnnnnnnnnnnnnn    China\n",
      "condition verified\n",
      "nnnnnnnnnnnnnnnnnnnnn    China\n",
      "nnnnnnnnnnnnnnnnnnnnn    China\n",
      "nnnnnnnnnnnnnnnnnnnnn    China\n",
      "nnnnnnnnnnnnnnnnnnnnn    China\n",
      "nnnnnnnnnnnnnnnnnnnnn    China\n"
     ]
    },
    {
     "name": "stderr",
     "output_type": "stream",
     "text": [
      "C:\\Users\\samir\\AppData\\Local\\Temp\\ipykernel_11084\\525557116.py:10: FutureWarning: The frame.append method is deprecated and will be removed from pandas in a future version. Use pandas.concat instead.\n",
      "  clean_data = clean_data.append(new_row, ignore_index = True)\n"
     ]
    },
    {
     "name": "stdout",
     "output_type": "stream",
     "text": [
      "nnnnnnnnnnnnnnnnnnnnn    China\n",
      "condition verified\n",
      "nnnnnnnnnnnnnnnnnnnnn    China\n",
      "nnnnnnnnnnnnnnnnnnnnn    China\n",
      "nnnnnnnnnnnnnnnnnnnnn    China\n",
      "nnnnnnnnnnnnnnnnnnnnn    China\n",
      "nnnnnnnnnnnnnnnnnnnnn    China\n",
      "nnnnnnnnnnnnnnnnnnnnn    Norway\n",
      "condition verified\n"
     ]
    },
    {
     "name": "stderr",
     "output_type": "stream",
     "text": [
      "C:\\Users\\samir\\AppData\\Local\\Temp\\ipykernel_11084\\525557116.py:10: FutureWarning: The frame.append method is deprecated and will be removed from pandas in a future version. Use pandas.concat instead.\n",
      "  clean_data = clean_data.append(new_row, ignore_index = True)\n",
      "C:\\Users\\samir\\AppData\\Local\\Temp\\ipykernel_11084\\525557116.py:10: FutureWarning: The frame.append method is deprecated and will be removed from pandas in a future version. Use pandas.concat instead.\n",
      "  clean_data = clean_data.append(new_row, ignore_index = True)\n"
     ]
    },
    {
     "name": "stdout",
     "output_type": "stream",
     "text": [
      "nnnnnnnnnnnnnnnnnnnnn    China\n",
      "condition verified\n",
      "nnnnnnnnnnnnnnnnnnnnn    China\n",
      "nnnnnnnnnnnnnnnnnnnnn    China\n",
      "nnnnnnnnnnnnnnnnnnnnn    China\n",
      "nnnnnnnnnnnnnnnnnnnnn    China\n"
     ]
    },
    {
     "name": "stderr",
     "output_type": "stream",
     "text": [
      "C:\\Users\\samir\\AppData\\Local\\Temp\\ipykernel_11084\\525557116.py:10: FutureWarning: The frame.append method is deprecated and will be removed from pandas in a future version. Use pandas.concat instead.\n",
      "  clean_data = clean_data.append(new_row, ignore_index = True)\n"
     ]
    },
    {
     "name": "stdout",
     "output_type": "stream",
     "text": [
      "nnnnnnnnnnnnnnnnnnnnn    Canada\n",
      "condition verified\n",
      "nnnnnnnnnnnnnnnnnnnnn    Canada\n",
      "nnnnnnnnnnnnnnnnnnnnn    Morocco\n",
      "condition verified\n"
     ]
    },
    {
     "name": "stderr",
     "output_type": "stream",
     "text": [
      "C:\\Users\\samir\\AppData\\Local\\Temp\\ipykernel_11084\\525557116.py:10: FutureWarning: The frame.append method is deprecated and will be removed from pandas in a future version. Use pandas.concat instead.\n",
      "  clean_data = clean_data.append(new_row, ignore_index = True)\n",
      "C:\\Users\\samir\\AppData\\Local\\Temp\\ipykernel_11084\\525557116.py:10: FutureWarning: The frame.append method is deprecated and will be removed from pandas in a future version. Use pandas.concat instead.\n",
      "  clean_data = clean_data.append(new_row, ignore_index = True)\n"
     ]
    },
    {
     "name": "stdout",
     "output_type": "stream",
     "text": [
      "nnnnnnnnnnnnnnnnnnnnn   Canada \n",
      "condition verified\n",
      "nnnnnnnnnnnnnnnnnnnnn   Canada \n",
      "nnnnnnnnnnnnnnnnnnnnn   Canada \n",
      "nnnnnnnnnnnnnnnnnnnnn   \n",
      "condition verified\n",
      "nnnnnnnnnnnnnnnnnnnnn   Canada \n"
     ]
    },
    {
     "name": "stderr",
     "output_type": "stream",
     "text": [
      "C:\\Users\\samir\\AppData\\Local\\Temp\\ipykernel_11084\\525557116.py:10: FutureWarning: The frame.append method is deprecated and will be removed from pandas in a future version. Use pandas.concat instead.\n",
      "  clean_data = clean_data.append(new_row, ignore_index = True)\n"
     ]
    }
   ],
   "source": [
    "# TEST \n",
    "\n",
    "#work_echantillon = work_echantillon.reset_index()  # make sure indexes pair with number of rows\n",
    "\n",
    "df. columns = ['Document Title','Authors','Author Affiliations','Publication Year','Abstract','ISSN','ISBNs','DOI','Article Citation Count','Patent Citation Count','Publisher']\n",
    "\n",
    "for index, row in work_echantillon.iterrows():\n",
    "    new_rows = addCountry_Row(row)\n",
    "    for new_row in new_rows:\n",
    "        clean_data = clean_data.append(new_row, ignore_index = True)"
   ]
  },
  {
   "cell_type": "code",
   "execution_count": 28,
   "id": "5d6d00f0",
   "metadata": {},
   "outputs": [
    {
     "data": {
      "text/html": [
       "<div>\n",
       "<style scoped>\n",
       "    .dataframe tbody tr th:only-of-type {\n",
       "        vertical-align: middle;\n",
       "    }\n",
       "\n",
       "    .dataframe tbody tr th {\n",
       "        vertical-align: top;\n",
       "    }\n",
       "\n",
       "    .dataframe thead th {\n",
       "        text-align: right;\n",
       "    }\n",
       "</style>\n",
       "<table border=\"1\" class=\"dataframe\">\n",
       "  <thead>\n",
       "    <tr style=\"text-align: right;\">\n",
       "      <th></th>\n",
       "      <th>Document Title</th>\n",
       "      <th>Authors</th>\n",
       "      <th>Author Affiliations</th>\n",
       "      <th>Publication Year</th>\n",
       "      <th>Abstract</th>\n",
       "      <th>ISSN</th>\n",
       "      <th>ISBNs</th>\n",
       "      <th>DOI</th>\n",
       "      <th>Article Citation Count</th>\n",
       "      <th>Patent Citation Count</th>\n",
       "      <th>Publisher</th>\n",
       "    </tr>\n",
       "  </thead>\n",
       "  <tbody>\n",
       "    <tr>\n",
       "      <th>0</th>\n",
       "      <td>NaN</td>\n",
       "      <td>NaN</td>\n",
       "      <td>NaN</td>\n",
       "      <td>NaN</td>\n",
       "      <td>NaN</td>\n",
       "      <td>NaN</td>\n",
       "      <td>NaN</td>\n",
       "      <td>NaN</td>\n",
       "      <td>NaN</td>\n",
       "      <td>NaN</td>\n",
       "      <td>NaN</td>\n",
       "    </tr>\n",
       "    <tr>\n",
       "      <th>1</th>\n",
       "      <td>A Blockchain-based Model Migration Approach fo...</td>\n",
       "      <td>C. Zhang; Y. Xu; H. Elahi; D. Zhang; Y. Tan; J...</td>\n",
       "      <td>China</td>\n",
       "      <td>2022.0</td>\n",
       "      <td>Model migration can accelerate model convergen...</td>\n",
       "      <td>2327-4662</td>\n",
       "      <td>NaN</td>\n",
       "      <td>10.1109/JIOT.2022.3171926</td>\n",
       "      <td>NaN</td>\n",
       "      <td>NaN</td>\n",
       "      <td>IEEE</td>\n",
       "    </tr>\n",
       "    <tr>\n",
       "      <th>2</th>\n",
       "      <td>A Blockchain-based Model Migration Approach fo...</td>\n",
       "      <td>C. Zhang; Y. Xu; H. Elahi; D. Zhang; Y. Tan; J...</td>\n",
       "      <td>Sweden</td>\n",
       "      <td>2022.0</td>\n",
       "      <td>Model migration can accelerate model convergen...</td>\n",
       "      <td>2327-4662</td>\n",
       "      <td>NaN</td>\n",
       "      <td>10.1109/JIOT.2022.3171926</td>\n",
       "      <td>NaN</td>\n",
       "      <td>NaN</td>\n",
       "      <td>IEEE</td>\n",
       "    </tr>\n",
       "    <tr>\n",
       "      <th>3</th>\n",
       "      <td>BESIFL: Blockchain Empowered Secure and Incent...</td>\n",
       "      <td>Y. Xu; Z. Lu; K. Gai; Q. Duan; J. Lin; J. Wu; ...</td>\n",
       "      <td>China</td>\n",
       "      <td>2021.0</td>\n",
       "      <td>Federated Learning (FL) offers a promising app...</td>\n",
       "      <td>2327-4662</td>\n",
       "      <td>NaN</td>\n",
       "      <td>10.1109/JIOT.2021.3138693</td>\n",
       "      <td>2.0</td>\n",
       "      <td>NaN</td>\n",
       "      <td>IEEE</td>\n",
       "    </tr>\n",
       "    <tr>\n",
       "      <th>4</th>\n",
       "      <td>BESIFL: Blockchain Empowered Secure and Incent...</td>\n",
       "      <td>Y. Xu; Z. Lu; K. Gai; Q. Duan; J. Lin; J. Wu; ...</td>\n",
       "      <td>USA</td>\n",
       "      <td>2021.0</td>\n",
       "      <td>Federated Learning (FL) offers a promising app...</td>\n",
       "      <td>2327-4662</td>\n",
       "      <td>NaN</td>\n",
       "      <td>10.1109/JIOT.2021.3138693</td>\n",
       "      <td>2.0</td>\n",
       "      <td>NaN</td>\n",
       "      <td>IEEE</td>\n",
       "    </tr>\n",
       "    <tr>\n",
       "      <th>5</th>\n",
       "      <td>BPPS:Blockchain-Enabled Privacy-Preserving Sch...</td>\n",
       "      <td>K. Park; J. Lee; A. K. Das; Y. Park</td>\n",
       "      <td>India</td>\n",
       "      <td>2022.0</td>\n",
       "      <td>With the ongoing revolutionary growth of the i...</td>\n",
       "      <td>1941-0018</td>\n",
       "      <td>NaN</td>\n",
       "      <td>10.1109/TDSC.2022.3163138</td>\n",
       "      <td>3.0</td>\n",
       "      <td>NaN</td>\n",
       "      <td>IEEE</td>\n",
       "    </tr>\n",
       "    <tr>\n",
       "      <th>6</th>\n",
       "      <td>TRUCON: Blockchain-Based Trusted Data Sharing ...</td>\n",
       "      <td>M. Yuan; Y. Xu; C. Zhang; Y. Tan; Y. Wang; J. ...</td>\n",
       "      <td>China</td>\n",
       "      <td>2022.0</td>\n",
       "      <td>The Internet of vehicles (IoV) has a substanti...</td>\n",
       "      <td>1558-0016</td>\n",
       "      <td>NaN</td>\n",
       "      <td>10.1109/TITS.2022.3226500</td>\n",
       "      <td>NaN</td>\n",
       "      <td>NaN</td>\n",
       "      <td>IEEE</td>\n",
       "    </tr>\n",
       "    <tr>\n",
       "      <th>7</th>\n",
       "      <td>Conditional Anonymous Remote Healthcare Data S...</td>\n",
       "      <td>J. Liu; W. Jiang; R. Sun; A. K. Bashir; M. D. ...</td>\n",
       "      <td>China</td>\n",
       "      <td>2022.0</td>\n",
       "      <td>As an important carrier of healthcare data, El...</td>\n",
       "      <td>2168-2208</td>\n",
       "      <td>NaN</td>\n",
       "      <td>10.1109/JBHI.2022.3183397</td>\n",
       "      <td>NaN</td>\n",
       "      <td>NaN</td>\n",
       "      <td>IEEE</td>\n",
       "    </tr>\n",
       "    <tr>\n",
       "      <th>8</th>\n",
       "      <td>Conditional Anonymous Remote Healthcare Data S...</td>\n",
       "      <td>J. Liu; W. Jiang; R. Sun; A. K. Bashir; M. D. ...</td>\n",
       "      <td>China</td>\n",
       "      <td>2022.0</td>\n",
       "      <td>As an important carrier of healthcare data, El...</td>\n",
       "      <td>2168-2208</td>\n",
       "      <td>NaN</td>\n",
       "      <td>10.1109/JBHI.2022.3183397</td>\n",
       "      <td>NaN</td>\n",
       "      <td>NaN</td>\n",
       "      <td>IEEE</td>\n",
       "    </tr>\n",
       "    <tr>\n",
       "      <th>9</th>\n",
       "      <td>Conditional Anonymous Remote Healthcare Data S...</td>\n",
       "      <td>J. Liu; W. Jiang; R. Sun; A. K. Bashir; M. D. ...</td>\n",
       "      <td>Japan</td>\n",
       "      <td>2022.0</td>\n",
       "      <td>As an important carrier of healthcare data, El...</td>\n",
       "      <td>2168-2208</td>\n",
       "      <td>NaN</td>\n",
       "      <td>10.1109/JBHI.2022.3183397</td>\n",
       "      <td>NaN</td>\n",
       "      <td>NaN</td>\n",
       "      <td>IEEE</td>\n",
       "    </tr>\n",
       "    <tr>\n",
       "      <th>10</th>\n",
       "      <td>Secure and Efficiently Searchable IoT Communic...</td>\n",
       "      <td>H. Zhang; X. Zhang; Z. Guo; H. Wang; D. Cui; Q...</td>\n",
       "      <td>China</td>\n",
       "      <td>2021.0</td>\n",
       "      <td>With the rapid development of the Internet of ...</td>\n",
       "      <td>2327-4662</td>\n",
       "      <td>NaN</td>\n",
       "      <td>10.1109/JIOT.2021.3121482</td>\n",
       "      <td>NaN</td>\n",
       "      <td>NaN</td>\n",
       "      <td>IEEE</td>\n",
       "    </tr>\n",
       "    <tr>\n",
       "      <th>11</th>\n",
       "      <td>MSTDB: A Hybrid Storage-Empowered Scalable Sem...</td>\n",
       "      <td>E. Zhou; Z. Hong; Y. Xiao; D. Zhao; Q. Pei; S....</td>\n",
       "      <td>China</td>\n",
       "      <td>2022.0</td>\n",
       "      <td>Blockchain has been regarded as a trusted carr...</td>\n",
       "      <td>1558-2191</td>\n",
       "      <td>NaN</td>\n",
       "      <td>10.1109/TKDE.2022.3220522</td>\n",
       "      <td>NaN</td>\n",
       "      <td>NaN</td>\n",
       "      <td>IEEE</td>\n",
       "    </tr>\n",
       "    <tr>\n",
       "      <th>12</th>\n",
       "      <td>MSTDB: A Hybrid Storage-Empowered Scalable Sem...</td>\n",
       "      <td>E. Zhou; Z. Hong; Y. Xiao; D. Zhao; Q. Pei; S....</td>\n",
       "      <td>Norway</td>\n",
       "      <td>2022.0</td>\n",
       "      <td>Blockchain has been regarded as a trusted carr...</td>\n",
       "      <td>1558-2191</td>\n",
       "      <td>NaN</td>\n",
       "      <td>10.1109/TKDE.2022.3220522</td>\n",
       "      <td>NaN</td>\n",
       "      <td>NaN</td>\n",
       "      <td>IEEE</td>\n",
       "    </tr>\n",
       "    <tr>\n",
       "      <th>13</th>\n",
       "      <td>Blockchain-enabled Secure and Trusted Federate...</td>\n",
       "      <td>Z. Zhou; Y. Tian; J. Xiong; J. Ma; C. Peng</td>\n",
       "      <td>China</td>\n",
       "      <td>2022.0</td>\n",
       "      <td>Federated learning breaks down data silos and ...</td>\n",
       "      <td>1941-0050</td>\n",
       "      <td>NaN</td>\n",
       "      <td>10.1109/TII.2022.3215192</td>\n",
       "      <td>NaN</td>\n",
       "      <td>NaN</td>\n",
       "      <td>IEEE</td>\n",
       "    </tr>\n",
       "    <tr>\n",
       "      <th>14</th>\n",
       "      <td>A Tractable Probabilistic Approach to Analyze ...</td>\n",
       "      <td>A. Hafid; A. S. Hafid; M. Samih</td>\n",
       "      <td>Canada</td>\n",
       "      <td>2022.0</td>\n",
       "      <td>Blockchain like Bitcoin and Ethereum suffer fr...</td>\n",
       "      <td>2168-6750</td>\n",
       "      <td>NaN</td>\n",
       "      <td>10.1109/TETC.2022.3179638</td>\n",
       "      <td>1.0</td>\n",
       "      <td>NaN</td>\n",
       "      <td>IEEE</td>\n",
       "    </tr>\n",
       "    <tr>\n",
       "      <th>15</th>\n",
       "      <td>A Tractable Probabilistic Approach to Analyze ...</td>\n",
       "      <td>A. Hafid; A. S. Hafid; M. Samih</td>\n",
       "      <td>Morocco</td>\n",
       "      <td>2022.0</td>\n",
       "      <td>Blockchain like Bitcoin and Ethereum suffer fr...</td>\n",
       "      <td>2168-6750</td>\n",
       "      <td>NaN</td>\n",
       "      <td>10.1109/TETC.2022.3179638</td>\n",
       "      <td>1.0</td>\n",
       "      <td>NaN</td>\n",
       "      <td>IEEE</td>\n",
       "    </tr>\n",
       "    <tr>\n",
       "      <th>16</th>\n",
       "      <td>Immutable Log Storage as a Service on Private ...</td>\n",
       "      <td>W. Pourmajidi; L. Zhang; J. Steinbacher; T. Er...</td>\n",
       "      <td>Canada</td>\n",
       "      <td>2021.0</td>\n",
       "      <td>Service Level Agreements (SLA) are employed to...</td>\n",
       "      <td>1939-1374</td>\n",
       "      <td>NaN</td>\n",
       "      <td>10.1109/TSC.2021.3120690</td>\n",
       "      <td>1.0</td>\n",
       "      <td>NaN</td>\n",
       "      <td>IEEE</td>\n",
       "    </tr>\n",
       "  </tbody>\n",
       "</table>\n",
       "</div>"
      ],
      "text/plain": [
       "                                       Document Title  \\\n",
       "0                                                 NaN   \n",
       "1   A Blockchain-based Model Migration Approach fo...   \n",
       "2   A Blockchain-based Model Migration Approach fo...   \n",
       "3   BESIFL: Blockchain Empowered Secure and Incent...   \n",
       "4   BESIFL: Blockchain Empowered Secure and Incent...   \n",
       "5   BPPS:Blockchain-Enabled Privacy-Preserving Sch...   \n",
       "6   TRUCON: Blockchain-Based Trusted Data Sharing ...   \n",
       "7   Conditional Anonymous Remote Healthcare Data S...   \n",
       "8   Conditional Anonymous Remote Healthcare Data S...   \n",
       "9   Conditional Anonymous Remote Healthcare Data S...   \n",
       "10  Secure and Efficiently Searchable IoT Communic...   \n",
       "11  MSTDB: A Hybrid Storage-Empowered Scalable Sem...   \n",
       "12  MSTDB: A Hybrid Storage-Empowered Scalable Sem...   \n",
       "13  Blockchain-enabled Secure and Trusted Federate...   \n",
       "14  A Tractable Probabilistic Approach to Analyze ...   \n",
       "15  A Tractable Probabilistic Approach to Analyze ...   \n",
       "16  Immutable Log Storage as a Service on Private ...   \n",
       "\n",
       "                                              Authors Author Affiliations  \\\n",
       "0                                                 NaN                 NaN   \n",
       "1   C. Zhang; Y. Xu; H. Elahi; D. Zhang; Y. Tan; J...               China   \n",
       "2   C. Zhang; Y. Xu; H. Elahi; D. Zhang; Y. Tan; J...              Sweden   \n",
       "3   Y. Xu; Z. Lu; K. Gai; Q. Duan; J. Lin; J. Wu; ...               China   \n",
       "4   Y. Xu; Z. Lu; K. Gai; Q. Duan; J. Lin; J. Wu; ...                 USA   \n",
       "5                 K. Park; J. Lee; A. K. Das; Y. Park               India   \n",
       "6   M. Yuan; Y. Xu; C. Zhang; Y. Tan; Y. Wang; J. ...               China   \n",
       "7   J. Liu; W. Jiang; R. Sun; A. K. Bashir; M. D. ...               China   \n",
       "8   J. Liu; W. Jiang; R. Sun; A. K. Bashir; M. D. ...               China   \n",
       "9   J. Liu; W. Jiang; R. Sun; A. K. Bashir; M. D. ...               Japan   \n",
       "10  H. Zhang; X. Zhang; Z. Guo; H. Wang; D. Cui; Q...               China   \n",
       "11  E. Zhou; Z. Hong; Y. Xiao; D. Zhao; Q. Pei; S....               China   \n",
       "12  E. Zhou; Z. Hong; Y. Xiao; D. Zhao; Q. Pei; S....              Norway   \n",
       "13         Z. Zhou; Y. Tian; J. Xiong; J. Ma; C. Peng               China   \n",
       "14                    A. Hafid; A. S. Hafid; M. Samih              Canada   \n",
       "15                    A. Hafid; A. S. Hafid; M. Samih             Morocco   \n",
       "16  W. Pourmajidi; L. Zhang; J. Steinbacher; T. Er...              Canada   \n",
       "\n",
       "    Publication Year                                           Abstract  \\\n",
       "0                NaN                                                NaN   \n",
       "1             2022.0  Model migration can accelerate model convergen...   \n",
       "2             2022.0  Model migration can accelerate model convergen...   \n",
       "3             2021.0  Federated Learning (FL) offers a promising app...   \n",
       "4             2021.0  Federated Learning (FL) offers a promising app...   \n",
       "5             2022.0  With the ongoing revolutionary growth of the i...   \n",
       "6             2022.0  The Internet of vehicles (IoV) has a substanti...   \n",
       "7             2022.0  As an important carrier of healthcare data, El...   \n",
       "8             2022.0  As an important carrier of healthcare data, El...   \n",
       "9             2022.0  As an important carrier of healthcare data, El...   \n",
       "10            2021.0  With the rapid development of the Internet of ...   \n",
       "11            2022.0  Blockchain has been regarded as a trusted carr...   \n",
       "12            2022.0  Blockchain has been regarded as a trusted carr...   \n",
       "13            2022.0  Federated learning breaks down data silos and ...   \n",
       "14            2022.0  Blockchain like Bitcoin and Ethereum suffer fr...   \n",
       "15            2022.0  Blockchain like Bitcoin and Ethereum suffer fr...   \n",
       "16            2021.0  Service Level Agreements (SLA) are employed to...   \n",
       "\n",
       "         ISSN  ISBNs                        DOI  Article Citation Count  \\\n",
       "0         NaN    NaN                        NaN                     NaN   \n",
       "1   2327-4662    NaN  10.1109/JIOT.2022.3171926                     NaN   \n",
       "2   2327-4662    NaN  10.1109/JIOT.2022.3171926                     NaN   \n",
       "3   2327-4662    NaN  10.1109/JIOT.2021.3138693                     2.0   \n",
       "4   2327-4662    NaN  10.1109/JIOT.2021.3138693                     2.0   \n",
       "5   1941-0018    NaN  10.1109/TDSC.2022.3163138                     3.0   \n",
       "6   1558-0016    NaN  10.1109/TITS.2022.3226500                     NaN   \n",
       "7   2168-2208    NaN  10.1109/JBHI.2022.3183397                     NaN   \n",
       "8   2168-2208    NaN  10.1109/JBHI.2022.3183397                     NaN   \n",
       "9   2168-2208    NaN  10.1109/JBHI.2022.3183397                     NaN   \n",
       "10  2327-4662    NaN  10.1109/JIOT.2021.3121482                     NaN   \n",
       "11  1558-2191    NaN  10.1109/TKDE.2022.3220522                     NaN   \n",
       "12  1558-2191    NaN  10.1109/TKDE.2022.3220522                     NaN   \n",
       "13  1941-0050    NaN   10.1109/TII.2022.3215192                     NaN   \n",
       "14  2168-6750    NaN  10.1109/TETC.2022.3179638                     1.0   \n",
       "15  2168-6750    NaN  10.1109/TETC.2022.3179638                     1.0   \n",
       "16  1939-1374    NaN   10.1109/TSC.2021.3120690                     1.0   \n",
       "\n",
       "    Patent Citation Count Publisher  \n",
       "0                     NaN       NaN  \n",
       "1                     NaN      IEEE  \n",
       "2                     NaN      IEEE  \n",
       "3                     NaN      IEEE  \n",
       "4                     NaN      IEEE  \n",
       "5                     NaN      IEEE  \n",
       "6                     NaN      IEEE  \n",
       "7                     NaN      IEEE  \n",
       "8                     NaN      IEEE  \n",
       "9                     NaN      IEEE  \n",
       "10                    NaN      IEEE  \n",
       "11                    NaN      IEEE  \n",
       "12                    NaN      IEEE  \n",
       "13                    NaN      IEEE  \n",
       "14                    NaN      IEEE  \n",
       "15                    NaN      IEEE  \n",
       "16                    NaN      IEEE  "
      ]
     },
     "execution_count": 28,
     "metadata": {},
     "output_type": "execute_result"
    }
   ],
   "source": [
    "clean_data"
   ]
  },
  {
   "cell_type": "code",
   "execution_count": 29,
   "id": "931d4cd9",
   "metadata": {},
   "outputs": [
    {
     "data": {
      "text/plain": [
       "'Blockchain Research Section, Electronics and Telecommunications Research Institute, 65678 Daejeon, Daejeon, Korea (the Republic of), 34129; School of Electronic and Electrical Engineering, Kyungpook National University, 34986 Daegu, Daegu, Korea (the Republic of); Center for Security, Theory and Algorithmic Research, International Institute of Information Technology, Hyderabad, Hyderabad, Telangana, India, 500032; School of Electronics Engineering, Kyungpook National University, 34986 Daegu, Daegu, Korea (the Republic of), 41566'"
      ]
     },
     "execution_count": 29,
     "metadata": {},
     "output_type": "execute_result"
    }
   ],
   "source": [
    "work_echantillon[\"Author Affiliations\"][2]"
   ]
  },
  {
   "cell_type": "markdown",
   "id": "9e4ed4ae",
   "metadata": {},
   "source": [
    "# application of addCountry_Row for all data "
   ]
  },
  {
   "cell_type": "code",
   "execution_count": 44,
   "id": "1e2ef7e3",
   "metadata": {},
   "outputs": [],
   "source": [
    "final_data = pd.DataFrame([[]])"
   ]
  },
  {
   "cell_type": "code",
   "execution_count": 45,
   "id": "71d8bdea",
   "metadata": {},
   "outputs": [
    {
     "name": "stdout",
     "output_type": "stream",
     "text": [
      "nnnnnnnnnnnnnnnnnnnnn    China\n",
      "condition verified\n",
      "nnnnnnnnnnnnnnnnnnnnn    China\n",
      "nnnnnnnnnnnnnnnnnnnnn    Sweden\n",
      "condition verified\n",
      "nnnnnnnnnnnnnnnnnnnnn    China\n",
      "nnnnnnnnnnnnnnnnnnnnn    China\n",
      "nnnnnnnnnnnnnnnnnnnnn    China\n",
      "nnnnnnnnnnnnnnnnnnnnn    China\n"
     ]
    },
    {
     "name": "stderr",
     "output_type": "stream",
     "text": [
      "C:\\Users\\samir\\AppData\\Local\\Temp\\ipykernel_11084\\3614904585.py:4: FutureWarning: The frame.append method is deprecated and will be removed from pandas in a future version. Use pandas.concat instead.\n",
      "  final_data = final_data.append(new_row, ignore_index = True)\n",
      "C:\\Users\\samir\\AppData\\Local\\Temp\\ipykernel_11084\\3614904585.py:4: FutureWarning: The frame.append method is deprecated and will be removed from pandas in a future version. Use pandas.concat instead.\n",
      "  final_data = final_data.append(new_row, ignore_index = True)\n"
     ]
    },
    {
     "name": "stdout",
     "output_type": "stream",
     "text": [
      "nnnnnnnnnnnnnnnnnnnnn    China\n",
      "condition verified\n",
      "nnnnnnnnnnnnnnnnnnnnn    China\n",
      "nnnnnnnnnnnnnnnnnnnnn    China\n",
      "nnnnnnnnnnnnnnnnnnnnn    USA\n",
      "condition verified\n",
      "nnnnnnnnnnnnnnnnnnnnn    China\n",
      "nnnnnnnnnnnnnnnnnnnnn    China\n",
      "nnnnnnnnnnnnnnnnnnnnn    USA\n"
     ]
    },
    {
     "name": "stderr",
     "output_type": "stream",
     "text": [
      "C:\\Users\\samir\\AppData\\Local\\Temp\\ipykernel_11084\\3614904585.py:4: FutureWarning: The frame.append method is deprecated and will be removed from pandas in a future version. Use pandas.concat instead.\n",
      "  final_data = final_data.append(new_row, ignore_index = True)\n",
      "C:\\Users\\samir\\AppData\\Local\\Temp\\ipykernel_11084\\3614904585.py:4: FutureWarning: The frame.append method is deprecated and will be removed from pandas in a future version. Use pandas.concat instead.\n",
      "  final_data = final_data.append(new_row, ignore_index = True)\n"
     ]
    },
    {
     "name": "stdout",
     "output_type": "stream",
     "text": [
      "nnnnnnnnnnnnnnnnnnnnn   \n",
      "condition verified\n",
      "nnnnnnnnnnnnnnnnnnnnn   \n",
      "nnnnnnnnnnnnnnnnnnnnn   India \n",
      "condition verified\n",
      "nnnnnnnnnnnnnnnnnnnnn   \n"
     ]
    },
    {
     "name": "stderr",
     "output_type": "stream",
     "text": [
      "C:\\Users\\samir\\AppData\\Local\\Temp\\ipykernel_11084\\3614904585.py:4: FutureWarning: The frame.append method is deprecated and will be removed from pandas in a future version. Use pandas.concat instead.\n",
      "  final_data = final_data.append(new_row, ignore_index = True)\n"
     ]
    },
    {
     "name": "stdout",
     "output_type": "stream",
     "text": [
      "nnnnnnnnnnnnnnnnnnnnn    China\n",
      "condition verified\n",
      "nnnnnnnnnnnnnnnnnnnnn    China\n",
      "nnnnnnnnnnnnnnnnnnnnn    China\n",
      "nnnnnnnnnnnnnnnnnnnnn    China\n",
      "nnnnnnnnnnnnnnnnnnnnn    China\n",
      "nnnnnnnnnnnnnnnnnnnnn    China\n",
      "nnnnnnnnnnnnnnnnnnnnn    China\n"
     ]
    },
    {
     "name": "stderr",
     "output_type": "stream",
     "text": [
      "C:\\Users\\samir\\AppData\\Local\\Temp\\ipykernel_11084\\3614904585.py:4: FutureWarning: The frame.append method is deprecated and will be removed from pandas in a future version. Use pandas.concat instead.\n",
      "  final_data = final_data.append(new_row, ignore_index = True)\n"
     ]
    },
    {
     "name": "stdout",
     "output_type": "stream",
     "text": [
      "nnnnnnnnnnnnnnnnnnnnn   \n",
      "condition verified\n",
      "nnnnnnnnnnnnnnnnnnnnn   China\n",
      "condition verified\n",
      "nnnnnnnnnnnnnnnnnnnnn   \n",
      "nnnnnnnnnnnnnnnnnnnnn   China\n",
      "nnnnnnnnnnnnnnnnnnnnn   \n",
      "nnnnnnnnnnnnnnnnnnnnn   China\n",
      "nnnnnnnnnnnnnnnnnnnnn   \n",
      "nnnnnnnnnnnnnnnnnnnnn   \n",
      "nnnnnnnnnnnnnnnnnnnnn    China\n",
      "condition verified\n",
      "nnnnnnnnnnnnnnnnnnnnn    Japan\n",
      "condition verified\n"
     ]
    },
    {
     "name": "stderr",
     "output_type": "stream",
     "text": [
      "C:\\Users\\samir\\AppData\\Local\\Temp\\ipykernel_11084\\3614904585.py:4: FutureWarning: The frame.append method is deprecated and will be removed from pandas in a future version. Use pandas.concat instead.\n",
      "  final_data = final_data.append(new_row, ignore_index = True)\n",
      "C:\\Users\\samir\\AppData\\Local\\Temp\\ipykernel_11084\\3614904585.py:4: FutureWarning: The frame.append method is deprecated and will be removed from pandas in a future version. Use pandas.concat instead.\n",
      "  final_data = final_data.append(new_row, ignore_index = True)\n",
      "C:\\Users\\samir\\AppData\\Local\\Temp\\ipykernel_11084\\3614904585.py:4: FutureWarning: The frame.append method is deprecated and will be removed from pandas in a future version. Use pandas.concat instead.\n",
      "  final_data = final_data.append(new_row, ignore_index = True)\n"
     ]
    },
    {
     "name": "stdout",
     "output_type": "stream",
     "text": [
      "nnnnnnnnnnnnnnnnnnnnn    China\n",
      "condition verified\n",
      "nnnnnnnnnnnnnnnnnnnnn    China\n",
      "nnnnnnnnnnnnnnnnnnnnn    China\n",
      "nnnnnnnnnnnnnnnnnnnnn    China\n",
      "nnnnnnnnnnnnnnnnnnnnn    China\n",
      "nnnnnnnnnnnnnnnnnnnnn    China\n"
     ]
    },
    {
     "name": "stderr",
     "output_type": "stream",
     "text": [
      "C:\\Users\\samir\\AppData\\Local\\Temp\\ipykernel_11084\\3614904585.py:4: FutureWarning: The frame.append method is deprecated and will be removed from pandas in a future version. Use pandas.concat instead.\n",
      "  final_data = final_data.append(new_row, ignore_index = True)\n"
     ]
    },
    {
     "name": "stdout",
     "output_type": "stream",
     "text": [
      "nnnnnnnnnnnnnnnnnnnnn    China\n",
      "condition verified\n",
      "nnnnnnnnnnnnnnnnnnnnn    China\n",
      "nnnnnnnnnnnnnnnnnnnnn    China\n",
      "nnnnnnnnnnnnnnnnnnnnn    China\n",
      "nnnnnnnnnnnnnnnnnnnnn    China\n",
      "nnnnnnnnnnnnnnnnnnnnn    China\n",
      "nnnnnnnnnnnnnnnnnnnnn    Norway\n",
      "condition verified\n",
      "nnnnnnnnnnnnnnnnnnnnn    China\n",
      "condition verified\n"
     ]
    },
    {
     "name": "stderr",
     "output_type": "stream",
     "text": [
      "C:\\Users\\samir\\AppData\\Local\\Temp\\ipykernel_11084\\3614904585.py:4: FutureWarning: The frame.append method is deprecated and will be removed from pandas in a future version. Use pandas.concat instead.\n",
      "  final_data = final_data.append(new_row, ignore_index = True)\n",
      "C:\\Users\\samir\\AppData\\Local\\Temp\\ipykernel_11084\\3614904585.py:4: FutureWarning: The frame.append method is deprecated and will be removed from pandas in a future version. Use pandas.concat instead.\n",
      "  final_data = final_data.append(new_row, ignore_index = True)\n"
     ]
    },
    {
     "name": "stdout",
     "output_type": "stream",
     "text": [
      "nnnnnnnnnnnnnnnnnnnnn    China\n",
      "nnnnnnnnnnnnnnnnnnnnn    China\n",
      "nnnnnnnnnnnnnnnnnnnnn    China\n",
      "nnnnnnnnnnnnnnnnnnnnn    China\n"
     ]
    },
    {
     "name": "stderr",
     "output_type": "stream",
     "text": [
      "C:\\Users\\samir\\AppData\\Local\\Temp\\ipykernel_11084\\3614904585.py:4: FutureWarning: The frame.append method is deprecated and will be removed from pandas in a future version. Use pandas.concat instead.\n",
      "  final_data = final_data.append(new_row, ignore_index = True)\n"
     ]
    },
    {
     "name": "stdout",
     "output_type": "stream",
     "text": [
      "nnnnnnnnnnnnnnnnnnnnn    Canada\n",
      "condition verified\n",
      "nnnnnnnnnnnnnnnnnnnnn    Canada\n",
      "nnnnnnnnnnnnnnnnnnnnn    Morocco\n",
      "condition verified\n"
     ]
    },
    {
     "name": "stderr",
     "output_type": "stream",
     "text": [
      "C:\\Users\\samir\\AppData\\Local\\Temp\\ipykernel_11084\\3614904585.py:4: FutureWarning: The frame.append method is deprecated and will be removed from pandas in a future version. Use pandas.concat instead.\n",
      "  final_data = final_data.append(new_row, ignore_index = True)\n",
      "C:\\Users\\samir\\AppData\\Local\\Temp\\ipykernel_11084\\3614904585.py:4: FutureWarning: The frame.append method is deprecated and will be removed from pandas in a future version. Use pandas.concat instead.\n",
      "  final_data = final_data.append(new_row, ignore_index = True)\n"
     ]
    },
    {
     "name": "stdout",
     "output_type": "stream",
     "text": [
      "nnnnnnnnnnnnnnnnnnnnn   Canada \n",
      "condition verified\n",
      "nnnnnnnnnnnnnnnnnnnnn   Canada \n",
      "nnnnnnnnnnnnnnnnnnnnn   Canada \n",
      "nnnnnnnnnnnnnnnnnnnnn   \n",
      "condition verified\n",
      "nnnnnnnnnnnnnnnnnnnnn   Canada \n"
     ]
    },
    {
     "name": "stderr",
     "output_type": "stream",
     "text": [
      "C:\\Users\\samir\\AppData\\Local\\Temp\\ipykernel_11084\\3614904585.py:4: FutureWarning: The frame.append method is deprecated and will be removed from pandas in a future version. Use pandas.concat instead.\n",
      "  final_data = final_data.append(new_row, ignore_index = True)\n"
     ]
    },
    {
     "name": "stdout",
     "output_type": "stream",
     "text": [
      "nnnnnnnnnnnnnnnnnnnnn   China \n",
      "condition verified\n",
      "nnnnnnnnnnnnnnnnnnnnn   China \n",
      "nnnnnnnnnnnnnnnnnnnnn   \n",
      "condition verified\n",
      "nnnnnnnnnnnnnnnnnnnnn   China \n",
      "nnnnnnnnnnnnnnnnnnnnn   China \n",
      "nnnnnnnnnnnnnnnnnnnnn   Ireland \n",
      "condition verified\n"
     ]
    },
    {
     "name": "stderr",
     "output_type": "stream",
     "text": [
      "C:\\Users\\samir\\AppData\\Local\\Temp\\ipykernel_11084\\3614904585.py:4: FutureWarning: The frame.append method is deprecated and will be removed from pandas in a future version. Use pandas.concat instead.\n",
      "  final_data = final_data.append(new_row, ignore_index = True)\n",
      "C:\\Users\\samir\\AppData\\Local\\Temp\\ipykernel_11084\\3614904585.py:4: FutureWarning: The frame.append method is deprecated and will be removed from pandas in a future version. Use pandas.concat instead.\n",
      "  final_data = final_data.append(new_row, ignore_index = True)\n"
     ]
    },
    {
     "name": "stdout",
     "output_type": "stream",
     "text": [
      "nnnnnnnnnnnnnnnnnnnnn    China\n",
      "condition verified\n",
      "nnnnnnnnnnnnnnnnnnnnn    China\n",
      "nnnnnnnnnnnnnnnnnnnnn    China\n",
      "nnnnnnnnnnnnnnnnnnnnn    China\n",
      "nnnnnnnnnnnnnnnnnnnnn    China\n",
      "nnnnnnnnnnnnnnnnnnnnn  \n",
      "nnnnnnnnnnnnnnnnnnnnn    China\n",
      "nnnnnnnnnnnnnnnnnnnnn    China\n",
      "nnnnnnnnnnnnnnnnnnnnn    China\n",
      "nnnnnnnnnnnnnnnnnnnnn    China\n"
     ]
    },
    {
     "name": "stderr",
     "output_type": "stream",
     "text": [
      "C:\\Users\\samir\\AppData\\Local\\Temp\\ipykernel_11084\\3614904585.py:4: FutureWarning: The frame.append method is deprecated and will be removed from pandas in a future version. Use pandas.concat instead.\n",
      "  final_data = final_data.append(new_row, ignore_index = True)\n"
     ]
    },
    {
     "name": "stdout",
     "output_type": "stream",
     "text": [
      "nnnnnnnnnnnnnnnnnnnnn    China\n",
      "condition verified\n",
      "nnnnnnnnnnnnnnnnnnnnn    China\n",
      "nnnnnnnnnnnnnnnnnnnnn    China\n",
      "nnnnnnnnnnnnnnnnnnnnn    China\n",
      "nnnnnnnnnnnnnnnnnnnnn    China\n"
     ]
    },
    {
     "name": "stderr",
     "output_type": "stream",
     "text": [
      "C:\\Users\\samir\\AppData\\Local\\Temp\\ipykernel_11084\\3614904585.py:4: FutureWarning: The frame.append method is deprecated and will be removed from pandas in a future version. Use pandas.concat instead.\n",
      "  final_data = final_data.append(new_row, ignore_index = True)\n"
     ]
    },
    {
     "name": "stdout",
     "output_type": "stream",
     "text": [
      "nnnnnnnnnnnnnnnnnnnnn   Australia \n",
      "condition verified\n",
      "nnnnnnnnnnnnnnnnnnnnn   Australia \n",
      "nnnnnnnnnnnnnnnnnnnnn   Australia \n",
      "nnnnnnnnnnnnnnnnnnnnn   Australia \n",
      "nnnnnnnnnnnnnnnnnnnnn   China \n",
      "condition verified\n",
      "nnnnnnnnnnnnnnnnnnnnn   \n",
      "condition verified\n"
     ]
    },
    {
     "name": "stderr",
     "output_type": "stream",
     "text": [
      "C:\\Users\\samir\\AppData\\Local\\Temp\\ipykernel_11084\\3614904585.py:4: FutureWarning: The frame.append method is deprecated and will be removed from pandas in a future version. Use pandas.concat instead.\n",
      "  final_data = final_data.append(new_row, ignore_index = True)\n",
      "C:\\Users\\samir\\AppData\\Local\\Temp\\ipykernel_11084\\3614904585.py:4: FutureWarning: The frame.append method is deprecated and will be removed from pandas in a future version. Use pandas.concat instead.\n",
      "  final_data = final_data.append(new_row, ignore_index = True)\n"
     ]
    },
    {
     "name": "stdout",
     "output_type": "stream",
     "text": [
      "nnnnnnnnnnnnnnnnnnnnn    USA\n",
      "condition verified\n",
      "nnnnnnnnnnnnnnnnnnnnn    USA\n",
      "nnnnnnnnnnnnnnnnnnnnn    China\n",
      "condition verified\n",
      "nnnnnnnnnnnnnnnnnnnnn    China\n"
     ]
    },
    {
     "name": "stderr",
     "output_type": "stream",
     "text": [
      "C:\\Users\\samir\\AppData\\Local\\Temp\\ipykernel_11084\\3614904585.py:4: FutureWarning: The frame.append method is deprecated and will be removed from pandas in a future version. Use pandas.concat instead.\n",
      "  final_data = final_data.append(new_row, ignore_index = True)\n",
      "C:\\Users\\samir\\AppData\\Local\\Temp\\ipykernel_11084\\3614904585.py:4: FutureWarning: The frame.append method is deprecated and will be removed from pandas in a future version. Use pandas.concat instead.\n",
      "  final_data = final_data.append(new_row, ignore_index = True)\n"
     ]
    },
    {
     "name": "stdout",
     "output_type": "stream",
     "text": [
      "nnnnnnnnnnnnnnnnnnnnn   India \n",
      "condition verified\n",
      "nnnnnnnnnnnnnnnnnnnnn   India \n",
      "nnnnnnnnnnnnnnnnnnnnn   India \n",
      "nnnnnnnnnnnnnnnnnnnnn   Ireland \n",
      "condition verified\n",
      "nnnnnnnnnnnnnnnnnnnnn   India \n",
      "nnnnnnnnnnnnnnnnnnnnn   Australia \n",
      "condition verified\n",
      "nnnnnnnnnnnnnnnnnnnnn   \n",
      "condition verified\n",
      "nnnnnnnnnnnnnnnnnnnnn   Brazil \n",
      "condition verified\n"
     ]
    },
    {
     "name": "stderr",
     "output_type": "stream",
     "text": [
      "C:\\Users\\samir\\AppData\\Local\\Temp\\ipykernel_11084\\3614904585.py:4: FutureWarning: The frame.append method is deprecated and will be removed from pandas in a future version. Use pandas.concat instead.\n",
      "  final_data = final_data.append(new_row, ignore_index = True)\n",
      "C:\\Users\\samir\\AppData\\Local\\Temp\\ipykernel_11084\\3614904585.py:4: FutureWarning: The frame.append method is deprecated and will be removed from pandas in a future version. Use pandas.concat instead.\n",
      "  final_data = final_data.append(new_row, ignore_index = True)\n",
      "C:\\Users\\samir\\AppData\\Local\\Temp\\ipykernel_11084\\3614904585.py:4: FutureWarning: The frame.append method is deprecated and will be removed from pandas in a future version. Use pandas.concat instead.\n",
      "  final_data = final_data.append(new_row, ignore_index = True)\n",
      "C:\\Users\\samir\\AppData\\Local\\Temp\\ipykernel_11084\\3614904585.py:4: FutureWarning: The frame.append method is deprecated and will be removed from pandas in a future version. Use pandas.concat instead.\n",
      "  final_data = final_data.append(new_row, ignore_index = True)\n"
     ]
    },
    {
     "name": "stdout",
     "output_type": "stream",
     "text": [
      "nnnnnnnnnnnnnnnnnnnnn   \n",
      "condition verified\n",
      "nnnnnnnnnnnnnnnnnnnnn    China\n",
      "condition verified\n",
      "nnnnnnnnnnnnnnnnnnnnn   China \n",
      "condition verified\n",
      "nnnnnnnnnnnnnnnnnnnnn   \n",
      "nnnnnnnnnnnnnnnnnnnnn    China\n",
      "nnnnnnnnnnnnnnnnnnnnn   Germany \n",
      "condition verified\n"
     ]
    },
    {
     "name": "stderr",
     "output_type": "stream",
     "text": [
      "C:\\Users\\samir\\AppData\\Local\\Temp\\ipykernel_11084\\3614904585.py:4: FutureWarning: The frame.append method is deprecated and will be removed from pandas in a future version. Use pandas.concat instead.\n",
      "  final_data = final_data.append(new_row, ignore_index = True)\n",
      "C:\\Users\\samir\\AppData\\Local\\Temp\\ipykernel_11084\\3614904585.py:4: FutureWarning: The frame.append method is deprecated and will be removed from pandas in a future version. Use pandas.concat instead.\n",
      "  final_data = final_data.append(new_row, ignore_index = True)\n",
      "C:\\Users\\samir\\AppData\\Local\\Temp\\ipykernel_11084\\3614904585.py:4: FutureWarning: The frame.append method is deprecated and will be removed from pandas in a future version. Use pandas.concat instead.\n",
      "  final_data = final_data.append(new_row, ignore_index = True)\n"
     ]
    },
    {
     "name": "stdout",
     "output_type": "stream",
     "text": [
      "nnnnnnnnnnnnnnnnnnnnn   China \n",
      "condition verified\n",
      "nnnnnnnnnnnnnnnnnnnnn   China \n",
      "nnnnnnnnnnnnnnnnnnnnn   China \n",
      "nnnnnnnnnnnnnnnnnnnnn   China \n"
     ]
    },
    {
     "name": "stderr",
     "output_type": "stream",
     "text": [
      "C:\\Users\\samir\\AppData\\Local\\Temp\\ipykernel_11084\\3614904585.py:4: FutureWarning: The frame.append method is deprecated and will be removed from pandas in a future version. Use pandas.concat instead.\n",
      "  final_data = final_data.append(new_row, ignore_index = True)\n"
     ]
    },
    {
     "name": "stdout",
     "output_type": "stream",
     "text": [
      "nnnnnnnnnnnnnnnnnnnnn    China\n",
      "condition verified\n",
      "nnnnnnnnnnnnnnnnnnnnn    China\n",
      "nnnnnnnnnnnnnnnnnnnnn    China\n",
      "nnnnnnnnnnnnnnnnnnnnn    UK\n",
      "condition verified\n"
     ]
    },
    {
     "name": "stderr",
     "output_type": "stream",
     "text": [
      "C:\\Users\\samir\\AppData\\Local\\Temp\\ipykernel_11084\\3614904585.py:4: FutureWarning: The frame.append method is deprecated and will be removed from pandas in a future version. Use pandas.concat instead.\n",
      "  final_data = final_data.append(new_row, ignore_index = True)\n",
      "C:\\Users\\samir\\AppData\\Local\\Temp\\ipykernel_11084\\3614904585.py:4: FutureWarning: The frame.append method is deprecated and will be removed from pandas in a future version. Use pandas.concat instead.\n",
      "  final_data = final_data.append(new_row, ignore_index = True)\n"
     ]
    },
    {
     "name": "stdout",
     "output_type": "stream",
     "text": [
      "nnnnnnnnnnnnnnnnnnnnn \n",
      "condition verified\n",
      "nnnnnnnnnnnnnnnnnnnnn  \n",
      "nnnnnnnnnnnnnnnnnnnnn  \n",
      "nnnnnnnnnnnnnnnnnnnnn    China\n",
      "condition verified\n",
      "nnnnnnnnnnnnnnnnnnnnn    China\n",
      "nnnnnnnnnnnnnnnnnnnnn    China\n"
     ]
    },
    {
     "name": "stderr",
     "output_type": "stream",
     "text": [
      "C:\\Users\\samir\\AppData\\Local\\Temp\\ipykernel_11084\\3614904585.py:4: FutureWarning: The frame.append method is deprecated and will be removed from pandas in a future version. Use pandas.concat instead.\n",
      "  final_data = final_data.append(new_row, ignore_index = True)\n"
     ]
    },
    {
     "name": "stdout",
     "output_type": "stream",
     "text": [
      "nnnnnnnnnnnnnnnnnnnnn   China \n",
      "condition verified\n",
      "nnnnnnnnnnnnnnnnnnnnn   \n",
      "condition verified\n",
      "nnnnnnnnnnnnnnnnnnnnn   China \n",
      "nnnnnnnnnnnnnnnnnnnnn   \n",
      "nnnnnnnnnnnnnnnnnnnnn   China \n",
      "nnnnnnnnnnnnnnnnnnnnn   China \n"
     ]
    },
    {
     "name": "stderr",
     "output_type": "stream",
     "text": [
      "C:\\Users\\samir\\AppData\\Local\\Temp\\ipykernel_11084\\3614904585.py:4: FutureWarning: The frame.append method is deprecated and will be removed from pandas in a future version. Use pandas.concat instead.\n",
      "  final_data = final_data.append(new_row, ignore_index = True)\n"
     ]
    },
    {
     "name": "stdout",
     "output_type": "stream",
     "text": [
      "nnnnnnnnnnnnnnnnnnnnn   China \n",
      "condition verified\n",
      "nnnnnnnnnnnnnnnnnnnnn    China\n",
      "condition verified\n",
      "nnnnnnnnnnnnnnnnnnnnn   China \n",
      "nnnnnnnnnnnnnnnnnnnnn    China\n",
      "nnnnnnnnnnnnnnnnnnnnn    China\n",
      "nnnnnnnnnnnnnnnnnnnnn   \n",
      "condition verified\n"
     ]
    },
    {
     "name": "stderr",
     "output_type": "stream",
     "text": [
      "C:\\Users\\samir\\AppData\\Local\\Temp\\ipykernel_11084\\3614904585.py:4: FutureWarning: The frame.append method is deprecated and will be removed from pandas in a future version. Use pandas.concat instead.\n",
      "  final_data = final_data.append(new_row, ignore_index = True)\n",
      "C:\\Users\\samir\\AppData\\Local\\Temp\\ipykernel_11084\\3614904585.py:4: FutureWarning: The frame.append method is deprecated and will be removed from pandas in a future version. Use pandas.concat instead.\n",
      "  final_data = final_data.append(new_row, ignore_index = True)\n"
     ]
    },
    {
     "name": "stdout",
     "output_type": "stream",
     "text": [
      "nnnnnnnnnnnnnnnnnnnnn    China\n",
      "condition verified\n",
      "nnnnnnnnnnnnnnnnnnnnn    China\n",
      "nnnnnnnnnnnnnnnnnnnnn    China\n",
      "nnnnnnnnnnnnnnnnnnnnn   \n",
      "condition verified\n"
     ]
    },
    {
     "name": "stderr",
     "output_type": "stream",
     "text": [
      "C:\\Users\\samir\\AppData\\Local\\Temp\\ipykernel_11084\\3614904585.py:4: FutureWarning: The frame.append method is deprecated and will be removed from pandas in a future version. Use pandas.concat instead.\n",
      "  final_data = final_data.append(new_row, ignore_index = True)\n"
     ]
    },
    {
     "name": "stdout",
     "output_type": "stream",
     "text": [
      "nnnnnnnnnnnnnnnnnnnnn    Qatar\n",
      "condition verified\n",
      "nnnnnnnnnnnnnnnnnnnnn    Qatar\n",
      "nnnnnnnnnnnnnnnnnnnnn    USA\n",
      "condition verified\n"
     ]
    },
    {
     "name": "stderr",
     "output_type": "stream",
     "text": [
      "C:\\Users\\samir\\AppData\\Local\\Temp\\ipykernel_11084\\3614904585.py:4: FutureWarning: The frame.append method is deprecated and will be removed from pandas in a future version. Use pandas.concat instead.\n",
      "  final_data = final_data.append(new_row, ignore_index = True)\n",
      "C:\\Users\\samir\\AppData\\Local\\Temp\\ipykernel_11084\\3614904585.py:4: FutureWarning: The frame.append method is deprecated and will be removed from pandas in a future version. Use pandas.concat instead.\n",
      "  final_data = final_data.append(new_row, ignore_index = True)\n"
     ]
    },
    {
     "name": "stdout",
     "output_type": "stream",
     "text": [
      "nnnnnnnnnnnnnnnnnnnnn   \n",
      "condition verified\n",
      "nnnnnnnnnnnnnnnnnnnnn   \n",
      "nnnnnnnnnnnnnnnnnnnnn    China\n",
      "condition verified\n",
      "nnnnnnnnnnnnnnnnnnnnn    China\n",
      "nnnnnnnnnnnnnnnnnnnnn    Singapore\n",
      "condition verified\n",
      "nnnnnnnnnnnnnnnnnnnnn    China\n",
      "nnnnnnnnnnnnnnnnnnnnn   Singapore  Singapore\n",
      "condition verified\n",
      "nnnnnnnnnnnnnnnnnnnnn   \n",
      "condition verified\n",
      "nnnnnnnnnnnnnnnnnnnnn  \n"
     ]
    },
    {
     "name": "stderr",
     "output_type": "stream",
     "text": [
      "C:\\Users\\samir\\AppData\\Local\\Temp\\ipykernel_11084\\3614904585.py:4: FutureWarning: The frame.append method is deprecated and will be removed from pandas in a future version. Use pandas.concat instead.\n",
      "  final_data = final_data.append(new_row, ignore_index = True)\n",
      "C:\\Users\\samir\\AppData\\Local\\Temp\\ipykernel_11084\\3614904585.py:4: FutureWarning: The frame.append method is deprecated and will be removed from pandas in a future version. Use pandas.concat instead.\n",
      "  final_data = final_data.append(new_row, ignore_index = True)\n",
      "C:\\Users\\samir\\AppData\\Local\\Temp\\ipykernel_11084\\3614904585.py:4: FutureWarning: The frame.append method is deprecated and will be removed from pandas in a future version. Use pandas.concat instead.\n",
      "  final_data = final_data.append(new_row, ignore_index = True)\n"
     ]
    },
    {
     "name": "stdout",
     "output_type": "stream",
     "text": [
      "nnnnnnnnnnnnnnnnnnnnn   Taiwan \n",
      "condition verified\n",
      "nnnnnnnnnnnnnnnnnnnnn   Taiwan \n",
      "nnnnnnnnnnnnnnnnnnnnn   Australia \n",
      "condition verified\n",
      "nnnnnnnnnnnnnnnnnnnnn   Taiwan \n",
      "nnnnnnnnnnnnnnnnnnnnn   Taiwan \n"
     ]
    },
    {
     "name": "stderr",
     "output_type": "stream",
     "text": [
      "C:\\Users\\samir\\AppData\\Local\\Temp\\ipykernel_11084\\3614904585.py:4: FutureWarning: The frame.append method is deprecated and will be removed from pandas in a future version. Use pandas.concat instead.\n",
      "  final_data = final_data.append(new_row, ignore_index = True)\n",
      "C:\\Users\\samir\\AppData\\Local\\Temp\\ipykernel_11084\\3614904585.py:4: FutureWarning: The frame.append method is deprecated and will be removed from pandas in a future version. Use pandas.concat instead.\n",
      "  final_data = final_data.append(new_row, ignore_index = True)\n"
     ]
    },
    {
     "name": "stdout",
     "output_type": "stream",
     "text": [
      "nnnnnnnnnnnnnnnnnnnnn    China\n",
      "condition verified\n",
      "nnnnnnnnnnnnnnnnnnnnn    China\n",
      "nnnnnnnnnnnnnnnnnnnnn   \n",
      "condition verified\n",
      "nnnnnnnnnnnnnnnnnnnnn   \n"
     ]
    },
    {
     "name": "stderr",
     "output_type": "stream",
     "text": [
      "C:\\Users\\samir\\AppData\\Local\\Temp\\ipykernel_11084\\3614904585.py:4: FutureWarning: The frame.append method is deprecated and will be removed from pandas in a future version. Use pandas.concat instead.\n",
      "  final_data = final_data.append(new_row, ignore_index = True)\n"
     ]
    },
    {
     "name": "stdout",
     "output_type": "stream",
     "text": [
      "nnnnnnnnnnnnnnnnnnnnn   UAE\n",
      "condition verified\n",
      "nnnnnnnnnnnnnnnnnnnnn   Kuwait  Kuwait\n",
      "condition verified\n",
      "nnnnnnnnnnnnnnnnnnnnn    Canada\n",
      "condition verified\n"
     ]
    },
    {
     "name": "stderr",
     "output_type": "stream",
     "text": [
      "C:\\Users\\samir\\AppData\\Local\\Temp\\ipykernel_11084\\3614904585.py:4: FutureWarning: The frame.append method is deprecated and will be removed from pandas in a future version. Use pandas.concat instead.\n",
      "  final_data = final_data.append(new_row, ignore_index = True)\n",
      "C:\\Users\\samir\\AppData\\Local\\Temp\\ipykernel_11084\\3614904585.py:4: FutureWarning: The frame.append method is deprecated and will be removed from pandas in a future version. Use pandas.concat instead.\n",
      "  final_data = final_data.append(new_row, ignore_index = True)\n",
      "C:\\Users\\samir\\AppData\\Local\\Temp\\ipykernel_11084\\3614904585.py:4: FutureWarning: The frame.append method is deprecated and will be removed from pandas in a future version. Use pandas.concat instead.\n",
      "  final_data = final_data.append(new_row, ignore_index = True)\n"
     ]
    },
    {
     "name": "stdout",
     "output_type": "stream",
     "text": [
      "nnnnnnnnnnnnnnnnnnnnn    China\n",
      "condition verified\n",
      "nnnnnnnnnnnnnnnnnnnnn    China\n",
      "nnnnnnnnnnnnnnnnnnnnn    China\n",
      "nnnnnnnnnnnnnnnnnnnnn    China\n",
      "nnnnnnnnnnnnnnnnnnnnn    China\n",
      "nnnnnnnnnnnnnnnnnnnnn    China\n",
      "nnnnnnnnnnnnnnnnnnnnn    China\n"
     ]
    },
    {
     "name": "stderr",
     "output_type": "stream",
     "text": [
      "C:\\Users\\samir\\AppData\\Local\\Temp\\ipykernel_11084\\3614904585.py:4: FutureWarning: The frame.append method is deprecated and will be removed from pandas in a future version. Use pandas.concat instead.\n",
      "  final_data = final_data.append(new_row, ignore_index = True)\n"
     ]
    },
    {
     "name": "stdout",
     "output_type": "stream",
     "text": [
      "nnnnnnnnnnnnnnnnnnnnn   China \n",
      "condition verified\n",
      "nnnnnnnnnnnnnnnnnnnnn   China \n",
      "nnnnnnnnnnnnnnnnnnnnn   \n",
      "condition verified\n",
      "nnnnnnnnnnnnnnnnnnnnn   Italy \n",
      "condition verified\n",
      "nnnnnnnnnnnnnnnnnnnnn   Australia \n",
      "condition verified\n",
      "nnnnnnnnnnnnnnnnnnnnn   China \n"
     ]
    },
    {
     "name": "stderr",
     "output_type": "stream",
     "text": [
      "C:\\Users\\samir\\AppData\\Local\\Temp\\ipykernel_11084\\3614904585.py:4: FutureWarning: The frame.append method is deprecated and will be removed from pandas in a future version. Use pandas.concat instead.\n",
      "  final_data = final_data.append(new_row, ignore_index = True)\n",
      "C:\\Users\\samir\\AppData\\Local\\Temp\\ipykernel_11084\\3614904585.py:4: FutureWarning: The frame.append method is deprecated and will be removed from pandas in a future version. Use pandas.concat instead.\n",
      "  final_data = final_data.append(new_row, ignore_index = True)\n",
      "C:\\Users\\samir\\AppData\\Local\\Temp\\ipykernel_11084\\3614904585.py:4: FutureWarning: The frame.append method is deprecated and will be removed from pandas in a future version. Use pandas.concat instead.\n",
      "  final_data = final_data.append(new_row, ignore_index = True)\n"
     ]
    },
    {
     "name": "stdout",
     "output_type": "stream",
     "text": [
      "nnnnnnnnnnnnnnnnnnnnn    China\n",
      "condition verified\n",
      "nnnnnnnnnnnnnnnnnnnnn    Canada\n",
      "condition verified\n",
      "nnnnnnnnnnnnnnnnnnnnn    China\n",
      "nnnnnnnnnnnnnnnnnnnnn    Canada\n",
      "nnnnnnnnnnnnnnnnnnnnn    UK\n",
      "condition verified\n",
      "nnnnnnnnnnnnnnnnnnnnn   \n",
      "condition verified\n"
     ]
    },
    {
     "name": "stderr",
     "output_type": "stream",
     "text": [
      "C:\\Users\\samir\\AppData\\Local\\Temp\\ipykernel_11084\\3614904585.py:4: FutureWarning: The frame.append method is deprecated and will be removed from pandas in a future version. Use pandas.concat instead.\n",
      "  final_data = final_data.append(new_row, ignore_index = True)\n",
      "C:\\Users\\samir\\AppData\\Local\\Temp\\ipykernel_11084\\3614904585.py:4: FutureWarning: The frame.append method is deprecated and will be removed from pandas in a future version. Use pandas.concat instead.\n",
      "  final_data = final_data.append(new_row, ignore_index = True)\n",
      "C:\\Users\\samir\\AppData\\Local\\Temp\\ipykernel_11084\\3614904585.py:4: FutureWarning: The frame.append method is deprecated and will be removed from pandas in a future version. Use pandas.concat instead.\n",
      "  final_data = final_data.append(new_row, ignore_index = True)\n"
     ]
    },
    {
     "name": "stdout",
     "output_type": "stream",
     "text": [
      "nnnnnnnnnnnnnnnnnnnnn    China\n",
      "condition verified\n",
      "nnnnnnnnnnnnnnnnnnnnn    China\n",
      "nnnnnnnnnnnnnnnnnnnnn    China\n",
      "nnnnnnnnnnnnnnnnnnnnn   \n",
      "condition verified\n",
      "nnnnnnnnnnnnnnnnnnnnn    China\n",
      "nnnnnnnnnnnnnnnnnnnnn    China\n"
     ]
    },
    {
     "name": "stderr",
     "output_type": "stream",
     "text": [
      "C:\\Users\\samir\\AppData\\Local\\Temp\\ipykernel_11084\\3614904585.py:4: FutureWarning: The frame.append method is deprecated and will be removed from pandas in a future version. Use pandas.concat instead.\n",
      "  final_data = final_data.append(new_row, ignore_index = True)\n"
     ]
    },
    {
     "name": "stdout",
     "output_type": "stream",
     "text": [
      "nnnnnnnnnnnnnnnnnnnnn    China\n",
      "condition verified\n",
      "nnnnnnnnnnnnnnnnnnnnn    China\n",
      "nnnnnnnnnnnnnnnnnnnnn    China\n",
      "nnnnnnnnnnnnnnnnnnnnn    China\n",
      "nnnnnnnnnnnnnnnnnnnnn   \n",
      "condition verified\n"
     ]
    },
    {
     "name": "stderr",
     "output_type": "stream",
     "text": [
      "C:\\Users\\samir\\AppData\\Local\\Temp\\ipykernel_11084\\3614904585.py:4: FutureWarning: The frame.append method is deprecated and will be removed from pandas in a future version. Use pandas.concat instead.\n",
      "  final_data = final_data.append(new_row, ignore_index = True)\n"
     ]
    },
    {
     "name": "stdout",
     "output_type": "stream",
     "text": [
      "nnnnnnnnnnnnnnnnnnnnn   China \n",
      "condition verified\n",
      "nnnnnnnnnnnnnnnnnnnnn   China \n",
      "nnnnnnnnnnnnnnnnnnnnn   China \n",
      "nnnnnnnnnnnnnnnnnnnnn   China \n",
      "nnnnnnnnnnnnnnnnnnnnn   \n",
      "condition verified\n",
      "nnnnnnnnnnnnnnnnnnnnn   China \n"
     ]
    },
    {
     "name": "stderr",
     "output_type": "stream",
     "text": [
      "C:\\Users\\samir\\AppData\\Local\\Temp\\ipykernel_11084\\3614904585.py:4: FutureWarning: The frame.append method is deprecated and will be removed from pandas in a future version. Use pandas.concat instead.\n",
      "  final_data = final_data.append(new_row, ignore_index = True)\n"
     ]
    },
    {
     "name": "stdout",
     "output_type": "stream",
     "text": [
      "nnnnnnnnnnnnnnnnnnnnn   China \n",
      "condition verified\n",
      "nnnnnnnnnnnnnnnnnnnnn   China \n",
      "nnnnnnnnnnnnnnnnnnnnn   Malaysia \n",
      "condition verified\n"
     ]
    },
    {
     "name": "stderr",
     "output_type": "stream",
     "text": [
      "C:\\Users\\samir\\AppData\\Local\\Temp\\ipykernel_11084\\3614904585.py:4: FutureWarning: The frame.append method is deprecated and will be removed from pandas in a future version. Use pandas.concat instead.\n",
      "  final_data = final_data.append(new_row, ignore_index = True)\n",
      "C:\\Users\\samir\\AppData\\Local\\Temp\\ipykernel_11084\\3614904585.py:4: FutureWarning: The frame.append method is deprecated and will be removed from pandas in a future version. Use pandas.concat instead.\n",
      "  final_data = final_data.append(new_row, ignore_index = True)\n"
     ]
    },
    {
     "name": "stdout",
     "output_type": "stream",
     "text": [
      "nnnnnnnnnnnnnnnnnnnnn    Australia\n",
      "condition verified\n",
      "nnnnnnnnnnnnnnnnnnnnn    Australia\n",
      "nnnnnnnnnnnnnnnnnnnnn    Australia\n"
     ]
    },
    {
     "name": "stderr",
     "output_type": "stream",
     "text": [
      "C:\\Users\\samir\\AppData\\Local\\Temp\\ipykernel_11084\\3614904585.py:4: FutureWarning: The frame.append method is deprecated and will be removed from pandas in a future version. Use pandas.concat instead.\n",
      "  final_data = final_data.append(new_row, ignore_index = True)\n"
     ]
    },
    {
     "name": "stdout",
     "output_type": "stream",
     "text": [
      "nnnnnnnnnnnnnnnnnnnnn    China\n",
      "condition verified\n",
      "nnnnnnnnnnnnnnnnnnnnn    China\n",
      "nnnnnnnnnnnnnnnnnnnnn   Australia  Australia\n",
      "condition verified\n"
     ]
    },
    {
     "name": "stderr",
     "output_type": "stream",
     "text": [
      "C:\\Users\\samir\\AppData\\Local\\Temp\\ipykernel_11084\\3614904585.py:4: FutureWarning: The frame.append method is deprecated and will be removed from pandas in a future version. Use pandas.concat instead.\n",
      "  final_data = final_data.append(new_row, ignore_index = True)\n",
      "C:\\Users\\samir\\AppData\\Local\\Temp\\ipykernel_11084\\3614904585.py:4: FutureWarning: The frame.append method is deprecated and will be removed from pandas in a future version. Use pandas.concat instead.\n",
      "  final_data = final_data.append(new_row, ignore_index = True)\n"
     ]
    },
    {
     "name": "stdout",
     "output_type": "stream",
     "text": [
      "nnnnnnnnnnnnnnnnnnnnn   China \n",
      "condition verified\n",
      "nnnnnnnnnnnnnnnnnnnnn   China \n",
      "nnnnnnnnnnnnnnnnnnnnn   China \n"
     ]
    },
    {
     "name": "stderr",
     "output_type": "stream",
     "text": [
      "C:\\Users\\samir\\AppData\\Local\\Temp\\ipykernel_11084\\3614904585.py:4: FutureWarning: The frame.append method is deprecated and will be removed from pandas in a future version. Use pandas.concat instead.\n",
      "  final_data = final_data.append(new_row, ignore_index = True)\n"
     ]
    },
    {
     "name": "stdout",
     "output_type": "stream",
     "text": [
      "nnnnnnnnnnnnnnnnnnnnn    China\n",
      "condition verified\n",
      "nnnnnnnnnnnnnnnnnnnnn   China\n",
      "condition verified\n",
      "nnnnnnnnnnnnnnnnnnnnn    China\n",
      "nnnnnnnnnnnnnnnnnnnnn    China\n",
      "nnnnnnnnnnnnnnnnnnnnn    China\n",
      "nnnnnnnnnnnnnnnnnnnnn    China\n"
     ]
    },
    {
     "name": "stderr",
     "output_type": "stream",
     "text": [
      "C:\\Users\\samir\\AppData\\Local\\Temp\\ipykernel_11084\\3614904585.py:4: FutureWarning: The frame.append method is deprecated and will be removed from pandas in a future version. Use pandas.concat instead.\n",
      "  final_data = final_data.append(new_row, ignore_index = True)\n",
      "C:\\Users\\samir\\AppData\\Local\\Temp\\ipykernel_11084\\3614904585.py:4: FutureWarning: The frame.append method is deprecated and will be removed from pandas in a future version. Use pandas.concat instead.\n",
      "  final_data = final_data.append(new_row, ignore_index = True)\n"
     ]
    },
    {
     "name": "stdout",
     "output_type": "stream",
     "text": [
      "nnnnnnnnnnnnnnnnnnnnn   Canada\n",
      "condition verified\n",
      "nnnnnnnnnnnnnnnnnnnnn    Canada\n",
      "condition verified\n",
      "nnnnnnnnnnnnnnnnnnnnn    Australia\n",
      "condition verified\n",
      "nnnnnnnnnnnnnnnnnnnnn   Co  China\n",
      "condition verified\n",
      "nnnnnnnnnnnnnnnnnnnnn    China\n",
      "condition verified\n",
      "nnnnnnnnnnnnnnnnnnnnn    Canada\n"
     ]
    },
    {
     "name": "stderr",
     "output_type": "stream",
     "text": [
      "C:\\Users\\samir\\AppData\\Local\\Temp\\ipykernel_11084\\3614904585.py:4: FutureWarning: The frame.append method is deprecated and will be removed from pandas in a future version. Use pandas.concat instead.\n",
      "  final_data = final_data.append(new_row, ignore_index = True)\n",
      "C:\\Users\\samir\\AppData\\Local\\Temp\\ipykernel_11084\\3614904585.py:4: FutureWarning: The frame.append method is deprecated and will be removed from pandas in a future version. Use pandas.concat instead.\n",
      "  final_data = final_data.append(new_row, ignore_index = True)\n",
      "C:\\Users\\samir\\AppData\\Local\\Temp\\ipykernel_11084\\3614904585.py:4: FutureWarning: The frame.append method is deprecated and will be removed from pandas in a future version. Use pandas.concat instead.\n",
      "  final_data = final_data.append(new_row, ignore_index = True)\n",
      "C:\\Users\\samir\\AppData\\Local\\Temp\\ipykernel_11084\\3614904585.py:4: FutureWarning: The frame.append method is deprecated and will be removed from pandas in a future version. Use pandas.concat instead.\n",
      "  final_data = final_data.append(new_row, ignore_index = True)\n",
      "C:\\Users\\samir\\AppData\\Local\\Temp\\ipykernel_11084\\3614904585.py:4: FutureWarning: The frame.append method is deprecated and will be removed from pandas in a future version. Use pandas.concat instead.\n",
      "  final_data = final_data.append(new_row, ignore_index = True)\n"
     ]
    },
    {
     "name": "stdout",
     "output_type": "stream",
     "text": [
      "nnnnnnnnnnnnnnnnnnnnn    China\n",
      "condition verified\n",
      "nnnnnnnnnnnnnnnnnnnnn    China\n",
      "nnnnnnnnnnnnnnnnnnnnn    China\n"
     ]
    },
    {
     "name": "stderr",
     "output_type": "stream",
     "text": [
      "C:\\Users\\samir\\AppData\\Local\\Temp\\ipykernel_11084\\3614904585.py:4: FutureWarning: The frame.append method is deprecated and will be removed from pandas in a future version. Use pandas.concat instead.\n",
      "  final_data = final_data.append(new_row, ignore_index = True)\n"
     ]
    },
    {
     "name": "stdout",
     "output_type": "stream",
     "text": [
      "nnnnnnnnnnnnnnnnnnnnn    India\n",
      "condition verified\n",
      "nnnnnnnnnnnnnnnnnnnnn   \n",
      "condition verified\n",
      "nnnnnnnnnnnnnnnnnnnnn    Pakistan\n",
      "condition verified\n",
      "nnnnnnnnnnnnnnnnnnnnn   \n",
      "nnnnnnnnnnnnnnnnnnnnn   \n",
      "nnnnnnnnnnnnnnnnnnnnn   \n",
      "nnnnnnnnnnnnnnnnnnnnn   Japan\n",
      "condition verified\n"
     ]
    },
    {
     "name": "stderr",
     "output_type": "stream",
     "text": [
      "C:\\Users\\samir\\AppData\\Local\\Temp\\ipykernel_11084\\3614904585.py:4: FutureWarning: The frame.append method is deprecated and will be removed from pandas in a future version. Use pandas.concat instead.\n",
      "  final_data = final_data.append(new_row, ignore_index = True)\n",
      "C:\\Users\\samir\\AppData\\Local\\Temp\\ipykernel_11084\\3614904585.py:4: FutureWarning: The frame.append method is deprecated and will be removed from pandas in a future version. Use pandas.concat instead.\n",
      "  final_data = final_data.append(new_row, ignore_index = True)\n",
      "C:\\Users\\samir\\AppData\\Local\\Temp\\ipykernel_11084\\3614904585.py:4: FutureWarning: The frame.append method is deprecated and will be removed from pandas in a future version. Use pandas.concat instead.\n",
      "  final_data = final_data.append(new_row, ignore_index = True)\n"
     ]
    },
    {
     "name": "stdout",
     "output_type": "stream",
     "text": [
      "nnnnnnnnnnnnnnnnnnnnn   \n",
      "condition verified\n",
      "nnnnnnnnnnnnnnnnnnnnn   \n",
      "nnnnnnnnnnnnnnnnnnnnn   \n",
      "nnnnnnnnnnnnnnnnnnnnn   \n",
      "nnnnnnnnnnnnnnnnnnnnn    Pakistan\n",
      "condition verified\n",
      "nnnnnnnnnnnnnnnnnnnnn   \n",
      "condition verified\n",
      "nnnnnnnnnnnnnnnnnnnnn   \n",
      "nnnnnnnnnnnnnnnnnnnnn    USA\n",
      "condition verified\n",
      "nnnnnnnnnnnnnnnnnnnnn    Canada\n",
      "condition verified\n"
     ]
    },
    {
     "name": "stderr",
     "output_type": "stream",
     "text": [
      "C:\\Users\\samir\\AppData\\Local\\Temp\\ipykernel_11084\\3614904585.py:4: FutureWarning: The frame.append method is deprecated and will be removed from pandas in a future version. Use pandas.concat instead.\n",
      "  final_data = final_data.append(new_row, ignore_index = True)\n",
      "C:\\Users\\samir\\AppData\\Local\\Temp\\ipykernel_11084\\3614904585.py:4: FutureWarning: The frame.append method is deprecated and will be removed from pandas in a future version. Use pandas.concat instead.\n",
      "  final_data = final_data.append(new_row, ignore_index = True)\n",
      "C:\\Users\\samir\\AppData\\Local\\Temp\\ipykernel_11084\\3614904585.py:4: FutureWarning: The frame.append method is deprecated and will be removed from pandas in a future version. Use pandas.concat instead.\n",
      "  final_data = final_data.append(new_row, ignore_index = True)\n"
     ]
    },
    {
     "name": "stdout",
     "output_type": "stream",
     "text": [
      "nnnnnnnnnnnnnnnnnnnnn    China\n",
      "condition verified\n",
      "nnnnnnnnnnnnnnnnnnnnn    China\n",
      "nnnnnnnnnnnnnnnnnnnnn    China\n",
      "nnnnnnnnnnnnnnnnnnnnn    China\n",
      "nnnnnnnnnnnnnnnnnnnnn    China\n"
     ]
    },
    {
     "name": "stderr",
     "output_type": "stream",
     "text": [
      "C:\\Users\\samir\\AppData\\Local\\Temp\\ipykernel_11084\\3614904585.py:4: FutureWarning: The frame.append method is deprecated and will be removed from pandas in a future version. Use pandas.concat instead.\n",
      "  final_data = final_data.append(new_row, ignore_index = True)\n"
     ]
    },
    {
     "name": "stdout",
     "output_type": "stream",
     "text": [
      "nnnnnnnnnnnnnnnnnnnnn    China\n",
      "condition verified\n",
      "nnnnnnnnnnnnnnnnnnnnn    China\n",
      "nnnnnnnnnnnnnnnnnnnnn    China\n",
      "nnnnnnnnnnnnnnnnnnnnn    China\n",
      "nnnnnnnnnnnnnnnnnnnnn    China\n",
      "nnnnnnnnnnnnnnnnnnnnn    China\n"
     ]
    },
    {
     "name": "stderr",
     "output_type": "stream",
     "text": [
      "C:\\Users\\samir\\AppData\\Local\\Temp\\ipykernel_11084\\3614904585.py:4: FutureWarning: The frame.append method is deprecated and will be removed from pandas in a future version. Use pandas.concat instead.\n",
      "  final_data = final_data.append(new_row, ignore_index = True)\n"
     ]
    },
    {
     "name": "stdout",
     "output_type": "stream",
     "text": [
      "nnnnnnnnnnnnnnnnnnnnn    China\n",
      "condition verified\n",
      "nnnnnnnnnnnnnnnnnnnnn    China\n",
      "nnnnnnnnnnnnnnnnnnnnn    China\n",
      "nnnnnnnnnnnnnnnnnnnnn    China\n",
      "nnnnnnnnnnnnnnnnnnnnn   \n",
      "condition verified\n",
      "nnnnnnnnnnnnnnnnnnnnn    Japan\n",
      "condition verified\n"
     ]
    },
    {
     "name": "stderr",
     "output_type": "stream",
     "text": [
      "C:\\Users\\samir\\AppData\\Local\\Temp\\ipykernel_11084\\3614904585.py:4: FutureWarning: The frame.append method is deprecated and will be removed from pandas in a future version. Use pandas.concat instead.\n",
      "  final_data = final_data.append(new_row, ignore_index = True)\n",
      "C:\\Users\\samir\\AppData\\Local\\Temp\\ipykernel_11084\\3614904585.py:4: FutureWarning: The frame.append method is deprecated and will be removed from pandas in a future version. Use pandas.concat instead.\n",
      "  final_data = final_data.append(new_row, ignore_index = True)\n"
     ]
    },
    {
     "name": "stdout",
     "output_type": "stream",
     "text": [
      "nnnnnnnnnnnnnnnnnnnnn   China \n",
      "condition verified\n",
      "nnnnnnnnnnnnnnnnnnnnn   China \n",
      "nnnnnnnnnnnnnnnnnnnnn   China \n",
      "nnnnnnnnnnnnnnnnnnnnn   China \n",
      "nnnnnnnnnnnnnnnnnnnnn   China \n"
     ]
    },
    {
     "name": "stderr",
     "output_type": "stream",
     "text": [
      "C:\\Users\\samir\\AppData\\Local\\Temp\\ipykernel_11084\\3614904585.py:4: FutureWarning: The frame.append method is deprecated and will be removed from pandas in a future version. Use pandas.concat instead.\n",
      "  final_data = final_data.append(new_row, ignore_index = True)\n"
     ]
    },
    {
     "name": "stdout",
     "output_type": "stream",
     "text": [
      "nnnnnnnnnnnnnnnnnnnnn    China\n",
      "condition verified\n",
      "nnnnnnnnnnnnnnnnnnnnn    China\n",
      "nnnnnnnnnnnnnnnnnnnnn   USA\n",
      "condition verified\n",
      "nnnnnnnnnnnnnnnnnnnnn    China\n",
      "nnnnnnnnnnnnnnnnnnnnn    China\n",
      "nnnnnnnnnnnnnnnnnnnnn    China\n"
     ]
    },
    {
     "name": "stderr",
     "output_type": "stream",
     "text": [
      "C:\\Users\\samir\\AppData\\Local\\Temp\\ipykernel_11084\\3614904585.py:4: FutureWarning: The frame.append method is deprecated and will be removed from pandas in a future version. Use pandas.concat instead.\n",
      "  final_data = final_data.append(new_row, ignore_index = True)\n",
      "C:\\Users\\samir\\AppData\\Local\\Temp\\ipykernel_11084\\3614904585.py:4: FutureWarning: The frame.append method is deprecated and will be removed from pandas in a future version. Use pandas.concat instead.\n",
      "  final_data = final_data.append(new_row, ignore_index = True)\n"
     ]
    },
    {
     "name": "stdout",
     "output_type": "stream",
     "text": [
      "nnnnnnnnnnnnnnnnnnnnn    China\n",
      "condition verified\n",
      "nnnnnnnnnnnnnnnnnnnnn   Iraq \n",
      "condition verified\n",
      "nnnnnnnnnnnnnnnnnnnnn   \n",
      "condition verified\n",
      "nnnnnnnnnnnnnnnnnnnnn   \n",
      "nnnnnnnnnnnnnnnnnnnnn    Finland\n",
      "condition verified\n",
      "nnnnnnnnnnnnnnnnnnnnn   India \n",
      "condition verified\n",
      "nnnnnnnnnnnnnnnnnnnnn    Iraq\n",
      "condition verified\n",
      "nnnnnnnnnnnnnnnnnnnnn    China\n"
     ]
    },
    {
     "name": "stderr",
     "output_type": "stream",
     "text": [
      "C:\\Users\\samir\\AppData\\Local\\Temp\\ipykernel_11084\\3614904585.py:4: FutureWarning: The frame.append method is deprecated and will be removed from pandas in a future version. Use pandas.concat instead.\n",
      "  final_data = final_data.append(new_row, ignore_index = True)\n",
      "C:\\Users\\samir\\AppData\\Local\\Temp\\ipykernel_11084\\3614904585.py:4: FutureWarning: The frame.append method is deprecated and will be removed from pandas in a future version. Use pandas.concat instead.\n",
      "  final_data = final_data.append(new_row, ignore_index = True)\n",
      "C:\\Users\\samir\\AppData\\Local\\Temp\\ipykernel_11084\\3614904585.py:4: FutureWarning: The frame.append method is deprecated and will be removed from pandas in a future version. Use pandas.concat instead.\n",
      "  final_data = final_data.append(new_row, ignore_index = True)\n",
      "C:\\Users\\samir\\AppData\\Local\\Temp\\ipykernel_11084\\3614904585.py:4: FutureWarning: The frame.append method is deprecated and will be removed from pandas in a future version. Use pandas.concat instead.\n",
      "  final_data = final_data.append(new_row, ignore_index = True)\n",
      "C:\\Users\\samir\\AppData\\Local\\Temp\\ipykernel_11084\\3614904585.py:4: FutureWarning: The frame.append method is deprecated and will be removed from pandas in a future version. Use pandas.concat instead.\n",
      "  final_data = final_data.append(new_row, ignore_index = True)\n"
     ]
    },
    {
     "name": "stdout",
     "output_type": "stream",
     "text": [
      "nnnnnnnnnnnnnnnnnnnnn    Australia\n",
      "condition verified\n",
      "nnnnnnnnnnnnnnnnnnnnn    Australia\n",
      "nnnnnnnnnnnnnnnnnnnnn    Australia\n",
      "nnnnnnnnnnnnnnnnnnnnn    Australia\n",
      "nnnnnnnnnnnnnnnnnnnnn    Australia\n",
      "nnnnnnnnnnnnnnnnnnnnn    Australia\n"
     ]
    },
    {
     "name": "stderr",
     "output_type": "stream",
     "text": [
      "C:\\Users\\samir\\AppData\\Local\\Temp\\ipykernel_11084\\3614904585.py:4: FutureWarning: The frame.append method is deprecated and will be removed from pandas in a future version. Use pandas.concat instead.\n",
      "  final_data = final_data.append(new_row, ignore_index = True)\n"
     ]
    },
    {
     "name": "stdout",
     "output_type": "stream",
     "text": [
      "nnnnnnnnnnnnnnnnnnnnn    China\n",
      "condition verified\n",
      "nnnnnnnnnnnnnnnnnnnnn    China\n",
      "nnnnnnnnnnnnnnnnnnnnn    China\n",
      "nnnnnnnnnnnnnnnnnnnnn    China\n",
      "nnnnnnnnnnnnnnnnnnnnn    China\n",
      "nnnnnnnnnnnnnnnnnnnnn    China\n"
     ]
    },
    {
     "name": "stderr",
     "output_type": "stream",
     "text": [
      "C:\\Users\\samir\\AppData\\Local\\Temp\\ipykernel_11084\\3614904585.py:4: FutureWarning: The frame.append method is deprecated and will be removed from pandas in a future version. Use pandas.concat instead.\n",
      "  final_data = final_data.append(new_row, ignore_index = True)\n"
     ]
    },
    {
     "name": "stdout",
     "output_type": "stream",
     "text": [
      "nnnnnnnnnnnnnnnnnnnnn    China\n",
      "condition verified\n",
      "nnnnnnnnnnnnnnnnnnnnn    China\n",
      "nnnnnnnnnnnnnnnnnnnnn    China\n",
      "nnnnnnnnnnnnnnnnnnnnn    China\n",
      "nnnnnnnnnnnnnnnnnnnnn    China\n",
      "nnnnnnnnnnnnnnnnnnnnn    China\n"
     ]
    },
    {
     "name": "stderr",
     "output_type": "stream",
     "text": [
      "C:\\Users\\samir\\AppData\\Local\\Temp\\ipykernel_11084\\3614904585.py:4: FutureWarning: The frame.append method is deprecated and will be removed from pandas in a future version. Use pandas.concat instead.\n",
      "  final_data = final_data.append(new_row, ignore_index = True)\n"
     ]
    },
    {
     "name": "stdout",
     "output_type": "stream",
     "text": [
      "nnnnnnnnnnnnnnnnnnnnn    China\n",
      "condition verified\n",
      "nnnnnnnnnnnnnnnnnnnnn    China\n",
      "nnnnnnnnnnnnnnnnnnnnn    China\n"
     ]
    },
    {
     "name": "stderr",
     "output_type": "stream",
     "text": [
      "C:\\Users\\samir\\AppData\\Local\\Temp\\ipykernel_11084\\3614904585.py:4: FutureWarning: The frame.append method is deprecated and will be removed from pandas in a future version. Use pandas.concat instead.\n",
      "  final_data = final_data.append(new_row, ignore_index = True)\n"
     ]
    },
    {
     "name": "stdout",
     "output_type": "stream",
     "text": [
      "nnnnnnnnnnnnnnnnnnnnn    Australia\n",
      "condition verified\n",
      "nnnnnnnnnnnnnnnnnnnnn    Australia\n",
      "nnnnnnnnnnnnnnnnnnnnn    Australia\n"
     ]
    },
    {
     "name": "stderr",
     "output_type": "stream",
     "text": [
      "C:\\Users\\samir\\AppData\\Local\\Temp\\ipykernel_11084\\3614904585.py:4: FutureWarning: The frame.append method is deprecated and will be removed from pandas in a future version. Use pandas.concat instead.\n",
      "  final_data = final_data.append(new_row, ignore_index = True)\n"
     ]
    },
    {
     "name": "stdout",
     "output_type": "stream",
     "text": [
      "nnnnnnnnnnnnnnnnnnnnn    China\n",
      "condition verified\n",
      "nnnnnnnnnnnnnnnnnnnnn    China\n",
      "nnnnnnnnnnnnnnnnnnnnn   \n",
      "condition verified\n",
      "nnnnnnnnnnnnnnnnnnnnn    USA\n",
      "condition verified\n",
      "nnnnnnnnnnnnnnnnnnnnn    China\n",
      "nnnnnnnnnnnnnnnnnnnnn    Japan\n",
      "condition verified\n"
     ]
    },
    {
     "name": "stderr",
     "output_type": "stream",
     "text": [
      "C:\\Users\\samir\\AppData\\Local\\Temp\\ipykernel_11084\\3614904585.py:4: FutureWarning: The frame.append method is deprecated and will be removed from pandas in a future version. Use pandas.concat instead.\n",
      "  final_data = final_data.append(new_row, ignore_index = True)\n",
      "C:\\Users\\samir\\AppData\\Local\\Temp\\ipykernel_11084\\3614904585.py:4: FutureWarning: The frame.append method is deprecated and will be removed from pandas in a future version. Use pandas.concat instead.\n",
      "  final_data = final_data.append(new_row, ignore_index = True)\n",
      "C:\\Users\\samir\\AppData\\Local\\Temp\\ipykernel_11084\\3614904585.py:4: FutureWarning: The frame.append method is deprecated and will be removed from pandas in a future version. Use pandas.concat instead.\n",
      "  final_data = final_data.append(new_row, ignore_index = True)\n"
     ]
    },
    {
     "name": "stdout",
     "output_type": "stream",
     "text": [
      "nnnnnnnnnnnnnnnnnnnnn   St\n",
      "condition verified\n",
      "nnnnnnnnnnnnnnnnnnnnn    Taiwan\n",
      "condition verified\n",
      "nnnnnnnnnnnnnnnnnnnnn   CA  USA\n",
      "condition verified\n"
     ]
    },
    {
     "name": "stderr",
     "output_type": "stream",
     "text": [
      "C:\\Users\\samir\\AppData\\Local\\Temp\\ipykernel_11084\\3614904585.py:4: FutureWarning: The frame.append method is deprecated and will be removed from pandas in a future version. Use pandas.concat instead.\n",
      "  final_data = final_data.append(new_row, ignore_index = True)\n",
      "C:\\Users\\samir\\AppData\\Local\\Temp\\ipykernel_11084\\3614904585.py:4: FutureWarning: The frame.append method is deprecated and will be removed from pandas in a future version. Use pandas.concat instead.\n",
      "  final_data = final_data.append(new_row, ignore_index = True)\n",
      "C:\\Users\\samir\\AppData\\Local\\Temp\\ipykernel_11084\\3614904585.py:4: FutureWarning: The frame.append method is deprecated and will be removed from pandas in a future version. Use pandas.concat instead.\n",
      "  final_data = final_data.append(new_row, ignore_index = True)\n"
     ]
    },
    {
     "name": "stdout",
     "output_type": "stream",
     "text": [
      "nnnnnnnnnnnnnnnnnnnnn    China\n",
      "condition verified\n",
      "nnnnnnnnnnnnnnnnnnnnn    China\n",
      "nnnnnnnnnnnnnnnnnnnnn    China\n",
      "nnnnnnnnnnnnnnnnnnnnn    China\n",
      "nnnnnnnnnnnnnnnnnnnnn    China\n",
      "nnnnnnnnnnnnnnnnnnnnn    Sweden\n",
      "condition verified\n",
      "nnnnnnnnnnnnnnnnnnnnn    Japan\n",
      "condition verified\n"
     ]
    },
    {
     "name": "stderr",
     "output_type": "stream",
     "text": [
      "C:\\Users\\samir\\AppData\\Local\\Temp\\ipykernel_11084\\3614904585.py:4: FutureWarning: The frame.append method is deprecated and will be removed from pandas in a future version. Use pandas.concat instead.\n",
      "  final_data = final_data.append(new_row, ignore_index = True)\n",
      "C:\\Users\\samir\\AppData\\Local\\Temp\\ipykernel_11084\\3614904585.py:4: FutureWarning: The frame.append method is deprecated and will be removed from pandas in a future version. Use pandas.concat instead.\n",
      "  final_data = final_data.append(new_row, ignore_index = True)\n",
      "C:\\Users\\samir\\AppData\\Local\\Temp\\ipykernel_11084\\3614904585.py:4: FutureWarning: The frame.append method is deprecated and will be removed from pandas in a future version. Use pandas.concat instead.\n",
      "  final_data = final_data.append(new_row, ignore_index = True)\n"
     ]
    },
    {
     "name": "stdout",
     "output_type": "stream",
     "text": [
      "nnnnnnnnnnnnnnnnnnnnn    Pakistan\n",
      "condition verified\n",
      "nnnnnnnnnnnnnnnnnnnnn    Iraq\n",
      "condition verified\n",
      "nnnnnnnnnnnnnnnnnnnnn    Iraq\n",
      "nnnnnnnnnnnnnnnnnnnnn    Norway\n",
      "condition verified\n",
      "nnnnnnnnnnnnnnnnnnnnn    Iraq\n"
     ]
    },
    {
     "name": "stderr",
     "output_type": "stream",
     "text": [
      "C:\\Users\\samir\\AppData\\Local\\Temp\\ipykernel_11084\\3614904585.py:4: FutureWarning: The frame.append method is deprecated and will be removed from pandas in a future version. Use pandas.concat instead.\n",
      "  final_data = final_data.append(new_row, ignore_index = True)\n",
      "C:\\Users\\samir\\AppData\\Local\\Temp\\ipykernel_11084\\3614904585.py:4: FutureWarning: The frame.append method is deprecated and will be removed from pandas in a future version. Use pandas.concat instead.\n",
      "  final_data = final_data.append(new_row, ignore_index = True)\n",
      "C:\\Users\\samir\\AppData\\Local\\Temp\\ipykernel_11084\\3614904585.py:4: FutureWarning: The frame.append method is deprecated and will be removed from pandas in a future version. Use pandas.concat instead.\n",
      "  final_data = final_data.append(new_row, ignore_index = True)\n"
     ]
    },
    {
     "name": "stdout",
     "output_type": "stream",
     "text": [
      "nnnnnnnnnnnnnnnnnnnnn   Nigeria \n",
      "condition verified\n",
      "nnnnnnnnnnnnnnnnnnnnn   Nigeria \n",
      "nnnnnnnnnnnnnnnnnnnnn   Nigeria \n",
      "nnnnnnnnnnnnnnnnnnnnn   Nigeria \n",
      "nnnnnnnnnnnnnnnnnnnnn   Finland \n",
      "condition verified\n",
      "nnnnnnnnnnnnnnnnnnnnn   India \n",
      "condition verified\n",
      "nnnnnnnnnnnnnnnnnnnnn   Taiwan \n",
      "condition verified\n",
      "nnnnnnnnnnnnnnnnnnnnn   Nigeria \n",
      "nnnnnnnnnnnnnnnnnnnnn   Nigeria \n",
      "nnnnnnnnnnnnnnnnnnnnn   Taiwan \n"
     ]
    },
    {
     "name": "stderr",
     "output_type": "stream",
     "text": [
      "C:\\Users\\samir\\AppData\\Local\\Temp\\ipykernel_11084\\3614904585.py:4: FutureWarning: The frame.append method is deprecated and will be removed from pandas in a future version. Use pandas.concat instead.\n",
      "  final_data = final_data.append(new_row, ignore_index = True)\n",
      "C:\\Users\\samir\\AppData\\Local\\Temp\\ipykernel_11084\\3614904585.py:4: FutureWarning: The frame.append method is deprecated and will be removed from pandas in a future version. Use pandas.concat instead.\n",
      "  final_data = final_data.append(new_row, ignore_index = True)\n",
      "C:\\Users\\samir\\AppData\\Local\\Temp\\ipykernel_11084\\3614904585.py:4: FutureWarning: The frame.append method is deprecated and will be removed from pandas in a future version. Use pandas.concat instead.\n",
      "  final_data = final_data.append(new_row, ignore_index = True)\n",
      "C:\\Users\\samir\\AppData\\Local\\Temp\\ipykernel_11084\\3614904585.py:4: FutureWarning: The frame.append method is deprecated and will be removed from pandas in a future version. Use pandas.concat instead.\n",
      "  final_data = final_data.append(new_row, ignore_index = True)\n"
     ]
    },
    {
     "name": "stdout",
     "output_type": "stream",
     "text": [
      "nnnnnnnnnnnnnnnnnnnnn    USA\n",
      "condition verified\n",
      "nnnnnnnnnnnnnnnnnnnnn    USA\n",
      "nnnnnnnnnnnnnnnnnnnnn    USA\n"
     ]
    },
    {
     "name": "stderr",
     "output_type": "stream",
     "text": [
      "C:\\Users\\samir\\AppData\\Local\\Temp\\ipykernel_11084\\3614904585.py:4: FutureWarning: The frame.append method is deprecated and will be removed from pandas in a future version. Use pandas.concat instead.\n",
      "  final_data = final_data.append(new_row, ignore_index = True)\n"
     ]
    },
    {
     "name": "stdout",
     "output_type": "stream",
     "text": [
      "nnnnnnnnnnnnnnnnnnnnn    China\n",
      "condition verified\n",
      "nnnnnnnnnnnnnnnnnnnnn    China\n",
      "nnnnnnnnnnnnnnnnnnnnn    China\n",
      "nnnnnnnnnnnnnnnnnnnnn    China\n",
      "nnnnnnnnnnnnnnnnnnnnn    China\n",
      "nnnnnnnnnnnnnnnnnnnnn    Estonia\n",
      "condition verified\n"
     ]
    },
    {
     "name": "stderr",
     "output_type": "stream",
     "text": [
      "C:\\Users\\samir\\AppData\\Local\\Temp\\ipykernel_11084\\3614904585.py:4: FutureWarning: The frame.append method is deprecated and will be removed from pandas in a future version. Use pandas.concat instead.\n",
      "  final_data = final_data.append(new_row, ignore_index = True)\n"
     ]
    },
    {
     "name": "stdout",
     "output_type": "stream",
     "text": [
      "nnnnnnnnnnnnnnnnnnnnn   India \n",
      "condition verified\n",
      "nnnnnnnnnnnnnnnnnnnnn    Austria\n",
      "condition verified\n",
      "nnnnnnnnnnnnnnnnnnnnn    Austria\n"
     ]
    },
    {
     "name": "stderr",
     "output_type": "stream",
     "text": [
      "C:\\Users\\samir\\AppData\\Local\\Temp\\ipykernel_11084\\3614904585.py:4: FutureWarning: The frame.append method is deprecated and will be removed from pandas in a future version. Use pandas.concat instead.\n",
      "  final_data = final_data.append(new_row, ignore_index = True)\n",
      "C:\\Users\\samir\\AppData\\Local\\Temp\\ipykernel_11084\\3614904585.py:4: FutureWarning: The frame.append method is deprecated and will be removed from pandas in a future version. Use pandas.concat instead.\n",
      "  final_data = final_data.append(new_row, ignore_index = True)\n",
      "C:\\Users\\samir\\AppData\\Local\\Temp\\ipykernel_11084\\3614904585.py:4: FutureWarning: The frame.append method is deprecated and will be removed from pandas in a future version. Use pandas.concat instead.\n",
      "  final_data = final_data.append(new_row, ignore_index = True)\n"
     ]
    },
    {
     "name": "stdout",
     "output_type": "stream",
     "text": [
      "nnnnnnnnnnnnnnnnnnnnn   Russia \n",
      "condition verified\n",
      "nnnnnnnnnnnnnnnnnnnnn   Russia \n",
      "nnnnnnnnnnnnnnnnnnnnn   Russia \n",
      "nnnnnnnnnnnnnnnnnnnnn   Russia \n",
      "nnnnnnnnnnnnnnnnnnnnn    China\n",
      "condition verified\n"
     ]
    },
    {
     "name": "stderr",
     "output_type": "stream",
     "text": [
      "C:\\Users\\samir\\AppData\\Local\\Temp\\ipykernel_11084\\3614904585.py:4: FutureWarning: The frame.append method is deprecated and will be removed from pandas in a future version. Use pandas.concat instead.\n",
      "  final_data = final_data.append(new_row, ignore_index = True)\n"
     ]
    },
    {
     "name": "stdout",
     "output_type": "stream",
     "text": [
      "nnnnnnnnnnnnnnnnnnnnn    China\n",
      "nnnnnnnnnnnnnnnnnnnnn   China \n",
      "condition verified\n"
     ]
    },
    {
     "name": "stderr",
     "output_type": "stream",
     "text": [
      "C:\\Users\\samir\\AppData\\Local\\Temp\\ipykernel_11084\\3614904585.py:4: FutureWarning: The frame.append method is deprecated and will be removed from pandas in a future version. Use pandas.concat instead.\n",
      "  final_data = final_data.append(new_row, ignore_index = True)\n",
      "C:\\Users\\samir\\AppData\\Local\\Temp\\ipykernel_11084\\3614904585.py:4: FutureWarning: The frame.append method is deprecated and will be removed from pandas in a future version. Use pandas.concat instead.\n",
      "  final_data = final_data.append(new_row, ignore_index = True)\n"
     ]
    },
    {
     "name": "stdout",
     "output_type": "stream",
     "text": [
      "nnnnnnnnnnnnnnnnnnnnn   China \n",
      "condition verified\n",
      "nnnnnnnnnnnnnnnnnnnnn   China \n",
      "nnnnnnnnnnnnnnnnnnnnn   China \n",
      "nnnnnnnnnnnnnnnnnnnnn   \n",
      "condition verified\n"
     ]
    },
    {
     "name": "stderr",
     "output_type": "stream",
     "text": [
      "C:\\Users\\samir\\AppData\\Local\\Temp\\ipykernel_11084\\3614904585.py:4: FutureWarning: The frame.append method is deprecated and will be removed from pandas in a future version. Use pandas.concat instead.\n",
      "  final_data = final_data.append(new_row, ignore_index = True)\n"
     ]
    },
    {
     "name": "stdout",
     "output_type": "stream",
     "text": [
      "nnnnnnnnnnnnnnnnnnnnn   China \n",
      "condition verified\n",
      "nnnnnnnnnnnnnnnnnnnnn   China \n",
      "nnnnnnnnnnnnnnnnnnnnn   China \n",
      "nnnnnnnnnnnnnnnnnnnnn   China \n",
      "nnnnnnnnnnnnnnnnnnnnn   \n",
      "condition verified\n",
      "nnnnnnnnnnnnnnnnnnnnn   China \n",
      "nnnnnnnnnnnnnnnnnnnnn   China \n",
      "nnnnnnnnnnnnnnnnnnnnn   \n"
     ]
    },
    {
     "name": "stderr",
     "output_type": "stream",
     "text": [
      "C:\\Users\\samir\\AppData\\Local\\Temp\\ipykernel_11084\\3614904585.py:4: FutureWarning: The frame.append method is deprecated and will be removed from pandas in a future version. Use pandas.concat instead.\n",
      "  final_data = final_data.append(new_row, ignore_index = True)\n"
     ]
    },
    {
     "name": "stdout",
     "output_type": "stream",
     "text": [
      "nnnnnnnnnnnnnnnnnnnnn   China \n",
      "condition verified\n",
      "nnnnnnnnnnnnnnnnnnnnn   China \n",
      "nnnnnnnnnnnnnnnnnnnnn   China \n",
      "nnnnnnnnnnnnnnnnnnnnn   China \n",
      "nnnnnnnnnnnnnnnnnnnnn   China \n",
      "nnnnnnnnnnnnnnnnnnnnn   China \n",
      "nnnnnnnnnnnnnnnnnnnnn   China \n",
      "nnnnnnnnnnnnnnnnnnnnn   China \n"
     ]
    },
    {
     "name": "stderr",
     "output_type": "stream",
     "text": [
      "C:\\Users\\samir\\AppData\\Local\\Temp\\ipykernel_11084\\3614904585.py:4: FutureWarning: The frame.append method is deprecated and will be removed from pandas in a future version. Use pandas.concat instead.\n",
      "  final_data = final_data.append(new_row, ignore_index = True)\n"
     ]
    },
    {
     "name": "stdout",
     "output_type": "stream",
     "text": [
      "nnnnnnnnnnnnnnnnnnnnn    Australia\n",
      "condition verified\n",
      "nnnnnnnnnnnnnnnnnnnnn    Australia\n",
      "nnnnnnnnnnnnnnnnnnnnn    Australia\n",
      "nnnnnnnnnnnnnnnnnnnnn    Australia\n",
      "nnnnnnnnnnnnnnnnnnnnn    Australia\n",
      "nnnnnnnnnnnnnnnnnnnnn    Australia\n",
      "nnnnnnnnnnnnnnnnnnnnn    Australia\n"
     ]
    },
    {
     "name": "stderr",
     "output_type": "stream",
     "text": [
      "C:\\Users\\samir\\AppData\\Local\\Temp\\ipykernel_11084\\3614904585.py:4: FutureWarning: The frame.append method is deprecated and will be removed from pandas in a future version. Use pandas.concat instead.\n",
      "  final_data = final_data.append(new_row, ignore_index = True)\n"
     ]
    },
    {
     "name": "stdout",
     "output_type": "stream",
     "text": [
      "nnnnnnnnnnnnnnnnnnnnn   \n",
      "condition verified\n",
      "nnnnnnnnnnnnnnnnnnnnn    India\n",
      "condition verified\n",
      "nnnnnnnnnnnnnnnnnnnnn   \n",
      "nnnnnnnnnnnnnnnnnnnnn   \n",
      "nnnnnnnnnnnnnnnnnnnnn   \n",
      "nnnnnnnnnnnnnnnnnnnnn   \n"
     ]
    },
    {
     "name": "stderr",
     "output_type": "stream",
     "text": [
      "C:\\Users\\samir\\AppData\\Local\\Temp\\ipykernel_11084\\3614904585.py:4: FutureWarning: The frame.append method is deprecated and will be removed from pandas in a future version. Use pandas.concat instead.\n",
      "  final_data = final_data.append(new_row, ignore_index = True)\n"
     ]
    },
    {
     "name": "stdout",
     "output_type": "stream",
     "text": [
      "nnnnnnnnnnnnnnnnnnnnn    UK\n",
      "condition verified\n",
      "nnnnnnnnnnnnnnnnnnnnn    UK\n",
      "nnnnnnnnnnnnnnnnnnnnn    UK\n",
      "nnnnnnnnnnnnnnnnnnnnn    UK\n",
      "nnnnnnnnnnnnnnnnnnnnn    UK\n"
     ]
    },
    {
     "name": "stderr",
     "output_type": "stream",
     "text": [
      "C:\\Users\\samir\\AppData\\Local\\Temp\\ipykernel_11084\\3614904585.py:4: FutureWarning: The frame.append method is deprecated and will be removed from pandas in a future version. Use pandas.concat instead.\n",
      "  final_data = final_data.append(new_row, ignore_index = True)\n"
     ]
    },
    {
     "name": "stdout",
     "output_type": "stream",
     "text": [
      "nnnnnnnnnnnnnnnnnnnnn    China\n",
      "condition verified\n",
      "nnnnnnnnnnnnnnnnnnnnn    China\n",
      "nnnnnnnnnnnnnnnnnnnnn    Canada\n",
      "condition verified\n",
      "nnnnnnnnnnnnnnnnnnnnn    China\n"
     ]
    },
    {
     "name": "stderr",
     "output_type": "stream",
     "text": [
      "C:\\Users\\samir\\AppData\\Local\\Temp\\ipykernel_11084\\3614904585.py:4: FutureWarning: The frame.append method is deprecated and will be removed from pandas in a future version. Use pandas.concat instead.\n",
      "  final_data = final_data.append(new_row, ignore_index = True)\n",
      "C:\\Users\\samir\\AppData\\Local\\Temp\\ipykernel_11084\\3614904585.py:4: FutureWarning: The frame.append method is deprecated and will be removed from pandas in a future version. Use pandas.concat instead.\n",
      "  final_data = final_data.append(new_row, ignore_index = True)\n"
     ]
    },
    {
     "name": "stdout",
     "output_type": "stream",
     "text": [
      "nnnnnnnnnnnnnnnnnnnnn    China\n",
      "condition verified\n",
      "nnnnnnnnnnnnnnnnnnnnn    China\n",
      "nnnnnnnnnnnnnnnnnnnnn    China\n",
      "nnnnnnnnnnnnnnnnnnnnn    China\n",
      "nnnnnnnnnnnnnnnnnnnnn    China\n",
      "nnnnnnnnnnnnnnnnnnnnn   China \n",
      "condition verified\n"
     ]
    },
    {
     "name": "stderr",
     "output_type": "stream",
     "text": [
      "C:\\Users\\samir\\AppData\\Local\\Temp\\ipykernel_11084\\3614904585.py:4: FutureWarning: The frame.append method is deprecated and will be removed from pandas in a future version. Use pandas.concat instead.\n",
      "  final_data = final_data.append(new_row, ignore_index = True)\n",
      "C:\\Users\\samir\\AppData\\Local\\Temp\\ipykernel_11084\\3614904585.py:4: FutureWarning: The frame.append method is deprecated and will be removed from pandas in a future version. Use pandas.concat instead.\n",
      "  final_data = final_data.append(new_row, ignore_index = True)\n"
     ]
    },
    {
     "name": "stdout",
     "output_type": "stream",
     "text": [
      "nnnnnnnnnnnnnnnnnnnnn    UK\n",
      "condition verified\n",
      "nnnnnnnnnnnnnnnnnnnnn    UK\n",
      "nnnnnnnnnnnnnnnnnnnnn    China\n",
      "condition verified\n"
     ]
    },
    {
     "name": "stderr",
     "output_type": "stream",
     "text": [
      "C:\\Users\\samir\\AppData\\Local\\Temp\\ipykernel_11084\\3614904585.py:4: FutureWarning: The frame.append method is deprecated and will be removed from pandas in a future version. Use pandas.concat instead.\n",
      "  final_data = final_data.append(new_row, ignore_index = True)\n",
      "C:\\Users\\samir\\AppData\\Local\\Temp\\ipykernel_11084\\3614904585.py:4: FutureWarning: The frame.append method is deprecated and will be removed from pandas in a future version. Use pandas.concat instead.\n",
      "  final_data = final_data.append(new_row, ignore_index = True)\n"
     ]
    },
    {
     "name": "stdout",
     "output_type": "stream",
     "text": [
      "nnnnnnnnnnnnnnnnnnnnn    China\n",
      "condition verified\n",
      "nnnnnnnnnnnnnnnnnnnnn    China\n",
      "nnnnnnnnnnnnnnnnnnnnn    China\n",
      "nnnnnnnnnnnnnnnnnnnnn    China\n",
      "nnnnnnnnnnnnnnnnnnnnn    China\n",
      "nnnnnnnnnnnnnnnnnnnnn    China\n"
     ]
    },
    {
     "name": "stderr",
     "output_type": "stream",
     "text": [
      "C:\\Users\\samir\\AppData\\Local\\Temp\\ipykernel_11084\\3614904585.py:4: FutureWarning: The frame.append method is deprecated and will be removed from pandas in a future version. Use pandas.concat instead.\n",
      "  final_data = final_data.append(new_row, ignore_index = True)\n"
     ]
    },
    {
     "name": "stdout",
     "output_type": "stream",
     "text": [
      "nnnnnnnnnnnnnnnnnnnnn    China\n",
      "condition verified\n",
      "nnnnnnnnnnnnnnnnnnnnn    China\n",
      "nnnnnnnnnnnnnnnnnnnnn   Singapore  Singapore\n",
      "condition verified\n",
      "nnnnnnnnnnnnnnnnnnnnn    Australia\n",
      "condition verified\n",
      "nnnnnnnnnnnnnnnnnnnnn    China\n",
      "nnnnnnnnnnnnnnnnnnnnn    China\n"
     ]
    },
    {
     "name": "stderr",
     "output_type": "stream",
     "text": [
      "C:\\Users\\samir\\AppData\\Local\\Temp\\ipykernel_11084\\3614904585.py:4: FutureWarning: The frame.append method is deprecated and will be removed from pandas in a future version. Use pandas.concat instead.\n",
      "  final_data = final_data.append(new_row, ignore_index = True)\n",
      "C:\\Users\\samir\\AppData\\Local\\Temp\\ipykernel_11084\\3614904585.py:4: FutureWarning: The frame.append method is deprecated and will be removed from pandas in a future version. Use pandas.concat instead.\n",
      "  final_data = final_data.append(new_row, ignore_index = True)\n",
      "C:\\Users\\samir\\AppData\\Local\\Temp\\ipykernel_11084\\3614904585.py:4: FutureWarning: The frame.append method is deprecated and will be removed from pandas in a future version. Use pandas.concat instead.\n",
      "  final_data = final_data.append(new_row, ignore_index = True)\n"
     ]
    },
    {
     "name": "stdout",
     "output_type": "stream",
     "text": [
      "nnnnnnnnnnnnnnnnnnnnn    Pakistan\n",
      "condition verified\n",
      "nnnnnnnnnnnnnnnnnnnnn    Canada\n",
      "condition verified\n",
      "nnnnnnnnnnnnnnnnnnnnn    Ireland\n",
      "condition verified\n",
      "nnnnnnnnnnnnnnnnnnnnn    Ireland\n",
      "nnnnnnnnnnnnnnnnnnnnn   \n",
      "condition verified\n"
     ]
    },
    {
     "name": "stderr",
     "output_type": "stream",
     "text": [
      "C:\\Users\\samir\\AppData\\Local\\Temp\\ipykernel_11084\\3614904585.py:4: FutureWarning: The frame.append method is deprecated and will be removed from pandas in a future version. Use pandas.concat instead.\n",
      "  final_data = final_data.append(new_row, ignore_index = True)\n",
      "C:\\Users\\samir\\AppData\\Local\\Temp\\ipykernel_11084\\3614904585.py:4: FutureWarning: The frame.append method is deprecated and will be removed from pandas in a future version. Use pandas.concat instead.\n",
      "  final_data = final_data.append(new_row, ignore_index = True)\n",
      "C:\\Users\\samir\\AppData\\Local\\Temp\\ipykernel_11084\\3614904585.py:4: FutureWarning: The frame.append method is deprecated and will be removed from pandas in a future version. Use pandas.concat instead.\n",
      "  final_data = final_data.append(new_row, ignore_index = True)\n"
     ]
    },
    {
     "name": "stdout",
     "output_type": "stream",
     "text": [
      "nnnnnnnnnnnnnnnnnnnnn    UK\n",
      "condition verified\n",
      "nnnnnnnnnnnnnnnnnnnnn    Singapore\n",
      "condition verified\n",
      "nnnnnnnnnnnnnnnnnnnnn    UK\n",
      "nnnnnnnnnnnnnnnnnnnnn    UK\n"
     ]
    },
    {
     "name": "stderr",
     "output_type": "stream",
     "text": [
      "C:\\Users\\samir\\AppData\\Local\\Temp\\ipykernel_11084\\3614904585.py:4: FutureWarning: The frame.append method is deprecated and will be removed from pandas in a future version. Use pandas.concat instead.\n",
      "  final_data = final_data.append(new_row, ignore_index = True)\n",
      "C:\\Users\\samir\\AppData\\Local\\Temp\\ipykernel_11084\\3614904585.py:4: FutureWarning: The frame.append method is deprecated and will be removed from pandas in a future version. Use pandas.concat instead.\n",
      "  final_data = final_data.append(new_row, ignore_index = True)\n"
     ]
    },
    {
     "name": "stdout",
     "output_type": "stream",
     "text": [
      "nnnnnnnnnnnnnnnnnnnnn    China\n",
      "condition verified\n",
      "nnnnnnnnnnnnnnnnnnnnn    China\n",
      "nnnnnnnnnnnnnnnnnnnnn    China\n",
      "nnnnnnnnnnnnnnnnnnnnn    China\n",
      "nnnnnnnnnnnnnnnnnnnnn    Australia\n",
      "condition verified\n",
      "nnnnnnnnnnnnnnnnnnnnn    China\n"
     ]
    },
    {
     "name": "stderr",
     "output_type": "stream",
     "text": [
      "C:\\Users\\samir\\AppData\\Local\\Temp\\ipykernel_11084\\3614904585.py:4: FutureWarning: The frame.append method is deprecated and will be removed from pandas in a future version. Use pandas.concat instead.\n",
      "  final_data = final_data.append(new_row, ignore_index = True)\n",
      "C:\\Users\\samir\\AppData\\Local\\Temp\\ipykernel_11084\\3614904585.py:4: FutureWarning: The frame.append method is deprecated and will be removed from pandas in a future version. Use pandas.concat instead.\n",
      "  final_data = final_data.append(new_row, ignore_index = True)\n"
     ]
    },
    {
     "name": "stdout",
     "output_type": "stream",
     "text": [
      "nnnnnnnnnnnnnnnnnnnnn   Taiwan \n",
      "condition verified\n"
     ]
    },
    {
     "name": "stderr",
     "output_type": "stream",
     "text": [
      "C:\\Users\\samir\\AppData\\Local\\Temp\\ipykernel_11084\\3614904585.py:4: FutureWarning: The frame.append method is deprecated and will be removed from pandas in a future version. Use pandas.concat instead.\n",
      "  final_data = final_data.append(new_row, ignore_index = True)\n"
     ]
    },
    {
     "name": "stdout",
     "output_type": "stream",
     "text": [
      "nnnnnnnnnnnnnnnnnnnnn    China\n",
      "condition verified\n",
      "nnnnnnnnnnnnnnnnnnnnn    China\n",
      "nnnnnnnnnnnnnnnnnnnnn   Macau  China\n",
      "condition verified\n"
     ]
    },
    {
     "name": "stderr",
     "output_type": "stream",
     "text": [
      "C:\\Users\\samir\\AppData\\Local\\Temp\\ipykernel_11084\\3614904585.py:4: FutureWarning: The frame.append method is deprecated and will be removed from pandas in a future version. Use pandas.concat instead.\n",
      "  final_data = final_data.append(new_row, ignore_index = True)\n",
      "C:\\Users\\samir\\AppData\\Local\\Temp\\ipykernel_11084\\3614904585.py:4: FutureWarning: The frame.append method is deprecated and will be removed from pandas in a future version. Use pandas.concat instead.\n",
      "  final_data = final_data.append(new_row, ignore_index = True)\n"
     ]
    },
    {
     "name": "stdout",
     "output_type": "stream",
     "text": [
      "nnnnnnnnnnnnnnnnnnnnn   India \n",
      "condition verified\n",
      "nnnnnnnnnnnnnnnnnnnnn   India \n",
      "nnnnnnnnnnnnnnnnnnnnn   India \n",
      "nnnnnnnnnnnnnnnnnnnnn   Australia \n",
      "condition verified\n",
      "nnnnnnnnnnnnnnnnnnnnn   \n",
      "condition verified\n"
     ]
    },
    {
     "name": "stderr",
     "output_type": "stream",
     "text": [
      "C:\\Users\\samir\\AppData\\Local\\Temp\\ipykernel_11084\\3614904585.py:4: FutureWarning: The frame.append method is deprecated and will be removed from pandas in a future version. Use pandas.concat instead.\n",
      "  final_data = final_data.append(new_row, ignore_index = True)\n",
      "C:\\Users\\samir\\AppData\\Local\\Temp\\ipykernel_11084\\3614904585.py:4: FutureWarning: The frame.append method is deprecated and will be removed from pandas in a future version. Use pandas.concat instead.\n",
      "  final_data = final_data.append(new_row, ignore_index = True)\n"
     ]
    },
    {
     "name": "stdout",
     "output_type": "stream",
     "text": [
      "nnnnnnnnnnnnnnnnnnnnn   India \n",
      "condition verified\n",
      "nnnnnnnnnnnnnnnnnnnnn   Iraq \n",
      "condition verified\n",
      "nnnnnnnnnnnnnnnnnnnnn   India \n",
      "nnnnnnnnnnnnnnnnnnnnn    India\n",
      "condition verified\n"
     ]
    },
    {
     "name": "stderr",
     "output_type": "stream",
     "text": [
      "C:\\Users\\samir\\AppData\\Local\\Temp\\ipykernel_11084\\3614904585.py:4: FutureWarning: The frame.append method is deprecated and will be removed from pandas in a future version. Use pandas.concat instead.\n",
      "  final_data = final_data.append(new_row, ignore_index = True)\n",
      "C:\\Users\\samir\\AppData\\Local\\Temp\\ipykernel_11084\\3614904585.py:4: FutureWarning: The frame.append method is deprecated and will be removed from pandas in a future version. Use pandas.concat instead.\n",
      "  final_data = final_data.append(new_row, ignore_index = True)\n"
     ]
    },
    {
     "name": "stdout",
     "output_type": "stream",
     "text": [
      "nnnnnnnnnnnnnnnnnnnnn    India\n",
      "nnnnnnnnnnnnnnnnnnnnn    USA\n",
      "condition verified\n",
      "nnnnnnnnnnnnnnnnnnnnn   TN  USA\n",
      "condition verified\n",
      "nnnnnnnnnnnnnnnnnnnnn    India\n"
     ]
    },
    {
     "name": "stderr",
     "output_type": "stream",
     "text": [
      "C:\\Users\\samir\\AppData\\Local\\Temp\\ipykernel_11084\\3614904585.py:4: FutureWarning: The frame.append method is deprecated and will be removed from pandas in a future version. Use pandas.concat instead.\n",
      "  final_data = final_data.append(new_row, ignore_index = True)\n",
      "C:\\Users\\samir\\AppData\\Local\\Temp\\ipykernel_11084\\3614904585.py:4: FutureWarning: The frame.append method is deprecated and will be removed from pandas in a future version. Use pandas.concat instead.\n",
      "  final_data = final_data.append(new_row, ignore_index = True)\n",
      "C:\\Users\\samir\\AppData\\Local\\Temp\\ipykernel_11084\\3614904585.py:4: FutureWarning: The frame.append method is deprecated and will be removed from pandas in a future version. Use pandas.concat instead.\n",
      "  final_data = final_data.append(new_row, ignore_index = True)\n"
     ]
    },
    {
     "name": "stdout",
     "output_type": "stream",
     "text": [
      "nnnnnnnnnnnnnnnnnnnnn  \n",
      "nnnnnnnnnnnnnnnnnnnnn  \n",
      "nnnnnnnnnnnnnnnnnnnnn   China\n",
      "condition verified\n",
      "nnnnnnnnnnnnnnnnnnnnn    Netherlands\n",
      "condition verified\n",
      "nnnnnnnnnnnnnnnnnnnnn   \n",
      "condition verified\n",
      "nnnnnnnnnnnnnnnnnnnnn  \n",
      "nnnnnnnnnnnnnnnnnnnnn  China\n",
      "condition verified\n",
      "nnnnnnnnnnnnnnnnnnnnn   \n",
      "nnnnnnnnnnnnnnnnnnnnn  \n",
      "nnnnnnnnnnnnnnnnnnnnn   China\n",
      "nnnnnnnnnnnnnnnnnnnnn    China\n",
      "condition verified\n",
      "nnnnnnnnnnnnnnnnnnnnn   \n",
      "nnnnnnnnnnnnnnnnnnnnn  \n",
      "nnnnnnnnnnnnnnnnnnnnn   China\n"
     ]
    },
    {
     "name": "stderr",
     "output_type": "stream",
     "text": [
      "C:\\Users\\samir\\AppData\\Local\\Temp\\ipykernel_11084\\3614904585.py:4: FutureWarning: The frame.append method is deprecated and will be removed from pandas in a future version. Use pandas.concat instead.\n",
      "  final_data = final_data.append(new_row, ignore_index = True)\n",
      "C:\\Users\\samir\\AppData\\Local\\Temp\\ipykernel_11084\\3614904585.py:4: FutureWarning: The frame.append method is deprecated and will be removed from pandas in a future version. Use pandas.concat instead.\n",
      "  final_data = final_data.append(new_row, ignore_index = True)\n",
      "C:\\Users\\samir\\AppData\\Local\\Temp\\ipykernel_11084\\3614904585.py:4: FutureWarning: The frame.append method is deprecated and will be removed from pandas in a future version. Use pandas.concat instead.\n",
      "  final_data = final_data.append(new_row, ignore_index = True)\n",
      "C:\\Users\\samir\\AppData\\Local\\Temp\\ipykernel_11084\\3614904585.py:4: FutureWarning: The frame.append method is deprecated and will be removed from pandas in a future version. Use pandas.concat instead.\n",
      "  final_data = final_data.append(new_row, ignore_index = True)\n"
     ]
    },
    {
     "name": "stdout",
     "output_type": "stream",
     "text": [
      "nnnnnnnnnnnnnnnnnnnnn    Australia\n",
      "condition verified\n",
      "nnnnnnnnnnnnnnnnnnnnn    China\n",
      "condition verified\n",
      "nnnnnnnnnnnnnnnnnnnnn    China\n",
      "nnnnnnnnnnnnnnnnnnnnn    PR China\n",
      "condition verified\n",
      "nnnnnnnnnnnnnnnnnnnnn    USA\n",
      "condition verified\n"
     ]
    },
    {
     "name": "stderr",
     "output_type": "stream",
     "text": [
      "C:\\Users\\samir\\AppData\\Local\\Temp\\ipykernel_11084\\3614904585.py:4: FutureWarning: The frame.append method is deprecated and will be removed from pandas in a future version. Use pandas.concat instead.\n",
      "  final_data = final_data.append(new_row, ignore_index = True)\n",
      "C:\\Users\\samir\\AppData\\Local\\Temp\\ipykernel_11084\\3614904585.py:4: FutureWarning: The frame.append method is deprecated and will be removed from pandas in a future version. Use pandas.concat instead.\n",
      "  final_data = final_data.append(new_row, ignore_index = True)\n",
      "C:\\Users\\samir\\AppData\\Local\\Temp\\ipykernel_11084\\3614904585.py:4: FutureWarning: The frame.append method is deprecated and will be removed from pandas in a future version. Use pandas.concat instead.\n",
      "  final_data = final_data.append(new_row, ignore_index = True)\n",
      "C:\\Users\\samir\\AppData\\Local\\Temp\\ipykernel_11084\\3614904585.py:4: FutureWarning: The frame.append method is deprecated and will be removed from pandas in a future version. Use pandas.concat instead.\n",
      "  final_data = final_data.append(new_row, ignore_index = True)\n"
     ]
    },
    {
     "name": "stdout",
     "output_type": "stream",
     "text": [
      "nnnnnnnnnnnnnnnnnnnnn   China \n",
      "condition verified\n",
      "nnnnnnnnnnnnnnnnnnnnn   China \n",
      "nnnnnnnnnnnnnnnnnnnnn   China \n",
      "nnnnnnnnnnnnnnnnnnnnn   \n",
      "condition verified\n"
     ]
    },
    {
     "name": "stderr",
     "output_type": "stream",
     "text": [
      "C:\\Users\\samir\\AppData\\Local\\Temp\\ipykernel_11084\\3614904585.py:4: FutureWarning: The frame.append method is deprecated and will be removed from pandas in a future version. Use pandas.concat instead.\n",
      "  final_data = final_data.append(new_row, ignore_index = True)\n"
     ]
    },
    {
     "name": "stdout",
     "output_type": "stream",
     "text": [
      "nnnnnnnnnnnnnnnnnnnnn   China \n",
      "condition verified\n",
      "nnnnnnnnnnnnnnnnnnnnn   China \n",
      "nnnnnnnnnnnnnnnnnnnnn   China \n",
      "nnnnnnnnnnnnnnnnnnnnn   China \n",
      "nnnnnnnnnnnnnnnnnnnnn   \n",
      "condition verified\n",
      "nnnnnnnnnnnnnnnnnnnnn   China \n",
      "nnnnnnnnnnnnnnnnnnnnn    China\n",
      "condition verified\n"
     ]
    },
    {
     "name": "stderr",
     "output_type": "stream",
     "text": [
      "C:\\Users\\samir\\AppData\\Local\\Temp\\ipykernel_11084\\3614904585.py:4: FutureWarning: The frame.append method is deprecated and will be removed from pandas in a future version. Use pandas.concat instead.\n",
      "  final_data = final_data.append(new_row, ignore_index = True)\n"
     ]
    },
    {
     "name": "stdout",
     "output_type": "stream",
     "text": [
      "nnnnnnnnnnnnnnnnnnnnn    China\n",
      "nnnnnnnnnnnnnnnnnnnnn    China\n",
      "nnnnnnnnnnnnnnnnnnnnn    China\n",
      "nnnnnnnnnnnnnnnnnnnnn    China\n",
      "nnnnnnnnnnnnnnnnnnnnn    UK\n",
      "condition verified\n",
      "nnnnnnnnnnnnnnnnnnnnn   \n",
      "condition verified\n"
     ]
    },
    {
     "name": "stderr",
     "output_type": "stream",
     "text": [
      "C:\\Users\\samir\\AppData\\Local\\Temp\\ipykernel_11084\\3614904585.py:4: FutureWarning: The frame.append method is deprecated and will be removed from pandas in a future version. Use pandas.concat instead.\n",
      "  final_data = final_data.append(new_row, ignore_index = True)\n",
      "C:\\Users\\samir\\AppData\\Local\\Temp\\ipykernel_11084\\3614904585.py:4: FutureWarning: The frame.append method is deprecated and will be removed from pandas in a future version. Use pandas.concat instead.\n",
      "  final_data = final_data.append(new_row, ignore_index = True)\n"
     ]
    },
    {
     "name": "stdout",
     "output_type": "stream",
     "text": [
      "nnnnnnnnnnnnnnnnnnnnn   \n",
      "condition verified\n",
      "nnnnnnnnnnnnnnnnnnnnn   \n",
      "nnnnnnnnnnnnnnnnnnnnn    Vietnam\n",
      "condition verified\n",
      "nnnnnnnnnnnnnnnnnnnnn   \n",
      "nnnnnnnnnnnnnnnnnnnnn   \n"
     ]
    },
    {
     "name": "stderr",
     "output_type": "stream",
     "text": [
      "C:\\Users\\samir\\AppData\\Local\\Temp\\ipykernel_11084\\3614904585.py:4: FutureWarning: The frame.append method is deprecated and will be removed from pandas in a future version. Use pandas.concat instead.\n",
      "  final_data = final_data.append(new_row, ignore_index = True)\n"
     ]
    },
    {
     "name": "stdout",
     "output_type": "stream",
     "text": [
      "nnnnnnnnnnnnnnnnnnnnn   India \n",
      "condition verified\n",
      "nnnnnnnnnnnnnnnnnnnnn   India \n",
      "nnnnnnnnnnnnnnnnnnnnn   Spain \n",
      "condition verified\n",
      "nnnnnnnnnnnnnnnnnnnnn   India \n"
     ]
    },
    {
     "name": "stderr",
     "output_type": "stream",
     "text": [
      "C:\\Users\\samir\\AppData\\Local\\Temp\\ipykernel_11084\\3614904585.py:4: FutureWarning: The frame.append method is deprecated and will be removed from pandas in a future version. Use pandas.concat instead.\n",
      "  final_data = final_data.append(new_row, ignore_index = True)\n",
      "C:\\Users\\samir\\AppData\\Local\\Temp\\ipykernel_11084\\3614904585.py:4: FutureWarning: The frame.append method is deprecated and will be removed from pandas in a future version. Use pandas.concat instead.\n",
      "  final_data = final_data.append(new_row, ignore_index = True)\n"
     ]
    },
    {
     "name": "stdout",
     "output_type": "stream",
     "text": [
      "nnnnnnnnnnnnnnnnnnnnn   China \n",
      "condition verified\n",
      "nnnnnnnnnnnnnnnnnnnnn   China \n",
      "nnnnnnnnnnnnnnnnnnnnn   \n",
      "condition verified\n",
      "nnnnnnnnnnnnnnnnnnnnn   \n",
      "nnnnnnnnnnnnnnnnnnnnn   China \n",
      "nnnnnnnnnnnnnnnnnnnnn   China \n"
     ]
    },
    {
     "name": "stderr",
     "output_type": "stream",
     "text": [
      "C:\\Users\\samir\\AppData\\Local\\Temp\\ipykernel_11084\\3614904585.py:4: FutureWarning: The frame.append method is deprecated and will be removed from pandas in a future version. Use pandas.concat instead.\n",
      "  final_data = final_data.append(new_row, ignore_index = True)\n"
     ]
    },
    {
     "name": "stdout",
     "output_type": "stream",
     "text": [
      "nnnnnnnnnnnnnnnnnnnnn    China\n",
      "condition verified\n",
      "nnnnnnnnnnnnnnnnnnnnn    China\n",
      "nnnnnnnnnnnnnnnnnnnnn   China \n",
      "condition verified\n",
      "nnnnnnnnnnnnnnnnnnnnn    China\n",
      "nnnnnnnnnnnnnnnnnnnnn    China\n",
      "nnnnnnnnnnnnnnnnnnnnn    China\n"
     ]
    },
    {
     "name": "stderr",
     "output_type": "stream",
     "text": [
      "C:\\Users\\samir\\AppData\\Local\\Temp\\ipykernel_11084\\3614904585.py:4: FutureWarning: The frame.append method is deprecated and will be removed from pandas in a future version. Use pandas.concat instead.\n",
      "  final_data = final_data.append(new_row, ignore_index = True)\n",
      "C:\\Users\\samir\\AppData\\Local\\Temp\\ipykernel_11084\\3614904585.py:4: FutureWarning: The frame.append method is deprecated and will be removed from pandas in a future version. Use pandas.concat instead.\n",
      "  final_data = final_data.append(new_row, ignore_index = True)\n"
     ]
    },
    {
     "name": "stdout",
     "output_type": "stream",
     "text": [
      "nnnnnnnnnnnnnnnnnnnnn    China\n",
      "condition verified\n",
      "nnnnnnnnnnnnnnnnnnnnn    China\n",
      "nnnnnnnnnnnnnnnnnnnnn    China\n",
      "nnnnnnnnnnnnnnnnnnnnn    China\n"
     ]
    },
    {
     "name": "stderr",
     "output_type": "stream",
     "text": [
      "C:\\Users\\samir\\AppData\\Local\\Temp\\ipykernel_11084\\3614904585.py:4: FutureWarning: The frame.append method is deprecated and will be removed from pandas in a future version. Use pandas.concat instead.\n",
      "  final_data = final_data.append(new_row, ignore_index = True)\n"
     ]
    },
    {
     "name": "stdout",
     "output_type": "stream",
     "text": [
      "nnnnnnnnnnnnnnnnnnnnn    China\n",
      "condition verified\n",
      "nnnnnnnnnnnnnnnnnnnnn    China\n",
      "nnnnnnnnnnnnnnnnnnnnn    China\n",
      "nnnnnnnnnnnnnnnnnnnnn    China\n",
      "condition verified\n"
     ]
    },
    {
     "name": "stderr",
     "output_type": "stream",
     "text": [
      "C:\\Users\\samir\\AppData\\Local\\Temp\\ipykernel_11084\\3614904585.py:4: FutureWarning: The frame.append method is deprecated and will be removed from pandas in a future version. Use pandas.concat instead.\n",
      "  final_data = final_data.append(new_row, ignore_index = True)\n"
     ]
    },
    {
     "name": "stdout",
     "output_type": "stream",
     "text": [
      "nnnnnnnnnnnnnnnnnnnnn   \n",
      "condition verified\n",
      "nnnnnnnnnnnnnnnnnnnnn    China\n"
     ]
    },
    {
     "name": "stderr",
     "output_type": "stream",
     "text": [
      "C:\\Users\\samir\\AppData\\Local\\Temp\\ipykernel_11084\\3614904585.py:4: FutureWarning: The frame.append method is deprecated and will be removed from pandas in a future version. Use pandas.concat instead.\n",
      "  final_data = final_data.append(new_row, ignore_index = True)\n"
     ]
    },
    {
     "name": "stdout",
     "output_type": "stream",
     "text": [
      "nnnnnnnnnnnnnnnnnnnnn    China\n",
      "condition verified\n",
      "nnnnnnnnnnnnnnnnnnnnn    USA\n",
      "condition verified\n",
      "nnnnnnnnnnnnnnnnnnnnn    China\n",
      "nnnnnnnnnnnnnnnnnnnnn    China\n",
      "nnnnnnnnnnnnnnnnnnnnn    USA\n"
     ]
    },
    {
     "name": "stderr",
     "output_type": "stream",
     "text": [
      "C:\\Users\\samir\\AppData\\Local\\Temp\\ipykernel_11084\\3614904585.py:4: FutureWarning: The frame.append method is deprecated and will be removed from pandas in a future version. Use pandas.concat instead.\n",
      "  final_data = final_data.append(new_row, ignore_index = True)\n",
      "C:\\Users\\samir\\AppData\\Local\\Temp\\ipykernel_11084\\3614904585.py:4: FutureWarning: The frame.append method is deprecated and will be removed from pandas in a future version. Use pandas.concat instead.\n",
      "  final_data = final_data.append(new_row, ignore_index = True)\n"
     ]
    },
    {
     "name": "stdout",
     "output_type": "stream",
     "text": [
      "nnnnnnnnnnnnnnnnnnnnn    Pakistan\n",
      "condition verified\n",
      "nnnnnnnnnnnnnnnnnnnnn    Pakistan\n",
      "nnnnnnnnnnnnnnnnnnnnn   \n",
      "condition verified\n",
      "nnnnnnnnnnnnnnnnnnnnn   \n",
      "nnnnnnnnnnnnnnnnnnnnn    India\n",
      "condition verified\n",
      "nnnnnnnnnnnnnnnnnnnnn    Pakistan\n",
      "nnnnnnnnnnnnnnnnnnnnn   \n"
     ]
    },
    {
     "name": "stderr",
     "output_type": "stream",
     "text": [
      "C:\\Users\\samir\\AppData\\Local\\Temp\\ipykernel_11084\\3614904585.py:4: FutureWarning: The frame.append method is deprecated and will be removed from pandas in a future version. Use pandas.concat instead.\n",
      "  final_data = final_data.append(new_row, ignore_index = True)\n",
      "C:\\Users\\samir\\AppData\\Local\\Temp\\ipykernel_11084\\3614904585.py:4: FutureWarning: The frame.append method is deprecated and will be removed from pandas in a future version. Use pandas.concat instead.\n",
      "  final_data = final_data.append(new_row, ignore_index = True)\n"
     ]
    },
    {
     "name": "stdout",
     "output_type": "stream",
     "text": [
      "nnnnnnnnnnnnnnnnnnnnn    China\n",
      "condition verified\n",
      "nnnnnnnnnnnnnnnnnnnnn    China\n",
      "nnnnnnnnnnnnnnnnnnnnn   \n",
      "condition verified\n",
      "nnnnnnnnnnnnnnnnnnnnn   China\n",
      "condition verified\n",
      "nnnnnnnnnnnnnnnnnnnnn    China\n",
      "nnnnnnnnnnnnnnnnnnnnn    Australia\n",
      "condition verified\n"
     ]
    },
    {
     "name": "stderr",
     "output_type": "stream",
     "text": [
      "C:\\Users\\samir\\AppData\\Local\\Temp\\ipykernel_11084\\3614904585.py:4: FutureWarning: The frame.append method is deprecated and will be removed from pandas in a future version. Use pandas.concat instead.\n",
      "  final_data = final_data.append(new_row, ignore_index = True)\n",
      "C:\\Users\\samir\\AppData\\Local\\Temp\\ipykernel_11084\\3614904585.py:4: FutureWarning: The frame.append method is deprecated and will be removed from pandas in a future version. Use pandas.concat instead.\n",
      "  final_data = final_data.append(new_row, ignore_index = True)\n",
      "C:\\Users\\samir\\AppData\\Local\\Temp\\ipykernel_11084\\3614904585.py:4: FutureWarning: The frame.append method is deprecated and will be removed from pandas in a future version. Use pandas.concat instead.\n",
      "  final_data = final_data.append(new_row, ignore_index = True)\n"
     ]
    },
    {
     "name": "stdout",
     "output_type": "stream",
     "text": [
      "nnnnnnnnnnnnnnnnnnnnn    UK\n",
      "condition verified\n",
      "nnnnnnnnnnnnnnnnnnnnn    USA\n",
      "condition verified\n",
      "nnnnnnnnnnnnnnnnnnnnn    USA\n",
      "nnnnnnnnnnnnnnnnnnnnn    USA\n",
      "nnnnnnnnnnnnnnnnnnnnn    USA\n"
     ]
    },
    {
     "name": "stderr",
     "output_type": "stream",
     "text": [
      "C:\\Users\\samir\\AppData\\Local\\Temp\\ipykernel_11084\\3614904585.py:4: FutureWarning: The frame.append method is deprecated and will be removed from pandas in a future version. Use pandas.concat instead.\n",
      "  final_data = final_data.append(new_row, ignore_index = True)\n",
      "C:\\Users\\samir\\AppData\\Local\\Temp\\ipykernel_11084\\3614904585.py:4: FutureWarning: The frame.append method is deprecated and will be removed from pandas in a future version. Use pandas.concat instead.\n",
      "  final_data = final_data.append(new_row, ignore_index = True)\n"
     ]
    },
    {
     "name": "stdout",
     "output_type": "stream",
     "text": [
      "nnnnnnnnnnnnnnnnnnnnn   \n",
      "condition verified\n",
      "nnnnnnnnnnnnnnnnnnnnn    Taiwan\n",
      "condition verified\n",
      "nnnnnnnnnnnnnnnnnnnnn    USA\n",
      "condition verified\n"
     ]
    },
    {
     "name": "stderr",
     "output_type": "stream",
     "text": [
      "C:\\Users\\samir\\AppData\\Local\\Temp\\ipykernel_11084\\3614904585.py:4: FutureWarning: The frame.append method is deprecated and will be removed from pandas in a future version. Use pandas.concat instead.\n",
      "  final_data = final_data.append(new_row, ignore_index = True)\n",
      "C:\\Users\\samir\\AppData\\Local\\Temp\\ipykernel_11084\\3614904585.py:4: FutureWarning: The frame.append method is deprecated and will be removed from pandas in a future version. Use pandas.concat instead.\n",
      "  final_data = final_data.append(new_row, ignore_index = True)\n"
     ]
    },
    {
     "name": "stdout",
     "output_type": "stream",
     "text": [
      "nnnnnnnnnnnnnnnnnnnnn    Taiwan\n",
      "condition verified\n",
      "nnnnnnnnnnnnnnnnnnnnn    Taiwan\n"
     ]
    },
    {
     "name": "stderr",
     "output_type": "stream",
     "text": [
      "C:\\Users\\samir\\AppData\\Local\\Temp\\ipykernel_11084\\3614904585.py:4: FutureWarning: The frame.append method is deprecated and will be removed from pandas in a future version. Use pandas.concat instead.\n",
      "  final_data = final_data.append(new_row, ignore_index = True)\n"
     ]
    },
    {
     "name": "stdout",
     "output_type": "stream",
     "text": [
      "nnnnnnnnnnnnnnnnnnnnn    China\n",
      "condition verified\n",
      "nnnnnnnnnnnnnnnnnnnnn    China\n",
      "nnnnnnnnnnnnnnnnnnnnn    China\n",
      "nnnnnnnnnnnnnnnnnnnnn    China\n",
      "nnnnnnnnnnnnnnnnnnnnn    China\n",
      "nnnnnnnnnnnnnnnnnnnnn    China\n",
      "nnnnnnnnnnnnnnnnnnnnn    China\n",
      "nnnnnnnnnnnnnnnnnnnnn    China\n",
      "nnnnnnnnnnnnnnnnnnnnn    China\n",
      "nnnnnnnnnnnnnnnnnnnnn   \n",
      "condition verified\n"
     ]
    },
    {
     "name": "stderr",
     "output_type": "stream",
     "text": [
      "C:\\Users\\samir\\AppData\\Local\\Temp\\ipykernel_11084\\3614904585.py:4: FutureWarning: The frame.append method is deprecated and will be removed from pandas in a future version. Use pandas.concat instead.\n",
      "  final_data = final_data.append(new_row, ignore_index = True)\n"
     ]
    },
    {
     "name": "stdout",
     "output_type": "stream",
     "text": [
      "nnnnnnnnnnnnnnnnnnnnn    China\n",
      "condition verified\n",
      "nnnnnnnnnnnnnnnnnnnnn    China\n",
      "nnnnnnnnnnnnnnnnnnnnn    Singapore\n",
      "condition verified\n",
      "nnnnnnnnnnnnnnnnnnnnn    China\n",
      "nnnnnnnnnnnnnnnnnnnnn    China\n"
     ]
    },
    {
     "name": "stderr",
     "output_type": "stream",
     "text": [
      "C:\\Users\\samir\\AppData\\Local\\Temp\\ipykernel_11084\\3614904585.py:4: FutureWarning: The frame.append method is deprecated and will be removed from pandas in a future version. Use pandas.concat instead.\n",
      "  final_data = final_data.append(new_row, ignore_index = True)\n",
      "C:\\Users\\samir\\AppData\\Local\\Temp\\ipykernel_11084\\3614904585.py:4: FutureWarning: The frame.append method is deprecated and will be removed from pandas in a future version. Use pandas.concat instead.\n",
      "  final_data = final_data.append(new_row, ignore_index = True)\n"
     ]
    },
    {
     "name": "stdout",
     "output_type": "stream",
     "text": [
      "nnnnnnnnnnnnnnnnnnnnn    Taiwan\n",
      "condition verified\n",
      "nnnnnnnnnnnnnnnnnnnnn   \n",
      "condition verified\n"
     ]
    },
    {
     "name": "stderr",
     "output_type": "stream",
     "text": [
      "C:\\Users\\samir\\AppData\\Local\\Temp\\ipykernel_11084\\3614904585.py:4: FutureWarning: The frame.append method is deprecated and will be removed from pandas in a future version. Use pandas.concat instead.\n",
      "  final_data = final_data.append(new_row, ignore_index = True)\n"
     ]
    },
    {
     "name": "stdout",
     "output_type": "stream",
     "text": [
      "nnnnnnnnnnnnnnnnnnnnn    China\n",
      "condition verified\n",
      "nnnnnnnnnnnnnnnnnnnnn    China\n",
      "nnnnnnnnnnnnnnnnnnnnn    China\n",
      "nnnnnnnnnnnnnnnnnnnnn    China\n",
      "nnnnnnnnnnnnnnnnnnnnn    China\n",
      "nnnnnnnnnnnnnnnnnnnnn    Australia\n",
      "condition verified\n"
     ]
    },
    {
     "name": "stderr",
     "output_type": "stream",
     "text": [
      "C:\\Users\\samir\\AppData\\Local\\Temp\\ipykernel_11084\\3614904585.py:4: FutureWarning: The frame.append method is deprecated and will be removed from pandas in a future version. Use pandas.concat instead.\n",
      "  final_data = final_data.append(new_row, ignore_index = True)\n",
      "C:\\Users\\samir\\AppData\\Local\\Temp\\ipykernel_11084\\3614904585.py:4: FutureWarning: The frame.append method is deprecated and will be removed from pandas in a future version. Use pandas.concat instead.\n",
      "  final_data = final_data.append(new_row, ignore_index = True)\n"
     ]
    },
    {
     "name": "stdout",
     "output_type": "stream",
     "text": [
      "nnnnnnnnnnnnnnnnnnnnn    China\n",
      "condition verified\n",
      "nnnnnnnnnnnnnnnnnnnnn    China\n",
      "nnnnnnnnnnnnnnnnnnnnn    China\n"
     ]
    },
    {
     "name": "stderr",
     "output_type": "stream",
     "text": [
      "C:\\Users\\samir\\AppData\\Local\\Temp\\ipykernel_11084\\3614904585.py:4: FutureWarning: The frame.append method is deprecated and will be removed from pandas in a future version. Use pandas.concat instead.\n",
      "  final_data = final_data.append(new_row, ignore_index = True)\n"
     ]
    },
    {
     "name": "stdout",
     "output_type": "stream",
     "text": [
      "nnnnnnnnnnnnnnnnnnnnn    Australia\n",
      "condition verified\n",
      "nnnnnnnnnnnnnnnnnnnnn    Ireland\n",
      "condition verified\n",
      "nnnnnnnnnnnnnnnnnnnnn    Australia\n"
     ]
    },
    {
     "name": "stderr",
     "output_type": "stream",
     "text": [
      "C:\\Users\\samir\\AppData\\Local\\Temp\\ipykernel_11084\\3614904585.py:4: FutureWarning: The frame.append method is deprecated and will be removed from pandas in a future version. Use pandas.concat instead.\n",
      "  final_data = final_data.append(new_row, ignore_index = True)\n",
      "C:\\Users\\samir\\AppData\\Local\\Temp\\ipykernel_11084\\3614904585.py:4: FutureWarning: The frame.append method is deprecated and will be removed from pandas in a future version. Use pandas.concat instead.\n",
      "  final_data = final_data.append(new_row, ignore_index = True)\n"
     ]
    },
    {
     "name": "stdout",
     "output_type": "stream",
     "text": [
      "nnnnnnnnnnnnnnnnnnnnn    Australia\n",
      "condition verified\n",
      "nnnnnnnnnnnnnnnnnnnnn    Australia\n",
      "nnnnnnnnnnnnnnnnnnnnn    Australia\n",
      "nnnnnnnnnnnnnnnnnnnnn    Australia\n"
     ]
    },
    {
     "name": "stderr",
     "output_type": "stream",
     "text": [
      "C:\\Users\\samir\\AppData\\Local\\Temp\\ipykernel_11084\\3614904585.py:4: FutureWarning: The frame.append method is deprecated and will be removed from pandas in a future version. Use pandas.concat instead.\n",
      "  final_data = final_data.append(new_row, ignore_index = True)\n"
     ]
    },
    {
     "name": "stdout",
     "output_type": "stream",
     "text": [
      "nnnnnnnnnnnnnnnnnnnnn    PR China\n",
      "condition verified\n",
      "nnnnnnnnnnnnnnnnnnnnn    PR China\n",
      "nnnnnnnnnnnnnnnnnnnnn    PR China\n",
      "nnnnnnnnnnnnnnnnnnnnn    PR China\n",
      "nnnnnnnnnnnnnnnnnnnnn    China\n",
      "condition verified\n",
      "nnnnnnnnnnnnnnnnnnnnn    PR China\n",
      "nnnnnnnnnnnnnnnnnnnnn    PR China\n"
     ]
    },
    {
     "name": "stderr",
     "output_type": "stream",
     "text": [
      "C:\\Users\\samir\\AppData\\Local\\Temp\\ipykernel_11084\\3614904585.py:4: FutureWarning: The frame.append method is deprecated and will be removed from pandas in a future version. Use pandas.concat instead.\n",
      "  final_data = final_data.append(new_row, ignore_index = True)\n",
      "C:\\Users\\samir\\AppData\\Local\\Temp\\ipykernel_11084\\3614904585.py:4: FutureWarning: The frame.append method is deprecated and will be removed from pandas in a future version. Use pandas.concat instead.\n",
      "  final_data = final_data.append(new_row, ignore_index = True)\n"
     ]
    },
    {
     "name": "stdout",
     "output_type": "stream",
     "text": [
      "nnnnnnnnnnnnnnnnnnnnn    China\n",
      "condition verified\n",
      "nnnnnnnnnnnnnnnnnnnnn    China\n",
      "nnnnnnnnnnnnnnnnnnnnn    AL USA\n",
      "condition verified\n",
      "nnnnnnnnnnnnnnnnnnnnn    AL USA\n",
      "nnnnnnnnnnnnnnnnnnnnn    China\n",
      "condition verified\n"
     ]
    },
    {
     "name": "stderr",
     "output_type": "stream",
     "text": [
      "C:\\Users\\samir\\AppData\\Local\\Temp\\ipykernel_11084\\3614904585.py:4: FutureWarning: The frame.append method is deprecated and will be removed from pandas in a future version. Use pandas.concat instead.\n",
      "  final_data = final_data.append(new_row, ignore_index = True)\n",
      "C:\\Users\\samir\\AppData\\Local\\Temp\\ipykernel_11084\\3614904585.py:4: FutureWarning: The frame.append method is deprecated and will be removed from pandas in a future version. Use pandas.concat instead.\n",
      "  final_data = final_data.append(new_row, ignore_index = True)\n"
     ]
    },
    {
     "name": "stdout",
     "output_type": "stream",
     "text": [
      "nnnnnnnnnnnnnnnnnnnnn    China\n",
      "nnnnnnnnnnnnnnnnnnnnn    China\n",
      "nnnnnnnnnnnnnnnnnnnnn    China\n",
      "nnnnnnnnnnnnnnnnnnnnn    China\n",
      "nnnnnnnnnnnnnnnnnnnnn    China\n"
     ]
    },
    {
     "name": "stderr",
     "output_type": "stream",
     "text": [
      "C:\\Users\\samir\\AppData\\Local\\Temp\\ipykernel_11084\\3614904585.py:4: FutureWarning: The frame.append method is deprecated and will be removed from pandas in a future version. Use pandas.concat instead.\n",
      "  final_data = final_data.append(new_row, ignore_index = True)\n"
     ]
    },
    {
     "name": "stdout",
     "output_type": "stream",
     "text": [
      "nnnnnnnnnnnnnnnnnnnnn   \n",
      "condition verified\n",
      "nnnnnnnnnnnnnnnnnnnnn   \n",
      "nnnnnnnnnnnnnnnnnnnnn   \n",
      "nnnnnnnnnnnnnnnnnnnnn    China\n",
      "condition verified\n",
      "nnnnnnnnnnnnnnnnnnnnn    Denmark\n",
      "condition verified\n"
     ]
    },
    {
     "name": "stderr",
     "output_type": "stream",
     "text": [
      "C:\\Users\\samir\\AppData\\Local\\Temp\\ipykernel_11084\\3614904585.py:4: FutureWarning: The frame.append method is deprecated and will be removed from pandas in a future version. Use pandas.concat instead.\n",
      "  final_data = final_data.append(new_row, ignore_index = True)\n",
      "C:\\Users\\samir\\AppData\\Local\\Temp\\ipykernel_11084\\3614904585.py:4: FutureWarning: The frame.append method is deprecated and will be removed from pandas in a future version. Use pandas.concat instead.\n",
      "  final_data = final_data.append(new_row, ignore_index = True)\n"
     ]
    },
    {
     "name": "stdout",
     "output_type": "stream",
     "text": [
      "nnnnnnnnnnnnnnnnnnnnn   Macau  China\n",
      "condition verified\n",
      "nnnnnnnnnnnnnnnnnnnnn    China\n",
      "condition verified\n",
      "nnnnnnnnnnnnnnnnnnnnn    China\n",
      "nnnnnnnnnnnnnnnnnnnnn    China\n",
      "nnnnnnnnnnnnnnnnnnnnn    China\n",
      "nnnnnnnnnnnnnnnnnnnnn    China\n"
     ]
    },
    {
     "name": "stderr",
     "output_type": "stream",
     "text": [
      "C:\\Users\\samir\\AppData\\Local\\Temp\\ipykernel_11084\\3614904585.py:4: FutureWarning: The frame.append method is deprecated and will be removed from pandas in a future version. Use pandas.concat instead.\n",
      "  final_data = final_data.append(new_row, ignore_index = True)\n",
      "C:\\Users\\samir\\AppData\\Local\\Temp\\ipykernel_11084\\3614904585.py:4: FutureWarning: The frame.append method is deprecated and will be removed from pandas in a future version. Use pandas.concat instead.\n",
      "  final_data = final_data.append(new_row, ignore_index = True)\n"
     ]
    },
    {
     "name": "stdout",
     "output_type": "stream",
     "text": [
      "nnnnnnnnnnnnnnnnnnnnn    USA\n",
      "condition verified\n",
      "nnnnnnnnnnnnnnnnnnnnn    USA\n",
      "nnnnnnnnnnnnnnnnnnnnn    USA\n",
      "nnnnnnnnnnnnnnnnnnnnn    USA\n",
      "nnnnnnnnnnnnnnnnnnnnn    USA\n"
     ]
    },
    {
     "name": "stderr",
     "output_type": "stream",
     "text": [
      "C:\\Users\\samir\\AppData\\Local\\Temp\\ipykernel_11084\\3614904585.py:4: FutureWarning: The frame.append method is deprecated and will be removed from pandas in a future version. Use pandas.concat instead.\n",
      "  final_data = final_data.append(new_row, ignore_index = True)\n"
     ]
    },
    {
     "name": "stdout",
     "output_type": "stream",
     "text": [
      "nnnnnnnnnnnnnnnnnnnnn   \n",
      "condition verified\n",
      "nnnnnnnnnnnnnnnnnnnnn   \n",
      "nnnnnnnnnnnnnnnnnnnnn   \n",
      "nnnnnnnnnnnnnnnnnnnnn    UK\n",
      "condition verified\n"
     ]
    },
    {
     "name": "stderr",
     "output_type": "stream",
     "text": [
      "C:\\Users\\samir\\AppData\\Local\\Temp\\ipykernel_11084\\3614904585.py:4: FutureWarning: The frame.append method is deprecated and will be removed from pandas in a future version. Use pandas.concat instead.\n",
      "  final_data = final_data.append(new_row, ignore_index = True)\n"
     ]
    },
    {
     "name": "stdout",
     "output_type": "stream",
     "text": [
      "nnnnnnnnnnnnnnnnnnnnn    China\n",
      "condition verified\n",
      "nnnnnnnnnnnnnnnnnnnnn    China\n",
      "nnnnnnnnnnnnnnnnnnnnn    China\n",
      "nnnnnnnnnnnnnnnnnnnnn    China\n",
      "nnnnnnnnnnnnnnnnnnnnn    Taiwan\n",
      "condition verified\n",
      "nnnnnnnnnnnnnnnnnnnnn    China\n",
      "condition verified\n"
     ]
    },
    {
     "name": "stderr",
     "output_type": "stream",
     "text": [
      "C:\\Users\\samir\\AppData\\Local\\Temp\\ipykernel_11084\\3614904585.py:4: FutureWarning: The frame.append method is deprecated and will be removed from pandas in a future version. Use pandas.concat instead.\n",
      "  final_data = final_data.append(new_row, ignore_index = True)\n",
      "C:\\Users\\samir\\AppData\\Local\\Temp\\ipykernel_11084\\3614904585.py:4: FutureWarning: The frame.append method is deprecated and will be removed from pandas in a future version. Use pandas.concat instead.\n",
      "  final_data = final_data.append(new_row, ignore_index = True)\n"
     ]
    },
    {
     "name": "stdout",
     "output_type": "stream",
     "text": [
      "nnnnnnnnnnnnnnnnnnnnn    China\n",
      "nnnnnnnnnnnnnnnnnnnnn    China\n",
      "nnnnnnnnnnnnnnnnnnnnn    China\n",
      "condition verified\n"
     ]
    },
    {
     "name": "stderr",
     "output_type": "stream",
     "text": [
      "C:\\Users\\samir\\AppData\\Local\\Temp\\ipykernel_11084\\3614904585.py:4: FutureWarning: The frame.append method is deprecated and will be removed from pandas in a future version. Use pandas.concat instead.\n",
      "  final_data = final_data.append(new_row, ignore_index = True)\n"
     ]
    },
    {
     "name": "stdout",
     "output_type": "stream",
     "text": [
      "nnnnnnnnnnnnnnnnnnnnn    China\n",
      "nnnnnnnnnnnnnnnnnnnnn    China\n",
      "nnnnnnnnnnnnnnnnnnnnn    China\n",
      "nnnnnnnnnnnnnnnnnnnnn    China\n",
      "nnnnnnnnnnnnnnnnnnnnn    China\n",
      "nnnnnnnnnnnnnnnnnnnnn    USA\n",
      "condition verified\n"
     ]
    },
    {
     "name": "stderr",
     "output_type": "stream",
     "text": [
      "C:\\Users\\samir\\AppData\\Local\\Temp\\ipykernel_11084\\3614904585.py:4: FutureWarning: The frame.append method is deprecated and will be removed from pandas in a future version. Use pandas.concat instead.\n",
      "  final_data = final_data.append(new_row, ignore_index = True)\n",
      "C:\\Users\\samir\\AppData\\Local\\Temp\\ipykernel_11084\\3614904585.py:4: FutureWarning: The frame.append method is deprecated and will be removed from pandas in a future version. Use pandas.concat instead.\n",
      "  final_data = final_data.append(new_row, ignore_index = True)\n"
     ]
    },
    {
     "name": "stdout",
     "output_type": "stream",
     "text": [
      "nnnnnnnnnnnnnnnnnnnnn    China\n",
      "condition verified\n",
      "nnnnnnnnnnnnnnnnnnnnn    China\n",
      "nnnnnnnnnnnnnnnnnnnnn    China\n",
      "nnnnnnnnnnnnnnnnnnnnn    China\n",
      "nnnnnnnnnnnnnnnnnnnnn    China\n"
     ]
    },
    {
     "name": "stderr",
     "output_type": "stream",
     "text": [
      "C:\\Users\\samir\\AppData\\Local\\Temp\\ipykernel_11084\\3614904585.py:4: FutureWarning: The frame.append method is deprecated and will be removed from pandas in a future version. Use pandas.concat instead.\n",
      "  final_data = final_data.append(new_row, ignore_index = True)\n"
     ]
    },
    {
     "name": "stdout",
     "output_type": "stream",
     "text": [
      "nnnnnnnnnnnnnnnnnnnnn    Netherlands\n",
      "condition verified\n",
      "nnnnnnnnnnnnnnnnnnnnn    Netherlands\n",
      "nnnnnnnnnnnnnnnnnnnnn    Netherlands\n",
      "nnnnnnnnnnnnnnnnnnnnn    Netherlands\n"
     ]
    },
    {
     "name": "stderr",
     "output_type": "stream",
     "text": [
      "C:\\Users\\samir\\AppData\\Local\\Temp\\ipykernel_11084\\3614904585.py:4: FutureWarning: The frame.append method is deprecated and will be removed from pandas in a future version. Use pandas.concat instead.\n",
      "  final_data = final_data.append(new_row, ignore_index = True)\n"
     ]
    },
    {
     "name": "stdout",
     "output_type": "stream",
     "text": [
      "nnnnnnnnnnnnnnnnnnnnn    India\n",
      "condition verified\n",
      "nnnnnnnnnnnnnnnnnnnnn    India\n"
     ]
    },
    {
     "name": "stderr",
     "output_type": "stream",
     "text": [
      "C:\\Users\\samir\\AppData\\Local\\Temp\\ipykernel_11084\\3614904585.py:4: FutureWarning: The frame.append method is deprecated and will be removed from pandas in a future version. Use pandas.concat instead.\n",
      "  final_data = final_data.append(new_row, ignore_index = True)\n"
     ]
    },
    {
     "name": "stdout",
     "output_type": "stream",
     "text": [
      "nnnnnnnnnnnnnnnnnnnnn    Nigeria\n",
      "condition verified\n",
      "nnnnnnnnnnnnnnnnnnnnn    Nigeria\n",
      "nnnnnnnnnnnnnnnnnnnnn    Pakistan\n",
      "condition verified\n",
      "nnnnnnnnnnnnnnnnnnnnn    Finland\n",
      "condition verified\n",
      "nnnnnnnnnnnnnnnnnnnnn    India\n",
      "condition verified\n",
      "nnnnnnnnnnnnnnnnnnnnn    Taiwan\n",
      "condition verified\n"
     ]
    },
    {
     "name": "stderr",
     "output_type": "stream",
     "text": [
      "C:\\Users\\samir\\AppData\\Local\\Temp\\ipykernel_11084\\3614904585.py:4: FutureWarning: The frame.append method is deprecated and will be removed from pandas in a future version. Use pandas.concat instead.\n",
      "  final_data = final_data.append(new_row, ignore_index = True)\n",
      "C:\\Users\\samir\\AppData\\Local\\Temp\\ipykernel_11084\\3614904585.py:4: FutureWarning: The frame.append method is deprecated and will be removed from pandas in a future version. Use pandas.concat instead.\n",
      "  final_data = final_data.append(new_row, ignore_index = True)\n",
      "C:\\Users\\samir\\AppData\\Local\\Temp\\ipykernel_11084\\3614904585.py:4: FutureWarning: The frame.append method is deprecated and will be removed from pandas in a future version. Use pandas.concat instead.\n",
      "  final_data = final_data.append(new_row, ignore_index = True)\n",
      "C:\\Users\\samir\\AppData\\Local\\Temp\\ipykernel_11084\\3614904585.py:4: FutureWarning: The frame.append method is deprecated and will be removed from pandas in a future version. Use pandas.concat instead.\n",
      "  final_data = final_data.append(new_row, ignore_index = True)\n",
      "C:\\Users\\samir\\AppData\\Local\\Temp\\ipykernel_11084\\3614904585.py:4: FutureWarning: The frame.append method is deprecated and will be removed from pandas in a future version. Use pandas.concat instead.\n",
      "  final_data = final_data.append(new_row, ignore_index = True)\n"
     ]
    },
    {
     "name": "stdout",
     "output_type": "stream",
     "text": [
      "nnnnnnnnnnnnnnnnnnnnn    Morocco\n",
      "condition verified\n",
      "nnnnnnnnnnnnnnnnnnnnn    Morocco\n",
      "nnnnnnnnnnnnnnnnnnnnn    Morocco\n"
     ]
    },
    {
     "name": "stderr",
     "output_type": "stream",
     "text": [
      "C:\\Users\\samir\\AppData\\Local\\Temp\\ipykernel_11084\\3614904585.py:4: FutureWarning: The frame.append method is deprecated and will be removed from pandas in a future version. Use pandas.concat instead.\n",
      "  final_data = final_data.append(new_row, ignore_index = True)\n"
     ]
    },
    {
     "name": "stdout",
     "output_type": "stream",
     "text": [
      "nnnnnnnnnnnnnnnnnnnnn    China\n",
      "condition verified\n",
      "nnnnnnnnnnnnnnnnnnnnn    China\n",
      "nnnnnnnnnnnnnnnnnnnnn   China \n",
      "condition verified\n",
      "nnnnnnnnnnnnnnnnnnnnn    China\n",
      "nnnnnnnnnnnnnnnnnnnnn  \n",
      "nnnnnnnnnnnnnnnnnnnnn   China \n",
      "nnnnnnnnnnnnnnnnnnnnn  \n",
      "nnnnnnnnnnnnnnnnnnnnn   \n",
      "condition verified\n"
     ]
    },
    {
     "name": "stderr",
     "output_type": "stream",
     "text": [
      "C:\\Users\\samir\\AppData\\Local\\Temp\\ipykernel_11084\\3614904585.py:4: FutureWarning: The frame.append method is deprecated and will be removed from pandas in a future version. Use pandas.concat instead.\n",
      "  final_data = final_data.append(new_row, ignore_index = True)\n",
      "C:\\Users\\samir\\AppData\\Local\\Temp\\ipykernel_11084\\3614904585.py:4: FutureWarning: The frame.append method is deprecated and will be removed from pandas in a future version. Use pandas.concat instead.\n",
      "  final_data = final_data.append(new_row, ignore_index = True)\n"
     ]
    },
    {
     "name": "stdout",
     "output_type": "stream",
     "text": [
      "nnnnnnnnnnnnnnnnnnnnn    China\n",
      "condition verified\n",
      "nnnnnnnnnnnnnnnnnnnnn    China\n",
      "nnnnnnnnnnnnnnnnnnnnn    China\n",
      "nnnnnnnnnnnnnnnnnnnnn    China\n",
      "nnnnnnnnnnnnnnnnnnnnn    China\n",
      "nnnnnnnnnnnnnnnnnnnnn    China\n"
     ]
    },
    {
     "name": "stderr",
     "output_type": "stream",
     "text": [
      "C:\\Users\\samir\\AppData\\Local\\Temp\\ipykernel_11084\\3614904585.py:4: FutureWarning: The frame.append method is deprecated and will be removed from pandas in a future version. Use pandas.concat instead.\n",
      "  final_data = final_data.append(new_row, ignore_index = True)\n"
     ]
    },
    {
     "name": "stdout",
     "output_type": "stream",
     "text": [
      "nnnnnnnnnnnnnnnnnnnnn    China\n",
      "condition verified\n",
      "nnnnnnnnnnnnnnnnnnnnn    China\n"
     ]
    },
    {
     "name": "stderr",
     "output_type": "stream",
     "text": [
      "C:\\Users\\samir\\AppData\\Local\\Temp\\ipykernel_11084\\3614904585.py:4: FutureWarning: The frame.append method is deprecated and will be removed from pandas in a future version. Use pandas.concat instead.\n",
      "  final_data = final_data.append(new_row, ignore_index = True)\n"
     ]
    },
    {
     "name": "stdout",
     "output_type": "stream",
     "text": [
      "nnnnnnnnnnnnnnnnnnnnn   India\n",
      "condition verified\n",
      "nnnnnnnnnnnnnnnnnnnnn    GA USA\n",
      "condition verified\n",
      "nnnnnnnnnnnnnnnnnnnnn    India\n",
      "condition verified\n",
      "nnnnnnnnnnnnnnnnnnnnn    China\n",
      "condition verified\n"
     ]
    },
    {
     "name": "stderr",
     "output_type": "stream",
     "text": [
      "C:\\Users\\samir\\AppData\\Local\\Temp\\ipykernel_11084\\3614904585.py:4: FutureWarning: The frame.append method is deprecated and will be removed from pandas in a future version. Use pandas.concat instead.\n",
      "  final_data = final_data.append(new_row, ignore_index = True)\n",
      "C:\\Users\\samir\\AppData\\Local\\Temp\\ipykernel_11084\\3614904585.py:4: FutureWarning: The frame.append method is deprecated and will be removed from pandas in a future version. Use pandas.concat instead.\n",
      "  final_data = final_data.append(new_row, ignore_index = True)\n",
      "C:\\Users\\samir\\AppData\\Local\\Temp\\ipykernel_11084\\3614904585.py:4: FutureWarning: The frame.append method is deprecated and will be removed from pandas in a future version. Use pandas.concat instead.\n",
      "  final_data = final_data.append(new_row, ignore_index = True)\n"
     ]
    },
    {
     "name": "stdout",
     "output_type": "stream",
     "text": [
      "nnnnnnnnnnnnnnnnnnnnn    China\n",
      "nnnnnnnnnnnnnnnnnnnnn    China\n",
      "nnnnnnnnnnnnnnnnnnnnn    China\n",
      "nnnnnnnnnnnnnnnnnnnnn    China\n",
      "nnnnnnnnnnnnnnnnnnnnn    Australia\n",
      "condition verified\n",
      "nnnnnnnnnnnnnnnnnnnnn    China\n",
      "nnnnnnnnnnnnnnnnnnnnn    USA\n",
      "condition verified\n",
      "nnnnnnnnnnnnnnnnnnnnn    China\n",
      "condition verified\n"
     ]
    },
    {
     "name": "stderr",
     "output_type": "stream",
     "text": [
      "C:\\Users\\samir\\AppData\\Local\\Temp\\ipykernel_11084\\3614904585.py:4: FutureWarning: The frame.append method is deprecated and will be removed from pandas in a future version. Use pandas.concat instead.\n",
      "  final_data = final_data.append(new_row, ignore_index = True)\n",
      "C:\\Users\\samir\\AppData\\Local\\Temp\\ipykernel_11084\\3614904585.py:4: FutureWarning: The frame.append method is deprecated and will be removed from pandas in a future version. Use pandas.concat instead.\n",
      "  final_data = final_data.append(new_row, ignore_index = True)\n",
      "C:\\Users\\samir\\AppData\\Local\\Temp\\ipykernel_11084\\3614904585.py:4: FutureWarning: The frame.append method is deprecated and will be removed from pandas in a future version. Use pandas.concat instead.\n",
      "  final_data = final_data.append(new_row, ignore_index = True)\n"
     ]
    },
    {
     "name": "stdout",
     "output_type": "stream",
     "text": [
      "nnnnnnnnnnnnnnnnnnnnn    China\n",
      "nnnnnnnnnnnnnnnnnnnnn    China\n",
      "nnnnnnnnnnnnnnnnnnnnn    China\n",
      "nnnnnnnnnnnnnnnnnnnnn    China\n",
      "nnnnnnnnnnnnnnnnnnnnn    China\n",
      "nnnnnnnnnnnnnnnnnnnnn    China\n",
      "nnnnnnnnnnnnnnnnnnnnn    China\n"
     ]
    },
    {
     "name": "stderr",
     "output_type": "stream",
     "text": [
      "C:\\Users\\samir\\AppData\\Local\\Temp\\ipykernel_11084\\3614904585.py:4: FutureWarning: The frame.append method is deprecated and will be removed from pandas in a future version. Use pandas.concat instead.\n",
      "  final_data = final_data.append(new_row, ignore_index = True)\n"
     ]
    },
    {
     "name": "stdout",
     "output_type": "stream",
     "text": [
      "nnnnnnnnnnnnnnnnnnnnn   Pakistan\n",
      "condition verified\n",
      "nnnnnnnnnnnnnnnnnnnnn    Pakistan\n",
      "condition verified\n",
      "nnnnnnnnnnnnnnnnnnnnn    Pakistan\n",
      "nnnnnnnnnnnnnnnnnnnnn    Taiwan\n",
      "condition verified\n",
      "nnnnnnnnnnnnnnnnnnnnn   Norway  Norway\n",
      "condition verified\n"
     ]
    },
    {
     "name": "stderr",
     "output_type": "stream",
     "text": [
      "C:\\Users\\samir\\AppData\\Local\\Temp\\ipykernel_11084\\3614904585.py:4: FutureWarning: The frame.append method is deprecated and will be removed from pandas in a future version. Use pandas.concat instead.\n",
      "  final_data = final_data.append(new_row, ignore_index = True)\n",
      "C:\\Users\\samir\\AppData\\Local\\Temp\\ipykernel_11084\\3614904585.py:4: FutureWarning: The frame.append method is deprecated and will be removed from pandas in a future version. Use pandas.concat instead.\n",
      "  final_data = final_data.append(new_row, ignore_index = True)\n",
      "C:\\Users\\samir\\AppData\\Local\\Temp\\ipykernel_11084\\3614904585.py:4: FutureWarning: The frame.append method is deprecated and will be removed from pandas in a future version. Use pandas.concat instead.\n",
      "  final_data = final_data.append(new_row, ignore_index = True)\n",
      "C:\\Users\\samir\\AppData\\Local\\Temp\\ipykernel_11084\\3614904585.py:4: FutureWarning: The frame.append method is deprecated and will be removed from pandas in a future version. Use pandas.concat instead.\n",
      "  final_data = final_data.append(new_row, ignore_index = True)\n"
     ]
    },
    {
     "name": "stdout",
     "output_type": "stream",
     "text": [
      "nnnnnnnnnnnnnnnnnnnnn   \n",
      "condition verified\n",
      "nnnnnnnnnnnnnnnnnnnnn   China\n",
      "condition verified\n",
      "nnnnnnnnnnnnnnnnnnnnn   \n",
      "nnnnnnnnnnnnnnnnnnnnn   China\n",
      "nnnnnnnnnnnnnnnnnnnnn   \n",
      "nnnnnnnnnnnnnnnnnnnnn  \n",
      "nnnnnnnnnnnnnnnnnnnnn   China\n",
      "nnnnnnnnnnnnnnnnnnnnn   Macau  China\n",
      "condition verified\n",
      "nnnnnnnnnnnnnnnnnnnnn    Australia\n",
      "condition verified\n"
     ]
    },
    {
     "name": "stderr",
     "output_type": "stream",
     "text": [
      "C:\\Users\\samir\\AppData\\Local\\Temp\\ipykernel_11084\\3614904585.py:4: FutureWarning: The frame.append method is deprecated and will be removed from pandas in a future version. Use pandas.concat instead.\n",
      "  final_data = final_data.append(new_row, ignore_index = True)\n",
      "C:\\Users\\samir\\AppData\\Local\\Temp\\ipykernel_11084\\3614904585.py:4: FutureWarning: The frame.append method is deprecated and will be removed from pandas in a future version. Use pandas.concat instead.\n",
      "  final_data = final_data.append(new_row, ignore_index = True)\n",
      "C:\\Users\\samir\\AppData\\Local\\Temp\\ipykernel_11084\\3614904585.py:4: FutureWarning: The frame.append method is deprecated and will be removed from pandas in a future version. Use pandas.concat instead.\n",
      "  final_data = final_data.append(new_row, ignore_index = True)\n"
     ]
    },
    {
     "name": "stdout",
     "output_type": "stream",
     "text": [
      "nnnnnnnnnnnnnnnnnnnnn    China\n",
      "condition verified\n",
      "nnnnnnnnnnnnnnnnnnnnn    China\n",
      "nnnnnnnnnnnnnnnnnnnnn    China\n",
      "nnnnnnnnnnnnnnnnnnnnn    China\n",
      "nnnnnnnnnnnnnnnnnnnnn    China\n",
      "nnnnnnnnnnnnnnnnnnnnn    China\n",
      "nnnnnnnnnnnnnnnnnnnnn   IN  USA\n",
      "condition verified\n",
      "nnnnnnnnnnnnnnnnnnnnn    China\n",
      "condition verified\n"
     ]
    },
    {
     "name": "stderr",
     "output_type": "stream",
     "text": [
      "C:\\Users\\samir\\AppData\\Local\\Temp\\ipykernel_11084\\3614904585.py:4: FutureWarning: The frame.append method is deprecated and will be removed from pandas in a future version. Use pandas.concat instead.\n",
      "  final_data = final_data.append(new_row, ignore_index = True)\n",
      "C:\\Users\\samir\\AppData\\Local\\Temp\\ipykernel_11084\\3614904585.py:4: FutureWarning: The frame.append method is deprecated and will be removed from pandas in a future version. Use pandas.concat instead.\n",
      "  final_data = final_data.append(new_row, ignore_index = True)\n"
     ]
    },
    {
     "name": "stdout",
     "output_type": "stream",
     "text": [
      "nnnnnnnnnnnnnnnnnnnnn    China\n",
      "nnnnnnnnnnnnnnnnnnnnn    China\n",
      "nnnnnnnnnnnnnnnnnnnnn    China\n",
      "nnnnnnnnnnnnnnnnnnnnn    China\n",
      "nnnnnnnnnnnnnnnnnnnnn    China\n",
      "nnnnnnnnnnnnnnnnnnnnn    China\n"
     ]
    },
    {
     "name": "stderr",
     "output_type": "stream",
     "text": [
      "C:\\Users\\samir\\AppData\\Local\\Temp\\ipykernel_11084\\3614904585.py:4: FutureWarning: The frame.append method is deprecated and will be removed from pandas in a future version. Use pandas.concat instead.\n",
      "  final_data = final_data.append(new_row, ignore_index = True)\n"
     ]
    },
    {
     "name": "stdout",
     "output_type": "stream",
     "text": [
      "nnnnnnnnnnnnnnnnnnnnn    Canada\n",
      "condition verified\n",
      "nnnnnnnnnnnnnnnnnnnnn    China\n",
      "condition verified\n",
      "nnnnnnnnnnnnnnnnnnnnn    Canada\n",
      "nnnnnnnnnnnnnnnnnnnnn    Canada\n",
      "nnnnnnnnnnnnnnnnnnnnn    Canada\n",
      "nnnnnnnnnnnnnnnnnnnnn    China\n",
      "condition verified\n"
     ]
    },
    {
     "name": "stderr",
     "output_type": "stream",
     "text": [
      "C:\\Users\\samir\\AppData\\Local\\Temp\\ipykernel_11084\\3614904585.py:4: FutureWarning: The frame.append method is deprecated and will be removed from pandas in a future version. Use pandas.concat instead.\n",
      "  final_data = final_data.append(new_row, ignore_index = True)\n",
      "C:\\Users\\samir\\AppData\\Local\\Temp\\ipykernel_11084\\3614904585.py:4: FutureWarning: The frame.append method is deprecated and will be removed from pandas in a future version. Use pandas.concat instead.\n",
      "  final_data = final_data.append(new_row, ignore_index = True)\n"
     ]
    },
    {
     "name": "stdout",
     "output_type": "stream",
     "text": [
      "nnnnnnnnnnnnnnnnnnnnn    China\n",
      "nnnnnnnnnnnnnnnnnnnnn    China\n"
     ]
    },
    {
     "name": "stderr",
     "output_type": "stream",
     "text": [
      "C:\\Users\\samir\\AppData\\Local\\Temp\\ipykernel_11084\\3614904585.py:4: FutureWarning: The frame.append method is deprecated and will be removed from pandas in a future version. Use pandas.concat instead.\n",
      "  final_data = final_data.append(new_row, ignore_index = True)\n"
     ]
    },
    {
     "name": "stdout",
     "output_type": "stream",
     "text": [
      "nnnnnnnnnnnnnnnnnnnnn    India\n",
      "condition verified\n",
      "nnnnnnnnnnnnnnnnnnnnn    India\n"
     ]
    },
    {
     "name": "stderr",
     "output_type": "stream",
     "text": [
      "C:\\Users\\samir\\AppData\\Local\\Temp\\ipykernel_11084\\3614904585.py:4: FutureWarning: The frame.append method is deprecated and will be removed from pandas in a future version. Use pandas.concat instead.\n",
      "  final_data = final_data.append(new_row, ignore_index = True)\n"
     ]
    },
    {
     "name": "stdout",
     "output_type": "stream",
     "text": [
      "nnnnnnnnnnnnnnnnnnnnn   \n",
      "condition verified\n",
      "nnnnnnnnnnnnnnnnnnnnn    Bangladesh\n",
      "condition verified\n",
      "nnnnnnnnnnnnnnnnnnnnn    Bangladesh\n",
      "nnnnnnnnnnnnnnnnnnnnn    Bangladesh\n",
      "nnnnnnnnnnnnnnnnnnnnn   \n",
      "nnnnnnnnnnnnnnnnnnnnn    Norway\n",
      "condition verified\n"
     ]
    },
    {
     "name": "stderr",
     "output_type": "stream",
     "text": [
      "C:\\Users\\samir\\AppData\\Local\\Temp\\ipykernel_11084\\3614904585.py:4: FutureWarning: The frame.append method is deprecated and will be removed from pandas in a future version. Use pandas.concat instead.\n",
      "  final_data = final_data.append(new_row, ignore_index = True)\n"
     ]
    },
    {
     "name": "stdout",
     "output_type": "stream",
     "text": [
      "nnnnnnnnnnnnnnnnnnnnn    Netherlands\n",
      "condition verified\n",
      "nnnnnnnnnnnnnnnnnnnnn    Norway\n",
      "nnnnnnnnnnnnnnnnnnnnn    Norway\n",
      "nnnnnnnnnnnnnnnnnnnnn    Norway\n",
      "nnnnnnnnnnnnnnnnnnnnn    Norway\n"
     ]
    },
    {
     "name": "stderr",
     "output_type": "stream",
     "text": [
      "C:\\Users\\samir\\AppData\\Local\\Temp\\ipykernel_11084\\3614904585.py:4: FutureWarning: The frame.append method is deprecated and will be removed from pandas in a future version. Use pandas.concat instead.\n",
      "  final_data = final_data.append(new_row, ignore_index = True)\n",
      "C:\\Users\\samir\\AppData\\Local\\Temp\\ipykernel_11084\\3614904585.py:4: FutureWarning: The frame.append method is deprecated and will be removed from pandas in a future version. Use pandas.concat instead.\n",
      "  final_data = final_data.append(new_row, ignore_index = True)\n"
     ]
    },
    {
     "name": "stdout",
     "output_type": "stream",
     "text": [
      "nnnnnnnnnnnnnnnnnnnnn  Kuwait  Kuwait\n",
      "condition verified\n",
      "nnnnnnnnnnnnnnnnnnnnn    UAE\n",
      "condition verified\n",
      "nnnnnnnnnnnnnnnnnnnnn    Canada\n",
      "condition verified\n",
      "nnnnnnnnnnnnnnnnnnnnn    UAE\n"
     ]
    },
    {
     "name": "stderr",
     "output_type": "stream",
     "text": [
      "C:\\Users\\samir\\AppData\\Local\\Temp\\ipykernel_11084\\3614904585.py:4: FutureWarning: The frame.append method is deprecated and will be removed from pandas in a future version. Use pandas.concat instead.\n",
      "  final_data = final_data.append(new_row, ignore_index = True)\n",
      "C:\\Users\\samir\\AppData\\Local\\Temp\\ipykernel_11084\\3614904585.py:4: FutureWarning: The frame.append method is deprecated and will be removed from pandas in a future version. Use pandas.concat instead.\n",
      "  final_data = final_data.append(new_row, ignore_index = True)\n",
      "C:\\Users\\samir\\AppData\\Local\\Temp\\ipykernel_11084\\3614904585.py:4: FutureWarning: The frame.append method is deprecated and will be removed from pandas in a future version. Use pandas.concat instead.\n",
      "  final_data = final_data.append(new_row, ignore_index = True)\n"
     ]
    },
    {
     "name": "stdout",
     "output_type": "stream",
     "text": [
      "nnnnnnnnnnnnnnnnnnnnn    China\n",
      "condition verified\n",
      "nnnnnnnnnnnnnnnnnnnnn    China\n",
      "nnnnnnnnnnnnnnnnnnnnn    China\n",
      "nnnnnnnnnnnnnnnnnnnnn    China\n",
      "nnnnnnnnnnnnnnnnnnnnn    China\n",
      "nnnnnnnnnnnnnnnnnnnnn    China\n",
      "nnnnnnnnnnnnnnnnnnnnn    China\n",
      "nnnnnnnnnnnnnnnnnnnnn   \n",
      "condition verified\n"
     ]
    },
    {
     "name": "stderr",
     "output_type": "stream",
     "text": [
      "C:\\Users\\samir\\AppData\\Local\\Temp\\ipykernel_11084\\3614904585.py:4: FutureWarning: The frame.append method is deprecated and will be removed from pandas in a future version. Use pandas.concat instead.\n",
      "  final_data = final_data.append(new_row, ignore_index = True)\n"
     ]
    },
    {
     "name": "stdout",
     "output_type": "stream",
     "text": [
      "nnnnnnnnnnnnnnnnnnnnn   Taiwan \n",
      "condition verified\n",
      "nnnnnnnnnnnnnnnnnnnnn   Taiwan \n",
      "nnnnnnnnnnnnnnnnnnnnn   Taiwan \n",
      "nnnnnnnnnnnnnnnnnnnnn   Taiwan \n",
      "nnnnnnnnnnnnnnnnnnnnn    China\n",
      "condition verified\n"
     ]
    },
    {
     "name": "stderr",
     "output_type": "stream",
     "text": [
      "C:\\Users\\samir\\AppData\\Local\\Temp\\ipykernel_11084\\3614904585.py:4: FutureWarning: The frame.append method is deprecated and will be removed from pandas in a future version. Use pandas.concat instead.\n",
      "  final_data = final_data.append(new_row, ignore_index = True)\n"
     ]
    },
    {
     "name": "stdout",
     "output_type": "stream",
     "text": [
      "nnnnnnnnnnnnnnnnnnnnn    China\n",
      "nnnnnnnnnnnnnnnnnnnnn    Canada\n",
      "condition verified\n",
      "nnnnnnnnnnnnnnnnnnnnn    China\n"
     ]
    },
    {
     "name": "stderr",
     "output_type": "stream",
     "text": [
      "C:\\Users\\samir\\AppData\\Local\\Temp\\ipykernel_11084\\3614904585.py:4: FutureWarning: The frame.append method is deprecated and will be removed from pandas in a future version. Use pandas.concat instead.\n",
      "  final_data = final_data.append(new_row, ignore_index = True)\n",
      "C:\\Users\\samir\\AppData\\Local\\Temp\\ipykernel_11084\\3614904585.py:4: FutureWarning: The frame.append method is deprecated and will be removed from pandas in a future version. Use pandas.concat instead.\n",
      "  final_data = final_data.append(new_row, ignore_index = True)\n"
     ]
    },
    {
     "name": "stdout",
     "output_type": "stream",
     "text": [
      "nnnnnnnnnnnnnnnnnnnnn    Australia\n",
      "condition verified\n",
      "nnnnnnnnnnnnnnnnnnnnn    Australia\n",
      "nnnnnnnnnnnnnnnnnnnnn    Australia\n",
      "nnnnnnnnnnnnnnnnnnnnn    Australia\n",
      "nnnnnnnnnnnnnnnnnnnnn    Australia\n",
      "nnnnnnnnnnnnnnnnnnnnn    Australia\n"
     ]
    },
    {
     "name": "stderr",
     "output_type": "stream",
     "text": [
      "C:\\Users\\samir\\AppData\\Local\\Temp\\ipykernel_11084\\3614904585.py:4: FutureWarning: The frame.append method is deprecated and will be removed from pandas in a future version. Use pandas.concat instead.\n",
      "  final_data = final_data.append(new_row, ignore_index = True)\n"
     ]
    },
    {
     "name": "stdout",
     "output_type": "stream",
     "text": [
      "nnnnnnnnnnnnnnnnnnnnn    China\n",
      "condition verified\n",
      "nnnnnnnnnnnnnnnnnnnnn    China\n",
      "nnnnnnnnnnnnnnnnnnnnn    China\n",
      "nnnnnnnnnnnnnnnnnnnnn    China\n",
      "nnnnnnnnnnnnnnnnnnnnn    China\n",
      "nnnnnnnnnnnnnnnnnnnnn    China\n",
      "nnnnnnnnnnnnnnnnnnnnn   \n",
      "condition verified\n"
     ]
    },
    {
     "name": "stderr",
     "output_type": "stream",
     "text": [
      "C:\\Users\\samir\\AppData\\Local\\Temp\\ipykernel_11084\\3614904585.py:4: FutureWarning: The frame.append method is deprecated and will be removed from pandas in a future version. Use pandas.concat instead.\n",
      "  final_data = final_data.append(new_row, ignore_index = True)\n"
     ]
    },
    {
     "name": "stdout",
     "output_type": "stream",
     "text": [
      "nnnnnnnnnnnnnnnnnnnnn   \n",
      "condition verified\n",
      "nnnnnnnnnnnnnnnnnnnnn   China\n",
      "condition verified\n",
      "nnnnnnnnnnnnnnnnnnnnn    USA\n",
      "condition verified\n",
      "nnnnnnnnnnnnnnnnnnnnn    USA\n",
      "nnnnnnnnnnnnnnnnnnnnn    USA\n"
     ]
    },
    {
     "name": "stderr",
     "output_type": "stream",
     "text": [
      "C:\\Users\\samir\\AppData\\Local\\Temp\\ipykernel_11084\\3614904585.py:4: FutureWarning: The frame.append method is deprecated and will be removed from pandas in a future version. Use pandas.concat instead.\n",
      "  final_data = final_data.append(new_row, ignore_index = True)\n",
      "C:\\Users\\samir\\AppData\\Local\\Temp\\ipykernel_11084\\3614904585.py:4: FutureWarning: The frame.append method is deprecated and will be removed from pandas in a future version. Use pandas.concat instead.\n",
      "  final_data = final_data.append(new_row, ignore_index = True)\n"
     ]
    },
    {
     "name": "stdout",
     "output_type": "stream",
     "text": [
      "nnnnnnnnnnnnnnnnnnnnn    China\n",
      "condition verified\n",
      "nnnnnnnnnnnnnnnnnnnnn    USA\n",
      "condition verified\n",
      "nnnnnnnnnnnnnnnnnnnnn    China\n",
      "nnnnnnnnnnnnnnnnnnnnn   \n",
      "condition verified\n"
     ]
    },
    {
     "name": "stderr",
     "output_type": "stream",
     "text": [
      "C:\\Users\\samir\\AppData\\Local\\Temp\\ipykernel_11084\\3614904585.py:4: FutureWarning: The frame.append method is deprecated and will be removed from pandas in a future version. Use pandas.concat instead.\n",
      "  final_data = final_data.append(new_row, ignore_index = True)\n",
      "C:\\Users\\samir\\AppData\\Local\\Temp\\ipykernel_11084\\3614904585.py:4: FutureWarning: The frame.append method is deprecated and will be removed from pandas in a future version. Use pandas.concat instead.\n",
      "  final_data = final_data.append(new_row, ignore_index = True)\n"
     ]
    },
    {
     "name": "stdout",
     "output_type": "stream",
     "text": [
      "nnnnnnnnnnnnnnnnnnnnn    Yemen\n",
      "condition verified\n",
      "nnnnnnnnnnnnnnnnnnnnn    Russia\n",
      "condition verified\n",
      "nnnnnnnnnnnnnnnnnnnnn    Russia\n",
      "nnnnnnnnnnnnnnnnnnnnn    China\n",
      "condition verified\n",
      "nnnnnnnnnnnnnnnnnnnnn    UAE\n",
      "condition verified\n",
      "nnnnnnnnnnnnnnnnnnnnn   \n",
      "condition verified\n",
      "nnnnnnnnnnnnnnnnnnnnn    USA\n",
      "condition verified\n"
     ]
    },
    {
     "name": "stderr",
     "output_type": "stream",
     "text": [
      "C:\\Users\\samir\\AppData\\Local\\Temp\\ipykernel_11084\\3614904585.py:4: FutureWarning: The frame.append method is deprecated and will be removed from pandas in a future version. Use pandas.concat instead.\n",
      "  final_data = final_data.append(new_row, ignore_index = True)\n",
      "C:\\Users\\samir\\AppData\\Local\\Temp\\ipykernel_11084\\3614904585.py:4: FutureWarning: The frame.append method is deprecated and will be removed from pandas in a future version. Use pandas.concat instead.\n",
      "  final_data = final_data.append(new_row, ignore_index = True)\n",
      "C:\\Users\\samir\\AppData\\Local\\Temp\\ipykernel_11084\\3614904585.py:4: FutureWarning: The frame.append method is deprecated and will be removed from pandas in a future version. Use pandas.concat instead.\n",
      "  final_data = final_data.append(new_row, ignore_index = True)\n",
      "C:\\Users\\samir\\AppData\\Local\\Temp\\ipykernel_11084\\3614904585.py:4: FutureWarning: The frame.append method is deprecated and will be removed from pandas in a future version. Use pandas.concat instead.\n",
      "  final_data = final_data.append(new_row, ignore_index = True)\n",
      "C:\\Users\\samir\\AppData\\Local\\Temp\\ipykernel_11084\\3614904585.py:4: FutureWarning: The frame.append method is deprecated and will be removed from pandas in a future version. Use pandas.concat instead.\n",
      "  final_data = final_data.append(new_row, ignore_index = True)\n"
     ]
    },
    {
     "name": "stdout",
     "output_type": "stream",
     "text": [
      "nnnnnnnnnnnnnnnnnnnnn    UK\n",
      "condition verified\n",
      "nnnnnnnnnnnnnnnnnnnnn    China\n",
      "condition verified\n",
      "nnnnnnnnnnnnnnnnnnnnn    UK\n"
     ]
    },
    {
     "name": "stderr",
     "output_type": "stream",
     "text": [
      "C:\\Users\\samir\\AppData\\Local\\Temp\\ipykernel_11084\\3614904585.py:4: FutureWarning: The frame.append method is deprecated and will be removed from pandas in a future version. Use pandas.concat instead.\n",
      "  final_data = final_data.append(new_row, ignore_index = True)\n",
      "C:\\Users\\samir\\AppData\\Local\\Temp\\ipykernel_11084\\3614904585.py:4: FutureWarning: The frame.append method is deprecated and will be removed from pandas in a future version. Use pandas.concat instead.\n",
      "  final_data = final_data.append(new_row, ignore_index = True)\n"
     ]
    },
    {
     "name": "stdout",
     "output_type": "stream",
     "text": [
      "nnnnnnnnnnnnnnnnnnnnn    Finland\n",
      "condition verified\n",
      "nnnnnnnnnnnnnnnnnnnnn    India\n",
      "condition verified\n",
      "nnnnnnnnnnnnnnnnnnnnn    India\n",
      "nnnnnnnnnnnnnnnnnnnnn    India\n",
      "nnnnnnnnnnnnnnnnnnnnn    Canada\n",
      "condition verified\n",
      "nnnnnnnnnnnnnnnnnnnnn  \n",
      "nnnnnnnnnnnnnnnnnnnnn    Canada\n"
     ]
    },
    {
     "name": "stderr",
     "output_type": "stream",
     "text": [
      "C:\\Users\\samir\\AppData\\Local\\Temp\\ipykernel_11084\\3614904585.py:4: FutureWarning: The frame.append method is deprecated and will be removed from pandas in a future version. Use pandas.concat instead.\n",
      "  final_data = final_data.append(new_row, ignore_index = True)\n",
      "C:\\Users\\samir\\AppData\\Local\\Temp\\ipykernel_11084\\3614904585.py:4: FutureWarning: The frame.append method is deprecated and will be removed from pandas in a future version. Use pandas.concat instead.\n",
      "  final_data = final_data.append(new_row, ignore_index = True)\n",
      "C:\\Users\\samir\\AppData\\Local\\Temp\\ipykernel_11084\\3614904585.py:4: FutureWarning: The frame.append method is deprecated and will be removed from pandas in a future version. Use pandas.concat instead.\n",
      "  final_data = final_data.append(new_row, ignore_index = True)\n"
     ]
    },
    {
     "name": "stdout",
     "output_type": "stream",
     "text": [
      "nnnnnnnnnnnnnnnnnnnnn    China\n",
      "condition verified\n",
      "nnnnnnnnnnnnnnnnnnnnn    China\n",
      "nnnnnnnnnnnnnnnnnnnnn    China\n",
      "nnnnnnnnnnnnnnnnnnnnn    China\n",
      "nnnnnnnnnnnnnnnnnnnnn    China\n",
      "nnnnnnnnnnnnnnnnnnnnn    China\n"
     ]
    },
    {
     "name": "stderr",
     "output_type": "stream",
     "text": [
      "C:\\Users\\samir\\AppData\\Local\\Temp\\ipykernel_11084\\3614904585.py:4: FutureWarning: The frame.append method is deprecated and will be removed from pandas in a future version. Use pandas.concat instead.\n",
      "  final_data = final_data.append(new_row, ignore_index = True)\n"
     ]
    },
    {
     "name": "stdout",
     "output_type": "stream",
     "text": [
      "nnnnnnnnnnnnnnnnnnnnn    PR China\n",
      "condition verified\n",
      "nnnnnnnnnnnnnnnnnnnnn    PR China\n",
      "nnnnnnnnnnnnnnnnnnnnn    PR China\n",
      "nnnnnnnnnnnnnnnnnnnnn    PR China\n",
      "nnnnnnnnnnnnnnnnnnnnn    PR China\n",
      "nnnnnnnnnnnnnnnnnnnnn    PR China\n",
      "nnnnnnnnnnnnnnnnnnnnn  NA\n",
      "condition verified\n",
      "nnnnnnnnnnnnnnnnnnnnn   NA\n",
      "condition verified\n"
     ]
    },
    {
     "name": "stderr",
     "output_type": "stream",
     "text": [
      "C:\\Users\\samir\\AppData\\Local\\Temp\\ipykernel_11084\\3614904585.py:4: FutureWarning: The frame.append method is deprecated and will be removed from pandas in a future version. Use pandas.concat instead.\n",
      "  final_data = final_data.append(new_row, ignore_index = True)\n",
      "C:\\Users\\samir\\AppData\\Local\\Temp\\ipykernel_11084\\3614904585.py:4: FutureWarning: The frame.append method is deprecated and will be removed from pandas in a future version. Use pandas.concat instead.\n",
      "  final_data = final_data.append(new_row, ignore_index = True)\n",
      "C:\\Users\\samir\\AppData\\Local\\Temp\\ipykernel_11084\\3614904585.py:4: FutureWarning: The frame.append method is deprecated and will be removed from pandas in a future version. Use pandas.concat instead.\n",
      "  final_data = final_data.append(new_row, ignore_index = True)\n"
     ]
    },
    {
     "name": "stdout",
     "output_type": "stream",
     "text": [
      "nnnnnnnnnnnnnnnnnnnnn    USA\n",
      "condition verified\n",
      "nnnnnnnnnnnnnnnnnnnnn    USA\n",
      "nnnnnnnnnnnnnnnnnnnnn    USA\n"
     ]
    },
    {
     "name": "stderr",
     "output_type": "stream",
     "text": [
      "C:\\Users\\samir\\AppData\\Local\\Temp\\ipykernel_11084\\3614904585.py:4: FutureWarning: The frame.append method is deprecated and will be removed from pandas in a future version. Use pandas.concat instead.\n",
      "  final_data = final_data.append(new_row, ignore_index = True)\n"
     ]
    },
    {
     "name": "stdout",
     "output_type": "stream",
     "text": [
      "nnnnnnnnnnnnnnnnnnnnn    China\n",
      "condition verified\n",
      "nnnnnnnnnnnnnnnnnnnnn    China\n",
      "nnnnnnnnnnnnnnnnnnnnn    China\n",
      "nnnnnnnnnnnnnnnnnnnnn    China\n",
      "nnnnnnnnnnnnnnnnnnnnn    China\n",
      "nnnnnnnnnnnnnnnnnnnnn    China\n",
      "nnnnnnnnnnnnnnnnnnnnn    Australia\n",
      "condition verified\n",
      "nnnnnnnnnnnnnnnnnnnnn    China\n"
     ]
    },
    {
     "name": "stderr",
     "output_type": "stream",
     "text": [
      "C:\\Users\\samir\\AppData\\Local\\Temp\\ipykernel_11084\\3614904585.py:4: FutureWarning: The frame.append method is deprecated and will be removed from pandas in a future version. Use pandas.concat instead.\n",
      "  final_data = final_data.append(new_row, ignore_index = True)\n",
      "C:\\Users\\samir\\AppData\\Local\\Temp\\ipykernel_11084\\3614904585.py:4: FutureWarning: The frame.append method is deprecated and will be removed from pandas in a future version. Use pandas.concat instead.\n",
      "  final_data = final_data.append(new_row, ignore_index = True)\n"
     ]
    },
    {
     "name": "stdout",
     "output_type": "stream",
     "text": [
      "nnnnnnnnnnnnnnnnnnnnn    CHINA\n",
      "condition verified\n",
      "nnnnnnnnnnnnnnnnnnnnn    CHINA\n",
      "nnnnnnnnnnnnnnnnnnnnn    CHINA\n",
      "nnnnnnnnnnnnnnnnnnnnn    CHINA\n",
      "nnnnnnnnnnnnnnnnnnnnn    CHINA\n",
      "nnnnnnnnnnnnnnnnnnnnn    CHINA\n",
      "nnnnnnnnnnnnnnnnnnnnn    Pakistan\n",
      "condition verified\n"
     ]
    },
    {
     "name": "stderr",
     "output_type": "stream",
     "text": [
      "C:\\Users\\samir\\AppData\\Local\\Temp\\ipykernel_11084\\3614904585.py:4: FutureWarning: The frame.append method is deprecated and will be removed from pandas in a future version. Use pandas.concat instead.\n",
      "  final_data = final_data.append(new_row, ignore_index = True)\n"
     ]
    },
    {
     "name": "stdout",
     "output_type": "stream",
     "text": [
      "nnnnnnnnnnnnnnnnnnnnn    Australia\n",
      "condition verified\n",
      "nnnnnnnnnnnnnnnnnnnnn    Pakistan\n",
      "nnnnnnnnnnnnnnnnnnnnn    Pakistan\n",
      "nnnnnnnnnnnnnnnnnnnnn    Pakistan\n",
      "nnnnnnnnnnnnnnnnnnnnn   \n",
      "condition verified\n",
      "nnnnnnnnnnnnnnnnnnnnn    UK\n",
      "condition verified\n"
     ]
    },
    {
     "name": "stderr",
     "output_type": "stream",
     "text": [
      "C:\\Users\\samir\\AppData\\Local\\Temp\\ipykernel_11084\\3614904585.py:4: FutureWarning: The frame.append method is deprecated and will be removed from pandas in a future version. Use pandas.concat instead.\n",
      "  final_data = final_data.append(new_row, ignore_index = True)\n",
      "C:\\Users\\samir\\AppData\\Local\\Temp\\ipykernel_11084\\3614904585.py:4: FutureWarning: The frame.append method is deprecated and will be removed from pandas in a future version. Use pandas.concat instead.\n",
      "  final_data = final_data.append(new_row, ignore_index = True)\n",
      "C:\\Users\\samir\\AppData\\Local\\Temp\\ipykernel_11084\\3614904585.py:4: FutureWarning: The frame.append method is deprecated and will be removed from pandas in a future version. Use pandas.concat instead.\n",
      "  final_data = final_data.append(new_row, ignore_index = True)\n"
     ]
    },
    {
     "name": "stdout",
     "output_type": "stream",
     "text": [
      "nnnnnnnnnnnnnnnnnnnnn    China\n",
      "condition verified\n",
      "nnnnnnnnnnnnnnnnnnnnn    China\n",
      "nnnnnnnnnnnnnnnnnnnnn    China\n",
      "nnnnnnnnnnnnnnnnnnnnn    China\n",
      "nnnnnnnnnnnnnnnnnnnnn    Australia\n",
      "condition verified\n",
      "nnnnnnnnnnnnnnnnnnnnn    China\n"
     ]
    },
    {
     "name": "stderr",
     "output_type": "stream",
     "text": [
      "C:\\Users\\samir\\AppData\\Local\\Temp\\ipykernel_11084\\3614904585.py:4: FutureWarning: The frame.append method is deprecated and will be removed from pandas in a future version. Use pandas.concat instead.\n",
      "  final_data = final_data.append(new_row, ignore_index = True)\n",
      "C:\\Users\\samir\\AppData\\Local\\Temp\\ipykernel_11084\\3614904585.py:4: FutureWarning: The frame.append method is deprecated and will be removed from pandas in a future version. Use pandas.concat instead.\n",
      "  final_data = final_data.append(new_row, ignore_index = True)\n"
     ]
    },
    {
     "name": "stdout",
     "output_type": "stream",
     "text": [
      "nnnnnnnnnnnnnnnnnnnnn   Denmark  Denmark\n",
      "condition verified\n",
      "nnnnnnnnnnnnnnnnnnnnn   Denmark  Denmark\n",
      "nnnnnnnnnnnnnnnnnnnnn    China\n",
      "condition verified\n"
     ]
    },
    {
     "name": "stderr",
     "output_type": "stream",
     "text": [
      "C:\\Users\\samir\\AppData\\Local\\Temp\\ipykernel_11084\\3614904585.py:4: FutureWarning: The frame.append method is deprecated and will be removed from pandas in a future version. Use pandas.concat instead.\n",
      "  final_data = final_data.append(new_row, ignore_index = True)\n",
      "C:\\Users\\samir\\AppData\\Local\\Temp\\ipykernel_11084\\3614904585.py:4: FutureWarning: The frame.append method is deprecated and will be removed from pandas in a future version. Use pandas.concat instead.\n",
      "  final_data = final_data.append(new_row, ignore_index = True)\n"
     ]
    },
    {
     "name": "stdout",
     "output_type": "stream",
     "text": [
      "nnnnnnnnnnnnnnnnnnnnn    China\n",
      "condition verified\n",
      "nnnnnnnnnnnnnnnnnnnnn    PR China\n",
      "condition verified\n",
      "nnnnnnnnnnnnnnnnnnnnn    China\n",
      "nnnnnnnnnnnnnnnnnnnnn    PR China\n"
     ]
    },
    {
     "name": "stderr",
     "output_type": "stream",
     "text": [
      "C:\\Users\\samir\\AppData\\Local\\Temp\\ipykernel_11084\\3614904585.py:4: FutureWarning: The frame.append method is deprecated and will be removed from pandas in a future version. Use pandas.concat instead.\n",
      "  final_data = final_data.append(new_row, ignore_index = True)\n",
      "C:\\Users\\samir\\AppData\\Local\\Temp\\ipykernel_11084\\3614904585.py:4: FutureWarning: The frame.append method is deprecated and will be removed from pandas in a future version. Use pandas.concat instead.\n",
      "  final_data = final_data.append(new_row, ignore_index = True)\n"
     ]
    },
    {
     "name": "stdout",
     "output_type": "stream",
     "text": [
      "nnnnnnnnnnnnnnnnnnnnn    China\n",
      "condition verified\n",
      "nnnnnnnnnnnnnnnnnnnnn    China\n",
      "nnnnnnnnnnnnnnnnnnnnn   IN  USA\n",
      "condition verified\n",
      "nnnnnnnnnnnnnnnnnnnnn    China\n",
      "nnnnnnnnnnnnnnnnnnnnn    China\n",
      "condition verified\n"
     ]
    },
    {
     "name": "stderr",
     "output_type": "stream",
     "text": [
      "C:\\Users\\samir\\AppData\\Local\\Temp\\ipykernel_11084\\3614904585.py:4: FutureWarning: The frame.append method is deprecated and will be removed from pandas in a future version. Use pandas.concat instead.\n",
      "  final_data = final_data.append(new_row, ignore_index = True)\n",
      "C:\\Users\\samir\\AppData\\Local\\Temp\\ipykernel_11084\\3614904585.py:4: FutureWarning: The frame.append method is deprecated and will be removed from pandas in a future version. Use pandas.concat instead.\n",
      "  final_data = final_data.append(new_row, ignore_index = True)\n"
     ]
    },
    {
     "name": "stdout",
     "output_type": "stream",
     "text": [
      "nnnnnnnnnnnnnnnnnnnnn    China\n",
      "nnnnnnnnnnnnnnnnnnnnn    China\n",
      "nnnnnnnnnnnnnnnnnnnnn    China\n",
      "nnnnnnnnnnnnnnnnnnnnn    China\n",
      "nnnnnnnnnnnnnnnnnnnnn    China\n"
     ]
    },
    {
     "name": "stderr",
     "output_type": "stream",
     "text": [
      "C:\\Users\\samir\\AppData\\Local\\Temp\\ipykernel_11084\\3614904585.py:4: FutureWarning: The frame.append method is deprecated and will be removed from pandas in a future version. Use pandas.concat instead.\n",
      "  final_data = final_data.append(new_row, ignore_index = True)\n"
     ]
    },
    {
     "name": "stdout",
     "output_type": "stream",
     "text": [
      "nnnnnnnnnnnnnnnnnnnnn    China\n",
      "condition verified\n",
      "nnnnnnnnnnnnnnnnnnnnn   \n",
      "condition verified\n",
      "nnnnnnnnnnnnnnnnnnnnn    China\n",
      "nnnnnnnnnnnnnnnnnnnnn    China\n",
      "nnnnnnnnnnnnnnnnnnnnn    India\n",
      "condition verified\n"
     ]
    },
    {
     "name": "stderr",
     "output_type": "stream",
     "text": [
      "C:\\Users\\samir\\AppData\\Local\\Temp\\ipykernel_11084\\3614904585.py:4: FutureWarning: The frame.append method is deprecated and will be removed from pandas in a future version. Use pandas.concat instead.\n",
      "  final_data = final_data.append(new_row, ignore_index = True)\n"
     ]
    },
    {
     "name": "stdout",
     "output_type": "stream",
     "text": [
      "nnnnnnnnnnnnnnnnnnnnn   PA  USA\n",
      "condition verified\n",
      "nnnnnnnnnnnnnnnnnnnnn    India\n",
      "nnnnnnnnnnnnnnnnnnnnn    India\n",
      "nnnnnnnnnnnnnnnnnnnnn   AZ  USA\n",
      "condition verified\n",
      "nnnnnnnnnnnnnnnnnnnnn    India\n",
      "nnnnnnnnnnnnnnnnnnnnn    UAE\n",
      "condition verified\n"
     ]
    },
    {
     "name": "stderr",
     "output_type": "stream",
     "text": [
      "C:\\Users\\samir\\AppData\\Local\\Temp\\ipykernel_11084\\3614904585.py:4: FutureWarning: The frame.append method is deprecated and will be removed from pandas in a future version. Use pandas.concat instead.\n",
      "  final_data = final_data.append(new_row, ignore_index = True)\n",
      "C:\\Users\\samir\\AppData\\Local\\Temp\\ipykernel_11084\\3614904585.py:4: FutureWarning: The frame.append method is deprecated and will be removed from pandas in a future version. Use pandas.concat instead.\n",
      "  final_data = final_data.append(new_row, ignore_index = True)\n",
      "C:\\Users\\samir\\AppData\\Local\\Temp\\ipykernel_11084\\3614904585.py:4: FutureWarning: The frame.append method is deprecated and will be removed from pandas in a future version. Use pandas.concat instead.\n",
      "  final_data = final_data.append(new_row, ignore_index = True)\n",
      "C:\\Users\\samir\\AppData\\Local\\Temp\\ipykernel_11084\\3614904585.py:4: FutureWarning: The frame.append method is deprecated and will be removed from pandas in a future version. Use pandas.concat instead.\n",
      "  final_data = final_data.append(new_row, ignore_index = True)\n"
     ]
    },
    {
     "name": "stdout",
     "output_type": "stream",
     "text": [
      "nnnnnnnnnnnnnnnnnnnnn    China\n",
      "condition verified\n",
      "nnnnnnnnnnnnnnnnnnnnn    China\n",
      "nnnnnnnnnnnnnnnnnnnnn    China\n",
      "nnnnnnnnnnnnnnnnnnnnn    China\n",
      "nnnnnnnnnnnnnnnnnnnnn    China\n"
     ]
    },
    {
     "name": "stderr",
     "output_type": "stream",
     "text": [
      "C:\\Users\\samir\\AppData\\Local\\Temp\\ipykernel_11084\\3614904585.py:4: FutureWarning: The frame.append method is deprecated and will be removed from pandas in a future version. Use pandas.concat instead.\n",
      "  final_data = final_data.append(new_row, ignore_index = True)\n"
     ]
    },
    {
     "name": "stdout",
     "output_type": "stream",
     "text": [
      "nnnnnnnnnnnnnnnnnnnnn    China\n",
      "condition verified\n",
      "nnnnnnnnnnnnnnnnnnnnn    China\n",
      "nnnnnnnnnnnnnnnnnnnnn    China\n",
      "nnnnnnnnnnnnnnnnnnnnn    China\n",
      "nnnnnnnnnnnnnnnnnnnnn    China\n"
     ]
    },
    {
     "name": "stderr",
     "output_type": "stream",
     "text": [
      "C:\\Users\\samir\\AppData\\Local\\Temp\\ipykernel_11084\\3614904585.py:4: FutureWarning: The frame.append method is deprecated and will be removed from pandas in a future version. Use pandas.concat instead.\n",
      "  final_data = final_data.append(new_row, ignore_index = True)\n"
     ]
    },
    {
     "name": "stdout",
     "output_type": "stream",
     "text": [
      "nnnnnnnnnnnnnnnnnnnnn    Italy\n",
      "condition verified\n",
      "nnnnnnnnnnnnnnnnnnnnn    Italy\n",
      "nnnnnnnnnnnnnnnnnnnnn    Italy\n",
      "nnnnnnnnnnnnnnnnnnnnn    Italy\n",
      "nnnnnnnnnnnnnnnnnnnnn    Italy\n"
     ]
    },
    {
     "name": "stderr",
     "output_type": "stream",
     "text": [
      "C:\\Users\\samir\\AppData\\Local\\Temp\\ipykernel_11084\\3614904585.py:4: FutureWarning: The frame.append method is deprecated and will be removed from pandas in a future version. Use pandas.concat instead.\n",
      "  final_data = final_data.append(new_row, ignore_index = True)\n"
     ]
    },
    {
     "name": "stdout",
     "output_type": "stream",
     "text": [
      "nnnnnnnnnnnnnnnnnnnnn    China\n",
      "condition verified\n",
      "nnnnnnnnnnnnnnnnnnnnn    China\n",
      "nnnnnnnnnnnnnnnnnnnnn    China\n",
      "nnnnnnnnnnnnnnnnnnnnn    China\n",
      "nnnnnnnnnnnnnnnnnnnnn    China\n",
      "nnnnnnnnnnnnnnnnnnnnn    Japan\n",
      "condition verified\n"
     ]
    },
    {
     "name": "stderr",
     "output_type": "stream",
     "text": [
      "C:\\Users\\samir\\AppData\\Local\\Temp\\ipykernel_11084\\3614904585.py:4: FutureWarning: The frame.append method is deprecated and will be removed from pandas in a future version. Use pandas.concat instead.\n",
      "  final_data = final_data.append(new_row, ignore_index = True)\n",
      "C:\\Users\\samir\\AppData\\Local\\Temp\\ipykernel_11084\\3614904585.py:4: FutureWarning: The frame.append method is deprecated and will be removed from pandas in a future version. Use pandas.concat instead.\n",
      "  final_data = final_data.append(new_row, ignore_index = True)\n"
     ]
    },
    {
     "name": "stdout",
     "output_type": "stream",
     "text": [
      "nnnnnnnnnnnnnnnnnnnnn    China\n",
      "condition verified\n",
      "nnnnnnnnnnnnnnnnnnnnn    China\n",
      "nnnnnnnnnnnnnnnnnnnnn    China\n",
      "nnnnnnnnnnnnnnnnnnnnn    India\n",
      "condition verified\n"
     ]
    },
    {
     "name": "stderr",
     "output_type": "stream",
     "text": [
      "C:\\Users\\samir\\AppData\\Local\\Temp\\ipykernel_11084\\3614904585.py:4: FutureWarning: The frame.append method is deprecated and will be removed from pandas in a future version. Use pandas.concat instead.\n",
      "  final_data = final_data.append(new_row, ignore_index = True)\n"
     ]
    },
    {
     "name": "stdout",
     "output_type": "stream",
     "text": [
      "nnnnnnnnnnnnnnnnnnnnn    USA\n",
      "condition verified\n",
      "nnnnnnnnnnnnnnnnnnnnn    USA\n"
     ]
    },
    {
     "name": "stderr",
     "output_type": "stream",
     "text": [
      "C:\\Users\\samir\\AppData\\Local\\Temp\\ipykernel_11084\\3614904585.py:4: FutureWarning: The frame.append method is deprecated and will be removed from pandas in a future version. Use pandas.concat instead.\n",
      "  final_data = final_data.append(new_row, ignore_index = True)\n",
      "C:\\Users\\samir\\AppData\\Local\\Temp\\ipykernel_11084\\3614904585.py:4: FutureWarning: The frame.append method is deprecated and will be removed from pandas in a future version. Use pandas.concat instead.\n",
      "  final_data = final_data.append(new_row, ignore_index = True)\n"
     ]
    },
    {
     "name": "stdout",
     "output_type": "stream",
     "text": [
      "nnnnnnnnnnnnnnnnnnnnn    Pakistan\n",
      "condition verified\n",
      "nnnnnnnnnnnnnnnnnnnnn    Iraq\n",
      "condition verified\n",
      "nnnnnnnnnnnnnnnnnnnnn   \n",
      "condition verified\n",
      "nnnnnnnnnnnnnnnnnnnnn   \n",
      "nnnnnnnnnnnnnnnnnnnnn    Sweden\n",
      "condition verified\n",
      "nnnnnnnnnnnnnnnnnnnnn   \n",
      "nnnnnnnnnnnnnnnnnnnnn \n",
      "condition verified\n"
     ]
    },
    {
     "name": "stderr",
     "output_type": "stream",
     "text": [
      "C:\\Users\\samir\\AppData\\Local\\Temp\\ipykernel_11084\\3614904585.py:4: FutureWarning: The frame.append method is deprecated and will be removed from pandas in a future version. Use pandas.concat instead.\n",
      "  final_data = final_data.append(new_row, ignore_index = True)\n",
      "C:\\Users\\samir\\AppData\\Local\\Temp\\ipykernel_11084\\3614904585.py:4: FutureWarning: The frame.append method is deprecated and will be removed from pandas in a future version. Use pandas.concat instead.\n",
      "  final_data = final_data.append(new_row, ignore_index = True)\n",
      "C:\\Users\\samir\\AppData\\Local\\Temp\\ipykernel_11084\\3614904585.py:4: FutureWarning: The frame.append method is deprecated and will be removed from pandas in a future version. Use pandas.concat instead.\n",
      "  final_data = final_data.append(new_row, ignore_index = True)\n"
     ]
    },
    {
     "name": "stdout",
     "output_type": "stream",
     "text": [
      "nnnnnnnnnnnnnnnnnnnnn    Spain\n",
      "condition verified\n",
      "nnnnnnnnnnnnnnnnnnnnn  \n",
      "nnnnnnnnnnnnnnnnnnnnn    Spain\n",
      "nnnnnnnnnnnnnnnnnnnnn  \n",
      "nnnnnnnnnnnnnnnnnnnnn    Spain\n",
      "nnnnnnnnnnnnnnnnnnnnn    Turkey\n",
      "condition verified\n",
      "nnnnnnnnnnnnnnnnnnnnn    Turkey\n"
     ]
    },
    {
     "name": "stderr",
     "output_type": "stream",
     "text": [
      "C:\\Users\\samir\\AppData\\Local\\Temp\\ipykernel_11084\\3614904585.py:4: FutureWarning: The frame.append method is deprecated and will be removed from pandas in a future version. Use pandas.concat instead.\n",
      "  final_data = final_data.append(new_row, ignore_index = True)\n",
      "C:\\Users\\samir\\AppData\\Local\\Temp\\ipykernel_11084\\3614904585.py:4: FutureWarning: The frame.append method is deprecated and will be removed from pandas in a future version. Use pandas.concat instead.\n",
      "  final_data = final_data.append(new_row, ignore_index = True)\n"
     ]
    },
    {
     "name": "stdout",
     "output_type": "stream",
     "text": [
      "nnnnnnnnnnnnnnnnnnnnn    India\n",
      "condition verified\n",
      "nnnnnnnnnnnnnnnnnnnnn    India\n",
      "nnnnnnnnnnnnnnnnnnnnn    India\n",
      "nnnnnnnnnnnnnnnnnnnnn    UK\n",
      "condition verified\n"
     ]
    },
    {
     "name": "stderr",
     "output_type": "stream",
     "text": [
      "C:\\Users\\samir\\AppData\\Local\\Temp\\ipykernel_11084\\3614904585.py:4: FutureWarning: The frame.append method is deprecated and will be removed from pandas in a future version. Use pandas.concat instead.\n",
      "  final_data = final_data.append(new_row, ignore_index = True)\n",
      "C:\\Users\\samir\\AppData\\Local\\Temp\\ipykernel_11084\\3614904585.py:4: FutureWarning: The frame.append method is deprecated and will be removed from pandas in a future version. Use pandas.concat instead.\n",
      "  final_data = final_data.append(new_row, ignore_index = True)\n"
     ]
    },
    {
     "name": "stdout",
     "output_type": "stream",
     "text": [
      "nnnnnnnnnnnnnnnnnnnnn    China\n",
      "condition verified\n",
      "nnnnnnnnnnnnnnnnnnnnn    China\n",
      "nnnnnnnnnnnnnnnnnnnnn    Canada\n",
      "condition verified\n",
      "nnnnnnnnnnnnnnnnnnnnn    China\n",
      "nnnnnnnnnnnnnnnnnnnnn    China\n",
      "nnnnnnnnnnnnnnnnnnnnn    China\n"
     ]
    },
    {
     "name": "stderr",
     "output_type": "stream",
     "text": [
      "C:\\Users\\samir\\AppData\\Local\\Temp\\ipykernel_11084\\3614904585.py:4: FutureWarning: The frame.append method is deprecated and will be removed from pandas in a future version. Use pandas.concat instead.\n",
      "  final_data = final_data.append(new_row, ignore_index = True)\n",
      "C:\\Users\\samir\\AppData\\Local\\Temp\\ipykernel_11084\\3614904585.py:4: FutureWarning: The frame.append method is deprecated and will be removed from pandas in a future version. Use pandas.concat instead.\n",
      "  final_data = final_data.append(new_row, ignore_index = True)\n"
     ]
    },
    {
     "name": "stdout",
     "output_type": "stream",
     "text": [
      "nnnnnnnnnnnnnnnnnnnnn   Taiwan  Taiwan\n",
      "condition verified\n",
      "nnnnnnnnnnnnnnnnnnnnn   \n",
      "condition verified\n",
      "nnnnnnnnnnnnnnnnnnnnn    China\n",
      "condition verified\n",
      "nnnnnnnnnnnnnnnnnnnnn   \n",
      "nnnnnnnnnnnnnnnnnnnnn    China\n",
      "condition verified\n"
     ]
    },
    {
     "name": "stderr",
     "output_type": "stream",
     "text": [
      "C:\\Users\\samir\\AppData\\Local\\Temp\\ipykernel_11084\\3614904585.py:4: FutureWarning: The frame.append method is deprecated and will be removed from pandas in a future version. Use pandas.concat instead.\n",
      "  final_data = final_data.append(new_row, ignore_index = True)\n",
      "C:\\Users\\samir\\AppData\\Local\\Temp\\ipykernel_11084\\3614904585.py:4: FutureWarning: The frame.append method is deprecated and will be removed from pandas in a future version. Use pandas.concat instead.\n",
      "  final_data = final_data.append(new_row, ignore_index = True)\n"
     ]
    },
    {
     "name": "stdout",
     "output_type": "stream",
     "text": [
      "nnnnnnnnnnnnnnnnnnnnn    China\n",
      "nnnnnnnnnnnnnnnnnnnnn    China\n",
      "nnnnnnnnnnnnnnnnnnnnn    China\n",
      "nnnnnnnnnnnnnnnnnnnnn   \n",
      "condition verified\n",
      "nnnnnnnnnnnnnnnnnnnnn    China\n",
      "nnnnnnnnnnnnnnnnnnnnn   \n",
      "condition verified\n"
     ]
    },
    {
     "name": "stderr",
     "output_type": "stream",
     "text": [
      "C:\\Users\\samir\\AppData\\Local\\Temp\\ipykernel_11084\\3614904585.py:4: FutureWarning: The frame.append method is deprecated and will be removed from pandas in a future version. Use pandas.concat instead.\n",
      "  final_data = final_data.append(new_row, ignore_index = True)\n"
     ]
    },
    {
     "name": "stdout",
     "output_type": "stream",
     "text": [
      "nnnnnnnnnnnnnnnnnnnnn    China\n",
      "condition verified\n",
      "nnnnnnnnnnnnnnnnnnnnn    Australia\n",
      "condition verified\n",
      "nnnnnnnnnnnnnnnnnnnnn   \n",
      "nnnnnnnnnnnnnnnnnnnnn    Germany\n",
      "condition verified\n"
     ]
    },
    {
     "name": "stderr",
     "output_type": "stream",
     "text": [
      "C:\\Users\\samir\\AppData\\Local\\Temp\\ipykernel_11084\\3614904585.py:4: FutureWarning: The frame.append method is deprecated and will be removed from pandas in a future version. Use pandas.concat instead.\n",
      "  final_data = final_data.append(new_row, ignore_index = True)\n",
      "C:\\Users\\samir\\AppData\\Local\\Temp\\ipykernel_11084\\3614904585.py:4: FutureWarning: The frame.append method is deprecated and will be removed from pandas in a future version. Use pandas.concat instead.\n",
      "  final_data = final_data.append(new_row, ignore_index = True)\n",
      "C:\\Users\\samir\\AppData\\Local\\Temp\\ipykernel_11084\\3614904585.py:4: FutureWarning: The frame.append method is deprecated and will be removed from pandas in a future version. Use pandas.concat instead.\n",
      "  final_data = final_data.append(new_row, ignore_index = True)\n"
     ]
    },
    {
     "name": "stdout",
     "output_type": "stream",
     "text": [
      "nnnnnnnnnnnnnnnnnnnnn    China\n",
      "condition verified\n",
      "nnnnnnnnnnnnnnnnnnnnn    China\n",
      "nnnnnnnnnnnnnnnnnnnnn    China\n",
      "nnnnnnnnnnnnnnnnnnnnn   \n",
      "condition verified\n",
      "nnnnnnnnnnnnnnnnnnnnn    China\n",
      "nnnnnnnnnnnnnnnnnnnnn   \n",
      "nnnnnnnnnnnnnnnnnnnnn    China\n",
      "nnnnnnnnnnnnnnnnnnnnn    USA\n",
      "condition verified\n"
     ]
    },
    {
     "name": "stderr",
     "output_type": "stream",
     "text": [
      "C:\\Users\\samir\\AppData\\Local\\Temp\\ipykernel_11084\\3614904585.py:4: FutureWarning: The frame.append method is deprecated and will be removed from pandas in a future version. Use pandas.concat instead.\n",
      "  final_data = final_data.append(new_row, ignore_index = True)\n"
     ]
    },
    {
     "name": "stdout",
     "output_type": "stream",
     "text": [
      "nnnnnnnnnnnnnnnnnnnnn    USA\n",
      "nnnnnnnnnnnnnnnnnnnnn    USA\n",
      "nnnnnnnnnnnnnnnnnnnnn    USA\n"
     ]
    },
    {
     "name": "stderr",
     "output_type": "stream",
     "text": [
      "C:\\Users\\samir\\AppData\\Local\\Temp\\ipykernel_11084\\3614904585.py:4: FutureWarning: The frame.append method is deprecated and will be removed from pandas in a future version. Use pandas.concat instead.\n",
      "  final_data = final_data.append(new_row, ignore_index = True)\n"
     ]
    },
    {
     "name": "stdout",
     "output_type": "stream",
     "text": [
      "nnnnnnnnnnnnnnnnnnnnn    China\n",
      "condition verified\n",
      "nnnnnnnnnnnnnnnnnnnnn    China\n",
      "nnnnnnnnnnnnnnnnnnnnn    China\n",
      "nnnnnnnnnnnnnnnnnnnnn    Canada\n",
      "condition verified\n"
     ]
    },
    {
     "name": "stderr",
     "output_type": "stream",
     "text": [
      "C:\\Users\\samir\\AppData\\Local\\Temp\\ipykernel_11084\\3614904585.py:4: FutureWarning: The frame.append method is deprecated and will be removed from pandas in a future version. Use pandas.concat instead.\n",
      "  final_data = final_data.append(new_row, ignore_index = True)\n",
      "C:\\Users\\samir\\AppData\\Local\\Temp\\ipykernel_11084\\3614904585.py:4: FutureWarning: The frame.append method is deprecated and will be removed from pandas in a future version. Use pandas.concat instead.\n",
      "  final_data = final_data.append(new_row, ignore_index = True)\n"
     ]
    },
    {
     "name": "stdout",
     "output_type": "stream",
     "text": [
      "nnnnnnnnnnnnnnnnnnnnn    China\n",
      "condition verified\n",
      "nnnnnnnnnnnnnnnnnnnnn    China\n",
      "nnnnnnnnnnnnnnnnnnnnn    China\n",
      "nnnnnnnnnnnnnnnnnnnnn    China\n",
      "nnnnnnnnnnnnnnnnnnnnn    Norway\n",
      "condition verified\n"
     ]
    },
    {
     "name": "stderr",
     "output_type": "stream",
     "text": [
      "C:\\Users\\samir\\AppData\\Local\\Temp\\ipykernel_11084\\3614904585.py:4: FutureWarning: The frame.append method is deprecated and will be removed from pandas in a future version. Use pandas.concat instead.\n",
      "  final_data = final_data.append(new_row, ignore_index = True)\n",
      "C:\\Users\\samir\\AppData\\Local\\Temp\\ipykernel_11084\\3614904585.py:4: FutureWarning: The frame.append method is deprecated and will be removed from pandas in a future version. Use pandas.concat instead.\n",
      "  final_data = final_data.append(new_row, ignore_index = True)\n"
     ]
    },
    {
     "name": "stdout",
     "output_type": "stream",
     "text": [
      "nnnnnnnnnnnnnnnnnnnnn    China\n",
      "condition verified\n",
      "nnnnnnnnnnnnnnnnnnnnn    China\n",
      "nnnnnnnnnnnnnnnnnnnnn    CA USA\n",
      "condition verified\n",
      "nnnnnnnnnnnnnnnnnnnnn    China\n"
     ]
    },
    {
     "name": "stderr",
     "output_type": "stream",
     "text": [
      "C:\\Users\\samir\\AppData\\Local\\Temp\\ipykernel_11084\\3614904585.py:4: FutureWarning: The frame.append method is deprecated and will be removed from pandas in a future version. Use pandas.concat instead.\n",
      "  final_data = final_data.append(new_row, ignore_index = True)\n",
      "C:\\Users\\samir\\AppData\\Local\\Temp\\ipykernel_11084\\3614904585.py:4: FutureWarning: The frame.append method is deprecated and will be removed from pandas in a future version. Use pandas.concat instead.\n",
      "  final_data = final_data.append(new_row, ignore_index = True)\n"
     ]
    },
    {
     "name": "stdout",
     "output_type": "stream",
     "text": [
      "nnnnnnnnnnnnnnnnnnnnn    China\n",
      "condition verified\n",
      "nnnnnnnnnnnnnnnnnnnnn   China \n",
      "condition verified\n"
     ]
    },
    {
     "name": "stderr",
     "output_type": "stream",
     "text": [
      "C:\\Users\\samir\\AppData\\Local\\Temp\\ipykernel_11084\\3614904585.py:4: FutureWarning: The frame.append method is deprecated and will be removed from pandas in a future version. Use pandas.concat instead.\n",
      "  final_data = final_data.append(new_row, ignore_index = True)\n"
     ]
    },
    {
     "name": "stdout",
     "output_type": "stream",
     "text": [
      "nnnnnnnnnnnnnnnnnnnnn    China\n",
      "condition verified\n",
      "nnnnnnnnnnnnnnnnnnnnn    China\n",
      "nnnnnnnnnnnnnnnnnnnnn   \n",
      "condition verified\n",
      "nnnnnnnnnnnnnnnnnnnnn   China \n",
      "nnnnnnnnnnnnnnnnnnnnn   China \n"
     ]
    },
    {
     "name": "stderr",
     "output_type": "stream",
     "text": [
      "C:\\Users\\samir\\AppData\\Local\\Temp\\ipykernel_11084\\3614904585.py:4: FutureWarning: The frame.append method is deprecated and will be removed from pandas in a future version. Use pandas.concat instead.\n",
      "  final_data = final_data.append(new_row, ignore_index = True)\n",
      "C:\\Users\\samir\\AppData\\Local\\Temp\\ipykernel_11084\\3614904585.py:4: FutureWarning: The frame.append method is deprecated and will be removed from pandas in a future version. Use pandas.concat instead.\n",
      "  final_data = final_data.append(new_row, ignore_index = True)\n"
     ]
    },
    {
     "name": "stdout",
     "output_type": "stream",
     "text": [
      "nnnnnnnnnnnnnnnnnnnnn    China\n",
      "condition verified\n",
      "nnnnnnnnnnnnnnnnnnnnn    China\n",
      "nnnnnnnnnnnnnnnnnnnnn    China\n",
      "nnnnnnnnnnnnnnnnnnnnn   \n",
      "condition verified\n",
      "nnnnnnnnnnnnnnnnnnnnn   \n"
     ]
    },
    {
     "name": "stderr",
     "output_type": "stream",
     "text": [
      "C:\\Users\\samir\\AppData\\Local\\Temp\\ipykernel_11084\\3614904585.py:4: FutureWarning: The frame.append method is deprecated and will be removed from pandas in a future version. Use pandas.concat instead.\n",
      "  final_data = final_data.append(new_row, ignore_index = True)\n"
     ]
    },
    {
     "name": "stdout",
     "output_type": "stream",
     "text": [
      "nnnnnnnnnnnnnnnnnnnnn   China\n",
      "condition verified\n",
      "nnnnnnnnnnnnnnnnnnnnn    China\n",
      "condition verified\n",
      "nnnnnnnnnnnnnnnnnnnnn    China\n",
      "nnnnnnnnnnnnnnnnnnnnn    China\n",
      "nnnnnnnnnnnnnnnnnnnnn    China\n"
     ]
    },
    {
     "name": "stderr",
     "output_type": "stream",
     "text": [
      "C:\\Users\\samir\\AppData\\Local\\Temp\\ipykernel_11084\\3614904585.py:4: FutureWarning: The frame.append method is deprecated and will be removed from pandas in a future version. Use pandas.concat instead.\n",
      "  final_data = final_data.append(new_row, ignore_index = True)\n",
      "C:\\Users\\samir\\AppData\\Local\\Temp\\ipykernel_11084\\3614904585.py:4: FutureWarning: The frame.append method is deprecated and will be removed from pandas in a future version. Use pandas.concat instead.\n",
      "  final_data = final_data.append(new_row, ignore_index = True)\n"
     ]
    },
    {
     "name": "stdout",
     "output_type": "stream",
     "text": [
      "nnnnnnnnnnnnnnnnnnnnn    China\n",
      "condition verified\n",
      "nnnnnnnnnnnnnnnnnnnnn    China\n",
      "nnnnnnnnnnnnnnnnnnnnn    China\n",
      "nnnnnnnnnnnnnnnnnnnnn    China\n"
     ]
    },
    {
     "name": "stderr",
     "output_type": "stream",
     "text": [
      "C:\\Users\\samir\\AppData\\Local\\Temp\\ipykernel_11084\\3614904585.py:4: FutureWarning: The frame.append method is deprecated and will be removed from pandas in a future version. Use pandas.concat instead.\n",
      "  final_data = final_data.append(new_row, ignore_index = True)\n"
     ]
    },
    {
     "name": "stdout",
     "output_type": "stream",
     "text": [
      "nnnnnnnnnnnnnnnnnnnnn    PR China\n",
      "condition verified\n",
      "nnnnnnnnnnnnnnnnnnnnn    China\n",
      "condition verified\n",
      "nnnnnnnnnnnnnnnnnnnnn    PR China\n",
      "nnnnnnnnnnnnnnnnnnnnn    PR China\n",
      "nnnnnnnnnnnnnnnnnnnnn    USA\n",
      "condition verified\n",
      "nnnnnnnnnnnnnnnnnnnnn    USA\n"
     ]
    },
    {
     "name": "stderr",
     "output_type": "stream",
     "text": [
      "C:\\Users\\samir\\AppData\\Local\\Temp\\ipykernel_11084\\3614904585.py:4: FutureWarning: The frame.append method is deprecated and will be removed from pandas in a future version. Use pandas.concat instead.\n",
      "  final_data = final_data.append(new_row, ignore_index = True)\n",
      "C:\\Users\\samir\\AppData\\Local\\Temp\\ipykernel_11084\\3614904585.py:4: FutureWarning: The frame.append method is deprecated and will be removed from pandas in a future version. Use pandas.concat instead.\n",
      "  final_data = final_data.append(new_row, ignore_index = True)\n",
      "C:\\Users\\samir\\AppData\\Local\\Temp\\ipykernel_11084\\3614904585.py:4: FutureWarning: The frame.append method is deprecated and will be removed from pandas in a future version. Use pandas.concat instead.\n",
      "  final_data = final_data.append(new_row, ignore_index = True)\n"
     ]
    },
    {
     "name": "stdout",
     "output_type": "stream",
     "text": [
      "nnnnnnnnnnnnnnnnnnnnn   \n",
      "condition verified\n",
      "nnnnnnnnnnnnnnnnnnnnn   \n",
      "nnnnnnnnnnnnnnnnnnnnn   \n",
      "nnnnnnnnnnnnnnnnnnnnn   \n",
      "nnnnnnnnnnnnnnnnnnnnn    Spain\n",
      "condition verified\n",
      "nnnnnnnnnnnnnnnnnnnnn    Spain\n",
      "nnnnnnnnnnnnnnnnnnnnn    Spain\n"
     ]
    },
    {
     "name": "stderr",
     "output_type": "stream",
     "text": [
      "C:\\Users\\samir\\AppData\\Local\\Temp\\ipykernel_11084\\3614904585.py:4: FutureWarning: The frame.append method is deprecated and will be removed from pandas in a future version. Use pandas.concat instead.\n",
      "  final_data = final_data.append(new_row, ignore_index = True)\n"
     ]
    },
    {
     "name": "stdout",
     "output_type": "stream",
     "text": [
      "nnnnnnnnnnnnnnnnnnnnn    Brazil\n",
      "condition verified\n",
      "nnnnnnnnnnnnnnnnnnnnn    Australia\n",
      "condition verified\n",
      "nnnnnnnnnnnnnnnnnnnnn    Australia\n",
      "nnnnnnnnnnnnnnnnnnnnn    Brazil\n"
     ]
    },
    {
     "name": "stderr",
     "output_type": "stream",
     "text": [
      "C:\\Users\\samir\\AppData\\Local\\Temp\\ipykernel_11084\\3614904585.py:4: FutureWarning: The frame.append method is deprecated and will be removed from pandas in a future version. Use pandas.concat instead.\n",
      "  final_data = final_data.append(new_row, ignore_index = True)\n",
      "C:\\Users\\samir\\AppData\\Local\\Temp\\ipykernel_11084\\3614904585.py:4: FutureWarning: The frame.append method is deprecated and will be removed from pandas in a future version. Use pandas.concat instead.\n",
      "  final_data = final_data.append(new_row, ignore_index = True)\n"
     ]
    },
    {
     "name": "stdout",
     "output_type": "stream",
     "text": [
      "nnnnnnnnnnnnnnnnnnnnn    Australia\n",
      "condition verified\n",
      "nnnnnnnnnnnnnnnnnnnnn    Australia\n",
      "nnnnnnnnnnnnnnnnnnnnn    USA\n",
      "condition verified\n",
      "nnnnnnnnnnnnnnnnnnnnn    Australia\n"
     ]
    },
    {
     "name": "stderr",
     "output_type": "stream",
     "text": [
      "C:\\Users\\samir\\AppData\\Local\\Temp\\ipykernel_11084\\3614904585.py:4: FutureWarning: The frame.append method is deprecated and will be removed from pandas in a future version. Use pandas.concat instead.\n",
      "  final_data = final_data.append(new_row, ignore_index = True)\n",
      "C:\\Users\\samir\\AppData\\Local\\Temp\\ipykernel_11084\\3614904585.py:4: FutureWarning: The frame.append method is deprecated and will be removed from pandas in a future version. Use pandas.concat instead.\n",
      "  final_data = final_data.append(new_row, ignore_index = True)\n"
     ]
    },
    {
     "name": "stdout",
     "output_type": "stream",
     "text": [
      "nnnnnnnnnnnnnnnnnnnnn    Pakistan\n",
      "condition verified\n",
      "nnnnnnnnnnnnnnnnnnnnn    Pakistan\n",
      "nnnnnnnnnnnnnnnnnnnnn    Pakistan\n",
      "nnnnnnnnnnnnnnnnnnnnn  \n"
     ]
    },
    {
     "name": "stderr",
     "output_type": "stream",
     "text": [
      "C:\\Users\\samir\\AppData\\Local\\Temp\\ipykernel_11084\\3614904585.py:4: FutureWarning: The frame.append method is deprecated and will be removed from pandas in a future version. Use pandas.concat instead.\n",
      "  final_data = final_data.append(new_row, ignore_index = True)\n"
     ]
    },
    {
     "name": "stdout",
     "output_type": "stream",
     "text": [
      "nnnnnnnnnnnnnnnnnnnnn   \n",
      "condition verified\n",
      "nnnnnnnnnnnnnnnnnnnnn    Indonesia\n",
      "condition verified\n",
      "nnnnnnnnnnnnnnnnnnnnn    Philippines\n",
      "condition verified\n",
      "nnnnnnnnnnnnnnnnnnnnn    Denmark\n",
      "condition verified\n",
      "nnnnnnnnnnnnnnnnnnnnn   \n",
      "condition verified\n",
      "nnnnnnnnnnnnnnnnnnnnn   \n",
      "nnnnnnnnnnnnnnnnnnnnn    UK\n",
      "condition verified\n",
      "nnnnnnnnnnnnnnnnnnnnn   \n",
      "nnnnnnnnnnnnnnnnnnnnn    China\n",
      "condition verified\n"
     ]
    },
    {
     "name": "stderr",
     "output_type": "stream",
     "text": [
      "C:\\Users\\samir\\AppData\\Local\\Temp\\ipykernel_11084\\3614904585.py:4: FutureWarning: The frame.append method is deprecated and will be removed from pandas in a future version. Use pandas.concat instead.\n",
      "  final_data = final_data.append(new_row, ignore_index = True)\n",
      "C:\\Users\\samir\\AppData\\Local\\Temp\\ipykernel_11084\\3614904585.py:4: FutureWarning: The frame.append method is deprecated and will be removed from pandas in a future version. Use pandas.concat instead.\n",
      "  final_data = final_data.append(new_row, ignore_index = True)\n",
      "C:\\Users\\samir\\AppData\\Local\\Temp\\ipykernel_11084\\3614904585.py:4: FutureWarning: The frame.append method is deprecated and will be removed from pandas in a future version. Use pandas.concat instead.\n",
      "  final_data = final_data.append(new_row, ignore_index = True)\n",
      "C:\\Users\\samir\\AppData\\Local\\Temp\\ipykernel_11084\\3614904585.py:4: FutureWarning: The frame.append method is deprecated and will be removed from pandas in a future version. Use pandas.concat instead.\n",
      "  final_data = final_data.append(new_row, ignore_index = True)\n"
     ]
    },
    {
     "name": "stdout",
     "output_type": "stream",
     "text": [
      "nnnnnnnnnnnnnnnnnnnnn    China\n",
      "nnnnnnnnnnnnnnnnnnnnn    China\n",
      "nnnnnnnnnnnnnnnnnnnnn    China\n",
      "nnnnnnnnnnnnnnnnnnnnn    China\n",
      "nnnnnnnnnnnnnnnnnnnnn    India\n",
      "condition verified\n"
     ]
    },
    {
     "name": "stderr",
     "output_type": "stream",
     "text": [
      "C:\\Users\\samir\\AppData\\Local\\Temp\\ipykernel_11084\\3614904585.py:4: FutureWarning: The frame.append method is deprecated and will be removed from pandas in a future version. Use pandas.concat instead.\n",
      "  final_data = final_data.append(new_row, ignore_index = True)\n"
     ]
    },
    {
     "name": "stdout",
     "output_type": "stream",
     "text": [
      "nnnnnnnnnnnnnnnnnnnnn    India\n",
      "nnnnnnnnnnnnnnnnnnnnn    India\n",
      "nnnnnnnnnnnnnnnnnnnnn    India\n"
     ]
    },
    {
     "name": "stderr",
     "output_type": "stream",
     "text": [
      "C:\\Users\\samir\\AppData\\Local\\Temp\\ipykernel_11084\\3614904585.py:4: FutureWarning: The frame.append method is deprecated and will be removed from pandas in a future version. Use pandas.concat instead.\n",
      "  final_data = final_data.append(new_row, ignore_index = True)\n"
     ]
    },
    {
     "name": "stdout",
     "output_type": "stream",
     "text": [
      "nnnnnnnnnnnnnnnnnnnnn    China\n",
      "condition verified\n",
      "nnnnnnnnnnnnnnnnnnnnn    China\n",
      "nnnnnnnnnnnnnnnnnnnnn    China\n"
     ]
    },
    {
     "name": "stderr",
     "output_type": "stream",
     "text": [
      "C:\\Users\\samir\\AppData\\Local\\Temp\\ipykernel_11084\\3614904585.py:4: FutureWarning: The frame.append method is deprecated and will be removed from pandas in a future version. Use pandas.concat instead.\n",
      "  final_data = final_data.append(new_row, ignore_index = True)\n"
     ]
    },
    {
     "name": "stdout",
     "output_type": "stream",
     "text": [
      "nnnnnnnnnnnnnnnnnnnnn    China\n",
      "condition verified\n",
      "nnnnnnnnnnnnnnnnnnnnn    China\n",
      "nnnnnnnnnnnnnnnnnnnnn    China\n",
      "nnnnnnnnnnnnnnnnnnnnn    China\n",
      "nnnnnnnnnnnnnnnnnnnnn    China\n",
      "nnnnnnnnnnnnnnnnnnnnn    China\n",
      "nnnnnnnnnnnnnnnnnnnnn    China\n",
      "nnnnnnnnnnnnnnnnnnnnn    USA\n",
      "condition verified\n",
      "nnnnnnnnnnnnnnnnnnnnn    USA\n"
     ]
    },
    {
     "name": "stderr",
     "output_type": "stream",
     "text": [
      "C:\\Users\\samir\\AppData\\Local\\Temp\\ipykernel_11084\\3614904585.py:4: FutureWarning: The frame.append method is deprecated and will be removed from pandas in a future version. Use pandas.concat instead.\n",
      "  final_data = final_data.append(new_row, ignore_index = True)\n",
      "C:\\Users\\samir\\AppData\\Local\\Temp\\ipykernel_11084\\3614904585.py:4: FutureWarning: The frame.append method is deprecated and will be removed from pandas in a future version. Use pandas.concat instead.\n",
      "  final_data = final_data.append(new_row, ignore_index = True)\n"
     ]
    },
    {
     "name": "stdout",
     "output_type": "stream",
     "text": [
      "nnnnnnnnnnnnnnnnnnnnn    China\n",
      "condition verified\n",
      "nnnnnnnnnnnnnnnnnnnnn    China\n",
      "nnnnnnnnnnnnnnnnnnnnn    China\n",
      "nnnnnnnnnnnnnnnnnnnnn    China\n",
      "nnnnnnnnnnnnnnnnnnnnn    China\n"
     ]
    },
    {
     "name": "stderr",
     "output_type": "stream",
     "text": [
      "C:\\Users\\samir\\AppData\\Local\\Temp\\ipykernel_11084\\3614904585.py:4: FutureWarning: The frame.append method is deprecated and will be removed from pandas in a future version. Use pandas.concat instead.\n",
      "  final_data = final_data.append(new_row, ignore_index = True)\n"
     ]
    },
    {
     "name": "stdout",
     "output_type": "stream",
     "text": [
      "nnnnnnnnnnnnnnnnnnnnn   \n",
      "condition verified\n",
      "nnnnnnnnnnnnnnnnnnnnn   \n",
      "nnnnnnnnnnnnnnnnnnnnn    Algeria\n",
      "condition verified\n",
      "nnnnnnnnnnnnnnnnnnnnn    Algeria\n",
      "nnnnnnnnnnnnnnnnnnnnn    France\n",
      "condition verified\n",
      "nnnnnnnnnnnnnnnnnnnnn    Algeria\n"
     ]
    },
    {
     "name": "stderr",
     "output_type": "stream",
     "text": [
      "C:\\Users\\samir\\AppData\\Local\\Temp\\ipykernel_11084\\3614904585.py:4: FutureWarning: The frame.append method is deprecated and will be removed from pandas in a future version. Use pandas.concat instead.\n",
      "  final_data = final_data.append(new_row, ignore_index = True)\n",
      "C:\\Users\\samir\\AppData\\Local\\Temp\\ipykernel_11084\\3614904585.py:4: FutureWarning: The frame.append method is deprecated and will be removed from pandas in a future version. Use pandas.concat instead.\n",
      "  final_data = final_data.append(new_row, ignore_index = True)\n"
     ]
    },
    {
     "name": "stdout",
     "output_type": "stream",
     "text": [
      "nnnnnnnnnnnnnnnnnnnnn    China\n",
      "condition verified\n",
      "nnnnnnnnnnnnnnnnnnnnn    Egypt\n",
      "condition verified\n",
      "nnnnnnnnnnnnnnnnnnnnn    China\n",
      "nnnnnnnnnnnnnnnnnnnnn    China\n",
      "nnnnnnnnnnnnnnnnnnnnn    China\n"
     ]
    },
    {
     "name": "stderr",
     "output_type": "stream",
     "text": [
      "C:\\Users\\samir\\AppData\\Local\\Temp\\ipykernel_11084\\3614904585.py:4: FutureWarning: The frame.append method is deprecated and will be removed from pandas in a future version. Use pandas.concat instead.\n",
      "  final_data = final_data.append(new_row, ignore_index = True)\n",
      "C:\\Users\\samir\\AppData\\Local\\Temp\\ipykernel_11084\\3614904585.py:4: FutureWarning: The frame.append method is deprecated and will be removed from pandas in a future version. Use pandas.concat instead.\n",
      "  final_data = final_data.append(new_row, ignore_index = True)\n"
     ]
    },
    {
     "name": "stdout",
     "output_type": "stream",
     "text": [
      "nnnnnnnnnnnnnnnnnnnnn    India\n",
      "condition verified\n",
      "nnnnnnnnnnnnnnnnnnnnn    India\n",
      "nnnnnnnnnnnnnnnnnnnnn    Lebanon\n",
      "condition verified\n",
      "nnnnnnnnnnnnnnnnnnnnn    Lebanon\n",
      "nnnnnnnnnnnnnnnnnnnnn    India\n"
     ]
    },
    {
     "name": "stderr",
     "output_type": "stream",
     "text": [
      "C:\\Users\\samir\\AppData\\Local\\Temp\\ipykernel_11084\\3614904585.py:4: FutureWarning: The frame.append method is deprecated and will be removed from pandas in a future version. Use pandas.concat instead.\n",
      "  final_data = final_data.append(new_row, ignore_index = True)\n",
      "C:\\Users\\samir\\AppData\\Local\\Temp\\ipykernel_11084\\3614904585.py:4: FutureWarning: The frame.append method is deprecated and will be removed from pandas in a future version. Use pandas.concat instead.\n",
      "  final_data = final_data.append(new_row, ignore_index = True)\n"
     ]
    },
    {
     "name": "stdout",
     "output_type": "stream",
     "text": [
      "nnnnnnnnnnnnnnnnnnnnn    China\n",
      "condition verified\n",
      "nnnnnnnnnnnnnnnnnnnnn    China\n",
      "nnnnnnnnnnnnnnnnnnnnn   \n",
      "condition verified\n",
      "nnnnnnnnnnnnnnnnnnnnn    China\n",
      "nnnnnnnnnnnnnnnnnnnnn    USA\n",
      "condition verified\n"
     ]
    },
    {
     "name": "stderr",
     "output_type": "stream",
     "text": [
      "C:\\Users\\samir\\AppData\\Local\\Temp\\ipykernel_11084\\3614904585.py:4: FutureWarning: The frame.append method is deprecated and will be removed from pandas in a future version. Use pandas.concat instead.\n",
      "  final_data = final_data.append(new_row, ignore_index = True)\n",
      "C:\\Users\\samir\\AppData\\Local\\Temp\\ipykernel_11084\\3614904585.py:4: FutureWarning: The frame.append method is deprecated and will be removed from pandas in a future version. Use pandas.concat instead.\n",
      "  final_data = final_data.append(new_row, ignore_index = True)\n"
     ]
    },
    {
     "name": "stdout",
     "output_type": "stream",
     "text": [
      "nnnnnnnnnnnnnnnnnnnnn    China\n",
      "condition verified\n",
      "nnnnnnnnnnnnnnnnnnnnn    China\n",
      "nnnnnnnnnnnnnnnnnnnnn    China\n",
      "nnnnnnnnnnnnnnnnnnnnn    China\n",
      "nnnnnnnnnnnnnnnnnnnnn    China\n",
      "nnnnnnnnnnnnnnnnnnnnn   \n",
      "condition verified\n",
      "nnnnnnnnnnnnnnnnnnnnn   China\n",
      "condition verified\n"
     ]
    },
    {
     "name": "stderr",
     "output_type": "stream",
     "text": [
      "C:\\Users\\samir\\AppData\\Local\\Temp\\ipykernel_11084\\3614904585.py:4: FutureWarning: The frame.append method is deprecated and will be removed from pandas in a future version. Use pandas.concat instead.\n",
      "  final_data = final_data.append(new_row, ignore_index = True)\n",
      "C:\\Users\\samir\\AppData\\Local\\Temp\\ipykernel_11084\\3614904585.py:4: FutureWarning: The frame.append method is deprecated and will be removed from pandas in a future version. Use pandas.concat instead.\n",
      "  final_data = final_data.append(new_row, ignore_index = True)\n"
     ]
    },
    {
     "name": "stdout",
     "output_type": "stream",
     "text": [
      "nnnnnnnnnnnnnnnnnnnnn    Canada\n",
      "condition verified\n",
      "nnnnnnnnnnnnnnnnnnnnn    Canada\n",
      "nnnnnnnnnnnnnnnnnnnnn    France\n",
      "condition verified\n",
      "nnnnnnnnnnnnnnnnnnnnn    France\n"
     ]
    },
    {
     "name": "stderr",
     "output_type": "stream",
     "text": [
      "C:\\Users\\samir\\AppData\\Local\\Temp\\ipykernel_11084\\3614904585.py:4: FutureWarning: The frame.append method is deprecated and will be removed from pandas in a future version. Use pandas.concat instead.\n",
      "  final_data = final_data.append(new_row, ignore_index = True)\n",
      "C:\\Users\\samir\\AppData\\Local\\Temp\\ipykernel_11084\\3614904585.py:4: FutureWarning: The frame.append method is deprecated and will be removed from pandas in a future version. Use pandas.concat instead.\n",
      "  final_data = final_data.append(new_row, ignore_index = True)\n"
     ]
    },
    {
     "name": "stdout",
     "output_type": "stream",
     "text": [
      "nnnnnnnnnnnnnnnnnnnnn    China\n",
      "condition verified\n",
      "nnnnnnnnnnnnnnnnnnnnn    China\n",
      "nnnnnnnnnnnnnnnnnnnnn    China\n",
      "nnnnnnnnnnnnnnnnnnnnn    China\n",
      "nnnnnnnnnnnnnnnnnnnnn    China\n",
      "nnnnnnnnnnnnnnnnnnnnn    Georgia\n",
      "condition verified\n"
     ]
    },
    {
     "name": "stderr",
     "output_type": "stream",
     "text": [
      "C:\\Users\\samir\\AppData\\Local\\Temp\\ipykernel_11084\\3614904585.py:4: FutureWarning: The frame.append method is deprecated and will be removed from pandas in a future version. Use pandas.concat instead.\n",
      "  final_data = final_data.append(new_row, ignore_index = True)\n",
      "C:\\Users\\samir\\AppData\\Local\\Temp\\ipykernel_11084\\3614904585.py:4: FutureWarning: The frame.append method is deprecated and will be removed from pandas in a future version. Use pandas.concat instead.\n",
      "  final_data = final_data.append(new_row, ignore_index = True)\n"
     ]
    },
    {
     "name": "stdout",
     "output_type": "stream",
     "text": [
      "nnnnnnnnnnnnnnnnnnnnn    India\n",
      "condition verified\n",
      "nnnnnnnnnnnnnnnnnnnnn    India\n",
      "nnnnnnnnnnnnnnnnnnnnn    India\n",
      "nnnnnnnnnnnnnnnnnnnnn    India\n",
      "nnnnnnnnnnnnnnnnnnnnn    China\n",
      "condition verified\n"
     ]
    },
    {
     "name": "stderr",
     "output_type": "stream",
     "text": [
      "C:\\Users\\samir\\AppData\\Local\\Temp\\ipykernel_11084\\3614904585.py:4: FutureWarning: The frame.append method is deprecated and will be removed from pandas in a future version. Use pandas.concat instead.\n",
      "  final_data = final_data.append(new_row, ignore_index = True)\n"
     ]
    },
    {
     "name": "stdout",
     "output_type": "stream",
     "text": [
      "nnnnnnnnnnnnnnnnnnnnn    China\n",
      "nnnnnnnnnnnnnnnnnnnnn    China\n"
     ]
    },
    {
     "name": "stderr",
     "output_type": "stream",
     "text": [
      "C:\\Users\\samir\\AppData\\Local\\Temp\\ipykernel_11084\\3614904585.py:4: FutureWarning: The frame.append method is deprecated and will be removed from pandas in a future version. Use pandas.concat instead.\n",
      "  final_data = final_data.append(new_row, ignore_index = True)\n"
     ]
    },
    {
     "name": "stdout",
     "output_type": "stream",
     "text": [
      "nnnnnnnnnnnnnnnnnnnnn    China\n",
      "condition verified\n",
      "nnnnnnnnnnnnnnnnnnnnn    Canada\n",
      "condition verified\n",
      "nnnnnnnnnnnnnnnnnnnnn    China\n",
      "nnnnnnnnnnnnnnnnnnnnn    China\n",
      "nnnnnnnnnnnnnnnnnnnnn    China\n"
     ]
    },
    {
     "name": "stderr",
     "output_type": "stream",
     "text": [
      "C:\\Users\\samir\\AppData\\Local\\Temp\\ipykernel_11084\\3614904585.py:4: FutureWarning: The frame.append method is deprecated and will be removed from pandas in a future version. Use pandas.concat instead.\n",
      "  final_data = final_data.append(new_row, ignore_index = True)\n",
      "C:\\Users\\samir\\AppData\\Local\\Temp\\ipykernel_11084\\3614904585.py:4: FutureWarning: The frame.append method is deprecated and will be removed from pandas in a future version. Use pandas.concat instead.\n",
      "  final_data = final_data.append(new_row, ignore_index = True)\n"
     ]
    },
    {
     "name": "stdout",
     "output_type": "stream",
     "text": [
      "nnnnnnnnnnnnnnnnnnnnn   \n",
      "condition verified\n",
      "nnnnnnnnnnnnnnnnnnnnn   China \n",
      "condition verified\n",
      "nnnnnnnnnnnnnnnnnnnnn   \n"
     ]
    },
    {
     "name": "stderr",
     "output_type": "stream",
     "text": [
      "C:\\Users\\samir\\AppData\\Local\\Temp\\ipykernel_11084\\3614904585.py:4: FutureWarning: The frame.append method is deprecated and will be removed from pandas in a future version. Use pandas.concat instead.\n",
      "  final_data = final_data.append(new_row, ignore_index = True)\n"
     ]
    },
    {
     "name": "stdout",
     "output_type": "stream",
     "text": [
      "nnnnnnnnnnnnnnnnnnnnn    Egypt\n",
      "condition verified\n",
      "nnnnnnnnnnnnnnnnnnnnn    Italy\n",
      "condition verified\n",
      "nnnnnnnnnnnnnnnnnnnnn    Netherlands\n",
      "condition verified\n"
     ]
    },
    {
     "name": "stderr",
     "output_type": "stream",
     "text": [
      "C:\\Users\\samir\\AppData\\Local\\Temp\\ipykernel_11084\\3614904585.py:4: FutureWarning: The frame.append method is deprecated and will be removed from pandas in a future version. Use pandas.concat instead.\n",
      "  final_data = final_data.append(new_row, ignore_index = True)\n",
      "C:\\Users\\samir\\AppData\\Local\\Temp\\ipykernel_11084\\3614904585.py:4: FutureWarning: The frame.append method is deprecated and will be removed from pandas in a future version. Use pandas.concat instead.\n",
      "  final_data = final_data.append(new_row, ignore_index = True)\n",
      "C:\\Users\\samir\\AppData\\Local\\Temp\\ipykernel_11084\\3614904585.py:4: FutureWarning: The frame.append method is deprecated and will be removed from pandas in a future version. Use pandas.concat instead.\n",
      "  final_data = final_data.append(new_row, ignore_index = True)\n"
     ]
    },
    {
     "name": "stdout",
     "output_type": "stream",
     "text": [
      "nnnnnnnnnnnnnnnnnnnnn    China\n",
      "condition verified\n",
      "nnnnnnnnnnnnnnnnnnnnn    China\n",
      "nnnnnnnnnnnnnnnnnnnnn   China \n",
      "condition verified\n",
      "nnnnnnnnnnnnnnnnnnnnn    China\n",
      "nnnnnnnnnnnnnnnnnnnnn   Singapore \n",
      "condition verified\n",
      "nnnnnnnnnnnnnnnnnnnnn   Singapore \n",
      "nnnnnnnnnnnnnnnnnnnnn    China\n",
      "condition verified\n"
     ]
    },
    {
     "name": "stderr",
     "output_type": "stream",
     "text": [
      "C:\\Users\\samir\\AppData\\Local\\Temp\\ipykernel_11084\\3614904585.py:4: FutureWarning: The frame.append method is deprecated and will be removed from pandas in a future version. Use pandas.concat instead.\n",
      "  final_data = final_data.append(new_row, ignore_index = True)\n",
      "C:\\Users\\samir\\AppData\\Local\\Temp\\ipykernel_11084\\3614904585.py:4: FutureWarning: The frame.append method is deprecated and will be removed from pandas in a future version. Use pandas.concat instead.\n",
      "  final_data = final_data.append(new_row, ignore_index = True)\n",
      "C:\\Users\\samir\\AppData\\Local\\Temp\\ipykernel_11084\\3614904585.py:4: FutureWarning: The frame.append method is deprecated and will be removed from pandas in a future version. Use pandas.concat instead.\n",
      "  final_data = final_data.append(new_row, ignore_index = True)\n"
     ]
    },
    {
     "name": "stdout",
     "output_type": "stream",
     "text": [
      "nnnnnnnnnnnnnnnnnnnnn    China\n",
      "nnnnnnnnnnnnnnnnnnnnn    China\n"
     ]
    },
    {
     "name": "stderr",
     "output_type": "stream",
     "text": [
      "C:\\Users\\samir\\AppData\\Local\\Temp\\ipykernel_11084\\3614904585.py:4: FutureWarning: The frame.append method is deprecated and will be removed from pandas in a future version. Use pandas.concat instead.\n",
      "  final_data = final_data.append(new_row, ignore_index = True)\n"
     ]
    },
    {
     "name": "stdout",
     "output_type": "stream",
     "text": [
      "nnnnnnnnnnnnnnnnnnnnn    China\n",
      "condition verified\n",
      "nnnnnnnnnnnnnnnnnnnnn    China\n",
      "nnnnnnnnnnnnnnnnnnnnn    China\n"
     ]
    },
    {
     "name": "stderr",
     "output_type": "stream",
     "text": [
      "C:\\Users\\samir\\AppData\\Local\\Temp\\ipykernel_11084\\3614904585.py:4: FutureWarning: The frame.append method is deprecated and will be removed from pandas in a future version. Use pandas.concat instead.\n",
      "  final_data = final_data.append(new_row, ignore_index = True)\n"
     ]
    },
    {
     "name": "stdout",
     "output_type": "stream",
     "text": [
      "nnnnnnnnnnnnnnnnnnnnn    Austria\n",
      "condition verified\n",
      "nnnnnnnnnnnnnnnnnnnnn    Germany\n",
      "condition verified\n",
      "nnnnnnnnnnnnnnnnnnnnn    Germany\n",
      "nnnnnnnnnnnnnnnnnnnnn    Austria\n"
     ]
    },
    {
     "name": "stderr",
     "output_type": "stream",
     "text": [
      "C:\\Users\\samir\\AppData\\Local\\Temp\\ipykernel_11084\\3614904585.py:4: FutureWarning: The frame.append method is deprecated and will be removed from pandas in a future version. Use pandas.concat instead.\n",
      "  final_data = final_data.append(new_row, ignore_index = True)\n",
      "C:\\Users\\samir\\AppData\\Local\\Temp\\ipykernel_11084\\3614904585.py:4: FutureWarning: The frame.append method is deprecated and will be removed from pandas in a future version. Use pandas.concat instead.\n",
      "  final_data = final_data.append(new_row, ignore_index = True)\n"
     ]
    },
    {
     "name": "stdout",
     "output_type": "stream",
     "text": [
      "nnnnnnnnnnnnnnnnnnnnn    China\n",
      "condition verified\n",
      "nnnnnnnnnnnnnnnnnnnnn    China\n",
      "nnnnnnnnnnnnnnnnnnnnn    China\n",
      "nnnnnnnnnnnnnnnnnnnnn    China\n"
     ]
    },
    {
     "name": "stderr",
     "output_type": "stream",
     "text": [
      "C:\\Users\\samir\\AppData\\Local\\Temp\\ipykernel_11084\\3614904585.py:4: FutureWarning: The frame.append method is deprecated and will be removed from pandas in a future version. Use pandas.concat instead.\n",
      "  final_data = final_data.append(new_row, ignore_index = True)\n"
     ]
    },
    {
     "name": "stdout",
     "output_type": "stream",
     "text": [
      "nnnnnnnnnnnnnnnnnnnnn   \n",
      "condition verified\n",
      "nnnnnnnnnnnnnnnnnnnnn   \n",
      "nnnnnnnnnnnnnnnnnnnnn    China\n",
      "condition verified\n",
      "nnnnnnnnnnnnnnnnnnnnn   \n",
      "nnnnnnnnnnnnnnnnnnnnn   \n"
     ]
    },
    {
     "name": "stderr",
     "output_type": "stream",
     "text": [
      "C:\\Users\\samir\\AppData\\Local\\Temp\\ipykernel_11084\\3614904585.py:4: FutureWarning: The frame.append method is deprecated and will be removed from pandas in a future version. Use pandas.concat instead.\n",
      "  final_data = final_data.append(new_row, ignore_index = True)\n"
     ]
    },
    {
     "name": "stdout",
     "output_type": "stream",
     "text": [
      "nnnnnnnnnnnnnnnnnnnnn    India\n",
      "condition verified\n",
      "nnnnnnnnnnnnnnnnnnnnn    India\n",
      "nnnnnnnnnnnnnnnnnnnnn    India\n"
     ]
    },
    {
     "name": "stderr",
     "output_type": "stream",
     "text": [
      "C:\\Users\\samir\\AppData\\Local\\Temp\\ipykernel_11084\\3614904585.py:4: FutureWarning: The frame.append method is deprecated and will be removed from pandas in a future version. Use pandas.concat instead.\n",
      "  final_data = final_data.append(new_row, ignore_index = True)\n"
     ]
    },
    {
     "name": "stdout",
     "output_type": "stream",
     "text": [
      "nnnnnnnnnnnnnnnnnnnnn    China\n",
      "condition verified\n",
      "nnnnnnnnnnnnnnnnnnnnn    China\n",
      "nnnnnnnnnnnnnnnnnnnnn    USA\n",
      "condition verified\n",
      "nnnnnnnnnnnnnnnnnnnnn    USA\n",
      "nnnnnnnnnnnnnnnnnnnnn    China\n",
      "condition verified\n"
     ]
    },
    {
     "name": "stderr",
     "output_type": "stream",
     "text": [
      "C:\\Users\\samir\\AppData\\Local\\Temp\\ipykernel_11084\\3614904585.py:4: FutureWarning: The frame.append method is deprecated and will be removed from pandas in a future version. Use pandas.concat instead.\n",
      "  final_data = final_data.append(new_row, ignore_index = True)\n",
      "C:\\Users\\samir\\AppData\\Local\\Temp\\ipykernel_11084\\3614904585.py:4: FutureWarning: The frame.append method is deprecated and will be removed from pandas in a future version. Use pandas.concat instead.\n",
      "  final_data = final_data.append(new_row, ignore_index = True)\n"
     ]
    },
    {
     "name": "stdout",
     "output_type": "stream",
     "text": [
      "nnnnnnnnnnnnnnnnnnnnn    China\n",
      "nnnnnnnnnnnnnnnnnnnnn    China\n",
      "nnnnnnnnnnnnnnnnnnnnn    China\n"
     ]
    },
    {
     "name": "stderr",
     "output_type": "stream",
     "text": [
      "C:\\Users\\samir\\AppData\\Local\\Temp\\ipykernel_11084\\3614904585.py:4: FutureWarning: The frame.append method is deprecated and will be removed from pandas in a future version. Use pandas.concat instead.\n",
      "  final_data = final_data.append(new_row, ignore_index = True)\n"
     ]
    },
    {
     "name": "stdout",
     "output_type": "stream",
     "text": [
      "nnnnnnnnnnnnnnnnnnnnn    Qatar\n",
      "condition verified\n",
      "nnnnnnnnnnnnnnnnnnnnn    CHINA\n",
      "condition verified\n",
      "nnnnnnnnnnnnnnnnnnnnn    CHINA\n",
      "nnnnnnnnnnnnnnnnnnnnn    China\n",
      "condition verified\n",
      "nnnnnnnnnnnnnnnnnnnnn    Qatar\n",
      "nnnnnnnnnnnnnnnnnnnnn    UAE\n",
      "condition verified\n"
     ]
    },
    {
     "name": "stderr",
     "output_type": "stream",
     "text": [
      "C:\\Users\\samir\\AppData\\Local\\Temp\\ipykernel_11084\\3614904585.py:4: FutureWarning: The frame.append method is deprecated and will be removed from pandas in a future version. Use pandas.concat instead.\n",
      "  final_data = final_data.append(new_row, ignore_index = True)\n",
      "C:\\Users\\samir\\AppData\\Local\\Temp\\ipykernel_11084\\3614904585.py:4: FutureWarning: The frame.append method is deprecated and will be removed from pandas in a future version. Use pandas.concat instead.\n",
      "  final_data = final_data.append(new_row, ignore_index = True)\n",
      "C:\\Users\\samir\\AppData\\Local\\Temp\\ipykernel_11084\\3614904585.py:4: FutureWarning: The frame.append method is deprecated and will be removed from pandas in a future version. Use pandas.concat instead.\n",
      "  final_data = final_data.append(new_row, ignore_index = True)\n",
      "C:\\Users\\samir\\AppData\\Local\\Temp\\ipykernel_11084\\3614904585.py:4: FutureWarning: The frame.append method is deprecated and will be removed from pandas in a future version. Use pandas.concat instead.\n",
      "  final_data = final_data.append(new_row, ignore_index = True)\n"
     ]
    },
    {
     "name": "stdout",
     "output_type": "stream",
     "text": [
      "nnnnnnnnnnnnnnnnnnnnn    China\n",
      "condition verified\n",
      "nnnnnnnnnnnnnnnnnnnnn    China\n",
      "nnnnnnnnnnnnnnnnnnnnn    China\n"
     ]
    },
    {
     "name": "stderr",
     "output_type": "stream",
     "text": [
      "C:\\Users\\samir\\AppData\\Local\\Temp\\ipykernel_11084\\3614904585.py:4: FutureWarning: The frame.append method is deprecated and will be removed from pandas in a future version. Use pandas.concat instead.\n",
      "  final_data = final_data.append(new_row, ignore_index = True)\n"
     ]
    },
    {
     "name": "stdout",
     "output_type": "stream",
     "text": [
      "nnnnnnnnnnnnnnnnnnnnn    India\n",
      "condition verified\n",
      "nnnnnnnnnnnnnnnnnnnnn    India\n",
      "nnnnnnnnnnnnnnnnnnnnn    India\n",
      "nnnnnnnnnnnnnnnnnnnnn   Singapore  Singapore\n",
      "condition verified\n",
      "nnnnnnnnnnnnnnnnnnnnn    China\n",
      "condition verified\n"
     ]
    },
    {
     "name": "stderr",
     "output_type": "stream",
     "text": [
      "C:\\Users\\samir\\AppData\\Local\\Temp\\ipykernel_11084\\3614904585.py:4: FutureWarning: The frame.append method is deprecated and will be removed from pandas in a future version. Use pandas.concat instead.\n",
      "  final_data = final_data.append(new_row, ignore_index = True)\n",
      "C:\\Users\\samir\\AppData\\Local\\Temp\\ipykernel_11084\\3614904585.py:4: FutureWarning: The frame.append method is deprecated and will be removed from pandas in a future version. Use pandas.concat instead.\n",
      "  final_data = final_data.append(new_row, ignore_index = True)\n"
     ]
    },
    {
     "name": "stdout",
     "output_type": "stream",
     "text": [
      "nnnnnnnnnnnnnnnnnnnnn    China\n",
      "nnnnnnnnnnnnnnnnnnnnn    China\n"
     ]
    },
    {
     "name": "stderr",
     "output_type": "stream",
     "text": [
      "C:\\Users\\samir\\AppData\\Local\\Temp\\ipykernel_11084\\3614904585.py:4: FutureWarning: The frame.append method is deprecated and will be removed from pandas in a future version. Use pandas.concat instead.\n",
      "  final_data = final_data.append(new_row, ignore_index = True)\n"
     ]
    },
    {
     "name": "stdout",
     "output_type": "stream",
     "text": [
      "nnnnnnnnnnnnnnnnnnnnn    China\n",
      "condition verified\n",
      "nnnnnnnnnnnnnnnnnnnnn    USA\n",
      "condition verified\n",
      "nnnnnnnnnnnnnnnnnnnnn    China\n",
      "nnnnnnnnnnnnnnnnnnnnn   \n",
      "condition verified\n",
      "nnnnnnnnnnnnnnnnnnnnn  \n",
      "nnnnnnnnnnnnnnnnnnnnn   China\n",
      "condition verified\n",
      "nnnnnnnnnnnnnnnnnnnnn    China\n",
      "nnnnnnnnnnnnnnnnnnnnn    China\n"
     ]
    },
    {
     "name": "stderr",
     "output_type": "stream",
     "text": [
      "C:\\Users\\samir\\AppData\\Local\\Temp\\ipykernel_11084\\3614904585.py:4: FutureWarning: The frame.append method is deprecated and will be removed from pandas in a future version. Use pandas.concat instead.\n",
      "  final_data = final_data.append(new_row, ignore_index = True)\n",
      "C:\\Users\\samir\\AppData\\Local\\Temp\\ipykernel_11084\\3614904585.py:4: FutureWarning: The frame.append method is deprecated and will be removed from pandas in a future version. Use pandas.concat instead.\n",
      "  final_data = final_data.append(new_row, ignore_index = True)\n",
      "C:\\Users\\samir\\AppData\\Local\\Temp\\ipykernel_11084\\3614904585.py:4: FutureWarning: The frame.append method is deprecated and will be removed from pandas in a future version. Use pandas.concat instead.\n",
      "  final_data = final_data.append(new_row, ignore_index = True)\n"
     ]
    },
    {
     "name": "stdout",
     "output_type": "stream",
     "text": [
      "nnnnnnnnnnnnnnnnnnnnn    China\n",
      "condition verified\n",
      "nnnnnnnnnnnnnnnnnnnnn    China\n",
      "nnnnnnnnnnnnnnnnnnnnn    China\n",
      "nnnnnnnnnnnnnnnnnnnnn    China\n",
      "nnnnnnnnnnnnnnnnnnnnn    China\n"
     ]
    },
    {
     "name": "stderr",
     "output_type": "stream",
     "text": [
      "C:\\Users\\samir\\AppData\\Local\\Temp\\ipykernel_11084\\3614904585.py:4: FutureWarning: The frame.append method is deprecated and will be removed from pandas in a future version. Use pandas.concat instead.\n",
      "  final_data = final_data.append(new_row, ignore_index = True)\n"
     ]
    },
    {
     "name": "stdout",
     "output_type": "stream",
     "text": [
      "nnnnnnnnnnnnnnnnnnnnn    India\n",
      "condition verified\n",
      "nnnnnnnnnnnnnnnnnnnnn    India\n",
      "nnnnnnnnnnnnnnnnnnnnn    India\n",
      "nnnnnnnnnnnnnnnnnnnnn   \n",
      "condition verified\n",
      "nnnnnnnnnnnnnnnnnnnnn   \n"
     ]
    },
    {
     "name": "stderr",
     "output_type": "stream",
     "text": [
      "C:\\Users\\samir\\AppData\\Local\\Temp\\ipykernel_11084\\3614904585.py:4: FutureWarning: The frame.append method is deprecated and will be removed from pandas in a future version. Use pandas.concat instead.\n",
      "  final_data = final_data.append(new_row, ignore_index = True)\n"
     ]
    },
    {
     "name": "stdout",
     "output_type": "stream",
     "text": [
      "nnnnnnnnnnnnnnnnnnnnn    Canada\n",
      "condition verified\n",
      "nnnnnnnnnnnnnnnnnnnnn    Canada\n",
      "nnnnnnnnnnnnnnnnnnnnn    Canada\n",
      "nnnnnnnnnnnnnnnnnnnnn    Canada\n"
     ]
    },
    {
     "name": "stderr",
     "output_type": "stream",
     "text": [
      "C:\\Users\\samir\\AppData\\Local\\Temp\\ipykernel_11084\\3614904585.py:4: FutureWarning: The frame.append method is deprecated and will be removed from pandas in a future version. Use pandas.concat instead.\n",
      "  final_data = final_data.append(new_row, ignore_index = True)\n"
     ]
    },
    {
     "name": "stdout",
     "output_type": "stream",
     "text": [
      "nnnnnnnnnnnnnnnnnnnnn    Japan\n",
      "condition verified\n",
      "nnnnnnnnnnnnnnnnnnnnn    China\n",
      "condition verified\n",
      "nnnnnnnnnnnnnnnnnnnnn    China\n",
      "nnnnnnnnnnnnnnnnnnnnn    Lebanon\n",
      "condition verified\n",
      "nnnnnnnnnnnnnnnnnnnnn    Japan\n"
     ]
    },
    {
     "name": "stderr",
     "output_type": "stream",
     "text": [
      "C:\\Users\\samir\\AppData\\Local\\Temp\\ipykernel_11084\\3614904585.py:4: FutureWarning: The frame.append method is deprecated and will be removed from pandas in a future version. Use pandas.concat instead.\n",
      "  final_data = final_data.append(new_row, ignore_index = True)\n",
      "C:\\Users\\samir\\AppData\\Local\\Temp\\ipykernel_11084\\3614904585.py:4: FutureWarning: The frame.append method is deprecated and will be removed from pandas in a future version. Use pandas.concat instead.\n",
      "  final_data = final_data.append(new_row, ignore_index = True)\n",
      "C:\\Users\\samir\\AppData\\Local\\Temp\\ipykernel_11084\\3614904585.py:4: FutureWarning: The frame.append method is deprecated and will be removed from pandas in a future version. Use pandas.concat instead.\n",
      "  final_data = final_data.append(new_row, ignore_index = True)\n"
     ]
    },
    {
     "name": "stdout",
     "output_type": "stream",
     "text": [
      "nnnnnnnnnnnnnnnnnnnnn    China\n",
      "condition verified\n",
      "nnnnnnnnnnnnnnnnnnnnn    China\n",
      "nnnnnnnnnnnnnnnnnnnnn   \n",
      "condition verified\n",
      "nnnnnnnnnnnnnnnnnnnnn    Egypt\n",
      "condition verified\n"
     ]
    },
    {
     "name": "stderr",
     "output_type": "stream",
     "text": [
      "C:\\Users\\samir\\AppData\\Local\\Temp\\ipykernel_11084\\3614904585.py:4: FutureWarning: The frame.append method is deprecated and will be removed from pandas in a future version. Use pandas.concat instead.\n",
      "  final_data = final_data.append(new_row, ignore_index = True)\n",
      "C:\\Users\\samir\\AppData\\Local\\Temp\\ipykernel_11084\\3614904585.py:4: FutureWarning: The frame.append method is deprecated and will be removed from pandas in a future version. Use pandas.concat instead.\n",
      "  final_data = final_data.append(new_row, ignore_index = True)\n"
     ]
    },
    {
     "name": "stdout",
     "output_type": "stream",
     "text": [
      "nnnnnnnnnnnnnnnnnnnnn    China\n",
      "condition verified\n",
      "nnnnnnnnnnnnnnnnnnnnn    China\n",
      "nnnnnnnnnnnnnnnnnnnnn    China\n"
     ]
    },
    {
     "name": "stderr",
     "output_type": "stream",
     "text": [
      "C:\\Users\\samir\\AppData\\Local\\Temp\\ipykernel_11084\\3614904585.py:4: FutureWarning: The frame.append method is deprecated and will be removed from pandas in a future version. Use pandas.concat instead.\n",
      "  final_data = final_data.append(new_row, ignore_index = True)\n"
     ]
    },
    {
     "name": "stdout",
     "output_type": "stream",
     "text": [
      "nnnnnnnnnnnnnnnnnnnnn  NA\n",
      "condition verified\n",
      "nnnnnnnnnnnnnnnnnnnnn   NA\n",
      "condition verified\n",
      "nnnnnnnnnnnnnnnnnnnnn   NA\n",
      "nnnnnnnnnnnnnnnnnnnnn   NA\n"
     ]
    },
    {
     "name": "stderr",
     "output_type": "stream",
     "text": [
      "C:\\Users\\samir\\AppData\\Local\\Temp\\ipykernel_11084\\3614904585.py:4: FutureWarning: The frame.append method is deprecated and will be removed from pandas in a future version. Use pandas.concat instead.\n",
      "  final_data = final_data.append(new_row, ignore_index = True)\n",
      "C:\\Users\\samir\\AppData\\Local\\Temp\\ipykernel_11084\\3614904585.py:4: FutureWarning: The frame.append method is deprecated and will be removed from pandas in a future version. Use pandas.concat instead.\n",
      "  final_data = final_data.append(new_row, ignore_index = True)\n"
     ]
    },
    {
     "name": "stdout",
     "output_type": "stream",
     "text": [
      "nnnnnnnnnnnnnnnnnnnnn    China\n",
      "condition verified\n",
      "nnnnnnnnnnnnnnnnnnnnn    China\n",
      "nnnnnnnnnnnnnnnnnnnnn    China\n",
      "nnnnnnnnnnnnnnnnnnnnn    China\n",
      "nnnnnnnnnnnnnnnnnnnnn   China \n",
      "condition verified\n",
      "nnnnnnnnnnnnnnnnnnnnn   \n",
      "condition verified\n",
      "nnnnnnnnnnnnnnnnnnnnn    Ireland\n",
      "condition verified\n"
     ]
    },
    {
     "name": "stderr",
     "output_type": "stream",
     "text": [
      "C:\\Users\\samir\\AppData\\Local\\Temp\\ipykernel_11084\\3614904585.py:4: FutureWarning: The frame.append method is deprecated and will be removed from pandas in a future version. Use pandas.concat instead.\n",
      "  final_data = final_data.append(new_row, ignore_index = True)\n",
      "C:\\Users\\samir\\AppData\\Local\\Temp\\ipykernel_11084\\3614904585.py:4: FutureWarning: The frame.append method is deprecated and will be removed from pandas in a future version. Use pandas.concat instead.\n",
      "  final_data = final_data.append(new_row, ignore_index = True)\n",
      "C:\\Users\\samir\\AppData\\Local\\Temp\\ipykernel_11084\\3614904585.py:4: FutureWarning: The frame.append method is deprecated and will be removed from pandas in a future version. Use pandas.concat instead.\n",
      "  final_data = final_data.append(new_row, ignore_index = True)\n"
     ]
    },
    {
     "name": "stdout",
     "output_type": "stream",
     "text": [
      "nnnnnnnnnnnnnnnnnnnnn    China\n",
      "condition verified\n",
      "nnnnnnnnnnnnnnnnnnnnn    UK\n",
      "condition verified\n",
      "nnnnnnnnnnnnnnnnnnnnn    China\n"
     ]
    },
    {
     "name": "stderr",
     "output_type": "stream",
     "text": [
      "C:\\Users\\samir\\AppData\\Local\\Temp\\ipykernel_11084\\3614904585.py:4: FutureWarning: The frame.append method is deprecated and will be removed from pandas in a future version. Use pandas.concat instead.\n",
      "  final_data = final_data.append(new_row, ignore_index = True)\n",
      "C:\\Users\\samir\\AppData\\Local\\Temp\\ipykernel_11084\\3614904585.py:4: FutureWarning: The frame.append method is deprecated and will be removed from pandas in a future version. Use pandas.concat instead.\n",
      "  final_data = final_data.append(new_row, ignore_index = True)\n"
     ]
    },
    {
     "name": "stdout",
     "output_type": "stream",
     "text": [
      "nnnnnnnnnnnnnnnnnnnnn    Ireland\n",
      "condition verified\n",
      "nnnnnnnnnnnnnnnnnnnnn    Ireland\n",
      "nnnnnnnnnnnnnnnnnnnnn    Ireland\n",
      "nnnnnnnnnnnnnnnnnnnnn    Ireland\n"
     ]
    },
    {
     "name": "stderr",
     "output_type": "stream",
     "text": [
      "C:\\Users\\samir\\AppData\\Local\\Temp\\ipykernel_11084\\3614904585.py:4: FutureWarning: The frame.append method is deprecated and will be removed from pandas in a future version. Use pandas.concat instead.\n",
      "  final_data = final_data.append(new_row, ignore_index = True)\n"
     ]
    },
    {
     "name": "stdout",
     "output_type": "stream",
     "text": [
      "nnnnnnnnnnnnnnnnnnnnn    China\n",
      "condition verified\n",
      "nnnnnnnnnnnnnnnnnnnnn    China\n",
      "nnnnnnnnnnnnnnnnnnnnn    China\n",
      "nnnnnnnnnnnnnnnnnnnnn    China\n",
      "nnnnnnnnnnnnnnnnnnnnn    China\n",
      "nnnnnnnnnnnnnnnnnnnnn    China\n",
      "nnnnnnnnnnnnnnnnnnnnn    China\n",
      "condition verified\n"
     ]
    },
    {
     "name": "stderr",
     "output_type": "stream",
     "text": [
      "C:\\Users\\samir\\AppData\\Local\\Temp\\ipykernel_11084\\3614904585.py:4: FutureWarning: The frame.append method is deprecated and will be removed from pandas in a future version. Use pandas.concat instead.\n",
      "  final_data = final_data.append(new_row, ignore_index = True)\n"
     ]
    },
    {
     "name": "stdout",
     "output_type": "stream",
     "text": [
      "nnnnnnnnnnnnnnnnnnnnn    China\n",
      "nnnnnnnnnnnnnnnnnnnnn    China\n",
      "nnnnnnnnnnnnnnnnnnnnn    China\n",
      "nnnnnnnnnnnnnnnnnnnnn    China\n",
      "nnnnnnnnnnnnnnnnnnnnn    China\n",
      "nnnnnnnnnnnnnnnnnnnnn    USA\n",
      "condition verified\n"
     ]
    },
    {
     "name": "stderr",
     "output_type": "stream",
     "text": [
      "C:\\Users\\samir\\AppData\\Local\\Temp\\ipykernel_11084\\3614904585.py:4: FutureWarning: The frame.append method is deprecated and will be removed from pandas in a future version. Use pandas.concat instead.\n",
      "  final_data = final_data.append(new_row, ignore_index = True)\n",
      "C:\\Users\\samir\\AppData\\Local\\Temp\\ipykernel_11084\\3614904585.py:4: FutureWarning: The frame.append method is deprecated and will be removed from pandas in a future version. Use pandas.concat instead.\n",
      "  final_data = final_data.append(new_row, ignore_index = True)\n"
     ]
    },
    {
     "name": "stdout",
     "output_type": "stream",
     "text": [
      "nnnnnnnnnnnnnnnnnnnnn    China\n",
      "condition verified\n",
      "nnnnnnnnnnnnnnnnnnnnn    China\n",
      "nnnnnnnnnnnnnnnnnnnnn    China\n",
      "nnnnnnnnnnnnnnnnnnnnn    China\n",
      "nnnnnnnnnnnnnnnnnnnnn    Japan\n",
      "condition verified\n",
      "nnnnnnnnnnnnnnnnnnnnn   PA  USA\n",
      "condition verified\n",
      "nnnnnnnnnnnnnnnnnnnnn    China\n",
      "nnnnnnnnnnnnnnnnnnnnn    Australia\n",
      "condition verified\n"
     ]
    },
    {
     "name": "stderr",
     "output_type": "stream",
     "text": [
      "C:\\Users\\samir\\AppData\\Local\\Temp\\ipykernel_11084\\3614904585.py:4: FutureWarning: The frame.append method is deprecated and will be removed from pandas in a future version. Use pandas.concat instead.\n",
      "  final_data = final_data.append(new_row, ignore_index = True)\n",
      "C:\\Users\\samir\\AppData\\Local\\Temp\\ipykernel_11084\\3614904585.py:4: FutureWarning: The frame.append method is deprecated and will be removed from pandas in a future version. Use pandas.concat instead.\n",
      "  final_data = final_data.append(new_row, ignore_index = True)\n",
      "C:\\Users\\samir\\AppData\\Local\\Temp\\ipykernel_11084\\3614904585.py:4: FutureWarning: The frame.append method is deprecated and will be removed from pandas in a future version. Use pandas.concat instead.\n",
      "  final_data = final_data.append(new_row, ignore_index = True)\n",
      "C:\\Users\\samir\\AppData\\Local\\Temp\\ipykernel_11084\\3614904585.py:4: FutureWarning: The frame.append method is deprecated and will be removed from pandas in a future version. Use pandas.concat instead.\n",
      "  final_data = final_data.append(new_row, ignore_index = True)\n"
     ]
    },
    {
     "name": "stdout",
     "output_type": "stream",
     "text": [
      "nnnnnnnnnnnnnnnnnnnnn    China\n",
      "condition verified\n",
      "nnnnnnnnnnnnnnnnnnnnn    China\n",
      "nnnnnnnnnnnnnnnnnnnnn    China\n"
     ]
    },
    {
     "name": "stderr",
     "output_type": "stream",
     "text": [
      "C:\\Users\\samir\\AppData\\Local\\Temp\\ipykernel_11084\\3614904585.py:4: FutureWarning: The frame.append method is deprecated and will be removed from pandas in a future version. Use pandas.concat instead.\n",
      "  final_data = final_data.append(new_row, ignore_index = True)\n"
     ]
    },
    {
     "name": "stdout",
     "output_type": "stream",
     "text": [
      "nnnnnnnnnnnnnnnnnnnnn    USA\n",
      "condition verified\n",
      "nnnnnnnnnnnnnnnnnnnnn    USA\n",
      "nnnnnnnnnnnnnnnnnnnnn    USA\n",
      "nnnnnnnnnnnnnnnnnnnnn    Iran\n",
      "condition verified\n",
      "nnnnnnnnnnnnnnnnnnnnn    USA\n",
      "nnnnnnnnnnnnnnnnnnnnn   \n",
      "condition verified\n",
      "nnnnnnnnnnnnnnnnnnnnn   Island  USA\n",
      "condition verified\n"
     ]
    },
    {
     "name": "stderr",
     "output_type": "stream",
     "text": [
      "C:\\Users\\samir\\AppData\\Local\\Temp\\ipykernel_11084\\3614904585.py:4: FutureWarning: The frame.append method is deprecated and will be removed from pandas in a future version. Use pandas.concat instead.\n",
      "  final_data = final_data.append(new_row, ignore_index = True)\n",
      "C:\\Users\\samir\\AppData\\Local\\Temp\\ipykernel_11084\\3614904585.py:4: FutureWarning: The frame.append method is deprecated and will be removed from pandas in a future version. Use pandas.concat instead.\n",
      "  final_data = final_data.append(new_row, ignore_index = True)\n",
      "C:\\Users\\samir\\AppData\\Local\\Temp\\ipykernel_11084\\3614904585.py:4: FutureWarning: The frame.append method is deprecated and will be removed from pandas in a future version. Use pandas.concat instead.\n",
      "  final_data = final_data.append(new_row, ignore_index = True)\n"
     ]
    },
    {
     "name": "stdout",
     "output_type": "stream",
     "text": [
      "nnnnnnnnnnnnnnnnnnnnn    China\n",
      "condition verified\n",
      "nnnnnnnnnnnnnnnnnnnnn    China\n",
      "nnnnnnnnnnnnnnnnnnnnn    China\n",
      "nnnnnnnnnnnnnnnnnnnnn    China\n",
      "nnnnnnnnnnnnnnnnnnnnn    Australia\n",
      "condition verified\n"
     ]
    },
    {
     "name": "stderr",
     "output_type": "stream",
     "text": [
      "C:\\Users\\samir\\AppData\\Local\\Temp\\ipykernel_11084\\3614904585.py:4: FutureWarning: The frame.append method is deprecated and will be removed from pandas in a future version. Use pandas.concat instead.\n",
      "  final_data = final_data.append(new_row, ignore_index = True)\n",
      "C:\\Users\\samir\\AppData\\Local\\Temp\\ipykernel_11084\\3614904585.py:4: FutureWarning: The frame.append method is deprecated and will be removed from pandas in a future version. Use pandas.concat instead.\n",
      "  final_data = final_data.append(new_row, ignore_index = True)\n"
     ]
    },
    {
     "name": "stdout",
     "output_type": "stream",
     "text": [
      "nnnnnnnnnnnnnnnnnnnnn    China\n",
      "condition verified\n",
      "nnnnnnnnnnnnnnnnnnnnn    China\n",
      "nnnnnnnnnnnnnnnnnnnnn    China\n",
      "nnnnnnnnnnnnnnnnnnnnn    China\n",
      "nnnnnnnnnnnnnnnnnnnnn    China\n",
      "nnnnnnnnnnnnnnnnnnnnn    China\n"
     ]
    },
    {
     "name": "stderr",
     "output_type": "stream",
     "text": [
      "C:\\Users\\samir\\AppData\\Local\\Temp\\ipykernel_11084\\3614904585.py:4: FutureWarning: The frame.append method is deprecated and will be removed from pandas in a future version. Use pandas.concat instead.\n",
      "  final_data = final_data.append(new_row, ignore_index = True)\n"
     ]
    },
    {
     "name": "stdout",
     "output_type": "stream",
     "text": [
      "nnnnnnnnnnnnnnnnnnnnn    UAE\n",
      "condition verified\n",
      "nnnnnnnnnnnnnnnnnnnnn    UAE\n"
     ]
    },
    {
     "name": "stderr",
     "output_type": "stream",
     "text": [
      "C:\\Users\\samir\\AppData\\Local\\Temp\\ipykernel_11084\\3614904585.py:4: FutureWarning: The frame.append method is deprecated and will be removed from pandas in a future version. Use pandas.concat instead.\n",
      "  final_data = final_data.append(new_row, ignore_index = True)\n"
     ]
    },
    {
     "name": "stdout",
     "output_type": "stream",
     "text": [
      "nnnnnnnnnnnnnnnnnnnnn    China\n",
      "condition verified\n",
      "nnnnnnnnnnnnnnnnnnnnn    China\n",
      "nnnnnnnnnnnnnnnnnnnnn    China\n",
      "nnnnnnnnnnnnnnnnnnnnn    Canada\n",
      "condition verified\n",
      "nnnnnnnnnnnnnnnnnnnnn    China\n"
     ]
    },
    {
     "name": "stderr",
     "output_type": "stream",
     "text": [
      "C:\\Users\\samir\\AppData\\Local\\Temp\\ipykernel_11084\\3614904585.py:4: FutureWarning: The frame.append method is deprecated and will be removed from pandas in a future version. Use pandas.concat instead.\n",
      "  final_data = final_data.append(new_row, ignore_index = True)\n",
      "C:\\Users\\samir\\AppData\\Local\\Temp\\ipykernel_11084\\3614904585.py:4: FutureWarning: The frame.append method is deprecated and will be removed from pandas in a future version. Use pandas.concat instead.\n",
      "  final_data = final_data.append(new_row, ignore_index = True)\n"
     ]
    },
    {
     "name": "stdout",
     "output_type": "stream",
     "text": [
      "nnnnnnnnnnnnnnnnnnnnn    China\n",
      "condition verified\n",
      "nnnnnnnnnnnnnnnnnnnnn    China\n",
      "nnnnnnnnnnnnnnnnnnnnn    Australia\n",
      "condition verified\n",
      "nnnnnnnnnnnnnnnnnnnnn    USA\n",
      "condition verified\n",
      "nnnnnnnnnnnnnnnnnnnnn    USA\n"
     ]
    },
    {
     "name": "stderr",
     "output_type": "stream",
     "text": [
      "C:\\Users\\samir\\AppData\\Local\\Temp\\ipykernel_11084\\3614904585.py:4: FutureWarning: The frame.append method is deprecated and will be removed from pandas in a future version. Use pandas.concat instead.\n",
      "  final_data = final_data.append(new_row, ignore_index = True)\n",
      "C:\\Users\\samir\\AppData\\Local\\Temp\\ipykernel_11084\\3614904585.py:4: FutureWarning: The frame.append method is deprecated and will be removed from pandas in a future version. Use pandas.concat instead.\n",
      "  final_data = final_data.append(new_row, ignore_index = True)\n",
      "C:\\Users\\samir\\AppData\\Local\\Temp\\ipykernel_11084\\3614904585.py:4: FutureWarning: The frame.append method is deprecated and will be removed from pandas in a future version. Use pandas.concat instead.\n",
      "  final_data = final_data.append(new_row, ignore_index = True)\n"
     ]
    },
    {
     "name": "stdout",
     "output_type": "stream",
     "text": [
      "nnnnnnnnnnnnnnnnnnnnn    China\n",
      "condition verified\n",
      "nnnnnnnnnnnnnnnnnnnnn    China\n",
      "nnnnnnnnnnnnnnnnnnnnn    China\n",
      "nnnnnnnnnnnnnnnnnnnnn    China\n",
      "nnnnnnnnnnnnnnnnnnnnn    China\n",
      "nnnnnnnnnnnnnnnnnnnnn    China\n"
     ]
    },
    {
     "name": "stderr",
     "output_type": "stream",
     "text": [
      "C:\\Users\\samir\\AppData\\Local\\Temp\\ipykernel_11084\\3614904585.py:4: FutureWarning: The frame.append method is deprecated and will be removed from pandas in a future version. Use pandas.concat instead.\n",
      "  final_data = final_data.append(new_row, ignore_index = True)\n"
     ]
    },
    {
     "name": "stdout",
     "output_type": "stream",
     "text": [
      "nnnnnnnnnnnnnnnnnnnnn    India\n",
      "condition verified\n",
      "nnnnnnnnnnnnnnnnnnnnn    USA\n",
      "condition verified\n",
      "nnnnnnnnnnnnnnnnnnnnn    Taiwan\n",
      "condition verified\n"
     ]
    },
    {
     "name": "stderr",
     "output_type": "stream",
     "text": [
      "C:\\Users\\samir\\AppData\\Local\\Temp\\ipykernel_11084\\3614904585.py:4: FutureWarning: The frame.append method is deprecated and will be removed from pandas in a future version. Use pandas.concat instead.\n",
      "  final_data = final_data.append(new_row, ignore_index = True)\n",
      "C:\\Users\\samir\\AppData\\Local\\Temp\\ipykernel_11084\\3614904585.py:4: FutureWarning: The frame.append method is deprecated and will be removed from pandas in a future version. Use pandas.concat instead.\n",
      "  final_data = final_data.append(new_row, ignore_index = True)\n",
      "C:\\Users\\samir\\AppData\\Local\\Temp\\ipykernel_11084\\3614904585.py:4: FutureWarning: The frame.append method is deprecated and will be removed from pandas in a future version. Use pandas.concat instead.\n",
      "  final_data = final_data.append(new_row, ignore_index = True)\n"
     ]
    },
    {
     "name": "stdout",
     "output_type": "stream",
     "text": [
      "nnnnnnnnnnnnnnnnnnnnn    China\n",
      "condition verified\n",
      "nnnnnnnnnnnnnnnnnnnnn    China\n",
      "nnnnnnnnnnnnnnnnnnnnn    China\n",
      "nnnnnnnnnnnnnnnnnnnnn    USA\n",
      "condition verified\n",
      "nnnnnnnnnnnnnnnnnnnnn    China\n",
      "condition verified\n"
     ]
    },
    {
     "name": "stderr",
     "output_type": "stream",
     "text": [
      "C:\\Users\\samir\\AppData\\Local\\Temp\\ipykernel_11084\\3614904585.py:4: FutureWarning: The frame.append method is deprecated and will be removed from pandas in a future version. Use pandas.concat instead.\n",
      "  final_data = final_data.append(new_row, ignore_index = True)\n",
      "C:\\Users\\samir\\AppData\\Local\\Temp\\ipykernel_11084\\3614904585.py:4: FutureWarning: The frame.append method is deprecated and will be removed from pandas in a future version. Use pandas.concat instead.\n",
      "  final_data = final_data.append(new_row, ignore_index = True)\n"
     ]
    },
    {
     "name": "stdout",
     "output_type": "stream",
     "text": [
      "nnnnnnnnnnnnnnnnnnnnn    China\n",
      "nnnnnnnnnnnnnnnnnnnnn    China\n",
      "nnnnnnnnnnnnnnnnnnnnn    China\n"
     ]
    },
    {
     "name": "stderr",
     "output_type": "stream",
     "text": [
      "C:\\Users\\samir\\AppData\\Local\\Temp\\ipykernel_11084\\3614904585.py:4: FutureWarning: The frame.append method is deprecated and will be removed from pandas in a future version. Use pandas.concat instead.\n",
      "  final_data = final_data.append(new_row, ignore_index = True)\n"
     ]
    },
    {
     "name": "stdout",
     "output_type": "stream",
     "text": [
      "nnnnnnnnnnnnnnnnnnnnn    China\n",
      "condition verified\n",
      "nnnnnnnnnnnnnnnnnnnnn    China\n",
      "nnnnnnnnnnnnnnnnnnnnn    China\n",
      "nnnnnnnnnnnnnnnnnnnnn    China\n",
      "nnnnnnnnnnnnnnnnnnnnn    China\n",
      "nnnnnnnnnnnnnnnnnnnnn    China\n",
      "nnnnnnnnnnnnnnnnnnnnn    China\n",
      "condition verified\n"
     ]
    },
    {
     "name": "stderr",
     "output_type": "stream",
     "text": [
      "C:\\Users\\samir\\AppData\\Local\\Temp\\ipykernel_11084\\3614904585.py:4: FutureWarning: The frame.append method is deprecated and will be removed from pandas in a future version. Use pandas.concat instead.\n",
      "  final_data = final_data.append(new_row, ignore_index = True)\n"
     ]
    },
    {
     "name": "stdout",
     "output_type": "stream",
     "text": [
      "nnnnnnnnnnnnnnnnnnnnn    China\n",
      "nnnnnnnnnnnnnnnnnnnnn    China\n",
      "nnnnnnnnnnnnnnnnnnnnn    USA\n",
      "condition verified\n"
     ]
    },
    {
     "name": "stderr",
     "output_type": "stream",
     "text": [
      "C:\\Users\\samir\\AppData\\Local\\Temp\\ipykernel_11084\\3614904585.py:4: FutureWarning: The frame.append method is deprecated and will be removed from pandas in a future version. Use pandas.concat instead.\n",
      "  final_data = final_data.append(new_row, ignore_index = True)\n",
      "C:\\Users\\samir\\AppData\\Local\\Temp\\ipykernel_11084\\3614904585.py:4: FutureWarning: The frame.append method is deprecated and will be removed from pandas in a future version. Use pandas.concat instead.\n",
      "  final_data = final_data.append(new_row, ignore_index = True)\n"
     ]
    },
    {
     "name": "stdout",
     "output_type": "stream",
     "text": [
      "nnnnnnnnnnnnnnnnnnnnn    China\n",
      "condition verified\n",
      "nnnnnnnnnnnnnnnnnnnnn    China\n",
      "nnnnnnnnnnnnnnnnnnnnn    China\n",
      "nnnnnnnnnnnnnnnnnnnnn    China\n",
      "nnnnnnnnnnnnnnnnnnnnn   Macau  China\n",
      "condition verified\n",
      "nnnnnnnnnnnnnnnnnnnnn    China\n"
     ]
    },
    {
     "name": "stderr",
     "output_type": "stream",
     "text": [
      "C:\\Users\\samir\\AppData\\Local\\Temp\\ipykernel_11084\\3614904585.py:4: FutureWarning: The frame.append method is deprecated and will be removed from pandas in a future version. Use pandas.concat instead.\n",
      "  final_data = final_data.append(new_row, ignore_index = True)\n",
      "C:\\Users\\samir\\AppData\\Local\\Temp\\ipykernel_11084\\3614904585.py:4: FutureWarning: The frame.append method is deprecated and will be removed from pandas in a future version. Use pandas.concat instead.\n",
      "  final_data = final_data.append(new_row, ignore_index = True)\n"
     ]
    },
    {
     "name": "stdout",
     "output_type": "stream",
     "text": [
      "nnnnnnnnnnnnnnnnnnnnn    China\n",
      "condition verified\n",
      "nnnnnnnnnnnnnnnnnnnnn    China\n",
      "nnnnnnnnnnnnnnnnnnnnn    China\n",
      "nnnnnnnnnnnnnnnnnnnnn    China\n",
      "nnnnnnnnnnnnnnnnnnnnn    China\n",
      "condition verified\n"
     ]
    },
    {
     "name": "stderr",
     "output_type": "stream",
     "text": [
      "C:\\Users\\samir\\AppData\\Local\\Temp\\ipykernel_11084\\3614904585.py:4: FutureWarning: The frame.append method is deprecated and will be removed from pandas in a future version. Use pandas.concat instead.\n",
      "  final_data = final_data.append(new_row, ignore_index = True)\n"
     ]
    },
    {
     "name": "stdout",
     "output_type": "stream",
     "text": [
      "nnnnnnnnnnnnnnnnnnnnn    China\n",
      "nnnnnnnnnnnnnnnnnnnnn    China\n"
     ]
    },
    {
     "name": "stderr",
     "output_type": "stream",
     "text": [
      "C:\\Users\\samir\\AppData\\Local\\Temp\\ipykernel_11084\\3614904585.py:4: FutureWarning: The frame.append method is deprecated and will be removed from pandas in a future version. Use pandas.concat instead.\n",
      "  final_data = final_data.append(new_row, ignore_index = True)\n"
     ]
    },
    {
     "name": "stdout",
     "output_type": "stream",
     "text": [
      "nnnnnnnnnnnnnnnnnnnnn    China\n",
      "condition verified\n",
      "nnnnnnnnnnnnnnnnnnnnn    China\n",
      "nnnnnnnnnnnnnnnnnnnnn   China  China\n",
      "condition verified\n",
      "nnnnnnnnnnnnnnnnnnnnn    China\n",
      "nnnnnnnnnnnnnnnnnnnnn    China\n",
      "nnnnnnnnnnnnnnnnnnnnn    China\n",
      "nnnnnnnnnnnnnnnnnnnnn    Spain\n",
      "condition verified\n"
     ]
    },
    {
     "name": "stderr",
     "output_type": "stream",
     "text": [
      "C:\\Users\\samir\\AppData\\Local\\Temp\\ipykernel_11084\\3614904585.py:4: FutureWarning: The frame.append method is deprecated and will be removed from pandas in a future version. Use pandas.concat instead.\n",
      "  final_data = final_data.append(new_row, ignore_index = True)\n",
      "C:\\Users\\samir\\AppData\\Local\\Temp\\ipykernel_11084\\3614904585.py:4: FutureWarning: The frame.append method is deprecated and will be removed from pandas in a future version. Use pandas.concat instead.\n",
      "  final_data = final_data.append(new_row, ignore_index = True)\n"
     ]
    },
    {
     "name": "stdout",
     "output_type": "stream",
     "text": [
      "nnnnnnnnnnnnnnnnnnnnn    Spain\n",
      "nnnnnnnnnnnnnnnnnnnnn    Spain\n",
      "nnnnnnnnnnnnnnnnnnnnn    Spain\n",
      "nnnnnnnnnnnnnnnnnnnnn    Spain\n",
      "nnnnnnnnnnnnnnnnnnnnn \n",
      "condition verified\n"
     ]
    },
    {
     "name": "stderr",
     "output_type": "stream",
     "text": [
      "C:\\Users\\samir\\AppData\\Local\\Temp\\ipykernel_11084\\3614904585.py:4: FutureWarning: The frame.append method is deprecated and will be removed from pandas in a future version. Use pandas.concat instead.\n",
      "  final_data = final_data.append(new_row, ignore_index = True)\n"
     ]
    },
    {
     "name": "stdout",
     "output_type": "stream",
     "text": [
      "nnnnnnnnnnnnnnnnnnnnn \n",
      "nnnnnnnnnnnnnnnnnnnnn  \n",
      "nnnnnnnnnnnnnnnnnnnnn    Brazil\n",
      "condition verified\n",
      "nnnnnnnnnnnnnnnnnnnnn  \n",
      "nnnnnnnnnnnnnnnnnnnnn \n",
      "nnnnnnnnnnnnnnnnnnnnn  \n",
      "nnnnnnnnnnnnnnnnnnnnn    Brazil\n",
      "nnnnnnnnnnnnnnnnnnnnn  \n",
      "nnnnnnnnnnnnnnnnnnnnn \n",
      "nnnnnnnnnnnnnnnnnnnnn  \n",
      "nnnnnnnnnnnnnnnnnnnnn    Brazil\n",
      "nnnnnnnnnnnnnnnnnnnnn   \n",
      "condition verified\n",
      "nnnnnnnnnnnnnnnnnnnnn   PA  USA\n",
      "condition verified\n"
     ]
    },
    {
     "name": "stderr",
     "output_type": "stream",
     "text": [
      "C:\\Users\\samir\\AppData\\Local\\Temp\\ipykernel_11084\\3614904585.py:4: FutureWarning: The frame.append method is deprecated and will be removed from pandas in a future version. Use pandas.concat instead.\n",
      "  final_data = final_data.append(new_row, ignore_index = True)\n",
      "C:\\Users\\samir\\AppData\\Local\\Temp\\ipykernel_11084\\3614904585.py:4: FutureWarning: The frame.append method is deprecated and will be removed from pandas in a future version. Use pandas.concat instead.\n",
      "  final_data = final_data.append(new_row, ignore_index = True)\n"
     ]
    },
    {
     "name": "stdout",
     "output_type": "stream",
     "text": [
      "nnnnnnnnnnnnnnnnnnnnn    PR China\n",
      "condition verified\n",
      "nnnnnnnnnnnnnnnnnnnnn    PR China\n",
      "nnnnnnnnnnnnnnnnnnnnn    Australia\n",
      "condition verified\n",
      "nnnnnnnnnnnnnnnnnnnnn    PR China\n",
      "nnnnnnnnnnnnnnnnnnnnn    Australia\n",
      "nnnnnnnnnnnnnnnnnnnnn   Singapore  Singapore\n",
      "condition verified\n"
     ]
    },
    {
     "name": "stderr",
     "output_type": "stream",
     "text": [
      "C:\\Users\\samir\\AppData\\Local\\Temp\\ipykernel_11084\\3614904585.py:4: FutureWarning: The frame.append method is deprecated and will be removed from pandas in a future version. Use pandas.concat instead.\n",
      "  final_data = final_data.append(new_row, ignore_index = True)\n",
      "C:\\Users\\samir\\AppData\\Local\\Temp\\ipykernel_11084\\3614904585.py:4: FutureWarning: The frame.append method is deprecated and will be removed from pandas in a future version. Use pandas.concat instead.\n",
      "  final_data = final_data.append(new_row, ignore_index = True)\n",
      "C:\\Users\\samir\\AppData\\Local\\Temp\\ipykernel_11084\\3614904585.py:4: FutureWarning: The frame.append method is deprecated and will be removed from pandas in a future version. Use pandas.concat instead.\n",
      "  final_data = final_data.append(new_row, ignore_index = True)\n"
     ]
    },
    {
     "name": "stdout",
     "output_type": "stream",
     "text": [
      "nnnnnnnnnnnnnnnnnnnnn    China\n",
      "condition verified\n",
      "nnnnnnnnnnnnnnnnnnnnn    China\n",
      "nnnnnnnnnnnnnnnnnnnnn    China\n",
      "nnnnnnnnnnnnnnnnnnnnn    China\n",
      "nnnnnnnnnnnnnnnnnnnnn    China\n",
      "nnnnnnnnnnnnnnnnnnnnn   \n",
      "condition verified\n"
     ]
    },
    {
     "name": "stderr",
     "output_type": "stream",
     "text": [
      "C:\\Users\\samir\\AppData\\Local\\Temp\\ipykernel_11084\\3614904585.py:4: FutureWarning: The frame.append method is deprecated and will be removed from pandas in a future version. Use pandas.concat instead.\n",
      "  final_data = final_data.append(new_row, ignore_index = True)\n"
     ]
    },
    {
     "name": "stdout",
     "output_type": "stream",
     "text": [
      "nnnnnnnnnnnnnnnnnnnnn  \n",
      "nnnnnnnnnnnnnnnnnnnnn  \n",
      "nnnnnnnnnnnnnnnnnnnnn   \n",
      "nnnnnnnnnnnnnnnnnnnnn   Japan \n",
      "condition verified\n",
      "nnnnnnnnnnnnnnnnnnnnn   Japan \n"
     ]
    },
    {
     "name": "stderr",
     "output_type": "stream",
     "text": [
      "C:\\Users\\samir\\AppData\\Local\\Temp\\ipykernel_11084\\3614904585.py:4: FutureWarning: The frame.append method is deprecated and will be removed from pandas in a future version. Use pandas.concat instead.\n",
      "  final_data = final_data.append(new_row, ignore_index = True)\n"
     ]
    },
    {
     "name": "stdout",
     "output_type": "stream",
     "text": [
      "nnnnnnnnnnnnnnnnnnnnn    Greece\n",
      "condition verified\n",
      "nnnnnnnnnnnnnnnnnnnnn    Greece\n",
      "nnnnnnnnnnnnnnnnnnnnn   \n",
      "condition verified\n",
      "nnnnnnnnnnnnnnnnnnnnn    Greece\n",
      "nnnnnnnnnnnnnnnnnnnnn   \n",
      "nnnnnnnnnnnnnnnnnnnnn   \n",
      "nnnnnnnnnnnnnnnnnnnnn  NA\n",
      "condition verified\n",
      "nnnnnnnnnnnnnnnnnnnnn   NA\n",
      "condition verified\n"
     ]
    },
    {
     "name": "stderr",
     "output_type": "stream",
     "text": [
      "C:\\Users\\samir\\AppData\\Local\\Temp\\ipykernel_11084\\3614904585.py:4: FutureWarning: The frame.append method is deprecated and will be removed from pandas in a future version. Use pandas.concat instead.\n",
      "  final_data = final_data.append(new_row, ignore_index = True)\n"
     ]
    },
    {
     "name": "stdout",
     "output_type": "stream",
     "text": [
      "nnnnnnnnnnnnnnnnnnnnn   NA\n",
      "nnnnnnnnnnnnnnnnnnnnn  NA\n",
      "condition verified\n",
      "nnnnnnnnnnnnnnnnnnnnn   NA\n",
      "condition verified\n"
     ]
    },
    {
     "name": "stderr",
     "output_type": "stream",
     "text": [
      "C:\\Users\\samir\\AppData\\Local\\Temp\\ipykernel_11084\\3614904585.py:4: FutureWarning: The frame.append method is deprecated and will be removed from pandas in a future version. Use pandas.concat instead.\n",
      "  final_data = final_data.append(new_row, ignore_index = True)\n",
      "C:\\Users\\samir\\AppData\\Local\\Temp\\ipykernel_11084\\3614904585.py:4: FutureWarning: The frame.append method is deprecated and will be removed from pandas in a future version. Use pandas.concat instead.\n",
      "  final_data = final_data.append(new_row, ignore_index = True)\n"
     ]
    },
    {
     "name": "stdout",
     "output_type": "stream",
     "text": [
      "nnnnnnnnnnnnnnnnnnnnn   NA\n",
      "nnnnnnnnnnnnnnnnnnnnn   NA\n"
     ]
    },
    {
     "name": "stderr",
     "output_type": "stream",
     "text": [
      "C:\\Users\\samir\\AppData\\Local\\Temp\\ipykernel_11084\\3614904585.py:4: FutureWarning: The frame.append method is deprecated and will be removed from pandas in a future version. Use pandas.concat instead.\n",
      "  final_data = final_data.append(new_row, ignore_index = True)\n",
      "C:\\Users\\samir\\AppData\\Local\\Temp\\ipykernel_11084\\3614904585.py:4: FutureWarning: The frame.append method is deprecated and will be removed from pandas in a future version. Use pandas.concat instead.\n",
      "  final_data = final_data.append(new_row, ignore_index = True)\n"
     ]
    },
    {
     "name": "stdout",
     "output_type": "stream",
     "text": [
      "nnnnnnnnnnnnnnnnnnnnn    China\n",
      "condition verified\n",
      "nnnnnnnnnnnnnnnnnnnnn    China\n",
      "nnnnnnnnnnnnnnnnnnnnn   Singapore  Singapore\n",
      "condition verified\n",
      "nnnnnnnnnnnnnnnnnnnnn    China\n",
      "nnnnnnnnnnnnnnnnnnnnn    China\n",
      "nnnnnnnnnnnnnnnnnnnnn    China\n",
      "nnnnnnnnnnnnnnnnnnnnn    China\n",
      "nnnnnnnnnnnnnnnnnnnnn    India\n",
      "condition verified\n"
     ]
    },
    {
     "name": "stderr",
     "output_type": "stream",
     "text": [
      "C:\\Users\\samir\\AppData\\Local\\Temp\\ipykernel_11084\\3614904585.py:4: FutureWarning: The frame.append method is deprecated and will be removed from pandas in a future version. Use pandas.concat instead.\n",
      "  final_data = final_data.append(new_row, ignore_index = True)\n",
      "C:\\Users\\samir\\AppData\\Local\\Temp\\ipykernel_11084\\3614904585.py:4: FutureWarning: The frame.append method is deprecated and will be removed from pandas in a future version. Use pandas.concat instead.\n",
      "  final_data = final_data.append(new_row, ignore_index = True)\n"
     ]
    },
    {
     "name": "stdout",
     "output_type": "stream",
     "text": [
      "nnnnnnnnnnnnnnnnnnnnn   \n",
      "condition verified\n"
     ]
    },
    {
     "name": "stderr",
     "output_type": "stream",
     "text": [
      "C:\\Users\\samir\\AppData\\Local\\Temp\\ipykernel_11084\\3614904585.py:4: FutureWarning: The frame.append method is deprecated and will be removed from pandas in a future version. Use pandas.concat instead.\n",
      "  final_data = final_data.append(new_row, ignore_index = True)\n"
     ]
    },
    {
     "name": "stdout",
     "output_type": "stream",
     "text": [
      "nnnnnnnnnnnnnnnnnnnnn    UK\n",
      "condition verified\n",
      "nnnnnnnnnnnnnnnnnnnnn    USA\n",
      "condition verified\n"
     ]
    },
    {
     "name": "stderr",
     "output_type": "stream",
     "text": [
      "C:\\Users\\samir\\AppData\\Local\\Temp\\ipykernel_11084\\3614904585.py:4: FutureWarning: The frame.append method is deprecated and will be removed from pandas in a future version. Use pandas.concat instead.\n",
      "  final_data = final_data.append(new_row, ignore_index = True)\n",
      "C:\\Users\\samir\\AppData\\Local\\Temp\\ipykernel_11084\\3614904585.py:4: FutureWarning: The frame.append method is deprecated and will be removed from pandas in a future version. Use pandas.concat instead.\n",
      "  final_data = final_data.append(new_row, ignore_index = True)\n"
     ]
    },
    {
     "name": "stdout",
     "output_type": "stream",
     "text": [
      "nnnnnnnnnnnnnnnnnnnnn    India\n",
      "condition verified\n",
      "nnnnnnnnnnnnnnnnnnnnn    Estonia\n",
      "condition verified\n",
      "nnnnnnnnnnnnnnnnnnnnn   \n",
      "condition verified\n",
      "nnnnnnnnnnnnnnnnnnnnn    India\n",
      "nnnnnnnnnnnnnnnnnnnnn    India\n",
      "nnnnnnnnnnnnnnnnnnnnn    India\n",
      "nnnnnnnnnnnnnnnnnnnnn    Iran\n",
      "condition verified\n"
     ]
    },
    {
     "name": "stderr",
     "output_type": "stream",
     "text": [
      "C:\\Users\\samir\\AppData\\Local\\Temp\\ipykernel_11084\\3614904585.py:4: FutureWarning: The frame.append method is deprecated and will be removed from pandas in a future version. Use pandas.concat instead.\n",
      "  final_data = final_data.append(new_row, ignore_index = True)\n",
      "C:\\Users\\samir\\AppData\\Local\\Temp\\ipykernel_11084\\3614904585.py:4: FutureWarning: The frame.append method is deprecated and will be removed from pandas in a future version. Use pandas.concat instead.\n",
      "  final_data = final_data.append(new_row, ignore_index = True)\n",
      "C:\\Users\\samir\\AppData\\Local\\Temp\\ipykernel_11084\\3614904585.py:4: FutureWarning: The frame.append method is deprecated and will be removed from pandas in a future version. Use pandas.concat instead.\n",
      "  final_data = final_data.append(new_row, ignore_index = True)\n"
     ]
    },
    {
     "name": "stdout",
     "output_type": "stream",
     "text": [
      "nnnnnnnnnnnnnnnnnnnnn   SC  USA\n",
      "condition verified\n",
      "nnnnnnnnnnnnnnnnnnnnn   SC  USA\n",
      "nnnnnnnnnnnnnnnnnnnnn   SC  USA\n",
      "nnnnnnnnnnnnnnnnnnnnn    USA\n",
      "condition verified\n"
     ]
    },
    {
     "name": "stderr",
     "output_type": "stream",
     "text": [
      "C:\\Users\\samir\\AppData\\Local\\Temp\\ipykernel_11084\\3614904585.py:4: FutureWarning: The frame.append method is deprecated and will be removed from pandas in a future version. Use pandas.concat instead.\n",
      "  final_data = final_data.append(new_row, ignore_index = True)\n",
      "C:\\Users\\samir\\AppData\\Local\\Temp\\ipykernel_11084\\3614904585.py:4: FutureWarning: The frame.append method is deprecated and will be removed from pandas in a future version. Use pandas.concat instead.\n",
      "  final_data = final_data.append(new_row, ignore_index = True)\n"
     ]
    },
    {
     "name": "stdout",
     "output_type": "stream",
     "text": [
      "nnnnnnnnnnnnnnnnnnnnn    China\n",
      "condition verified\n",
      "nnnnnnnnnnnnnnnnnnnnn    China\n"
     ]
    },
    {
     "name": "stderr",
     "output_type": "stream",
     "text": [
      "C:\\Users\\samir\\AppData\\Local\\Temp\\ipykernel_11084\\3614904585.py:4: FutureWarning: The frame.append method is deprecated and will be removed from pandas in a future version. Use pandas.concat instead.\n",
      "  final_data = final_data.append(new_row, ignore_index = True)\n"
     ]
    },
    {
     "name": "stdout",
     "output_type": "stream",
     "text": [
      "nnnnnnnnnnnnnnnnnnnnn   \n",
      "condition verified\n",
      "nnnnnnnnnnnnnnnnnnnnn   \n",
      "nnnnnnnnnnnnnnnnnnnnn   \n",
      "nnnnnnnnnnnnnnnnnnnnn   \n",
      "nnnnnnnnnnnnnnnnnnnnn   \n",
      "nnnnnnnnnnnnnnnnnnnnn   China \n",
      "condition verified\n",
      "nnnnnnnnnnnnnnnnnnnnn  NA\n",
      "condition verified\n",
      "nnnnnnnnnnnnnnnnnnnnn   NA\n",
      "condition verified\n"
     ]
    },
    {
     "name": "stderr",
     "output_type": "stream",
     "text": [
      "C:\\Users\\samir\\AppData\\Local\\Temp\\ipykernel_11084\\3614904585.py:4: FutureWarning: The frame.append method is deprecated and will be removed from pandas in a future version. Use pandas.concat instead.\n",
      "  final_data = final_data.append(new_row, ignore_index = True)\n"
     ]
    },
    {
     "name": "stdout",
     "output_type": "stream",
     "text": [
      "nnnnnnnnnnnnnnnnnnnnn   NA\n",
      "nnnnnnnnnnnnnnnnnnnnn   NA\n",
      "nnnnnnnnnnnnnnnnnnnnn   NA\n",
      "nnnnnnnnnnnnnnnnnnnnn   NA\n",
      "nnnnnnnnnnnnnnnnnnnnn   NA\n",
      "nnnnnnnnnnnnnnnnnnnnn   NA\n",
      "nnnnnnnnnnnnnnnnnnnnn  NA\n",
      "condition verified\n",
      "nnnnnnnnnnnnnnnnnnnnn   NA\n",
      "condition verified\n"
     ]
    },
    {
     "name": "stderr",
     "output_type": "stream",
     "text": [
      "C:\\Users\\samir\\AppData\\Local\\Temp\\ipykernel_11084\\3614904585.py:4: FutureWarning: The frame.append method is deprecated and will be removed from pandas in a future version. Use pandas.concat instead.\n",
      "  final_data = final_data.append(new_row, ignore_index = True)\n",
      "C:\\Users\\samir\\AppData\\Local\\Temp\\ipykernel_11084\\3614904585.py:4: FutureWarning: The frame.append method is deprecated and will be removed from pandas in a future version. Use pandas.concat instead.\n",
      "  final_data = final_data.append(new_row, ignore_index = True)\n"
     ]
    },
    {
     "name": "stdout",
     "output_type": "stream",
     "text": [
      "nnnnnnnnnnnnnnnnnnnnn   NA\n",
      "nnnnnnnnnnnnnnnnnnnnn   NA\n",
      "nnnnnnnnnnnnnnnnnnnnn   NA\n"
     ]
    },
    {
     "name": "stderr",
     "output_type": "stream",
     "text": [
      "C:\\Users\\samir\\AppData\\Local\\Temp\\ipykernel_11084\\3614904585.py:4: FutureWarning: The frame.append method is deprecated and will be removed from pandas in a future version. Use pandas.concat instead.\n",
      "  final_data = final_data.append(new_row, ignore_index = True)\n",
      "C:\\Users\\samir\\AppData\\Local\\Temp\\ipykernel_11084\\3614904585.py:4: FutureWarning: The frame.append method is deprecated and will be removed from pandas in a future version. Use pandas.concat instead.\n",
      "  final_data = final_data.append(new_row, ignore_index = True)\n"
     ]
    },
    {
     "name": "stdout",
     "output_type": "stream",
     "text": [
      "nnnnnnnnnnnnnnnnnnnnn   India \n",
      "condition verified\n",
      "nnnnnnnnnnnnnnnnnnnnn   Australia \n",
      "condition verified\n",
      "nnnnnnnnnnnnnnnnnnnnn    China\n",
      "condition verified\n"
     ]
    },
    {
     "name": "stderr",
     "output_type": "stream",
     "text": [
      "C:\\Users\\samir\\AppData\\Local\\Temp\\ipykernel_11084\\3614904585.py:4: FutureWarning: The frame.append method is deprecated and will be removed from pandas in a future version. Use pandas.concat instead.\n",
      "  final_data = final_data.append(new_row, ignore_index = True)\n",
      "C:\\Users\\samir\\AppData\\Local\\Temp\\ipykernel_11084\\3614904585.py:4: FutureWarning: The frame.append method is deprecated and will be removed from pandas in a future version. Use pandas.concat instead.\n",
      "  final_data = final_data.append(new_row, ignore_index = True)\n"
     ]
    },
    {
     "name": "stdout",
     "output_type": "stream",
     "text": [
      "nnnnnnnnnnnnnnnnnnnnn    China\n",
      "nnnnnnnnnnnnnnnnnnnnn    US\n",
      "condition verified\n",
      "nnnnnnnnnnnnnnnnnnnnn    China\n",
      "nnnnnnnnnnnnnnnnnnnnn    China\n",
      "nnnnnnnnnnnnnnnnnnnnn    China\n",
      "nnnnnnnnnnnnnnnnnnnnn    China\n",
      "nnnnnnnnnnnnnnnnnnnnn    China\n"
     ]
    },
    {
     "name": "stderr",
     "output_type": "stream",
     "text": [
      "C:\\Users\\samir\\AppData\\Local\\Temp\\ipykernel_11084\\3614904585.py:4: FutureWarning: The frame.append method is deprecated and will be removed from pandas in a future version. Use pandas.concat instead.\n",
      "  final_data = final_data.append(new_row, ignore_index = True)\n",
      "C:\\Users\\samir\\AppData\\Local\\Temp\\ipykernel_11084\\3614904585.py:4: FutureWarning: The frame.append method is deprecated and will be removed from pandas in a future version. Use pandas.concat instead.\n",
      "  final_data = final_data.append(new_row, ignore_index = True)\n"
     ]
    },
    {
     "name": "stdout",
     "output_type": "stream",
     "text": [
      "nnnnnnnnnnnnnnnnnnnnn    France\n",
      "condition verified\n",
      "nnnnnnnnnnnnnnnnnnnnn    France\n",
      "nnnnnnnnnnnnnnnnnnnnn    France\n"
     ]
    },
    {
     "name": "stderr",
     "output_type": "stream",
     "text": [
      "C:\\Users\\samir\\AppData\\Local\\Temp\\ipykernel_11084\\3614904585.py:4: FutureWarning: The frame.append method is deprecated and will be removed from pandas in a future version. Use pandas.concat instead.\n",
      "  final_data = final_data.append(new_row, ignore_index = True)\n"
     ]
    },
    {
     "name": "stdout",
     "output_type": "stream",
     "text": [
      "nnnnnnnnnnnnnnnnnnnnn   China \n",
      "condition verified\n",
      "nnnnnnnnnnnnnnnnnnnnn   China \n",
      "nnnnnnnnnnnnnnnnnnnnn   China \n",
      "nnnnnnnnnnnnnnnnnnnnn   China \n",
      "nnnnnnnnnnnnnnnnnnnnn   China \n",
      "nnnnnnnnnnnnnnnnnnnnn   China \n"
     ]
    },
    {
     "name": "stderr",
     "output_type": "stream",
     "text": [
      "C:\\Users\\samir\\AppData\\Local\\Temp\\ipykernel_11084\\3614904585.py:4: FutureWarning: The frame.append method is deprecated and will be removed from pandas in a future version. Use pandas.concat instead.\n",
      "  final_data = final_data.append(new_row, ignore_index = True)\n"
     ]
    },
    {
     "name": "stdout",
     "output_type": "stream",
     "text": [
      "nnnnnnnnnnnnnnnnnnnnn   China \n",
      "condition verified\n",
      "nnnnnnnnnnnnnnnnnnnnn   \n",
      "condition verified\n",
      "nnnnnnnnnnnnnnnnnnnnn   \n",
      "nnnnnnnnnnnnnnnnnnnnn   China \n",
      "nnnnnnnnnnnnnnnnnnnnn   China \n",
      "nnnnnnnnnnnnnnnnnnnnn   China \n"
     ]
    },
    {
     "name": "stderr",
     "output_type": "stream",
     "text": [
      "C:\\Users\\samir\\AppData\\Local\\Temp\\ipykernel_11084\\3614904585.py:4: FutureWarning: The frame.append method is deprecated and will be removed from pandas in a future version. Use pandas.concat instead.\n",
      "  final_data = final_data.append(new_row, ignore_index = True)\n"
     ]
    },
    {
     "name": "stdout",
     "output_type": "stream",
     "text": [
      "nnnnnnnnnnnnnnnnnnnnn   \n",
      "condition verified\n",
      "nnnnnnnnnnnnnnnnnnnnn   \n",
      "nnnnnnnnnnnnnnnnnnnnn   Canada \n",
      "condition verified\n",
      "nnnnnnnnnnnnnnnnnnnnn   \n"
     ]
    },
    {
     "name": "stderr",
     "output_type": "stream",
     "text": [
      "C:\\Users\\samir\\AppData\\Local\\Temp\\ipykernel_11084\\3614904585.py:4: FutureWarning: The frame.append method is deprecated and will be removed from pandas in a future version. Use pandas.concat instead.\n",
      "  final_data = final_data.append(new_row, ignore_index = True)\n"
     ]
    },
    {
     "name": "stdout",
     "output_type": "stream",
     "text": [
      "nnnnnnnnnnnnnnnnnnnnn    China\n",
      "condition verified\n",
      "nnnnnnnnnnnnnnnnnnnnn    China\n",
      "nnnnnnnnnnnnnnnnnnnnn    China\n",
      "nnnnnnnnnnnnnnnnnnnnn   NC  USA\n",
      "condition verified\n",
      "nnnnnnnnnnnnnnnnnnnnn    China\n"
     ]
    },
    {
     "name": "stderr",
     "output_type": "stream",
     "text": [
      "C:\\Users\\samir\\AppData\\Local\\Temp\\ipykernel_11084\\3614904585.py:4: FutureWarning: The frame.append method is deprecated and will be removed from pandas in a future version. Use pandas.concat instead.\n",
      "  final_data = final_data.append(new_row, ignore_index = True)\n",
      "C:\\Users\\samir\\AppData\\Local\\Temp\\ipykernel_11084\\3614904585.py:4: FutureWarning: The frame.append method is deprecated and will be removed from pandas in a future version. Use pandas.concat instead.\n",
      "  final_data = final_data.append(new_row, ignore_index = True)\n"
     ]
    },
    {
     "name": "stdout",
     "output_type": "stream",
     "text": [
      "nnnnnnnnnnnnnnnnnnnnn    Canada\n",
      "condition verified\n",
      "nnnnnnnnnnnnnnnnnnnnn    Canada\n",
      "nnnnnnnnnnnnnnnnnnnnn    Canada\n",
      "nnnnnnnnnnnnnnnnnnnnn  NA\n",
      "condition verified\n",
      "nnnnnnnnnnnnnnnnnnnnn   NA\n",
      "condition verified\n"
     ]
    },
    {
     "name": "stderr",
     "output_type": "stream",
     "text": [
      "C:\\Users\\samir\\AppData\\Local\\Temp\\ipykernel_11084\\3614904585.py:4: FutureWarning: The frame.append method is deprecated and will be removed from pandas in a future version. Use pandas.concat instead.\n",
      "  final_data = final_data.append(new_row, ignore_index = True)\n"
     ]
    },
    {
     "name": "stdout",
     "output_type": "stream",
     "text": [
      "nnnnnnnnnnnnnnnnnnnnn   NA\n",
      "nnnnnnnnnnnnnnnnnnnnn   NA\n"
     ]
    },
    {
     "name": "stderr",
     "output_type": "stream",
     "text": [
      "C:\\Users\\samir\\AppData\\Local\\Temp\\ipykernel_11084\\3614904585.py:4: FutureWarning: The frame.append method is deprecated and will be removed from pandas in a future version. Use pandas.concat instead.\n",
      "  final_data = final_data.append(new_row, ignore_index = True)\n",
      "C:\\Users\\samir\\AppData\\Local\\Temp\\ipykernel_11084\\3614904585.py:4: FutureWarning: The frame.append method is deprecated and will be removed from pandas in a future version. Use pandas.concat instead.\n",
      "  final_data = final_data.append(new_row, ignore_index = True)\n"
     ]
    },
    {
     "name": "stdout",
     "output_type": "stream",
     "text": [
      "nnnnnnnnnnnnnnnnnnnnn   \n",
      "condition verified\n",
      "nnnnnnnnnnnnnnnnnnnnn   \n",
      "nnnnnnnnnnnnnnnnnnnnn    USA\n",
      "condition verified\n",
      "nnnnnnnnnnnnnnnnnnnnn   \n",
      "nnnnnnnnnnnnnnnnnnnnn  NA\n",
      "condition verified\n"
     ]
    },
    {
     "name": "stderr",
     "output_type": "stream",
     "text": [
      "C:\\Users\\samir\\AppData\\Local\\Temp\\ipykernel_11084\\3614904585.py:4: FutureWarning: The frame.append method is deprecated and will be removed from pandas in a future version. Use pandas.concat instead.\n",
      "  final_data = final_data.append(new_row, ignore_index = True)\n"
     ]
    },
    {
     "name": "stdout",
     "output_type": "stream",
     "text": [
      "nnnnnnnnnnnnnnnnnnnnn   NA\n",
      "condition verified\n",
      "nnnnnnnnnnnnnnnnnnnnn   NA\n",
      "nnnnnnnnnnnnnnnnnnnnn   NA\n",
      "nnnnnnnnnnnnnnnnnnnnn   NA\n",
      "nnnnnnnnnnnnnnnnnnnnn   NA\n",
      "nnnnnnnnnnnnnnnnnnnnn  NA\n",
      "condition verified\n"
     ]
    },
    {
     "name": "stderr",
     "output_type": "stream",
     "text": [
      "C:\\Users\\samir\\AppData\\Local\\Temp\\ipykernel_11084\\3614904585.py:4: FutureWarning: The frame.append method is deprecated and will be removed from pandas in a future version. Use pandas.concat instead.\n",
      "  final_data = final_data.append(new_row, ignore_index = True)\n",
      "C:\\Users\\samir\\AppData\\Local\\Temp\\ipykernel_11084\\3614904585.py:4: FutureWarning: The frame.append method is deprecated and will be removed from pandas in a future version. Use pandas.concat instead.\n",
      "  final_data = final_data.append(new_row, ignore_index = True)\n"
     ]
    },
    {
     "name": "stdout",
     "output_type": "stream",
     "text": [
      "nnnnnnnnnnnnnnnnnnnnn   NA\n",
      "condition verified\n",
      "nnnnnnnnnnnnnnnnnnnnn   NA\n",
      "nnnnnnnnnnnnnnnnnnnnn   NA\n",
      "nnnnnnnnnnnnnnnnnnnnn   NA\n"
     ]
    },
    {
     "name": "stderr",
     "output_type": "stream",
     "text": [
      "C:\\Users\\samir\\AppData\\Local\\Temp\\ipykernel_11084\\3614904585.py:4: FutureWarning: The frame.append method is deprecated and will be removed from pandas in a future version. Use pandas.concat instead.\n",
      "  final_data = final_data.append(new_row, ignore_index = True)\n",
      "C:\\Users\\samir\\AppData\\Local\\Temp\\ipykernel_11084\\3614904585.py:4: FutureWarning: The frame.append method is deprecated and will be removed from pandas in a future version. Use pandas.concat instead.\n",
      "  final_data = final_data.append(new_row, ignore_index = True)\n"
     ]
    },
    {
     "name": "stdout",
     "output_type": "stream",
     "text": [
      "nnnnnnnnnnnnnnnnnnnnn    Japan\n",
      "condition verified\n",
      "nnnnnnnnnnnnnnnnnnnnn    Japan\n",
      "nnnnnnnnnnnnnnnnnnnnn    Japan\n"
     ]
    },
    {
     "name": "stderr",
     "output_type": "stream",
     "text": [
      "C:\\Users\\samir\\AppData\\Local\\Temp\\ipykernel_11084\\3614904585.py:4: FutureWarning: The frame.append method is deprecated and will be removed from pandas in a future version. Use pandas.concat instead.\n",
      "  final_data = final_data.append(new_row, ignore_index = True)\n"
     ]
    },
    {
     "name": "stdout",
     "output_type": "stream",
     "text": [
      "nnnnnnnnnnnnnnnnnnnnn  de La \n",
      "condition verified\n",
      "nnnnnnnnnnnnnnnnnnnnn   Spain\n",
      "condition verified\n",
      "nnnnnnnnnnnnnnnnnnnnn    India\n",
      "condition verified\n"
     ]
    },
    {
     "name": "stderr",
     "output_type": "stream",
     "text": [
      "C:\\Users\\samir\\AppData\\Local\\Temp\\ipykernel_11084\\3614904585.py:4: FutureWarning: The frame.append method is deprecated and will be removed from pandas in a future version. Use pandas.concat instead.\n",
      "  final_data = final_data.append(new_row, ignore_index = True)\n",
      "C:\\Users\\samir\\AppData\\Local\\Temp\\ipykernel_11084\\3614904585.py:4: FutureWarning: The frame.append method is deprecated and will be removed from pandas in a future version. Use pandas.concat instead.\n",
      "  final_data = final_data.append(new_row, ignore_index = True)\n",
      "C:\\Users\\samir\\AppData\\Local\\Temp\\ipykernel_11084\\3614904585.py:4: FutureWarning: The frame.append method is deprecated and will be removed from pandas in a future version. Use pandas.concat instead.\n",
      "  final_data = final_data.append(new_row, ignore_index = True)\n"
     ]
    },
    {
     "name": "stdout",
     "output_type": "stream",
     "text": [
      "nnnnnnnnnnnnnnnnnnnnn    Ireland\n",
      "condition verified\n",
      "nnnnnnnnnnnnnnnnnnnnn    Ireland\n",
      "nnnnnnnnnnnnnnnnnnnnn    India\n",
      "condition verified\n"
     ]
    },
    {
     "name": "stderr",
     "output_type": "stream",
     "text": [
      "C:\\Users\\samir\\AppData\\Local\\Temp\\ipykernel_11084\\3614904585.py:4: FutureWarning: The frame.append method is deprecated and will be removed from pandas in a future version. Use pandas.concat instead.\n",
      "  final_data = final_data.append(new_row, ignore_index = True)\n"
     ]
    },
    {
     "name": "stdout",
     "output_type": "stream",
     "text": [
      "nnnnnnnnnnnnnnnnnnnnn    India\n",
      "nnnnnnnnnnnnnnnnnnnnn  NA\n",
      "condition verified\n",
      "nnnnnnnnnnnnnnnnnnnnn   NA\n",
      "condition verified\n"
     ]
    },
    {
     "name": "stderr",
     "output_type": "stream",
     "text": [
      "C:\\Users\\samir\\AppData\\Local\\Temp\\ipykernel_11084\\3614904585.py:4: FutureWarning: The frame.append method is deprecated and will be removed from pandas in a future version. Use pandas.concat instead.\n",
      "  final_data = final_data.append(new_row, ignore_index = True)\n"
     ]
    },
    {
     "name": "stdout",
     "output_type": "stream",
     "text": [
      "nnnnnnnnnnnnnnnnnnnnn   NA\n",
      "nnnnnnnnnnnnnnnnnnnnn   NA\n"
     ]
    },
    {
     "name": "stderr",
     "output_type": "stream",
     "text": [
      "C:\\Users\\samir\\AppData\\Local\\Temp\\ipykernel_11084\\3614904585.py:4: FutureWarning: The frame.append method is deprecated and will be removed from pandas in a future version. Use pandas.concat instead.\n",
      "  final_data = final_data.append(new_row, ignore_index = True)\n",
      "C:\\Users\\samir\\AppData\\Local\\Temp\\ipykernel_11084\\3614904585.py:4: FutureWarning: The frame.append method is deprecated and will be removed from pandas in a future version. Use pandas.concat instead.\n",
      "  final_data = final_data.append(new_row, ignore_index = True)\n"
     ]
    },
    {
     "name": "stdout",
     "output_type": "stream",
     "text": [
      "nnnnnnnnnnnnnnnnnnnnn    China\n",
      "condition verified\n",
      "nnnnnnnnnnnnnnnnnnnnn    China\n",
      "nnnnnnnnnnnnnnnnnnnnn    China\n",
      "nnnnnnnnnnnnnnnnnnnnn    Australia\n",
      "condition verified\n",
      "nnnnnnnnnnnnnnnnnnnnn    Australia\n"
     ]
    },
    {
     "name": "stderr",
     "output_type": "stream",
     "text": [
      "C:\\Users\\samir\\AppData\\Local\\Temp\\ipykernel_11084\\3614904585.py:4: FutureWarning: The frame.append method is deprecated and will be removed from pandas in a future version. Use pandas.concat instead.\n",
      "  final_data = final_data.append(new_row, ignore_index = True)\n",
      "C:\\Users\\samir\\AppData\\Local\\Temp\\ipykernel_11084\\3614904585.py:4: FutureWarning: The frame.append method is deprecated and will be removed from pandas in a future version. Use pandas.concat instead.\n",
      "  final_data = final_data.append(new_row, ignore_index = True)\n"
     ]
    },
    {
     "name": "stdout",
     "output_type": "stream",
     "text": [
      "nnnnnnnnnnnnnnnnnnnnn  \n",
      "nnnnnnnnnnnnnnnnnnnnn  \n",
      "nnnnnnnnnnnnnnnnnnnnn  Switzerland\n",
      "condition verified\n",
      "nnnnnnnnnnnnnnnnnnnnn   \n",
      "condition verified\n",
      "nnnnnnnnnnnnnnnnnnnnn  \n",
      "nnnnnnnnnnnnnnnnnnnnn  Switzerland\n",
      "nnnnnnnnnnnnnnnnnnnnn   \n",
      "nnnnnnnnnnnnnnnnnnnnn  \n",
      "nnnnnnnnnnnnnnnnnnnnn  Switzerland\n"
     ]
    },
    {
     "name": "stderr",
     "output_type": "stream",
     "text": [
      "C:\\Users\\samir\\AppData\\Local\\Temp\\ipykernel_11084\\3614904585.py:4: FutureWarning: The frame.append method is deprecated and will be removed from pandas in a future version. Use pandas.concat instead.\n",
      "  final_data = final_data.append(new_row, ignore_index = True)\n"
     ]
    },
    {
     "name": "stdout",
     "output_type": "stream",
     "text": [
      "nnnnnnnnnnnnnnnnnnnnn    China\n",
      "condition verified\n",
      "nnnnnnnnnnnnnnnnnnnnn    China\n",
      "nnnnnnnnnnnnnnnnnnnnn    China\n",
      "nnnnnnnnnnnnnnnnnnnnn    China\n",
      "nnnnnnnnnnnnnnnnnnnnn    China\n"
     ]
    },
    {
     "name": "stderr",
     "output_type": "stream",
     "text": [
      "C:\\Users\\samir\\AppData\\Local\\Temp\\ipykernel_11084\\3614904585.py:4: FutureWarning: The frame.append method is deprecated and will be removed from pandas in a future version. Use pandas.concat instead.\n",
      "  final_data = final_data.append(new_row, ignore_index = True)\n"
     ]
    },
    {
     "name": "stdout",
     "output_type": "stream",
     "text": [
      "nnnnnnnnnnnnnnnnnnnnn    China\n",
      "condition verified\n",
      "nnnnnnnnnnnnnnnnnnnnn    China\n",
      "nnnnnnnnnnnnnnnnnnnnn    China\n",
      "nnnnnnnnnnnnnnnnnnnnn    China\n"
     ]
    },
    {
     "name": "stderr",
     "output_type": "stream",
     "text": [
      "C:\\Users\\samir\\AppData\\Local\\Temp\\ipykernel_11084\\3614904585.py:4: FutureWarning: The frame.append method is deprecated and will be removed from pandas in a future version. Use pandas.concat instead.\n",
      "  final_data = final_data.append(new_row, ignore_index = True)\n"
     ]
    },
    {
     "name": "stdout",
     "output_type": "stream",
     "text": [
      "nnnnnnnnnnnnnnnnnnnnn   China \n",
      "condition verified\n",
      "nnnnnnnnnnnnnnnnnnnnn   China \n",
      "nnnnnnnnnnnnnnnnnnnnn   China \n",
      "nnnnnnnnnnnnnnnnnnnnn   Singapore \n",
      "condition verified\n",
      "nnnnnnnnnnnnnnnnnnnnn   China \n",
      "nnnnnnnnnnnnnnnnnnnnn   China \n"
     ]
    },
    {
     "name": "stderr",
     "output_type": "stream",
     "text": [
      "C:\\Users\\samir\\AppData\\Local\\Temp\\ipykernel_11084\\3614904585.py:4: FutureWarning: The frame.append method is deprecated and will be removed from pandas in a future version. Use pandas.concat instead.\n",
      "  final_data = final_data.append(new_row, ignore_index = True)\n",
      "C:\\Users\\samir\\AppData\\Local\\Temp\\ipykernel_11084\\3614904585.py:4: FutureWarning: The frame.append method is deprecated and will be removed from pandas in a future version. Use pandas.concat instead.\n",
      "  final_data = final_data.append(new_row, ignore_index = True)\n"
     ]
    },
    {
     "name": "stdout",
     "output_type": "stream",
     "text": [
      "nnnnnnnnnnnnnnnnnnnnn    UK\n",
      "condition verified\n",
      "nnnnnnnnnnnnnnnnnnnnn    USA\n",
      "condition verified\n",
      "nnnnnnnnnnnnnnnnnnnnn    China\n",
      "condition verified\n",
      "nnnnnnnnnnnnnnnnnnnnn    China\n"
     ]
    },
    {
     "name": "stderr",
     "output_type": "stream",
     "text": [
      "C:\\Users\\samir\\AppData\\Local\\Temp\\ipykernel_11084\\3614904585.py:4: FutureWarning: The frame.append method is deprecated and will be removed from pandas in a future version. Use pandas.concat instead.\n",
      "  final_data = final_data.append(new_row, ignore_index = True)\n",
      "C:\\Users\\samir\\AppData\\Local\\Temp\\ipykernel_11084\\3614904585.py:4: FutureWarning: The frame.append method is deprecated and will be removed from pandas in a future version. Use pandas.concat instead.\n",
      "  final_data = final_data.append(new_row, ignore_index = True)\n",
      "C:\\Users\\samir\\AppData\\Local\\Temp\\ipykernel_11084\\3614904585.py:4: FutureWarning: The frame.append method is deprecated and will be removed from pandas in a future version. Use pandas.concat instead.\n",
      "  final_data = final_data.append(new_row, ignore_index = True)\n"
     ]
    },
    {
     "name": "stdout",
     "output_type": "stream",
     "text": [
      "nnnnnnnnnnnnnnnnnnnnn   China \n",
      "condition verified\n",
      "nnnnnnnnnnnnnnnnnnnnn   \n",
      "condition verified\n",
      "nnnnnnnnnnnnnnnnnnnnn   \n",
      "nnnnnnnnnnnnnnnnnnnnn   China \n",
      "nnnnnnnnnnnnnnnnnnnnn   \n"
     ]
    },
    {
     "name": "stderr",
     "output_type": "stream",
     "text": [
      "C:\\Users\\samir\\AppData\\Local\\Temp\\ipykernel_11084\\3614904585.py:4: FutureWarning: The frame.append method is deprecated and will be removed from pandas in a future version. Use pandas.concat instead.\n",
      "  final_data = final_data.append(new_row, ignore_index = True)\n"
     ]
    },
    {
     "name": "stdout",
     "output_type": "stream",
     "text": [
      "nnnnnnnnnnnnnnnnnnnnn   Canada \n",
      "condition verified\n",
      "nnnnnnnnnnnnnnnnnnnnn   Canada \n",
      "nnnnnnnnnnnnnnnnnnnnn   Canada \n",
      "nnnnnnnnnnnnnnnnnnnnn   Canada \n",
      "nnnnnnnnnnnnnnnnnnnnn   Canada \n",
      "nnnnnnnnnnnnnnnnnnnnn   Brazil \n",
      "condition verified\n"
     ]
    },
    {
     "name": "stderr",
     "output_type": "stream",
     "text": [
      "C:\\Users\\samir\\AppData\\Local\\Temp\\ipykernel_11084\\3614904585.py:4: FutureWarning: The frame.append method is deprecated and will be removed from pandas in a future version. Use pandas.concat instead.\n",
      "  final_data = final_data.append(new_row, ignore_index = True)\n"
     ]
    },
    {
     "name": "stdout",
     "output_type": "stream",
     "text": [
      "nnnnnnnnnnnnnnnnnnnnn   de  Brazil\n",
      "condition verified\n",
      "nnnnnnnnnnnnnnnnnnnnn    Brazil\n",
      "condition verified\n",
      "nnnnnnnnnnnnnnnnnnnnn    Italy\n",
      "condition verified\n"
     ]
    },
    {
     "name": "stderr",
     "output_type": "stream",
     "text": [
      "C:\\Users\\samir\\AppData\\Local\\Temp\\ipykernel_11084\\3614904585.py:4: FutureWarning: The frame.append method is deprecated and will be removed from pandas in a future version. Use pandas.concat instead.\n",
      "  final_data = final_data.append(new_row, ignore_index = True)\n",
      "C:\\Users\\samir\\AppData\\Local\\Temp\\ipykernel_11084\\3614904585.py:4: FutureWarning: The frame.append method is deprecated and will be removed from pandas in a future version. Use pandas.concat instead.\n",
      "  final_data = final_data.append(new_row, ignore_index = True)\n",
      "C:\\Users\\samir\\AppData\\Local\\Temp\\ipykernel_11084\\3614904585.py:4: FutureWarning: The frame.append method is deprecated and will be removed from pandas in a future version. Use pandas.concat instead.\n",
      "  final_data = final_data.append(new_row, ignore_index = True)\n",
      "C:\\Users\\samir\\AppData\\Local\\Temp\\ipykernel_11084\\3614904585.py:4: FutureWarning: The frame.append method is deprecated and will be removed from pandas in a future version. Use pandas.concat instead.\n",
      "  final_data = final_data.append(new_row, ignore_index = True)\n"
     ]
    },
    {
     "name": "stdout",
     "output_type": "stream",
     "text": [
      "nnnnnnnnnnnnnnnnnnnnn    China\n",
      "condition verified\n",
      "nnnnnnnnnnnnnnnnnnnnn    China\n",
      "nnnnnnnnnnnnnnnnnnnnn    Canada\n",
      "condition verified\n",
      "nnnnnnnnnnnnnnnnnnnnn    China\n",
      "nnnnnnnnnnnnnnnnnnnnn    Japan\n",
      "condition verified\n",
      "nnnnnnnnnnnnnnnnnnnnn    Norway\n",
      "condition verified\n"
     ]
    },
    {
     "name": "stderr",
     "output_type": "stream",
     "text": [
      "C:\\Users\\samir\\AppData\\Local\\Temp\\ipykernel_11084\\3614904585.py:4: FutureWarning: The frame.append method is deprecated and will be removed from pandas in a future version. Use pandas.concat instead.\n",
      "  final_data = final_data.append(new_row, ignore_index = True)\n",
      "C:\\Users\\samir\\AppData\\Local\\Temp\\ipykernel_11084\\3614904585.py:4: FutureWarning: The frame.append method is deprecated and will be removed from pandas in a future version. Use pandas.concat instead.\n",
      "  final_data = final_data.append(new_row, ignore_index = True)\n",
      "C:\\Users\\samir\\AppData\\Local\\Temp\\ipykernel_11084\\3614904585.py:4: FutureWarning: The frame.append method is deprecated and will be removed from pandas in a future version. Use pandas.concat instead.\n",
      "  final_data = final_data.append(new_row, ignore_index = True)\n",
      "C:\\Users\\samir\\AppData\\Local\\Temp\\ipykernel_11084\\3614904585.py:4: FutureWarning: The frame.append method is deprecated and will be removed from pandas in a future version. Use pandas.concat instead.\n",
      "  final_data = final_data.append(new_row, ignore_index = True)\n"
     ]
    },
    {
     "name": "stdout",
     "output_type": "stream",
     "text": [
      "nnnnnnnnnnnnnnnnnnnnn   China \n",
      "condition verified\n",
      "nnnnnnnnnnnnnnnnnnnnn   China \n",
      "nnnnnnnnnnnnnnnnnnnnn   China \n",
      "nnnnnnnnnnnnnnnnnnnnn   China \n",
      "nnnnnnnnnnnnnnnnnnnnn   \n",
      "condition verified\n",
      "nnnnnnnnnnnnnnnnnnnnn   China \n",
      "nnnnnnnnnnnnnnnnnnnnn    China\n",
      "condition verified\n"
     ]
    },
    {
     "name": "stderr",
     "output_type": "stream",
     "text": [
      "C:\\Users\\samir\\AppData\\Local\\Temp\\ipykernel_11084\\3614904585.py:4: FutureWarning: The frame.append method is deprecated and will be removed from pandas in a future version. Use pandas.concat instead.\n",
      "  final_data = final_data.append(new_row, ignore_index = True)\n"
     ]
    },
    {
     "name": "stdout",
     "output_type": "stream",
     "text": [
      "nnnnnnnnnnnnnnnnnnnnn  \n",
      "nnnnnnnnnnnnnnnnnnnnn    China\n",
      "nnnnnnnnnnnnnnnnnnnnn    China\n",
      "nnnnnnnnnnnnnnnnnnnnn    China\n",
      "nnnnnnnnnnnnnnnnnnnnn   China  China\n",
      "condition verified\n",
      "nnnnnnnnnnnnnnnnnnnnn    China\n",
      "nnnnnnnnnnnnnnnnnnnnn    China\n",
      "nnnnnnnnnnnnnnnnnnnnn    China\n",
      "condition verified\n"
     ]
    },
    {
     "name": "stderr",
     "output_type": "stream",
     "text": [
      "C:\\Users\\samir\\AppData\\Local\\Temp\\ipykernel_11084\\3614904585.py:4: FutureWarning: The frame.append method is deprecated and will be removed from pandas in a future version. Use pandas.concat instead.\n",
      "  final_data = final_data.append(new_row, ignore_index = True)\n",
      "C:\\Users\\samir\\AppData\\Local\\Temp\\ipykernel_11084\\3614904585.py:4: FutureWarning: The frame.append method is deprecated and will be removed from pandas in a future version. Use pandas.concat instead.\n",
      "  final_data = final_data.append(new_row, ignore_index = True)\n"
     ]
    },
    {
     "name": "stdout",
     "output_type": "stream",
     "text": [
      "nnnnnnnnnnnnnnnnnnnnn    China\n",
      "nnnnnnnnnnnnnnnnnnnnn    China\n",
      "nnnnnnnnnnnnnnnnnnnnn    China\n",
      "nnnnnnnnnnnnnnnnnnnnn    Mali\n",
      "condition verified\n"
     ]
    },
    {
     "name": "stderr",
     "output_type": "stream",
     "text": [
      "C:\\Users\\samir\\AppData\\Local\\Temp\\ipykernel_11084\\3614904585.py:4: FutureWarning: The frame.append method is deprecated and will be removed from pandas in a future version. Use pandas.concat instead.\n",
      "  final_data = final_data.append(new_row, ignore_index = True)\n",
      "C:\\Users\\samir\\AppData\\Local\\Temp\\ipykernel_11084\\3614904585.py:4: FutureWarning: The frame.append method is deprecated and will be removed from pandas in a future version. Use pandas.concat instead.\n",
      "  final_data = final_data.append(new_row, ignore_index = True)\n"
     ]
    },
    {
     "name": "stdout",
     "output_type": "stream",
     "text": [
      "nnnnnnnnnnnnnnnnnnnnn    China\n",
      "condition verified\n",
      "nnnnnnnnnnnnnnnnnnnnn    China\n",
      "nnnnnnnnnnnnnnnnnnnnn    China\n",
      "nnnnnnnnnnnnnnnnnnnnn    China\n",
      "nnnnnnnnnnnnnnnnnnnnn    China\n"
     ]
    },
    {
     "name": "stderr",
     "output_type": "stream",
     "text": [
      "C:\\Users\\samir\\AppData\\Local\\Temp\\ipykernel_11084\\3614904585.py:4: FutureWarning: The frame.append method is deprecated and will be removed from pandas in a future version. Use pandas.concat instead.\n",
      "  final_data = final_data.append(new_row, ignore_index = True)\n"
     ]
    },
    {
     "name": "stdout",
     "output_type": "stream",
     "text": [
      "nnnnnnnnnnnnnnnnnnnnn    china\n",
      "condition verified\n",
      "nnnnnnnnnnnnnnnnnnnnn    China\n",
      "condition verified\n",
      "nnnnnnnnnnnnnnnnnnnnn    China\n",
      "nnnnnnnnnnnnnnnnnnnnn    China\n",
      "nnnnnnnnnnnnnnnnnnnnn    china\n",
      "nnnnnnnnnnnnnnnnnnnnn    China\n",
      "nnnnnnnnnnnnnnnnnnnnn    China\n",
      "nnnnnnnnnnnnnnnnnnnnn    China\n",
      "condition verified\n"
     ]
    },
    {
     "name": "stderr",
     "output_type": "stream",
     "text": [
      "C:\\Users\\samir\\AppData\\Local\\Temp\\ipykernel_11084\\3614904585.py:4: FutureWarning: The frame.append method is deprecated and will be removed from pandas in a future version. Use pandas.concat instead.\n",
      "  final_data = final_data.append(new_row, ignore_index = True)\n",
      "C:\\Users\\samir\\AppData\\Local\\Temp\\ipykernel_11084\\3614904585.py:4: FutureWarning: The frame.append method is deprecated and will be removed from pandas in a future version. Use pandas.concat instead.\n",
      "  final_data = final_data.append(new_row, ignore_index = True)\n"
     ]
    },
    {
     "name": "stdout",
     "output_type": "stream",
     "text": [
      "nnnnnnnnnnnnnnnnnnnnn    China\n",
      "nnnnnnnnnnnnnnnnnnnnn    India\n",
      "condition verified\n",
      "nnnnnnnnnnnnnnnnnnnnn    China\n",
      "nnnnnnnnnnnnnnnnnnnnn    India\n",
      "nnnnnnnnnnnnnnnnnnnnn    Japan\n",
      "condition verified\n"
     ]
    },
    {
     "name": "stderr",
     "output_type": "stream",
     "text": [
      "C:\\Users\\samir\\AppData\\Local\\Temp\\ipykernel_11084\\3614904585.py:4: FutureWarning: The frame.append method is deprecated and will be removed from pandas in a future version. Use pandas.concat instead.\n",
      "  final_data = final_data.append(new_row, ignore_index = True)\n",
      "C:\\Users\\samir\\AppData\\Local\\Temp\\ipykernel_11084\\3614904585.py:4: FutureWarning: The frame.append method is deprecated and will be removed from pandas in a future version. Use pandas.concat instead.\n",
      "  final_data = final_data.append(new_row, ignore_index = True)\n",
      "C:\\Users\\samir\\AppData\\Local\\Temp\\ipykernel_11084\\3614904585.py:4: FutureWarning: The frame.append method is deprecated and will be removed from pandas in a future version. Use pandas.concat instead.\n",
      "  final_data = final_data.append(new_row, ignore_index = True)\n"
     ]
    },
    {
     "name": "stdout",
     "output_type": "stream",
     "text": [
      "nnnnnnnnnnnnnnnnnnnnn   \n",
      "condition verified\n",
      "nnnnnnnnnnnnnnnnnnnnn   \n",
      "nnnnnnnnnnnnnnnnnnnnn   \n",
      "nnnnnnnnnnnnnnnnnnnnn    UK\n",
      "condition verified\n"
     ]
    },
    {
     "name": "stderr",
     "output_type": "stream",
     "text": [
      "C:\\Users\\samir\\AppData\\Local\\Temp\\ipykernel_11084\\3614904585.py:4: FutureWarning: The frame.append method is deprecated and will be removed from pandas in a future version. Use pandas.concat instead.\n",
      "  final_data = final_data.append(new_row, ignore_index = True)\n"
     ]
    },
    {
     "name": "stdout",
     "output_type": "stream",
     "text": [
      "nnnnnnnnnnnnnnnnnnnnn   China \n",
      "condition verified\n",
      "nnnnnnnnnnnnnnnnnnnnn   China \n",
      "nnnnnnnnnnnnnnnnnnnnn   China \n",
      "nnnnnnnnnnnnnnnnnnnnn   \n",
      "condition verified\n",
      "nnnnnnnnnnnnnnnnnnnnn    Australia\n",
      "condition verified\n"
     ]
    },
    {
     "name": "stderr",
     "output_type": "stream",
     "text": [
      "C:\\Users\\samir\\AppData\\Local\\Temp\\ipykernel_11084\\3614904585.py:4: FutureWarning: The frame.append method is deprecated and will be removed from pandas in a future version. Use pandas.concat instead.\n",
      "  final_data = final_data.append(new_row, ignore_index = True)\n"
     ]
    },
    {
     "name": "stdout",
     "output_type": "stream",
     "text": [
      "nnnnnnnnnnnnnnnnnnnnn    Australia\n",
      "nnnnnnnnnnnnnnnnnnnnn    Australia\n",
      "nnnnnnnnnnnnnnnnnnnnn    Australia\n",
      "nnnnnnnnnnnnnnnnnnnnn    China\n",
      "condition verified\n",
      "nnnnnnnnnnnnnnnnnnnnn    Australia\n",
      "condition verified\n"
     ]
    },
    {
     "name": "stderr",
     "output_type": "stream",
     "text": [
      "C:\\Users\\samir\\AppData\\Local\\Temp\\ipykernel_11084\\3614904585.py:4: FutureWarning: The frame.append method is deprecated and will be removed from pandas in a future version. Use pandas.concat instead.\n",
      "  final_data = final_data.append(new_row, ignore_index = True)\n",
      "C:\\Users\\samir\\AppData\\Local\\Temp\\ipykernel_11084\\3614904585.py:4: FutureWarning: The frame.append method is deprecated and will be removed from pandas in a future version. Use pandas.concat instead.\n",
      "  final_data = final_data.append(new_row, ignore_index = True)\n"
     ]
    },
    {
     "name": "stdout",
     "output_type": "stream",
     "text": [
      "nnnnnnnnnnnnnnnnnnnnn    Australia\n",
      "nnnnnnnnnnnnnnnnnnnnn    Australia\n",
      "nnnnnnnnnnnnnnnnnnnnn    Australia\n",
      "nnnnnnnnnnnnnnnnnnnnn    Australia\n",
      "nnnnnnnnnnnnnnnnnnnnn  NA\n",
      "condition verified\n",
      "nnnnnnnnnnnnnnnnnnnnn   NA\n",
      "condition verified\n"
     ]
    },
    {
     "name": "stderr",
     "output_type": "stream",
     "text": [
      "C:\\Users\\samir\\AppData\\Local\\Temp\\ipykernel_11084\\3614904585.py:4: FutureWarning: The frame.append method is deprecated and will be removed from pandas in a future version. Use pandas.concat instead.\n",
      "  final_data = final_data.append(new_row, ignore_index = True)\n",
      "C:\\Users\\samir\\AppData\\Local\\Temp\\ipykernel_11084\\3614904585.py:4: FutureWarning: The frame.append method is deprecated and will be removed from pandas in a future version. Use pandas.concat instead.\n",
      "  final_data = final_data.append(new_row, ignore_index = True)\n",
      "C:\\Users\\samir\\AppData\\Local\\Temp\\ipykernel_11084\\3614904585.py:4: FutureWarning: The frame.append method is deprecated and will be removed from pandas in a future version. Use pandas.concat instead.\n",
      "  final_data = final_data.append(new_row, ignore_index = True)\n"
     ]
    },
    {
     "name": "stdout",
     "output_type": "stream",
     "text": [
      "nnnnnnnnnnnnnnnnnnnnn  NA\n",
      "condition verified\n",
      "nnnnnnnnnnnnnnnnnnnnn   NA\n",
      "condition verified\n",
      "nnnnnnnnnnnnnnnnnnnnn   NA\n",
      "nnnnnnnnnnnnnnnnnnnnn   NA\n",
      "nnnnnnnnnnnnnnnnnnnnn   NA\n"
     ]
    },
    {
     "name": "stderr",
     "output_type": "stream",
     "text": [
      "C:\\Users\\samir\\AppData\\Local\\Temp\\ipykernel_11084\\3614904585.py:4: FutureWarning: The frame.append method is deprecated and will be removed from pandas in a future version. Use pandas.concat instead.\n",
      "  final_data = final_data.append(new_row, ignore_index = True)\n",
      "C:\\Users\\samir\\AppData\\Local\\Temp\\ipykernel_11084\\3614904585.py:4: FutureWarning: The frame.append method is deprecated and will be removed from pandas in a future version. Use pandas.concat instead.\n",
      "  final_data = final_data.append(new_row, ignore_index = True)\n"
     ]
    },
    {
     "name": "stdout",
     "output_type": "stream",
     "text": [
      "nnnnnnnnnnnnnnnnnnnnn    China\n",
      "condition verified\n",
      "nnnnnnnnnnnnnnnnnnnnn    China\n",
      "nnnnnnnnnnnnnnnnnnnnn    China\n",
      "nnnnnnnnnnnnnnnnnnnnn  NA\n",
      "condition verified\n"
     ]
    },
    {
     "name": "stderr",
     "output_type": "stream",
     "text": [
      "C:\\Users\\samir\\AppData\\Local\\Temp\\ipykernel_11084\\3614904585.py:4: FutureWarning: The frame.append method is deprecated and will be removed from pandas in a future version. Use pandas.concat instead.\n",
      "  final_data = final_data.append(new_row, ignore_index = True)\n"
     ]
    },
    {
     "name": "stdout",
     "output_type": "stream",
     "text": [
      "nnnnnnnnnnnnnnnnnnnnn   NA\n",
      "condition verified\n",
      "nnnnnnnnnnnnnnnnnnnnn   NA\n",
      "nnnnnnnnnnnnnnnnnnnnn   NA\n",
      "nnnnnnnnnnnnnnnnnnnnn   NA\n"
     ]
    },
    {
     "name": "stderr",
     "output_type": "stream",
     "text": [
      "C:\\Users\\samir\\AppData\\Local\\Temp\\ipykernel_11084\\3614904585.py:4: FutureWarning: The frame.append method is deprecated and will be removed from pandas in a future version. Use pandas.concat instead.\n",
      "  final_data = final_data.append(new_row, ignore_index = True)\n",
      "C:\\Users\\samir\\AppData\\Local\\Temp\\ipykernel_11084\\3614904585.py:4: FutureWarning: The frame.append method is deprecated and will be removed from pandas in a future version. Use pandas.concat instead.\n",
      "  final_data = final_data.append(new_row, ignore_index = True)\n"
     ]
    },
    {
     "name": "stdout",
     "output_type": "stream",
     "text": [
      "nnnnnnnnnnnnnnnnnnnnn    India\n",
      "condition verified\n",
      "nnnnnnnnnnnnnnnnnnnnn    India\n",
      "nnnnnnnnnnnnnnnnnnnnn    India\n",
      "nnnnnnnnnnnnnnnnnnnnn    China\n",
      "condition verified\n"
     ]
    },
    {
     "name": "stderr",
     "output_type": "stream",
     "text": [
      "C:\\Users\\samir\\AppData\\Local\\Temp\\ipykernel_11084\\3614904585.py:4: FutureWarning: The frame.append method is deprecated and will be removed from pandas in a future version. Use pandas.concat instead.\n",
      "  final_data = final_data.append(new_row, ignore_index = True)\n"
     ]
    },
    {
     "name": "stdout",
     "output_type": "stream",
     "text": [
      "nnnnnnnnnnnnnnnnnnnnn    China\n",
      "nnnnnnnnnnnnnnnnnnnnn    China\n",
      "nnnnnnnnnnnnnnnnnnnnn    China\n",
      "nnnnnnnnnnnnnnnnnnnnn    China\n",
      "nnnnnnnnnnnnnnnnnnnnn    China\n",
      "condition verified\n"
     ]
    },
    {
     "name": "stderr",
     "output_type": "stream",
     "text": [
      "C:\\Users\\samir\\AppData\\Local\\Temp\\ipykernel_11084\\3614904585.py:4: FutureWarning: The frame.append method is deprecated and will be removed from pandas in a future version. Use pandas.concat instead.\n",
      "  final_data = final_data.append(new_row, ignore_index = True)\n"
     ]
    },
    {
     "name": "stdout",
     "output_type": "stream",
     "text": [
      "nnnnnnnnnnnnnnnnnnnnn    China\n",
      "nnnnnnnnnnnnnnnnnnnnn    China\n",
      "nnnnnnnnnnnnnnnnnnnnn   \n",
      "condition verified\n",
      "nnnnnnnnnnnnnnnnnnnnn   China\n",
      "condition verified\n",
      "nnnnnnnnnnnnnnnnnnnnn    Japan\n",
      "condition verified\n",
      "nnnnnnnnnnnnnnnnnnnnn    China\n",
      "nnnnnnnnnnnnnnnnnnnnn    Canada\n",
      "condition verified\n",
      "nnnnnnnnnnnnnnnnnnnnn    China\n",
      "condition verified\n"
     ]
    },
    {
     "name": "stderr",
     "output_type": "stream",
     "text": [
      "C:\\Users\\samir\\AppData\\Local\\Temp\\ipykernel_11084\\3614904585.py:4: FutureWarning: The frame.append method is deprecated and will be removed from pandas in a future version. Use pandas.concat instead.\n",
      "  final_data = final_data.append(new_row, ignore_index = True)\n",
      "C:\\Users\\samir\\AppData\\Local\\Temp\\ipykernel_11084\\3614904585.py:4: FutureWarning: The frame.append method is deprecated and will be removed from pandas in a future version. Use pandas.concat instead.\n",
      "  final_data = final_data.append(new_row, ignore_index = True)\n",
      "C:\\Users\\samir\\AppData\\Local\\Temp\\ipykernel_11084\\3614904585.py:4: FutureWarning: The frame.append method is deprecated and will be removed from pandas in a future version. Use pandas.concat instead.\n",
      "  final_data = final_data.append(new_row, ignore_index = True)\n",
      "C:\\Users\\samir\\AppData\\Local\\Temp\\ipykernel_11084\\3614904585.py:4: FutureWarning: The frame.append method is deprecated and will be removed from pandas in a future version. Use pandas.concat instead.\n",
      "  final_data = final_data.append(new_row, ignore_index = True)\n"
     ]
    },
    {
     "name": "stdout",
     "output_type": "stream",
     "text": [
      "nnnnnnnnnnnnnnnnnnnnn    China\n",
      "nnnnnnnnnnnnnnnnnnnnn    China\n",
      "nnnnnnnnnnnnnnnnnnnnn    China\n",
      "nnnnnnnnnnnnnnnnnnnnn    China\n",
      "nnnnnnnnnnnnnnnnnnnnn    China\n",
      "condition verified\n"
     ]
    },
    {
     "name": "stderr",
     "output_type": "stream",
     "text": [
      "C:\\Users\\samir\\AppData\\Local\\Temp\\ipykernel_11084\\3614904585.py:4: FutureWarning: The frame.append method is deprecated and will be removed from pandas in a future version. Use pandas.concat instead.\n",
      "  final_data = final_data.append(new_row, ignore_index = True)\n"
     ]
    },
    {
     "name": "stdout",
     "output_type": "stream",
     "text": [
      "nnnnnnnnnnnnnnnnnnnnn    China\n",
      "nnnnnnnnnnnnnnnnnnnnn    China\n",
      "nnnnnnnnnnnnnnnnnnnnn    China\n",
      "nnnnnnnnnnnnnnnnnnnnn   \n",
      "condition verified\n",
      "nnnnnnnnnnnnnnnnnnnnn    USA\n",
      "condition verified\n",
      "nnnnnnnnnnnnnnnnnnnnn    China\n"
     ]
    },
    {
     "name": "stderr",
     "output_type": "stream",
     "text": [
      "C:\\Users\\samir\\AppData\\Local\\Temp\\ipykernel_11084\\3614904585.py:4: FutureWarning: The frame.append method is deprecated and will be removed from pandas in a future version. Use pandas.concat instead.\n",
      "  final_data = final_data.append(new_row, ignore_index = True)\n",
      "C:\\Users\\samir\\AppData\\Local\\Temp\\ipykernel_11084\\3614904585.py:4: FutureWarning: The frame.append method is deprecated and will be removed from pandas in a future version. Use pandas.concat instead.\n",
      "  final_data = final_data.append(new_row, ignore_index = True)\n"
     ]
    },
    {
     "name": "stdout",
     "output_type": "stream",
     "text": [
      "nnnnnnnnnnnnnnnnnnnnn    China\n",
      "condition verified\n",
      "nnnnnnnnnnnnnnnnnnnnn    China\n",
      "nnnnnnnnnnnnnnnnnnnnn    China\n"
     ]
    },
    {
     "name": "stderr",
     "output_type": "stream",
     "text": [
      "C:\\Users\\samir\\AppData\\Local\\Temp\\ipykernel_11084\\3614904585.py:4: FutureWarning: The frame.append method is deprecated and will be removed from pandas in a future version. Use pandas.concat instead.\n",
      "  final_data = final_data.append(new_row, ignore_index = True)\n"
     ]
    },
    {
     "name": "stdout",
     "output_type": "stream",
     "text": [
      "nnnnnnnnnnnnnnnnnnnnn    China\n",
      "condition verified\n",
      "nnnnnnnnnnnnnnnnnnnnn    China\n",
      "nnnnnnnnnnnnnnnnnnnnn    China\n",
      "nnnnnnnnnnnnnnnnnnnnn    China\n"
     ]
    },
    {
     "name": "stderr",
     "output_type": "stream",
     "text": [
      "C:\\Users\\samir\\AppData\\Local\\Temp\\ipykernel_11084\\3614904585.py:4: FutureWarning: The frame.append method is deprecated and will be removed from pandas in a future version. Use pandas.concat instead.\n",
      "  final_data = final_data.append(new_row, ignore_index = True)\n"
     ]
    },
    {
     "name": "stdout",
     "output_type": "stream",
     "text": [
      "nnnnnnnnnnnnnnnnnnnnn    China\n",
      "condition verified\n",
      "nnnnnnnnnnnnnnnnnnnnn    China\n",
      "nnnnnnnnnnnnnnnnnnnnn    China\n",
      "nnnnnnnnnnnnnnnnnnnnn    China\n",
      "nnnnnnnnnnnnnnnnnnnnn    China\n"
     ]
    },
    {
     "name": "stderr",
     "output_type": "stream",
     "text": [
      "C:\\Users\\samir\\AppData\\Local\\Temp\\ipykernel_11084\\3614904585.py:4: FutureWarning: The frame.append method is deprecated and will be removed from pandas in a future version. Use pandas.concat instead.\n",
      "  final_data = final_data.append(new_row, ignore_index = True)\n"
     ]
    },
    {
     "name": "stdout",
     "output_type": "stream",
     "text": [
      "nnnnnnnnnnnnnnnnnnnnn    PR China\n",
      "condition verified\n",
      "nnnnnnnnnnnnnnnnnnnnn    PR China\n",
      "nnnnnnnnnnnnnnnnnnnnn    PR China\n",
      "nnnnnnnnnnnnnnnnnnnnn    PR China\n",
      "nnnnnnnnnnnnnnnnnnnnn    PR China\n",
      "nnnnnnnnnnnnnnnnnnnnn    Australia\n",
      "condition verified\n",
      "nnnnnnnnnnnnnnnnnnnnn    PR China\n",
      "nnnnnnnnnnnnnnnnnnnnn    PR China\n"
     ]
    },
    {
     "name": "stderr",
     "output_type": "stream",
     "text": [
      "C:\\Users\\samir\\AppData\\Local\\Temp\\ipykernel_11084\\3614904585.py:4: FutureWarning: The frame.append method is deprecated and will be removed from pandas in a future version. Use pandas.concat instead.\n",
      "  final_data = final_data.append(new_row, ignore_index = True)\n",
      "C:\\Users\\samir\\AppData\\Local\\Temp\\ipykernel_11084\\3614904585.py:4: FutureWarning: The frame.append method is deprecated and will be removed from pandas in a future version. Use pandas.concat instead.\n",
      "  final_data = final_data.append(new_row, ignore_index = True)\n"
     ]
    },
    {
     "name": "stdout",
     "output_type": "stream",
     "text": [
      "nnnnnnnnnnnnnnnnnnnnn    China\n",
      "condition verified\n",
      "nnnnnnnnnnnnnnnnnnnnn    China\n",
      "nnnnnnnnnnnnnnnnnnnnn    China\n",
      "nnnnnnnnnnnnnnnnnnnnn    UK\n",
      "condition verified\n",
      "nnnnnnnnnnnnnnnnnnnnn    China\n",
      "nnnnnnnnnnnnnnnnnnnnn    France\n",
      "condition verified\n"
     ]
    },
    {
     "name": "stderr",
     "output_type": "stream",
     "text": [
      "C:\\Users\\samir\\AppData\\Local\\Temp\\ipykernel_11084\\3614904585.py:4: FutureWarning: The frame.append method is deprecated and will be removed from pandas in a future version. Use pandas.concat instead.\n",
      "  final_data = final_data.append(new_row, ignore_index = True)\n",
      "C:\\Users\\samir\\AppData\\Local\\Temp\\ipykernel_11084\\3614904585.py:4: FutureWarning: The frame.append method is deprecated and will be removed from pandas in a future version. Use pandas.concat instead.\n",
      "  final_data = final_data.append(new_row, ignore_index = True)\n",
      "C:\\Users\\samir\\AppData\\Local\\Temp\\ipykernel_11084\\3614904585.py:4: FutureWarning: The frame.append method is deprecated and will be removed from pandas in a future version. Use pandas.concat instead.\n",
      "  final_data = final_data.append(new_row, ignore_index = True)\n"
     ]
    },
    {
     "name": "stdout",
     "output_type": "stream",
     "text": [
      "nnnnnnnnnnnnnnnnnnnnn    India\n",
      "condition verified\n",
      "nnnnnnnnnnnnnnnnnnnnn    India\n",
      "nnnnnnnnnnnnnnnnnnnnn    India\n",
      "nnnnnnnnnnnnnnnnnnnnn    India\n"
     ]
    },
    {
     "name": "stderr",
     "output_type": "stream",
     "text": [
      "C:\\Users\\samir\\AppData\\Local\\Temp\\ipykernel_11084\\3614904585.py:4: FutureWarning: The frame.append method is deprecated and will be removed from pandas in a future version. Use pandas.concat instead.\n",
      "  final_data = final_data.append(new_row, ignore_index = True)\n"
     ]
    },
    {
     "name": "stdout",
     "output_type": "stream",
     "text": [
      "nnnnnnnnnnnnnnnnnnnnn    Taiwan\n",
      "condition verified\n",
      "nnnnnnnnnnnnnnnnnnnnn    Taiwan\n",
      "nnnnnnnnnnnnnnnnnnnnn    Taiwan\n",
      "nnnnnnnnnnnnnnnnnnnnn    Taiwan\n",
      "nnnnnnnnnnnnnnnnnnnnn    Taiwan\n",
      "nnnnnnnnnnnnnnnnnnnnn    Taiwan\n"
     ]
    },
    {
     "name": "stderr",
     "output_type": "stream",
     "text": [
      "C:\\Users\\samir\\AppData\\Local\\Temp\\ipykernel_11084\\3614904585.py:4: FutureWarning: The frame.append method is deprecated and will be removed from pandas in a future version. Use pandas.concat instead.\n",
      "  final_data = final_data.append(new_row, ignore_index = True)\n"
     ]
    },
    {
     "name": "stdout",
     "output_type": "stream",
     "text": [
      "nnnnnnnnnnnnnnnnnnnnn    Switzerland\n",
      "condition verified\n",
      "nnnnnnnnnnnnnnnnnnnnn    Switzerland\n",
      "nnnnnnnnnnnnnnnnnnnnn    Switzerland\n",
      "nnnnnnnnnnnnnnnnnnnnn    Switzerland\n",
      "nnnnnnnnnnnnnnnnnnnnn    Switzerland\n"
     ]
    },
    {
     "name": "stderr",
     "output_type": "stream",
     "text": [
      "C:\\Users\\samir\\AppData\\Local\\Temp\\ipykernel_11084\\3614904585.py:4: FutureWarning: The frame.append method is deprecated and will be removed from pandas in a future version. Use pandas.concat instead.\n",
      "  final_data = final_data.append(new_row, ignore_index = True)\n"
     ]
    },
    {
     "name": "stdout",
     "output_type": "stream",
     "text": [
      "nnnnnnnnnnnnnnnnnnnnn    China\n",
      "condition verified\n",
      "nnnnnnnnnnnnnnnnnnnnn    China\n",
      "nnnnnnnnnnnnnnnnnnnnn    China\n",
      "nnnnnnnnnnnnnnnnnnnnn    Singapore\n",
      "condition verified\n",
      "nnnnnnnnnnnnnnnnnnnnn    China\n",
      "nnnnnnnnnnnnnnnnnnnnn    Singapore\n"
     ]
    },
    {
     "name": "stderr",
     "output_type": "stream",
     "text": [
      "C:\\Users\\samir\\AppData\\Local\\Temp\\ipykernel_11084\\3614904585.py:4: FutureWarning: The frame.append method is deprecated and will be removed from pandas in a future version. Use pandas.concat instead.\n",
      "  final_data = final_data.append(new_row, ignore_index = True)\n",
      "C:\\Users\\samir\\AppData\\Local\\Temp\\ipykernel_11084\\3614904585.py:4: FutureWarning: The frame.append method is deprecated and will be removed from pandas in a future version. Use pandas.concat instead.\n",
      "  final_data = final_data.append(new_row, ignore_index = True)\n"
     ]
    },
    {
     "name": "stdout",
     "output_type": "stream",
     "text": [
      "nnnnnnnnnnnnnnnnnnnnn    China\n",
      "condition verified\n",
      "nnnnnnnnnnnnnnnnnnnnn    China\n",
      "nnnnnnnnnnnnnnnnnnnnn    China\n",
      "nnnnnnnnnnnnnnnnnnnnn    UK\n",
      "condition verified\n"
     ]
    },
    {
     "name": "stderr",
     "output_type": "stream",
     "text": [
      "C:\\Users\\samir\\AppData\\Local\\Temp\\ipykernel_11084\\3614904585.py:4: FutureWarning: The frame.append method is deprecated and will be removed from pandas in a future version. Use pandas.concat instead.\n",
      "  final_data = final_data.append(new_row, ignore_index = True)\n"
     ]
    },
    {
     "name": "stdout",
     "output_type": "stream",
     "text": [
      "nnnnnnnnnnnnnnnnnnnnn    UK\n",
      "nnnnnnnnnnnnnnnnnnnnn    UK\n",
      "nnnnnnnnnnnnnnnnnnnnn    USA\n",
      "condition verified\n"
     ]
    },
    {
     "name": "stderr",
     "output_type": "stream",
     "text": [
      "C:\\Users\\samir\\AppData\\Local\\Temp\\ipykernel_11084\\3614904585.py:4: FutureWarning: The frame.append method is deprecated and will be removed from pandas in a future version. Use pandas.concat instead.\n",
      "  final_data = final_data.append(new_row, ignore_index = True)\n"
     ]
    },
    {
     "name": "stdout",
     "output_type": "stream",
     "text": [
      "nnnnnnnnnnnnnnnnnnnnn    USA\n",
      "nnnnnnnnnnnnnnnnnnnnn    China\n",
      "condition verified\n"
     ]
    },
    {
     "name": "stderr",
     "output_type": "stream",
     "text": [
      "C:\\Users\\samir\\AppData\\Local\\Temp\\ipykernel_11084\\3614904585.py:4: FutureWarning: The frame.append method is deprecated and will be removed from pandas in a future version. Use pandas.concat instead.\n",
      "  final_data = final_data.append(new_row, ignore_index = True)\n"
     ]
    },
    {
     "name": "stdout",
     "output_type": "stream",
     "text": [
      "nnnnnnnnnnnnnnnnnnnnn    China\n",
      "nnnnnnnnnnnnnnnnnnnnn    China\n",
      "nnnnnnnnnnnnnnnnnnnnn    China\n",
      "nnnnnnnnnnnnnnnnnnnnn    China\n",
      "nnnnnnnnnnnnnnnnnnnnn    China\n"
     ]
    },
    {
     "name": "stderr",
     "output_type": "stream",
     "text": [
      "C:\\Users\\samir\\AppData\\Local\\Temp\\ipykernel_11084\\3614904585.py:4: FutureWarning: The frame.append method is deprecated and will be removed from pandas in a future version. Use pandas.concat instead.\n",
      "  final_data = final_data.append(new_row, ignore_index = True)\n"
     ]
    },
    {
     "name": "stdout",
     "output_type": "stream",
     "text": [
      "nnnnnnnnnnnnnnnnnnnnn    Canada\n",
      "condition verified\n",
      "nnnnnnnnnnnnnnnnnnnnn   de  Canada\n",
      "condition verified\n",
      "nnnnnnnnnnnnnnnnnnnnn    Canada\n",
      "nnnnnnnnnnnnnnnnnnnnn    Canada\n",
      "nnnnnnnnnnnnnnnnnnnnn    China\n",
      "condition verified\n"
     ]
    },
    {
     "name": "stderr",
     "output_type": "stream",
     "text": [
      "C:\\Users\\samir\\AppData\\Local\\Temp\\ipykernel_11084\\3614904585.py:4: FutureWarning: The frame.append method is deprecated and will be removed from pandas in a future version. Use pandas.concat instead.\n",
      "  final_data = final_data.append(new_row, ignore_index = True)\n",
      "C:\\Users\\samir\\AppData\\Local\\Temp\\ipykernel_11084\\3614904585.py:4: FutureWarning: The frame.append method is deprecated and will be removed from pandas in a future version. Use pandas.concat instead.\n",
      "  final_data = final_data.append(new_row, ignore_index = True)\n"
     ]
    },
    {
     "name": "stdout",
     "output_type": "stream",
     "text": [
      "nnnnnnnnnnnnnnnnnnnnn    China\n",
      "nnnnnnnnnnnnnnnnnnnnn   \n",
      "condition verified\n",
      "nnnnnnnnnnnnnnnnnnnnn  \n",
      "nnnnnnnnnnnnnnnnnnnnn   China\n",
      "condition verified\n",
      "nnnnnnnnnnnnnnnnnnnnn    China\n",
      "nnnnnnnnnnnnnnnnnnnnn    China\n",
      "nnnnnnnnnnnnnnnnnnnnn    China\n",
      "nnnnnnnnnnnnnnnnnnnnn    China\n",
      "condition verified\n"
     ]
    },
    {
     "name": "stderr",
     "output_type": "stream",
     "text": [
      "C:\\Users\\samir\\AppData\\Local\\Temp\\ipykernel_11084\\3614904585.py:4: FutureWarning: The frame.append method is deprecated and will be removed from pandas in a future version. Use pandas.concat instead.\n",
      "  final_data = final_data.append(new_row, ignore_index = True)\n",
      "C:\\Users\\samir\\AppData\\Local\\Temp\\ipykernel_11084\\3614904585.py:4: FutureWarning: The frame.append method is deprecated and will be removed from pandas in a future version. Use pandas.concat instead.\n",
      "  final_data = final_data.append(new_row, ignore_index = True)\n"
     ]
    },
    {
     "name": "stdout",
     "output_type": "stream",
     "text": [
      "nnnnnnnnnnnnnnnnnnnnn    China\n",
      "nnnnnnnnnnnnnnnnnnnnn    China\n",
      "nnnnnnnnnnnnnnnnnnnnn    China\n",
      "nnnnnnnnnnnnnnnnnnnnn    China\n",
      "nnnnnnnnnnnnnnnnnnnnn    China\n",
      "nnnnnnnnnnnnnnnnnnnnn    China\n",
      "nnnnnnnnnnnnnnnnnnnnn    China\n",
      "condition verified\n"
     ]
    },
    {
     "name": "stderr",
     "output_type": "stream",
     "text": [
      "C:\\Users\\samir\\AppData\\Local\\Temp\\ipykernel_11084\\3614904585.py:4: FutureWarning: The frame.append method is deprecated and will be removed from pandas in a future version. Use pandas.concat instead.\n",
      "  final_data = final_data.append(new_row, ignore_index = True)\n"
     ]
    },
    {
     "name": "stdout",
     "output_type": "stream",
     "text": [
      "nnnnnnnnnnnnnnnnnnnnn    UK\n",
      "condition verified\n",
      "nnnnnnnnnnnnnnnnnnnnn    China\n",
      "nnnnnnnnnnnnnnnnnnnnn    China\n",
      "nnnnnnnnnnnnnnnnnnnnn    China\n",
      "nnnnnnnnnnnnnnnnnnnnn   \n",
      "condition verified\n",
      "nnnnnnnnnnnnnnnnnnnnn   \n",
      "nnnnnnnnnnnnnnnnnnnnn    Pakistan\n",
      "condition verified\n",
      "nnnnnnnnnnnnnnnnnnnnn   \n"
     ]
    },
    {
     "name": "stderr",
     "output_type": "stream",
     "text": [
      "C:\\Users\\samir\\AppData\\Local\\Temp\\ipykernel_11084\\3614904585.py:4: FutureWarning: The frame.append method is deprecated and will be removed from pandas in a future version. Use pandas.concat instead.\n",
      "  final_data = final_data.append(new_row, ignore_index = True)\n",
      "C:\\Users\\samir\\AppData\\Local\\Temp\\ipykernel_11084\\3614904585.py:4: FutureWarning: The frame.append method is deprecated and will be removed from pandas in a future version. Use pandas.concat instead.\n",
      "  final_data = final_data.append(new_row, ignore_index = True)\n",
      "C:\\Users\\samir\\AppData\\Local\\Temp\\ipykernel_11084\\3614904585.py:4: FutureWarning: The frame.append method is deprecated and will be removed from pandas in a future version. Use pandas.concat instead.\n",
      "  final_data = final_data.append(new_row, ignore_index = True)\n"
     ]
    },
    {
     "name": "stdout",
     "output_type": "stream",
     "text": [
      "nnnnnnnnnnnnnnnnnnnnn    Japan\n",
      "condition verified\n",
      "nnnnnnnnnnnnnnnnnnnnn    Japan\n"
     ]
    },
    {
     "name": "stderr",
     "output_type": "stream",
     "text": [
      "C:\\Users\\samir\\AppData\\Local\\Temp\\ipykernel_11084\\3614904585.py:4: FutureWarning: The frame.append method is deprecated and will be removed from pandas in a future version. Use pandas.concat instead.\n",
      "  final_data = final_data.append(new_row, ignore_index = True)\n"
     ]
    },
    {
     "name": "stdout",
     "output_type": "stream",
     "text": [
      "nnnnnnnnnnnnnnnnnnnnn    China\n",
      "condition verified\n",
      "nnnnnnnnnnnnnnnnnnnnn    China\n",
      "nnnnnnnnnnnnnnnnnnnnn    China\n",
      "nnnnnnnnnnnnnnnnnnnnn   \n",
      "condition verified\n",
      "nnnnnnnnnnnnnnnnnnnnn    China\n",
      "nnnnnnnnnnnnnnnnnnnnn    China\n",
      "nnnnnnnnnnnnnnnnnnnnn    China\n",
      "nnnnnnnnnnnnnnnnnnnnn   IN  USA\n",
      "condition verified\n"
     ]
    },
    {
     "name": "stderr",
     "output_type": "stream",
     "text": [
      "C:\\Users\\samir\\AppData\\Local\\Temp\\ipykernel_11084\\3614904585.py:4: FutureWarning: The frame.append method is deprecated and will be removed from pandas in a future version. Use pandas.concat instead.\n",
      "  final_data = final_data.append(new_row, ignore_index = True)\n"
     ]
    },
    {
     "name": "stdout",
     "output_type": "stream",
     "text": [
      "nnnnnnnnnnnnnnnnnnnnn    USA\n",
      "condition verified\n",
      "nnnnnnnnnnnnnnnnnnnnn    USA\n",
      "nnnnnnnnnnnnnnnnnnnnn   IN  USA\n",
      "nnnnnnnnnnnnnnnnnnnnn    USA\n"
     ]
    },
    {
     "name": "stderr",
     "output_type": "stream",
     "text": [
      "C:\\Users\\samir\\AppData\\Local\\Temp\\ipykernel_11084\\3614904585.py:4: FutureWarning: The frame.append method is deprecated and will be removed from pandas in a future version. Use pandas.concat instead.\n",
      "  final_data = final_data.append(new_row, ignore_index = True)\n",
      "C:\\Users\\samir\\AppData\\Local\\Temp\\ipykernel_11084\\3614904585.py:4: FutureWarning: The frame.append method is deprecated and will be removed from pandas in a future version. Use pandas.concat instead.\n",
      "  final_data = final_data.append(new_row, ignore_index = True)\n"
     ]
    },
    {
     "name": "stdout",
     "output_type": "stream",
     "text": [
      "nnnnnnnnnnnnnnnnnnnnn    Canada\n",
      "condition verified\n",
      "nnnnnnnnnnnnnnnnnnnnn    Canada\n",
      "nnnnnnnnnnnnnnnnnnnnn    China\n",
      "condition verified\n"
     ]
    },
    {
     "name": "stderr",
     "output_type": "stream",
     "text": [
      "C:\\Users\\samir\\AppData\\Local\\Temp\\ipykernel_11084\\3614904585.py:4: FutureWarning: The frame.append method is deprecated and will be removed from pandas in a future version. Use pandas.concat instead.\n",
      "  final_data = final_data.append(new_row, ignore_index = True)\n",
      "C:\\Users\\samir\\AppData\\Local\\Temp\\ipykernel_11084\\3614904585.py:4: FutureWarning: The frame.append method is deprecated and will be removed from pandas in a future version. Use pandas.concat instead.\n",
      "  final_data = final_data.append(new_row, ignore_index = True)\n"
     ]
    },
    {
     "name": "stdout",
     "output_type": "stream",
     "text": [
      "nnnnnnnnnnnnnnnnnnnnn   MA  USA\n",
      "condition verified\n",
      "nnnnnnnnnnnnnnnnnnnnn   MA  USA\n",
      "nnnnnnnnnnnnnnnnnnnnn   MA  USA\n",
      "nnnnnnnnnnnnnnnnnnnnn    Pakistan\n",
      "condition verified\n"
     ]
    },
    {
     "name": "stderr",
     "output_type": "stream",
     "text": [
      "C:\\Users\\samir\\AppData\\Local\\Temp\\ipykernel_11084\\3614904585.py:4: FutureWarning: The frame.append method is deprecated and will be removed from pandas in a future version. Use pandas.concat instead.\n",
      "  final_data = final_data.append(new_row, ignore_index = True)\n"
     ]
    },
    {
     "name": "stdout",
     "output_type": "stream",
     "text": [
      "nnnnnnnnnnnnnnnnnnnnn   \n",
      "condition verified\n",
      "nnnnnnnnnnnnnnnnnnnnn    China\n",
      "condition verified\n",
      "nnnnnnnnnnnnnnnnnnnnn   Luxembourg  Luxembourg\n",
      "condition verified\n",
      "nnnnnnnnnnnnnnnnnnnnn   \n",
      "nnnnnnnnnnnnnnnnnnnnn   \n",
      "nnnnnnnnnnnnnnnnnnnnn    Poland\n",
      "condition verified\n",
      "nnnnnnnnnnnnnnnnnnnnn   Luxembourg  Luxembourg\n"
     ]
    },
    {
     "name": "stderr",
     "output_type": "stream",
     "text": [
      "C:\\Users\\samir\\AppData\\Local\\Temp\\ipykernel_11084\\3614904585.py:4: FutureWarning: The frame.append method is deprecated and will be removed from pandas in a future version. Use pandas.concat instead.\n",
      "  final_data = final_data.append(new_row, ignore_index = True)\n",
      "C:\\Users\\samir\\AppData\\Local\\Temp\\ipykernel_11084\\3614904585.py:4: FutureWarning: The frame.append method is deprecated and will be removed from pandas in a future version. Use pandas.concat instead.\n",
      "  final_data = final_data.append(new_row, ignore_index = True)\n",
      "C:\\Users\\samir\\AppData\\Local\\Temp\\ipykernel_11084\\3614904585.py:4: FutureWarning: The frame.append method is deprecated and will be removed from pandas in a future version. Use pandas.concat instead.\n",
      "  final_data = final_data.append(new_row, ignore_index = True)\n",
      "C:\\Users\\samir\\AppData\\Local\\Temp\\ipykernel_11084\\3614904585.py:4: FutureWarning: The frame.append method is deprecated and will be removed from pandas in a future version. Use pandas.concat instead.\n",
      "  final_data = final_data.append(new_row, ignore_index = True)\n"
     ]
    },
    {
     "name": "stdout",
     "output_type": "stream",
     "text": [
      "nnnnnnnnnnnnnnnnnnnnn    China\n",
      "condition verified\n",
      "nnnnnnnnnnnnnnnnnnnnn   \n",
      "condition verified\n",
      "nnnnnnnnnnnnnnnnnnnnn    China\n",
      "nnnnnnnnnnnnnnnnnnnnn    China\n",
      "nnnnnnnnnnnnnnnnnnnnn    Japan\n",
      "condition verified\n",
      "nnnnnnnnnnnnnnnnnnnnn    China\n",
      "nnnnnnnnnnnnnnnnnnnnn   \n",
      "nnnnnnnnnnnnnnnnnnnnn    China\n",
      "nnnnnnnnnnnnnnnnnnnnn    Taiwan\n",
      "condition verified\n"
     ]
    },
    {
     "name": "stderr",
     "output_type": "stream",
     "text": [
      "C:\\Users\\samir\\AppData\\Local\\Temp\\ipykernel_11084\\3614904585.py:4: FutureWarning: The frame.append method is deprecated and will be removed from pandas in a future version. Use pandas.concat instead.\n",
      "  final_data = final_data.append(new_row, ignore_index = True)\n",
      "C:\\Users\\samir\\AppData\\Local\\Temp\\ipykernel_11084\\3614904585.py:4: FutureWarning: The frame.append method is deprecated and will be removed from pandas in a future version. Use pandas.concat instead.\n",
      "  final_data = final_data.append(new_row, ignore_index = True)\n",
      "C:\\Users\\samir\\AppData\\Local\\Temp\\ipykernel_11084\\3614904585.py:4: FutureWarning: The frame.append method is deprecated and will be removed from pandas in a future version. Use pandas.concat instead.\n",
      "  final_data = final_data.append(new_row, ignore_index = True)\n"
     ]
    },
    {
     "name": "stdout",
     "output_type": "stream",
     "text": [
      "nnnnnnnnnnnnnnnnnnnnn    China\n",
      "condition verified\n",
      "nnnnnnnnnnnnnnnnnnnnn    China\n",
      "nnnnnnnnnnnnnnnnnnnnn    France\n",
      "condition verified\n",
      "nnnnnnnnnnnnnnnnnnnnn    China\n",
      "nnnnnnnnnnnnnnnnnnnnn    China\n"
     ]
    },
    {
     "name": "stderr",
     "output_type": "stream",
     "text": [
      "C:\\Users\\samir\\AppData\\Local\\Temp\\ipykernel_11084\\3614904585.py:4: FutureWarning: The frame.append method is deprecated and will be removed from pandas in a future version. Use pandas.concat instead.\n",
      "  final_data = final_data.append(new_row, ignore_index = True)\n",
      "C:\\Users\\samir\\AppData\\Local\\Temp\\ipykernel_11084\\3614904585.py:4: FutureWarning: The frame.append method is deprecated and will be removed from pandas in a future version. Use pandas.concat instead.\n",
      "  final_data = final_data.append(new_row, ignore_index = True)\n"
     ]
    },
    {
     "name": "stdout",
     "output_type": "stream",
     "text": [
      "nnnnnnnnnnnnnnnnnnnnn    China\n",
      "condition verified\n",
      "nnnnnnnnnnnnnnnnnnnnn    China\n",
      "nnnnnnnnnnnnnnnnnnnnn    China\n",
      "nnnnnnnnnnnnnnnnnnnnn    Canada\n",
      "condition verified\n",
      "nnnnnnnnnnnnnnnnnnnnn    China\n",
      "nnnnnnnnnnnnnnnnnnnnn    Canada\n",
      "nnnnnnnnnnnnnnnnnnnnn    Canada\n"
     ]
    },
    {
     "name": "stderr",
     "output_type": "stream",
     "text": [
      "C:\\Users\\samir\\AppData\\Local\\Temp\\ipykernel_11084\\3614904585.py:4: FutureWarning: The frame.append method is deprecated and will be removed from pandas in a future version. Use pandas.concat instead.\n",
      "  final_data = final_data.append(new_row, ignore_index = True)\n",
      "C:\\Users\\samir\\AppData\\Local\\Temp\\ipykernel_11084\\3614904585.py:4: FutureWarning: The frame.append method is deprecated and will be removed from pandas in a future version. Use pandas.concat instead.\n",
      "  final_data = final_data.append(new_row, ignore_index = True)\n"
     ]
    },
    {
     "name": "stdout",
     "output_type": "stream",
     "text": [
      "nnnnnnnnnnnnnnnnnnnnn    China\n",
      "condition verified\n",
      "nnnnnnnnnnnnnnnnnnnnn    China\n",
      "nnnnnnnnnnnnnnnnnnnnn    China\n",
      "nnnnnnnnnnnnnnnnnnnnn    China\n",
      "nnnnnnnnnnnnnnnnnnnnn    China\n",
      "nnnnnnnnnnnnnnnnnnnnn   China  China\n",
      "condition verified\n"
     ]
    },
    {
     "name": "stderr",
     "output_type": "stream",
     "text": [
      "C:\\Users\\samir\\AppData\\Local\\Temp\\ipykernel_11084\\3614904585.py:4: FutureWarning: The frame.append method is deprecated and will be removed from pandas in a future version. Use pandas.concat instead.\n",
      "  final_data = final_data.append(new_row, ignore_index = True)\n",
      "C:\\Users\\samir\\AppData\\Local\\Temp\\ipykernel_11084\\3614904585.py:4: FutureWarning: The frame.append method is deprecated and will be removed from pandas in a future version. Use pandas.concat instead.\n",
      "  final_data = final_data.append(new_row, ignore_index = True)\n"
     ]
    },
    {
     "name": "stdout",
     "output_type": "stream",
     "text": [
      "nnnnnnnnnnnnnnnnnnnnn    Finland\n",
      "condition verified\n",
      "nnnnnnnnnnnnnnnnnnnnn   \n",
      "condition verified\n",
      "nnnnnnnnnnnnnnnnnnnnn    Switzerland\n",
      "condition verified\n",
      "nnnnnnnnnnnnnnnnnnnnn   \n",
      "nnnnnnnnnnnnnnnnnnnnn    Ireland\n",
      "condition verified\n",
      "nnnnnnnnnnnnnnnnnnnnn   Finland \n",
      "condition verified\n"
     ]
    },
    {
     "name": "stderr",
     "output_type": "stream",
     "text": [
      "C:\\Users\\samir\\AppData\\Local\\Temp\\ipykernel_11084\\3614904585.py:4: FutureWarning: The frame.append method is deprecated and will be removed from pandas in a future version. Use pandas.concat instead.\n",
      "  final_data = final_data.append(new_row, ignore_index = True)\n",
      "C:\\Users\\samir\\AppData\\Local\\Temp\\ipykernel_11084\\3614904585.py:4: FutureWarning: The frame.append method is deprecated and will be removed from pandas in a future version. Use pandas.concat instead.\n",
      "  final_data = final_data.append(new_row, ignore_index = True)\n",
      "C:\\Users\\samir\\AppData\\Local\\Temp\\ipykernel_11084\\3614904585.py:4: FutureWarning: The frame.append method is deprecated and will be removed from pandas in a future version. Use pandas.concat instead.\n",
      "  final_data = final_data.append(new_row, ignore_index = True)\n",
      "C:\\Users\\samir\\AppData\\Local\\Temp\\ipykernel_11084\\3614904585.py:4: FutureWarning: The frame.append method is deprecated and will be removed from pandas in a future version. Use pandas.concat instead.\n",
      "  final_data = final_data.append(new_row, ignore_index = True)\n"
     ]
    },
    {
     "name": "stdout",
     "output_type": "stream",
     "text": [
      "nnnnnnnnnnnnnnnnnnnnn   China \n",
      "condition verified\n",
      "nnnnnnnnnnnnnnnnnnnnn   China \n",
      "nnnnnnnnnnnnnnnnnnnnn   China \n",
      "nnnnnnnnnnnnnnnnnnnnn   China \n",
      "nnnnnnnnnnnnnnnnnnnnn   Netherlands \n",
      "condition verified\n",
      "nnnnnnnnnnnnnnnnnnnnn   China \n",
      "nnnnnnnnnnnnnnnnnnnnn   China \n"
     ]
    },
    {
     "name": "stderr",
     "output_type": "stream",
     "text": [
      "C:\\Users\\samir\\AppData\\Local\\Temp\\ipykernel_11084\\3614904585.py:4: FutureWarning: The frame.append method is deprecated and will be removed from pandas in a future version. Use pandas.concat instead.\n",
      "  final_data = final_data.append(new_row, ignore_index = True)\n",
      "C:\\Users\\samir\\AppData\\Local\\Temp\\ipykernel_11084\\3614904585.py:4: FutureWarning: The frame.append method is deprecated and will be removed from pandas in a future version. Use pandas.concat instead.\n",
      "  final_data = final_data.append(new_row, ignore_index = True)\n"
     ]
    },
    {
     "name": "stdout",
     "output_type": "stream",
     "text": [
      "nnnnnnnnnnnnnnnnnnnnn   China \n",
      "condition verified\n",
      "nnnnnnnnnnnnnnnnnnnnn   China \n",
      "nnnnnnnnnnnnnnnnnnnnn  \n",
      "nnnnnnnnnnnnnnnnnnnnn   China \n",
      "nnnnnnnnnnnnnnnnnnnnn   China \n",
      "nnnnnnnnnnnnnnnnnnnnn  \n",
      "nnnnnnnnnnnnnnnnnnnnn  NA\n",
      "condition verified\n"
     ]
    },
    {
     "name": "stderr",
     "output_type": "stream",
     "text": [
      "C:\\Users\\samir\\AppData\\Local\\Temp\\ipykernel_11084\\3614904585.py:4: FutureWarning: The frame.append method is deprecated and will be removed from pandas in a future version. Use pandas.concat instead.\n",
      "  final_data = final_data.append(new_row, ignore_index = True)\n"
     ]
    },
    {
     "name": "stdout",
     "output_type": "stream",
     "text": [
      "nnnnnnnnnnnnnnnnnnnnn   NA\n",
      "condition verified\n",
      "nnnnnnnnnnnnnnnnnnnnn   NA\n"
     ]
    },
    {
     "name": "stderr",
     "output_type": "stream",
     "text": [
      "C:\\Users\\samir\\AppData\\Local\\Temp\\ipykernel_11084\\3614904585.py:4: FutureWarning: The frame.append method is deprecated and will be removed from pandas in a future version. Use pandas.concat instead.\n",
      "  final_data = final_data.append(new_row, ignore_index = True)\n",
      "C:\\Users\\samir\\AppData\\Local\\Temp\\ipykernel_11084\\3614904585.py:4: FutureWarning: The frame.append method is deprecated and will be removed from pandas in a future version. Use pandas.concat instead.\n",
      "  final_data = final_data.append(new_row, ignore_index = True)\n"
     ]
    },
    {
     "name": "stdout",
     "output_type": "stream",
     "text": [
      "nnnnnnnnnnnnnnnnnnnnn   \n",
      "condition verified\n",
      "nnnnnnnnnnnnnnnnnnnnn   \n",
      "nnnnnnnnnnnnnnnnnnnnn    China\n",
      "condition verified\n",
      "nnnnnnnnnnnnnnnnnnnnn    China\n",
      "nnnnnnnnnnnnnnnnnnnnn    China\n",
      "nnnnnnnnnnnnnnnnnnnnn    China\n"
     ]
    },
    {
     "name": "stderr",
     "output_type": "stream",
     "text": [
      "C:\\Users\\samir\\AppData\\Local\\Temp\\ipykernel_11084\\3614904585.py:4: FutureWarning: The frame.append method is deprecated and will be removed from pandas in a future version. Use pandas.concat instead.\n",
      "  final_data = final_data.append(new_row, ignore_index = True)\n"
     ]
    },
    {
     "name": "stdout",
     "output_type": "stream",
     "text": [
      "nnnnnnnnnnnnnnnnnnnnn   \n",
      "condition verified\n",
      "nnnnnnnnnnnnnnnnnnnnn   \n",
      "nnnnnnnnnnnnnnnnnnnnn   \n",
      "nnnnnnnnnnnnnnnnnnnnn   China \n",
      "condition verified\n",
      "nnnnnnnnnnnnnnnnnnnnn   Iran \n",
      "condition verified\n"
     ]
    },
    {
     "name": "stderr",
     "output_type": "stream",
     "text": [
      "C:\\Users\\samir\\AppData\\Local\\Temp\\ipykernel_11084\\3614904585.py:4: FutureWarning: The frame.append method is deprecated and will be removed from pandas in a future version. Use pandas.concat instead.\n",
      "  final_data = final_data.append(new_row, ignore_index = True)\n",
      "C:\\Users\\samir\\AppData\\Local\\Temp\\ipykernel_11084\\3614904585.py:4: FutureWarning: The frame.append method is deprecated and will be removed from pandas in a future version. Use pandas.concat instead.\n",
      "  final_data = final_data.append(new_row, ignore_index = True)\n"
     ]
    },
    {
     "name": "stdout",
     "output_type": "stream",
     "text": [
      "nnnnnnnnnnnnnnnnnnnnn    China\n",
      "condition verified\n",
      "nnnnnnnnnnnnnnnnnnnnn    China\n",
      "nnnnnnnnnnnnnnnnnnnnn    Canada\n",
      "condition verified\n",
      "nnnnnnnnnnnnnnnnnnnnn    China\n",
      "nnnnnnnnnnnnnnnnnnnnn    Canada\n",
      "nnnnnnnnnnnnnnnnnnnnn    China\n",
      "nnnnnnnnnnnnnnnnnnnnn    Canada\n"
     ]
    },
    {
     "name": "stderr",
     "output_type": "stream",
     "text": [
      "C:\\Users\\samir\\AppData\\Local\\Temp\\ipykernel_11084\\3614904585.py:4: FutureWarning: The frame.append method is deprecated and will be removed from pandas in a future version. Use pandas.concat instead.\n",
      "  final_data = final_data.append(new_row, ignore_index = True)\n",
      "C:\\Users\\samir\\AppData\\Local\\Temp\\ipykernel_11084\\3614904585.py:4: FutureWarning: The frame.append method is deprecated and will be removed from pandas in a future version. Use pandas.concat instead.\n",
      "  final_data = final_data.append(new_row, ignore_index = True)\n"
     ]
    },
    {
     "name": "stdout",
     "output_type": "stream",
     "text": [
      "nnnnnnnnnnnnnnnnnnnnn   Singapore  Singapore\n",
      "condition verified\n",
      "nnnnnnnnnnnnnnnnnnnnn   Singapore  Singapore\n",
      "nnnnnnnnnnnnnnnnnnnnn   Singapore  Singapore\n",
      "nnnnnnnnnnnnnnnnnnnnn    China\n",
      "condition verified\n",
      "nnnnnnnnnnnnnnnnnnnnn   Singapore  Singapore\n",
      "nnnnnnnnnnnnnnnnnnnnn   Singapore  Singapore\n",
      "nnnnnnnnnnnnnnnnnnnnn    China\n",
      "nnnnnnnnnnnnnnnnnnnnn    Canada\n",
      "condition verified\n",
      "nnnnnnnnnnnnnnnnnnnnn   Singapore  Singapore\n"
     ]
    },
    {
     "name": "stderr",
     "output_type": "stream",
     "text": [
      "C:\\Users\\samir\\AppData\\Local\\Temp\\ipykernel_11084\\3614904585.py:4: FutureWarning: The frame.append method is deprecated and will be removed from pandas in a future version. Use pandas.concat instead.\n",
      "  final_data = final_data.append(new_row, ignore_index = True)\n",
      "C:\\Users\\samir\\AppData\\Local\\Temp\\ipykernel_11084\\3614904585.py:4: FutureWarning: The frame.append method is deprecated and will be removed from pandas in a future version. Use pandas.concat instead.\n",
      "  final_data = final_data.append(new_row, ignore_index = True)\n",
      "C:\\Users\\samir\\AppData\\Local\\Temp\\ipykernel_11084\\3614904585.py:4: FutureWarning: The frame.append method is deprecated and will be removed from pandas in a future version. Use pandas.concat instead.\n",
      "  final_data = final_data.append(new_row, ignore_index = True)\n"
     ]
    },
    {
     "name": "stdout",
     "output_type": "stream",
     "text": [
      "nnnnnnnnnnnnnnnnnnnnn    USA\n",
      "condition verified\n",
      "nnnnnnnnnnnnnnnnnnnnn    USA\n",
      "nnnnnnnnnnnnnnnnnnnnn    USA\n",
      "nnnnnnnnnnnnnnnnnnnnn    USA\n",
      "nnnnnnnnnnnnnnnnnnnnn    USA\n",
      "nnnnnnnnnnnnnnnnnnnnn    USA\n",
      "nnnnnnnnnnnnnnnnnnnnn    USA\n",
      "nnnnnnnnnnnnnnnnnnnnn    China\n",
      "condition verified\n"
     ]
    },
    {
     "name": "stderr",
     "output_type": "stream",
     "text": [
      "C:\\Users\\samir\\AppData\\Local\\Temp\\ipykernel_11084\\3614904585.py:4: FutureWarning: The frame.append method is deprecated and will be removed from pandas in a future version. Use pandas.concat instead.\n",
      "  final_data = final_data.append(new_row, ignore_index = True)\n"
     ]
    },
    {
     "name": "stdout",
     "output_type": "stream",
     "text": [
      "nnnnnnnnnnnnnnnnnnnnn    China\n",
      "nnnnnnnnnnnnnnnnnnnnn    China\n",
      "nnnnnnnnnnnnnnnnnnnnn    USA\n",
      "condition verified\n",
      "nnnnnnnnnnnnnnnnnnnnn    China\n",
      "nnnnnnnnnnnnnnnnnnnnn    China\n",
      "condition verified\n"
     ]
    },
    {
     "name": "stderr",
     "output_type": "stream",
     "text": [
      "C:\\Users\\samir\\AppData\\Local\\Temp\\ipykernel_11084\\3614904585.py:4: FutureWarning: The frame.append method is deprecated and will be removed from pandas in a future version. Use pandas.concat instead.\n",
      "  final_data = final_data.append(new_row, ignore_index = True)\n",
      "C:\\Users\\samir\\AppData\\Local\\Temp\\ipykernel_11084\\3614904585.py:4: FutureWarning: The frame.append method is deprecated and will be removed from pandas in a future version. Use pandas.concat instead.\n",
      "  final_data = final_data.append(new_row, ignore_index = True)\n"
     ]
    },
    {
     "name": "stdout",
     "output_type": "stream",
     "text": [
      "nnnnnnnnnnnnnnnnnnnnn    China\n"
     ]
    },
    {
     "name": "stderr",
     "output_type": "stream",
     "text": [
      "C:\\Users\\samir\\AppData\\Local\\Temp\\ipykernel_11084\\3614904585.py:4: FutureWarning: The frame.append method is deprecated and will be removed from pandas in a future version. Use pandas.concat instead.\n",
      "  final_data = final_data.append(new_row, ignore_index = True)\n"
     ]
    },
    {
     "name": "stdout",
     "output_type": "stream",
     "text": [
      "nnnnnnnnnnnnnnnnnnnnn    USA\n",
      "condition verified\n",
      "nnnnnnnnnnnnnnnnnnnnn    China\n",
      "condition verified\n"
     ]
    },
    {
     "name": "stderr",
     "output_type": "stream",
     "text": [
      "C:\\Users\\samir\\AppData\\Local\\Temp\\ipykernel_11084\\3614904585.py:4: FutureWarning: The frame.append method is deprecated and will be removed from pandas in a future version. Use pandas.concat instead.\n",
      "  final_data = final_data.append(new_row, ignore_index = True)\n"
     ]
    },
    {
     "name": "stdout",
     "output_type": "stream",
     "text": [
      "nnnnnnnnnnnnnnnnnnnnn    China\n",
      "nnnnnnnnnnnnnnnnnnnnn   Singapore  Singapore\n",
      "condition verified\n",
      "nnnnnnnnnnnnnnnnnnnnn    China\n",
      "nnnnnnnnnnnnnnnnnnnnn   Singapore  Singapore\n",
      "nnnnnnnnnnnnnnnnnnnnn   Singapore  Singapore\n",
      "nnnnnnnnnnnnnnnnnnnnn    Canada\n",
      "condition verified\n",
      "nnnnnnnnnnnnnnnnnnnnn    China\n",
      "condition verified\n"
     ]
    },
    {
     "name": "stderr",
     "output_type": "stream",
     "text": [
      "C:\\Users\\samir\\AppData\\Local\\Temp\\ipykernel_11084\\3614904585.py:4: FutureWarning: The frame.append method is deprecated and will be removed from pandas in a future version. Use pandas.concat instead.\n",
      "  final_data = final_data.append(new_row, ignore_index = True)\n",
      "C:\\Users\\samir\\AppData\\Local\\Temp\\ipykernel_11084\\3614904585.py:4: FutureWarning: The frame.append method is deprecated and will be removed from pandas in a future version. Use pandas.concat instead.\n",
      "  final_data = final_data.append(new_row, ignore_index = True)\n",
      "C:\\Users\\samir\\AppData\\Local\\Temp\\ipykernel_11084\\3614904585.py:4: FutureWarning: The frame.append method is deprecated and will be removed from pandas in a future version. Use pandas.concat instead.\n",
      "  final_data = final_data.append(new_row, ignore_index = True)\n"
     ]
    },
    {
     "name": "stdout",
     "output_type": "stream",
     "text": [
      "nnnnnnnnnnnnnnnnnnnnn    China\n",
      "nnnnnnnnnnnnnnnnnnnnn    China\n",
      "nnnnnnnnnnnnnnnnnnnnn    UK\n",
      "condition verified\n",
      "nnnnnnnnnnnnnnnnnnnnn    China\n",
      "nnnnnnnnnnnnnnnnnnnnn    USA\n",
      "condition verified\n"
     ]
    },
    {
     "name": "stderr",
     "output_type": "stream",
     "text": [
      "C:\\Users\\samir\\AppData\\Local\\Temp\\ipykernel_11084\\3614904585.py:4: FutureWarning: The frame.append method is deprecated and will be removed from pandas in a future version. Use pandas.concat instead.\n",
      "  final_data = final_data.append(new_row, ignore_index = True)\n",
      "C:\\Users\\samir\\AppData\\Local\\Temp\\ipykernel_11084\\3614904585.py:4: FutureWarning: The frame.append method is deprecated and will be removed from pandas in a future version. Use pandas.concat instead.\n",
      "  final_data = final_data.append(new_row, ignore_index = True)\n"
     ]
    },
    {
     "name": "stdout",
     "output_type": "stream",
     "text": [
      "nnnnnnnnnnnnnnnnnnnnn   \n",
      "condition verified\n",
      "nnnnnnnnnnnnnnnnnnnnn   \n",
      "nnnnnnnnnnnnnnnnnnnnn   \n",
      "nnnnnnnnnnnnnnnnnnnnn   GA  USA\n",
      "condition verified\n"
     ]
    },
    {
     "name": "stderr",
     "output_type": "stream",
     "text": [
      "C:\\Users\\samir\\AppData\\Local\\Temp\\ipykernel_11084\\3614904585.py:4: FutureWarning: The frame.append method is deprecated and will be removed from pandas in a future version. Use pandas.concat instead.\n",
      "  final_data = final_data.append(new_row, ignore_index = True)\n",
      "C:\\Users\\samir\\AppData\\Local\\Temp\\ipykernel_11084\\3614904585.py:4: FutureWarning: The frame.append method is deprecated and will be removed from pandas in a future version. Use pandas.concat instead.\n",
      "  final_data = final_data.append(new_row, ignore_index = True)\n"
     ]
    },
    {
     "name": "stdout",
     "output_type": "stream",
     "text": [
      "nnnnnnnnnnnnnnnnnnnnn    China\n",
      "condition verified\n",
      "nnnnnnnnnnnnnnnnnnnnn    China\n",
      "nnnnnnnnnnnnnnnnnnnnn    China\n",
      "nnnnnnnnnnnnnnnnnnnnn    China\n",
      "nnnnnnnnnnnnnnnnnnnnn    China\n"
     ]
    },
    {
     "name": "stderr",
     "output_type": "stream",
     "text": [
      "C:\\Users\\samir\\AppData\\Local\\Temp\\ipykernel_11084\\3614904585.py:4: FutureWarning: The frame.append method is deprecated and will be removed from pandas in a future version. Use pandas.concat instead.\n",
      "  final_data = final_data.append(new_row, ignore_index = True)\n"
     ]
    },
    {
     "name": "stdout",
     "output_type": "stream",
     "text": [
      "nnnnnnnnnnnnnnnnnnnnn \n",
      "condition verified\n",
      "nnnnnnnnnnnnnnnnnnnnn    China\n",
      "condition verified\n",
      "nnnnnnnnnnnnnnnnnnnnn   China  China\n",
      "condition verified\n",
      "nnnnnnnnnnnnnnnnnnnnn    USA\n",
      "condition verified\n",
      "nnnnnnnnnnnnnnnnnnnnn    China\n",
      "nnnnnnnnnnnnnnnnnnnnn    China\n",
      "nnnnnnnnnnnnnnnnnnnnn    PR China\n",
      "condition verified\n",
      "nnnnnnnnnnnnnnnnnnnnn   China  China\n"
     ]
    },
    {
     "name": "stderr",
     "output_type": "stream",
     "text": [
      "C:\\Users\\samir\\AppData\\Local\\Temp\\ipykernel_11084\\3614904585.py:4: FutureWarning: The frame.append method is deprecated and will be removed from pandas in a future version. Use pandas.concat instead.\n",
      "  final_data = final_data.append(new_row, ignore_index = True)\n",
      "C:\\Users\\samir\\AppData\\Local\\Temp\\ipykernel_11084\\3614904585.py:4: FutureWarning: The frame.append method is deprecated and will be removed from pandas in a future version. Use pandas.concat instead.\n",
      "  final_data = final_data.append(new_row, ignore_index = True)\n",
      "C:\\Users\\samir\\AppData\\Local\\Temp\\ipykernel_11084\\3614904585.py:4: FutureWarning: The frame.append method is deprecated and will be removed from pandas in a future version. Use pandas.concat instead.\n",
      "  final_data = final_data.append(new_row, ignore_index = True)\n",
      "C:\\Users\\samir\\AppData\\Local\\Temp\\ipykernel_11084\\3614904585.py:4: FutureWarning: The frame.append method is deprecated and will be removed from pandas in a future version. Use pandas.concat instead.\n",
      "  final_data = final_data.append(new_row, ignore_index = True)\n"
     ]
    },
    {
     "name": "stdout",
     "output_type": "stream",
     "text": [
      "nnnnnnnnnnnnnnnnnnnnn    China\n",
      "condition verified\n",
      "nnnnnnnnnnnnnnnnnnnnn    China\n",
      "nnnnnnnnnnnnnnnnnnnnn    China\n",
      "nnnnnnnnnnnnnnnnnnnnn    China\n",
      "nnnnnnnnnnnnnnnnnnnnn    China\n"
     ]
    },
    {
     "name": "stderr",
     "output_type": "stream",
     "text": [
      "C:\\Users\\samir\\AppData\\Local\\Temp\\ipykernel_11084\\3614904585.py:4: FutureWarning: The frame.append method is deprecated and will be removed from pandas in a future version. Use pandas.concat instead.\n",
      "  final_data = final_data.append(new_row, ignore_index = True)\n"
     ]
    },
    {
     "name": "stdout",
     "output_type": "stream",
     "text": [
      "nnnnnnnnnnnnnnnnnnnnn    China\n",
      "condition verified\n",
      "nnnnnnnnnnnnnnnnnnnnn    China\n",
      "nnnnnnnnnnnnnnnnnnnnn    China\n",
      "nnnnnnnnnnnnnnnnnnnnn    China\n",
      "nnnnnnnnnnnnnnnnnnnnn    China\n",
      "nnnnnnnnnnnnnnnnnnnnn    China\n",
      "nnnnnnnnnnnnnnnnnnnnn    Sweden\n",
      "condition verified\n",
      "nnnnnnnnnnnnnnnnnnnnn  NA\n",
      "condition verified\n"
     ]
    },
    {
     "name": "stderr",
     "output_type": "stream",
     "text": [
      "C:\\Users\\samir\\AppData\\Local\\Temp\\ipykernel_11084\\3614904585.py:4: FutureWarning: The frame.append method is deprecated and will be removed from pandas in a future version. Use pandas.concat instead.\n",
      "  final_data = final_data.append(new_row, ignore_index = True)\n",
      "C:\\Users\\samir\\AppData\\Local\\Temp\\ipykernel_11084\\3614904585.py:4: FutureWarning: The frame.append method is deprecated and will be removed from pandas in a future version. Use pandas.concat instead.\n",
      "  final_data = final_data.append(new_row, ignore_index = True)\n"
     ]
    },
    {
     "name": "stdout",
     "output_type": "stream",
     "text": [
      "nnnnnnnnnnnnnnnnnnnnn   NA\n",
      "condition verified\n",
      "nnnnnnnnnnnnnnnnnnnnn   NA\n",
      "nnnnnnnnnnnnnnnnnnnnn   NA\n",
      "nnnnnnnnnnnnnnnnnnnnn   NA\n",
      "nnnnnnnnnnnnnnnnnnnnn   NA\n"
     ]
    },
    {
     "name": "stderr",
     "output_type": "stream",
     "text": [
      "C:\\Users\\samir\\AppData\\Local\\Temp\\ipykernel_11084\\3614904585.py:4: FutureWarning: The frame.append method is deprecated and will be removed from pandas in a future version. Use pandas.concat instead.\n",
      "  final_data = final_data.append(new_row, ignore_index = True)\n",
      "C:\\Users\\samir\\AppData\\Local\\Temp\\ipykernel_11084\\3614904585.py:4: FutureWarning: The frame.append method is deprecated and will be removed from pandas in a future version. Use pandas.concat instead.\n",
      "  final_data = final_data.append(new_row, ignore_index = True)\n"
     ]
    },
    {
     "name": "stdout",
     "output_type": "stream",
     "text": [
      "nnnnnnnnnnnnnnnnnnnnn  \n",
      "nnnnnnnnnnnnnnnnnnnnn   \n",
      "condition verified\n",
      "nnnnnnnnnnnnnnnnnnnnn   \n",
      "nnnnnnnnnnnnnnnnnnnnn   \n",
      "nnnnnnnnnnnnnnnnnnnnn   \n",
      "nnnnnnnnnnnnnnnnnnnnn   \n",
      "nnnnnnnnnnnnnnnnnnnnn   Co  China\n",
      "condition verified\n"
     ]
    },
    {
     "name": "stderr",
     "output_type": "stream",
     "text": [
      "C:\\Users\\samir\\AppData\\Local\\Temp\\ipykernel_11084\\3614904585.py:4: FutureWarning: The frame.append method is deprecated and will be removed from pandas in a future version. Use pandas.concat instead.\n",
      "  final_data = final_data.append(new_row, ignore_index = True)\n"
     ]
    },
    {
     "name": "stdout",
     "output_type": "stream",
     "text": [
      "nnnnnnnnnnnnnnnnnnnnn    Russia\n",
      "condition verified\n",
      "nnnnnnnnnnnnnnnnnnnnn   TN  USA\n",
      "condition verified\n"
     ]
    },
    {
     "name": "stderr",
     "output_type": "stream",
     "text": [
      "C:\\Users\\samir\\AppData\\Local\\Temp\\ipykernel_11084\\3614904585.py:4: FutureWarning: The frame.append method is deprecated and will be removed from pandas in a future version. Use pandas.concat instead.\n",
      "  final_data = final_data.append(new_row, ignore_index = True)\n",
      "C:\\Users\\samir\\AppData\\Local\\Temp\\ipykernel_11084\\3614904585.py:4: FutureWarning: The frame.append method is deprecated and will be removed from pandas in a future version. Use pandas.concat instead.\n",
      "  final_data = final_data.append(new_row, ignore_index = True)\n"
     ]
    },
    {
     "name": "stdout",
     "output_type": "stream",
     "text": [
      "nnnnnnnnnnnnnnnnnnnnn   Thailand \n",
      "condition verified\n",
      "nnnnnnnnnnnnnnnnnnnnn   China \n",
      "condition verified\n",
      "nnnnnnnnnnnnnnnnnnnnn   India \n",
      "condition verified\n",
      "nnnnnnnnnnnnnnnnnnnnn   Thailand \n",
      "nnnnnnnnnnnnnnnnnnnnn   Thailand \n",
      "nnnnnnnnnnnnnnnnnnnnn   \n",
      "condition verified\n"
     ]
    },
    {
     "name": "stderr",
     "output_type": "stream",
     "text": [
      "C:\\Users\\samir\\AppData\\Local\\Temp\\ipykernel_11084\\3614904585.py:4: FutureWarning: The frame.append method is deprecated and will be removed from pandas in a future version. Use pandas.concat instead.\n",
      "  final_data = final_data.append(new_row, ignore_index = True)\n",
      "C:\\Users\\samir\\AppData\\Local\\Temp\\ipykernel_11084\\3614904585.py:4: FutureWarning: The frame.append method is deprecated and will be removed from pandas in a future version. Use pandas.concat instead.\n",
      "  final_data = final_data.append(new_row, ignore_index = True)\n",
      "C:\\Users\\samir\\AppData\\Local\\Temp\\ipykernel_11084\\3614904585.py:4: FutureWarning: The frame.append method is deprecated and will be removed from pandas in a future version. Use pandas.concat instead.\n",
      "  final_data = final_data.append(new_row, ignore_index = True)\n"
     ]
    },
    {
     "name": "stdout",
     "output_type": "stream",
     "text": [
      "nnnnnnnnnnnnnnnnnnnnn    China\n",
      "condition verified\n",
      "nnnnnnnnnnnnnnnnnnnnn    China\n",
      "nnnnnnnnnnnnnnnnnnnnn    China\n",
      "nnnnnnnnnnnnnnnnnnnnn    China\n",
      "nnnnnnnnnnnnnnnnnnnnn    China\n",
      "nnnnnnnnnnnnnnnnnnnnn    Japan\n",
      "condition verified\n"
     ]
    },
    {
     "name": "stderr",
     "output_type": "stream",
     "text": [
      "C:\\Users\\samir\\AppData\\Local\\Temp\\ipykernel_11084\\3614904585.py:4: FutureWarning: The frame.append method is deprecated and will be removed from pandas in a future version. Use pandas.concat instead.\n",
      "  final_data = final_data.append(new_row, ignore_index = True)\n",
      "C:\\Users\\samir\\AppData\\Local\\Temp\\ipykernel_11084\\3614904585.py:4: FutureWarning: The frame.append method is deprecated and will be removed from pandas in a future version. Use pandas.concat instead.\n",
      "  final_data = final_data.append(new_row, ignore_index = True)\n"
     ]
    },
    {
     "name": "stdout",
     "output_type": "stream",
     "text": [
      "nnnnnnnnnnnnnnnnnnnnn    China\n",
      "condition verified\n",
      "nnnnnnnnnnnnnnnnnnnnn    China\n",
      "nnnnnnnnnnnnnnnnnnnnn    China\n",
      "nnnnnnnnnnnnnnnnnnnnn    China\n"
     ]
    },
    {
     "name": "stderr",
     "output_type": "stream",
     "text": [
      "C:\\Users\\samir\\AppData\\Local\\Temp\\ipykernel_11084\\3614904585.py:4: FutureWarning: The frame.append method is deprecated and will be removed from pandas in a future version. Use pandas.concat instead.\n",
      "  final_data = final_data.append(new_row, ignore_index = True)\n"
     ]
    },
    {
     "name": "stdout",
     "output_type": "stream",
     "text": [
      "nnnnnnnnnnnnnnnnnnnnn   \n",
      "condition verified\n",
      "nnnnnnnnnnnnnnnnnnnnn    UK\n",
      "condition verified\n",
      "nnnnnnnnnnnnnnnnnnnnn   \n",
      "nnnnnnnnnnnnnnnnnnnnn    China\n",
      "condition verified\n",
      "nnnnnnnnnnnnnnnnnnnnn   NC  USA\n",
      "condition verified\n"
     ]
    },
    {
     "name": "stderr",
     "output_type": "stream",
     "text": [
      "C:\\Users\\samir\\AppData\\Local\\Temp\\ipykernel_11084\\3614904585.py:4: FutureWarning: The frame.append method is deprecated and will be removed from pandas in a future version. Use pandas.concat instead.\n",
      "  final_data = final_data.append(new_row, ignore_index = True)\n",
      "C:\\Users\\samir\\AppData\\Local\\Temp\\ipykernel_11084\\3614904585.py:4: FutureWarning: The frame.append method is deprecated and will be removed from pandas in a future version. Use pandas.concat instead.\n",
      "  final_data = final_data.append(new_row, ignore_index = True)\n",
      "C:\\Users\\samir\\AppData\\Local\\Temp\\ipykernel_11084\\3614904585.py:4: FutureWarning: The frame.append method is deprecated and will be removed from pandas in a future version. Use pandas.concat instead.\n",
      "  final_data = final_data.append(new_row, ignore_index = True)\n"
     ]
    },
    {
     "name": "stdout",
     "output_type": "stream",
     "text": [
      "nnnnnnnnnnnnnnnnnnnnn    Finland\n",
      "condition verified\n",
      "nnnnnnnnnnnnnnnnnnnnn    China\n",
      "condition verified\n",
      "nnnnnnnnnnnnnnnnnnnnn    China\n",
      "nnnnnnnnnnnnnnnnnnnnn    USA\n",
      "condition verified\n",
      "nnnnnnnnnnnnnnnnnnnnn  NA\n",
      "condition verified\n",
      "nnnnnnnnnnnnnnnnnnnnn   NA\n",
      "condition verified\n"
     ]
    },
    {
     "name": "stderr",
     "output_type": "stream",
     "text": [
      "C:\\Users\\samir\\AppData\\Local\\Temp\\ipykernel_11084\\3614904585.py:4: FutureWarning: The frame.append method is deprecated and will be removed from pandas in a future version. Use pandas.concat instead.\n",
      "  final_data = final_data.append(new_row, ignore_index = True)\n",
      "C:\\Users\\samir\\AppData\\Local\\Temp\\ipykernel_11084\\3614904585.py:4: FutureWarning: The frame.append method is deprecated and will be removed from pandas in a future version. Use pandas.concat instead.\n",
      "  final_data = final_data.append(new_row, ignore_index = True)\n",
      "C:\\Users\\samir\\AppData\\Local\\Temp\\ipykernel_11084\\3614904585.py:4: FutureWarning: The frame.append method is deprecated and will be removed from pandas in a future version. Use pandas.concat instead.\n",
      "  final_data = final_data.append(new_row, ignore_index = True)\n"
     ]
    },
    {
     "name": "stdout",
     "output_type": "stream",
     "text": [
      "nnnnnnnnnnnnnnnnnnnnn   NA\n",
      "nnnnnnnnnnnnnnnnnnnnn   NA\n"
     ]
    },
    {
     "name": "stderr",
     "output_type": "stream",
     "text": [
      "C:\\Users\\samir\\AppData\\Local\\Temp\\ipykernel_11084\\3614904585.py:4: FutureWarning: The frame.append method is deprecated and will be removed from pandas in a future version. Use pandas.concat instead.\n",
      "  final_data = final_data.append(new_row, ignore_index = True)\n",
      "C:\\Users\\samir\\AppData\\Local\\Temp\\ipykernel_11084\\3614904585.py:4: FutureWarning: The frame.append method is deprecated and will be removed from pandas in a future version. Use pandas.concat instead.\n",
      "  final_data = final_data.append(new_row, ignore_index = True)\n"
     ]
    },
    {
     "name": "stdout",
     "output_type": "stream",
     "text": [
      "nnnnnnnnnnnnnnnnnnnnn  NA\n",
      "condition verified\n",
      "nnnnnnnnnnnnnnnnnnnnn   NA\n",
      "condition verified\n",
      "nnnnnnnnnnnnnnnnnnnnn   NA\n",
      "nnnnnnnnnnnnnnnnnnnnn   NA\n",
      "nnnnnnnnnnnnnnnnnnnnn   NA\n"
     ]
    },
    {
     "name": "stderr",
     "output_type": "stream",
     "text": [
      "C:\\Users\\samir\\AppData\\Local\\Temp\\ipykernel_11084\\3614904585.py:4: FutureWarning: The frame.append method is deprecated and will be removed from pandas in a future version. Use pandas.concat instead.\n",
      "  final_data = final_data.append(new_row, ignore_index = True)\n",
      "C:\\Users\\samir\\AppData\\Local\\Temp\\ipykernel_11084\\3614904585.py:4: FutureWarning: The frame.append method is deprecated and will be removed from pandas in a future version. Use pandas.concat instead.\n",
      "  final_data = final_data.append(new_row, ignore_index = True)\n"
     ]
    },
    {
     "name": "stdout",
     "output_type": "stream",
     "text": [
      "nnnnnnnnnnnnnnnnnnnnn    China\n",
      "condition verified\n",
      "nnnnnnnnnnnnnnnnnnnnn    China\n",
      "nnnnnnnnnnnnnnnnnnnnn    India\n",
      "condition verified\n",
      "nnnnnnnnnnnnnnnnnnnnn    China\n",
      "nnnnnnnnnnnnnnnnnnnnn    Canada\n",
      "condition verified\n",
      "nnnnnnnnnnnnnnnnnnnnn    China\n",
      "nnnnnnnnnnnnnnnnnnnnn    Japan\n",
      "condition verified\n"
     ]
    },
    {
     "name": "stderr",
     "output_type": "stream",
     "text": [
      "C:\\Users\\samir\\AppData\\Local\\Temp\\ipykernel_11084\\3614904585.py:4: FutureWarning: The frame.append method is deprecated and will be removed from pandas in a future version. Use pandas.concat instead.\n",
      "  final_data = final_data.append(new_row, ignore_index = True)\n",
      "C:\\Users\\samir\\AppData\\Local\\Temp\\ipykernel_11084\\3614904585.py:4: FutureWarning: The frame.append method is deprecated and will be removed from pandas in a future version. Use pandas.concat instead.\n",
      "  final_data = final_data.append(new_row, ignore_index = True)\n",
      "C:\\Users\\samir\\AppData\\Local\\Temp\\ipykernel_11084\\3614904585.py:4: FutureWarning: The frame.append method is deprecated and will be removed from pandas in a future version. Use pandas.concat instead.\n",
      "  final_data = final_data.append(new_row, ignore_index = True)\n",
      "C:\\Users\\samir\\AppData\\Local\\Temp\\ipykernel_11084\\3614904585.py:4: FutureWarning: The frame.append method is deprecated and will be removed from pandas in a future version. Use pandas.concat instead.\n",
      "  final_data = final_data.append(new_row, ignore_index = True)\n"
     ]
    },
    {
     "name": "stdout",
     "output_type": "stream",
     "text": [
      "nnnnnnnnnnnnnnnnnnnnn   China \n",
      "condition verified\n",
      "nnnnnnnnnnnnnnnnnnnnn   Canada \n",
      "condition verified\n",
      "nnnnnnnnnnnnnnnnnnnnn   Canada \n",
      "nnnnnnnnnnnnnnnnnnnnn   Singapore \n",
      "condition verified\n",
      "nnnnnnnnnnnnnnnnnnnnn   China \n"
     ]
    },
    {
     "name": "stderr",
     "output_type": "stream",
     "text": [
      "C:\\Users\\samir\\AppData\\Local\\Temp\\ipykernel_11084\\3614904585.py:4: FutureWarning: The frame.append method is deprecated and will be removed from pandas in a future version. Use pandas.concat instead.\n",
      "  final_data = final_data.append(new_row, ignore_index = True)\n",
      "C:\\Users\\samir\\AppData\\Local\\Temp\\ipykernel_11084\\3614904585.py:4: FutureWarning: The frame.append method is deprecated and will be removed from pandas in a future version. Use pandas.concat instead.\n",
      "  final_data = final_data.append(new_row, ignore_index = True)\n",
      "C:\\Users\\samir\\AppData\\Local\\Temp\\ipykernel_11084\\3614904585.py:4: FutureWarning: The frame.append method is deprecated and will be removed from pandas in a future version. Use pandas.concat instead.\n",
      "  final_data = final_data.append(new_row, ignore_index = True)\n"
     ]
    },
    {
     "name": "stdout",
     "output_type": "stream",
     "text": [
      "nnnnnnnnnnnnnnnnnnnnn   \n",
      "condition verified\n",
      "nnnnnnnnnnnnnnnnnnnnn   \n",
      "nnnnnnnnnnnnnnnnnnnnn   \n",
      "nnnnnnnnnnnnnnnnnnnnn   \n",
      "nnnnnnnnnnnnnnnnnnnnn   \n",
      "nnnnnnnnnnnnnnnnnnnnn    China\n",
      "condition verified\n",
      "nnnnnnnnnnnnnnnnnnnnn    China\n",
      "nnnnnnnnnnnnnnnnnnnnn    China\n",
      "nnnnnnnnnnnnnnnnnnnnn    China\n",
      "nnnnnnnnnnnnnnnnnnnnn    China\n",
      "nnnnnnnnnnnnnnnnnnnnn    Canada\n",
      "condition verified\n"
     ]
    },
    {
     "name": "stderr",
     "output_type": "stream",
     "text": [
      "C:\\Users\\samir\\AppData\\Local\\Temp\\ipykernel_11084\\3614904585.py:4: FutureWarning: The frame.append method is deprecated and will be removed from pandas in a future version. Use pandas.concat instead.\n",
      "  final_data = final_data.append(new_row, ignore_index = True)\n",
      "C:\\Users\\samir\\AppData\\Local\\Temp\\ipykernel_11084\\3614904585.py:4: FutureWarning: The frame.append method is deprecated and will be removed from pandas in a future version. Use pandas.concat instead.\n",
      "  final_data = final_data.append(new_row, ignore_index = True)\n"
     ]
    },
    {
     "name": "stdout",
     "output_type": "stream",
     "text": [
      "nnnnnnnnnnnnnnnnnnnnn    China\n",
      "condition verified\n",
      "nnnnnnnnnnnnnnnnnnnnn    China\n",
      "nnnnnnnnnnnnnnnnnnnnn   China \n",
      "condition verified\n",
      "nnnnnnnnnnnnnnnnnnnnn    China\n",
      "nnnnnnnnnnnnnnnnnnnnn    China\n",
      "nnnnnnnnnnnnnnnnnnnnn    China\n"
     ]
    },
    {
     "name": "stderr",
     "output_type": "stream",
     "text": [
      "C:\\Users\\samir\\AppData\\Local\\Temp\\ipykernel_11084\\3614904585.py:4: FutureWarning: The frame.append method is deprecated and will be removed from pandas in a future version. Use pandas.concat instead.\n",
      "  final_data = final_data.append(new_row, ignore_index = True)\n",
      "C:\\Users\\samir\\AppData\\Local\\Temp\\ipykernel_11084\\3614904585.py:4: FutureWarning: The frame.append method is deprecated and will be removed from pandas in a future version. Use pandas.concat instead.\n",
      "  final_data = final_data.append(new_row, ignore_index = True)\n"
     ]
    },
    {
     "name": "stdout",
     "output_type": "stream",
     "text": [
      "nnnnnnnnnnnnnnnnnnnnn    Australia\n",
      "condition verified\n",
      "nnnnnnnnnnnnnnnnnnnnn    Netherlands\n",
      "condition verified\n",
      "nnnnnnnnnnnnnnnnnnnnn    Australia\n"
     ]
    },
    {
     "name": "stderr",
     "output_type": "stream",
     "text": [
      "C:\\Users\\samir\\AppData\\Local\\Temp\\ipykernel_11084\\3614904585.py:4: FutureWarning: The frame.append method is deprecated and will be removed from pandas in a future version. Use pandas.concat instead.\n",
      "  final_data = final_data.append(new_row, ignore_index = True)\n",
      "C:\\Users\\samir\\AppData\\Local\\Temp\\ipykernel_11084\\3614904585.py:4: FutureWarning: The frame.append method is deprecated and will be removed from pandas in a future version. Use pandas.concat instead.\n",
      "  final_data = final_data.append(new_row, ignore_index = True)\n"
     ]
    },
    {
     "name": "stdout",
     "output_type": "stream",
     "text": [
      "nnnnnnnnnnnnnnnnnnnnn    China\n",
      "condition verified\n",
      "nnnnnnnnnnnnnnnnnnnnn    China\n",
      "nnnnnnnnnnnnnnnnnnnnn    China\n",
      "nnnnnnnnnnnnnnnnnnnnn   \n",
      "condition verified\n",
      "nnnnnnnnnnnnnnnnnnnnn    China\n",
      "nnnnnnnnnnnnnnnnnnnnn    China\n",
      "nnnnnnnnnnnnnnnnnnnnn    China\n",
      "nnnnnnnnnnnnnnnnnnnnn    Australia\n",
      "condition verified\n",
      "nnnnnnnnnnnnnnnnnnnnn   \n",
      "nnnnnnnnnnnnnnnnnnnnn    China\n"
     ]
    },
    {
     "name": "stderr",
     "output_type": "stream",
     "text": [
      "C:\\Users\\samir\\AppData\\Local\\Temp\\ipykernel_11084\\3614904585.py:4: FutureWarning: The frame.append method is deprecated and will be removed from pandas in a future version. Use pandas.concat instead.\n",
      "  final_data = final_data.append(new_row, ignore_index = True)\n",
      "C:\\Users\\samir\\AppData\\Local\\Temp\\ipykernel_11084\\3614904585.py:4: FutureWarning: The frame.append method is deprecated and will be removed from pandas in a future version. Use pandas.concat instead.\n",
      "  final_data = final_data.append(new_row, ignore_index = True)\n"
     ]
    },
    {
     "name": "stdout",
     "output_type": "stream",
     "text": [
      "nnnnnnnnnnnnnnnnnnnnn    China\n",
      "condition verified\n",
      "nnnnnnnnnnnnnnnnnnnnn    China\n",
      "nnnnnnnnnnnnnnnnnnnnn    China\n",
      "nnnnnnnnnnnnnnnnnnnnn    Australia\n",
      "condition verified\n",
      "nnnnnnnnnnnnnnnnnnnnn    China\n"
     ]
    },
    {
     "name": "stderr",
     "output_type": "stream",
     "text": [
      "C:\\Users\\samir\\AppData\\Local\\Temp\\ipykernel_11084\\3614904585.py:4: FutureWarning: The frame.append method is deprecated and will be removed from pandas in a future version. Use pandas.concat instead.\n",
      "  final_data = final_data.append(new_row, ignore_index = True)\n",
      "C:\\Users\\samir\\AppData\\Local\\Temp\\ipykernel_11084\\3614904585.py:4: FutureWarning: The frame.append method is deprecated and will be removed from pandas in a future version. Use pandas.concat instead.\n",
      "  final_data = final_data.append(new_row, ignore_index = True)\n"
     ]
    },
    {
     "name": "stdout",
     "output_type": "stream",
     "text": [
      "nnnnnnnnnnnnnnnnnnnnn   Australia \n",
      "condition verified\n",
      "nnnnnnnnnnnnnnnnnnnnn   Australia \n",
      "nnnnnnnnnnnnnnnnnnnnn   Australia \n",
      "nnnnnnnnnnnnnnnnnnnnn   Australia \n",
      "nnnnnnnnnnnnnnnnnnnnn   Australia \n",
      "nnnnnnnnnnnnnnnnnnnnn   Australia \n",
      "nnnnnnnnnnnnnnnnnnnnn   China \n",
      "condition verified\n"
     ]
    },
    {
     "name": "stderr",
     "output_type": "stream",
     "text": [
      "C:\\Users\\samir\\AppData\\Local\\Temp\\ipykernel_11084\\3614904585.py:4: FutureWarning: The frame.append method is deprecated and will be removed from pandas in a future version. Use pandas.concat instead.\n",
      "  final_data = final_data.append(new_row, ignore_index = True)\n",
      "C:\\Users\\samir\\AppData\\Local\\Temp\\ipykernel_11084\\3614904585.py:4: FutureWarning: The frame.append method is deprecated and will be removed from pandas in a future version. Use pandas.concat instead.\n",
      "  final_data = final_data.append(new_row, ignore_index = True)\n"
     ]
    },
    {
     "name": "stdout",
     "output_type": "stream",
     "text": [
      "nnnnnnnnnnnnnnnnnnnnn    China\n",
      "condition verified\n",
      "nnnnnnnnnnnnnnnnnnnnn    China\n",
      "nnnnnnnnnnnnnnnnnnnnn    China\n",
      "nnnnnnnnnnnnnnnnnnnnn    China\n",
      "nnnnnnnnnnnnnnnnnnnnn    China\n",
      "nnnnnnnnnnnnnnnnnnnnn  NA\n",
      "condition verified\n",
      "nnnnnnnnnnnnnnnnnnnnn   NA\n",
      "condition verified\n"
     ]
    },
    {
     "name": "stderr",
     "output_type": "stream",
     "text": [
      "C:\\Users\\samir\\AppData\\Local\\Temp\\ipykernel_11084\\3614904585.py:4: FutureWarning: The frame.append method is deprecated and will be removed from pandas in a future version. Use pandas.concat instead.\n",
      "  final_data = final_data.append(new_row, ignore_index = True)\n"
     ]
    },
    {
     "name": "stdout",
     "output_type": "stream",
     "text": [
      "nnnnnnnnnnnnnnnnnnnnn   NA\n",
      "nnnnnnnnnnnnnnnnnnnnn   NA\n",
      "nnnnnnnnnnnnnnnnnnnnn   NA\n",
      "nnnnnnnnnnnnnnnnnnnnn   NA\n",
      "nnnnnnnnnnnnnnnnnnnnn   NA\n"
     ]
    },
    {
     "name": "stderr",
     "output_type": "stream",
     "text": [
      "C:\\Users\\samir\\AppData\\Local\\Temp\\ipykernel_11084\\3614904585.py:4: FutureWarning: The frame.append method is deprecated and will be removed from pandas in a future version. Use pandas.concat instead.\n",
      "  final_data = final_data.append(new_row, ignore_index = True)\n",
      "C:\\Users\\samir\\AppData\\Local\\Temp\\ipykernel_11084\\3614904585.py:4: FutureWarning: The frame.append method is deprecated and will be removed from pandas in a future version. Use pandas.concat instead.\n",
      "  final_data = final_data.append(new_row, ignore_index = True)\n"
     ]
    },
    {
     "name": "stdout",
     "output_type": "stream",
     "text": [
      "nnnnnnnnnnnnnnnnnnnnn   \n",
      "condition verified\n",
      "nnnnnnnnnnnnnnnnnnnnn   \n",
      "nnnnnnnnnnnnnnnnnnnnn    Italy\n",
      "condition verified\n",
      "nnnnnnnnnnnnnnnnnnnnn    Switzerland\n",
      "condition verified\n",
      "nnnnnnnnnnnnnnnnnnnnn    Italy\n"
     ]
    },
    {
     "name": "stderr",
     "output_type": "stream",
     "text": [
      "C:\\Users\\samir\\AppData\\Local\\Temp\\ipykernel_11084\\3614904585.py:4: FutureWarning: The frame.append method is deprecated and will be removed from pandas in a future version. Use pandas.concat instead.\n",
      "  final_data = final_data.append(new_row, ignore_index = True)\n",
      "C:\\Users\\samir\\AppData\\Local\\Temp\\ipykernel_11084\\3614904585.py:4: FutureWarning: The frame.append method is deprecated and will be removed from pandas in a future version. Use pandas.concat instead.\n",
      "  final_data = final_data.append(new_row, ignore_index = True)\n"
     ]
    },
    {
     "name": "stdout",
     "output_type": "stream",
     "text": [
      "nnnnnnnnnnnnnnnnnnnnn    India\n",
      "condition verified\n",
      "nnnnnnnnnnnnnnnnnnnnn    India\n",
      "nnnnnnnnnnnnnnnnnnnnn    India\n"
     ]
    },
    {
     "name": "stderr",
     "output_type": "stream",
     "text": [
      "C:\\Users\\samir\\AppData\\Local\\Temp\\ipykernel_11084\\3614904585.py:4: FutureWarning: The frame.append method is deprecated and will be removed from pandas in a future version. Use pandas.concat instead.\n",
      "  final_data = final_data.append(new_row, ignore_index = True)\n"
     ]
    },
    {
     "name": "stdout",
     "output_type": "stream",
     "text": [
      "nnnnnnnnnnnnnnnnnnnnn   \n",
      "condition verified\n",
      "nnnnnnnnnnnnnnnnnnnnn   \n",
      "nnnnnnnnnnnnnnnnnnnnn    Japan\n",
      "condition verified\n",
      "nnnnnnnnnnnnnnnnnnnnn    Japan\n",
      "nnnnnnnnnnnnnnnnnnnnn    Japan\n",
      "nnnnnnnnnnnnnnnnnnnnn    Japan\n",
      "nnnnnnnnnnnnnnnnnnnnn    Japan\n",
      "nnnnnnnnnnnnnnnnnnnnn    China\n",
      "condition verified\n",
      "nnnnnnnnnnnnnnnnnnnnn    Japan\n"
     ]
    },
    {
     "name": "stderr",
     "output_type": "stream",
     "text": [
      "C:\\Users\\samir\\AppData\\Local\\Temp\\ipykernel_11084\\3614904585.py:4: FutureWarning: The frame.append method is deprecated and will be removed from pandas in a future version. Use pandas.concat instead.\n",
      "  final_data = final_data.append(new_row, ignore_index = True)\n",
      "C:\\Users\\samir\\AppData\\Local\\Temp\\ipykernel_11084\\3614904585.py:4: FutureWarning: The frame.append method is deprecated and will be removed from pandas in a future version. Use pandas.concat instead.\n",
      "  final_data = final_data.append(new_row, ignore_index = True)\n"
     ]
    },
    {
     "name": "stdout",
     "output_type": "stream",
     "text": [
      "nnnnnnnnnnnnnnnnnnnnn   China \n",
      "condition verified\n",
      "nnnnnnnnnnnnnnnnnnnnn   China \n",
      "nnnnnnnnnnnnnnnnnnnnn   \n",
      "condition verified\n",
      "nnnnnnnnnnnnnnnnnnnnn   China \n",
      "nnnnnnnnnnnnnnnnnnnnn   Singapore \n",
      "condition verified\n",
      "nnnnnnnnnnnnnnnnnnnnn   China \n",
      "nnnnnnnnnnnnnnnnnnnnn   Singapore \n"
     ]
    },
    {
     "name": "stderr",
     "output_type": "stream",
     "text": [
      "C:\\Users\\samir\\AppData\\Local\\Temp\\ipykernel_11084\\3614904585.py:4: FutureWarning: The frame.append method is deprecated and will be removed from pandas in a future version. Use pandas.concat instead.\n",
      "  final_data = final_data.append(new_row, ignore_index = True)\n",
      "C:\\Users\\samir\\AppData\\Local\\Temp\\ipykernel_11084\\3614904585.py:4: FutureWarning: The frame.append method is deprecated and will be removed from pandas in a future version. Use pandas.concat instead.\n",
      "  final_data = final_data.append(new_row, ignore_index = True)\n"
     ]
    },
    {
     "name": "stdout",
     "output_type": "stream",
     "text": [
      "nnnnnnnnnnnnnnnnnnnnn    Norway\n",
      "condition verified\n",
      "nnnnnnnnnnnnnnnnnnnnn    Norway\n",
      "nnnnnnnnnnnnnnnnnnnnn    Norway\n"
     ]
    },
    {
     "name": "stderr",
     "output_type": "stream",
     "text": [
      "C:\\Users\\samir\\AppData\\Local\\Temp\\ipykernel_11084\\3614904585.py:4: FutureWarning: The frame.append method is deprecated and will be removed from pandas in a future version. Use pandas.concat instead.\n",
      "  final_data = final_data.append(new_row, ignore_index = True)\n"
     ]
    },
    {
     "name": "stdout",
     "output_type": "stream",
     "text": [
      "nnnnnnnnnnnnnnnnnnnnn    China\n",
      "condition verified\n",
      "nnnnnnnnnnnnnnnnnnnnn    China\n",
      "nnnnnnnnnnnnnnnnnnnnn    China\n"
     ]
    },
    {
     "name": "stderr",
     "output_type": "stream",
     "text": [
      "C:\\Users\\samir\\AppData\\Local\\Temp\\ipykernel_11084\\3614904585.py:4: FutureWarning: The frame.append method is deprecated and will be removed from pandas in a future version. Use pandas.concat instead.\n",
      "  final_data = final_data.append(new_row, ignore_index = True)\n"
     ]
    },
    {
     "name": "stdout",
     "output_type": "stream",
     "text": [
      "nnnnnnnnnnnnnnnnnnnnn   UK\n",
      "condition verified\n",
      "nnnnnnnnnnnnnnnnnnnnn    UK\n",
      "condition verified\n",
      "nnnnnnnnnnnnnnnnnnnnn    China\n",
      "condition verified\n"
     ]
    },
    {
     "name": "stderr",
     "output_type": "stream",
     "text": [
      "C:\\Users\\samir\\AppData\\Local\\Temp\\ipykernel_11084\\3614904585.py:4: FutureWarning: The frame.append method is deprecated and will be removed from pandas in a future version. Use pandas.concat instead.\n",
      "  final_data = final_data.append(new_row, ignore_index = True)\n",
      "C:\\Users\\samir\\AppData\\Local\\Temp\\ipykernel_11084\\3614904585.py:4: FutureWarning: The frame.append method is deprecated and will be removed from pandas in a future version. Use pandas.concat instead.\n",
      "  final_data = final_data.append(new_row, ignore_index = True)\n"
     ]
    },
    {
     "name": "stdout",
     "output_type": "stream",
     "text": [
      "nnnnnnnnnnnnnnnnnnnnn    China\n",
      "nnnnnnnnnnnnnnnnnnnnn    China\n",
      "nnnnnnnnnnnnnnnnnnnnn   Singapore  Singapore\n",
      "condition verified\n",
      "nnnnnnnnnnnnnnnnnnnnn   Singapore  Singapore\n",
      "nnnnnnnnnnnnnnnnnnnnn    Canada\n",
      "condition verified\n"
     ]
    },
    {
     "name": "stderr",
     "output_type": "stream",
     "text": [
      "C:\\Users\\samir\\AppData\\Local\\Temp\\ipykernel_11084\\3614904585.py:4: FutureWarning: The frame.append method is deprecated and will be removed from pandas in a future version. Use pandas.concat instead.\n",
      "  final_data = final_data.append(new_row, ignore_index = True)\n",
      "C:\\Users\\samir\\AppData\\Local\\Temp\\ipykernel_11084\\3614904585.py:4: FutureWarning: The frame.append method is deprecated and will be removed from pandas in a future version. Use pandas.concat instead.\n",
      "  final_data = final_data.append(new_row, ignore_index = True)\n"
     ]
    },
    {
     "name": "stdout",
     "output_type": "stream",
     "text": [
      "nnnnnnnnnnnnnnnnnnnnn    USA\n",
      "condition verified\n",
      "nnnnnnnnnnnnnnnnnnnnn    Switzerland\n",
      "condition verified\n",
      "nnnnnnnnnnnnnnnnnnnnn    Canada\n",
      "nnnnnnnnnnnnnnnnnnnnn    USA\n"
     ]
    },
    {
     "name": "stderr",
     "output_type": "stream",
     "text": [
      "C:\\Users\\samir\\AppData\\Local\\Temp\\ipykernel_11084\\3614904585.py:4: FutureWarning: The frame.append method is deprecated and will be removed from pandas in a future version. Use pandas.concat instead.\n",
      "  final_data = final_data.append(new_row, ignore_index = True)\n",
      "C:\\Users\\samir\\AppData\\Local\\Temp\\ipykernel_11084\\3614904585.py:4: FutureWarning: The frame.append method is deprecated and will be removed from pandas in a future version. Use pandas.concat instead.\n",
      "  final_data = final_data.append(new_row, ignore_index = True)\n",
      "C:\\Users\\samir\\AppData\\Local\\Temp\\ipykernel_11084\\3614904585.py:4: FutureWarning: The frame.append method is deprecated and will be removed from pandas in a future version. Use pandas.concat instead.\n",
      "  final_data = final_data.append(new_row, ignore_index = True)\n"
     ]
    },
    {
     "name": "stdout",
     "output_type": "stream",
     "text": [
      "nnnnnnnnnnnnnnnnnnnnn   \n",
      "condition verified\n",
      "nnnnnnnnnnnnnnnnnnnnn   China\n",
      "condition verified\n",
      "nnnnnnnnnnnnnnnnnnnnn   \n",
      "nnnnnnnnnnnnnnnnnnnnn   China\n",
      "nnnnnnnnnnnnnnnnnnnnn    China\n",
      "condition verified\n",
      "nnnnnnnnnnnnnnnnnnnnn    China\n",
      "nnnnnnnnnnnnnnnnnnnnn    USA\n",
      "condition verified\n"
     ]
    },
    {
     "name": "stderr",
     "output_type": "stream",
     "text": [
      "C:\\Users\\samir\\AppData\\Local\\Temp\\ipykernel_11084\\3614904585.py:4: FutureWarning: The frame.append method is deprecated and will be removed from pandas in a future version. Use pandas.concat instead.\n",
      "  final_data = final_data.append(new_row, ignore_index = True)\n",
      "C:\\Users\\samir\\AppData\\Local\\Temp\\ipykernel_11084\\3614904585.py:4: FutureWarning: The frame.append method is deprecated and will be removed from pandas in a future version. Use pandas.concat instead.\n",
      "  final_data = final_data.append(new_row, ignore_index = True)\n",
      "C:\\Users\\samir\\AppData\\Local\\Temp\\ipykernel_11084\\3614904585.py:4: FutureWarning: The frame.append method is deprecated and will be removed from pandas in a future version. Use pandas.concat instead.\n",
      "  final_data = final_data.append(new_row, ignore_index = True)\n"
     ]
    },
    {
     "name": "stdout",
     "output_type": "stream",
     "text": [
      "nnnnnnnnnnnnnnnnnnnnn    China\n",
      "condition verified\n",
      "nnnnnnnnnnnnnnnnnnnnn    China\n",
      "nnnnnnnnnnnnnnnnnnnnn    China\n"
     ]
    },
    {
     "name": "stderr",
     "output_type": "stream",
     "text": [
      "C:\\Users\\samir\\AppData\\Local\\Temp\\ipykernel_11084\\3614904585.py:4: FutureWarning: The frame.append method is deprecated and will be removed from pandas in a future version. Use pandas.concat instead.\n",
      "  final_data = final_data.append(new_row, ignore_index = True)\n"
     ]
    },
    {
     "name": "stdout",
     "output_type": "stream",
     "text": [
      "nnnnnnnnnnnnnnnnnnnnn    China\n",
      "condition verified\n",
      "nnnnnnnnnnnnnnnnnnnnn    China\n",
      "nnnnnnnnnnnnnnnnnnnnn    China\n",
      "nnnnnnnnnnnnnnnnnnnnn    China\n",
      "nnnnnnnnnnnnnnnnnnnnn    China\n"
     ]
    },
    {
     "name": "stderr",
     "output_type": "stream",
     "text": [
      "C:\\Users\\samir\\AppData\\Local\\Temp\\ipykernel_11084\\3614904585.py:4: FutureWarning: The frame.append method is deprecated and will be removed from pandas in a future version. Use pandas.concat instead.\n",
      "  final_data = final_data.append(new_row, ignore_index = True)\n"
     ]
    },
    {
     "name": "stdout",
     "output_type": "stream",
     "text": [
      "nnnnnnnnnnnnnnnnnnnnn    Nigeria\n",
      "condition verified\n",
      "nnnnnnnnnnnnnnnnnnnnn   Malaysia  Malaysia\n",
      "condition verified\n",
      "nnnnnnnnnnnnnnnnnnnnn    Malaysia\n",
      "condition verified\n",
      "nnnnnnnnnnnnnnnnnnnnn   Malaysia  Malaysia\n",
      "nnnnnnnnnnnnnnnnnnnnn  NA\n",
      "condition verified\n",
      "nnnnnnnnnnnnnnnnnnnnn   NA\n",
      "condition verified\n"
     ]
    },
    {
     "name": "stderr",
     "output_type": "stream",
     "text": [
      "C:\\Users\\samir\\AppData\\Local\\Temp\\ipykernel_11084\\3614904585.py:4: FutureWarning: The frame.append method is deprecated and will be removed from pandas in a future version. Use pandas.concat instead.\n",
      "  final_data = final_data.append(new_row, ignore_index = True)\n",
      "C:\\Users\\samir\\AppData\\Local\\Temp\\ipykernel_11084\\3614904585.py:4: FutureWarning: The frame.append method is deprecated and will be removed from pandas in a future version. Use pandas.concat instead.\n",
      "  final_data = final_data.append(new_row, ignore_index = True)\n",
      "C:\\Users\\samir\\AppData\\Local\\Temp\\ipykernel_11084\\3614904585.py:4: FutureWarning: The frame.append method is deprecated and will be removed from pandas in a future version. Use pandas.concat instead.\n",
      "  final_data = final_data.append(new_row, ignore_index = True)\n"
     ]
    },
    {
     "name": "stdout",
     "output_type": "stream",
     "text": [
      "nnnnnnnnnnnnnnnnnnnnn   NA\n",
      "nnnnnnnnnnnnnnnnnnnnn   NA\n"
     ]
    },
    {
     "name": "stderr",
     "output_type": "stream",
     "text": [
      "C:\\Users\\samir\\AppData\\Local\\Temp\\ipykernel_11084\\3614904585.py:4: FutureWarning: The frame.append method is deprecated and will be removed from pandas in a future version. Use pandas.concat instead.\n",
      "  final_data = final_data.append(new_row, ignore_index = True)\n",
      "C:\\Users\\samir\\AppData\\Local\\Temp\\ipykernel_11084\\3614904585.py:4: FutureWarning: The frame.append method is deprecated and will be removed from pandas in a future version. Use pandas.concat instead.\n",
      "  final_data = final_data.append(new_row, ignore_index = True)\n"
     ]
    },
    {
     "name": "stdout",
     "output_type": "stream",
     "text": [
      "nnnnnnnnnnnnnnnnnnnnn    Italy\n",
      "condition verified\n",
      "nnnnnnnnnnnnnnnnnnnnn    Italy\n",
      "nnnnnnnnnnnnnnnnnnnnn    Italy\n",
      "nnnnnnnnnnnnnnnnnnnnn    Italy\n"
     ]
    },
    {
     "name": "stderr",
     "output_type": "stream",
     "text": [
      "C:\\Users\\samir\\AppData\\Local\\Temp\\ipykernel_11084\\3614904585.py:4: FutureWarning: The frame.append method is deprecated and will be removed from pandas in a future version. Use pandas.concat instead.\n",
      "  final_data = final_data.append(new_row, ignore_index = True)\n"
     ]
    },
    {
     "name": "stdout",
     "output_type": "stream",
     "text": [
      "nnnnnnnnnnnnnnnnnnnnn   UAE\n",
      "condition verified\n",
      "nnnnnnnnnnnnnnnnnnnnn   Kuwait  Kuwait\n",
      "condition verified\n",
      "nnnnnnnnnnnnnnnnnnnnn    UAE\n",
      "condition verified\n",
      "nnnnnnnnnnnnnnnnnnnnn    UAE\n",
      "nnnnnnnnnnnnnnnnnnnnn   Canada  UAE\n",
      "condition verified\n"
     ]
    },
    {
     "name": "stderr",
     "output_type": "stream",
     "text": [
      "C:\\Users\\samir\\AppData\\Local\\Temp\\ipykernel_11084\\3614904585.py:4: FutureWarning: The frame.append method is deprecated and will be removed from pandas in a future version. Use pandas.concat instead.\n",
      "  final_data = final_data.append(new_row, ignore_index = True)\n",
      "C:\\Users\\samir\\AppData\\Local\\Temp\\ipykernel_11084\\3614904585.py:4: FutureWarning: The frame.append method is deprecated and will be removed from pandas in a future version. Use pandas.concat instead.\n",
      "  final_data = final_data.append(new_row, ignore_index = True)\n",
      "C:\\Users\\samir\\AppData\\Local\\Temp\\ipykernel_11084\\3614904585.py:4: FutureWarning: The frame.append method is deprecated and will be removed from pandas in a future version. Use pandas.concat instead.\n",
      "  final_data = final_data.append(new_row, ignore_index = True)\n",
      "C:\\Users\\samir\\AppData\\Local\\Temp\\ipykernel_11084\\3614904585.py:4: FutureWarning: The frame.append method is deprecated and will be removed from pandas in a future version. Use pandas.concat instead.\n",
      "  final_data = final_data.append(new_row, ignore_index = True)\n"
     ]
    },
    {
     "name": "stdout",
     "output_type": "stream",
     "text": [
      "nnnnnnnnnnnnnnnnnnnnn \n",
      "condition verified\n",
      "nnnnnnnnnnnnnnnnnnnnn    China\n",
      "condition verified\n",
      "nnnnnnnnnnnnnnnnnnnnn    China\n",
      "nnnnnnnnnnnnnnnnnnnnn    China\n",
      "nnnnnnnnnnnnnnnnnnnnn    Canada\n",
      "condition verified\n",
      "nnnnnnnnnnnnnnnnnnnnn    Canada\n",
      "nnnnnnnnnnnnnnnnnnnnn    Netherlands\n",
      "condition verified\n",
      "nnnnnnnnnnnnnnnnnnnnn    Netherlands\n"
     ]
    },
    {
     "name": "stderr",
     "output_type": "stream",
     "text": [
      "C:\\Users\\samir\\AppData\\Local\\Temp\\ipykernel_11084\\3614904585.py:4: FutureWarning: The frame.append method is deprecated and will be removed from pandas in a future version. Use pandas.concat instead.\n",
      "  final_data = final_data.append(new_row, ignore_index = True)\n",
      "C:\\Users\\samir\\AppData\\Local\\Temp\\ipykernel_11084\\3614904585.py:4: FutureWarning: The frame.append method is deprecated and will be removed from pandas in a future version. Use pandas.concat instead.\n",
      "  final_data = final_data.append(new_row, ignore_index = True)\n",
      "C:\\Users\\samir\\AppData\\Local\\Temp\\ipykernel_11084\\3614904585.py:4: FutureWarning: The frame.append method is deprecated and will be removed from pandas in a future version. Use pandas.concat instead.\n",
      "  final_data = final_data.append(new_row, ignore_index = True)\n"
     ]
    },
    {
     "name": "stdout",
     "output_type": "stream",
     "text": [
      "nnnnnnnnnnnnnnnnnnnnn   \n",
      "condition verified\n",
      "nnnnnnnnnnnnnnnnnnnnn   \n",
      "nnnnnnnnnnnnnnnnnnnnn    China\n",
      "condition verified\n"
     ]
    },
    {
     "name": "stderr",
     "output_type": "stream",
     "text": [
      "C:\\Users\\samir\\AppData\\Local\\Temp\\ipykernel_11084\\3614904585.py:4: FutureWarning: The frame.append method is deprecated and will be removed from pandas in a future version. Use pandas.concat instead.\n",
      "  final_data = final_data.append(new_row, ignore_index = True)\n"
     ]
    },
    {
     "name": "stdout",
     "output_type": "stream",
     "text": [
      "nnnnnnnnnnnnnnnnnnnnn  \n",
      "nnnnnnnnnnnnnnnnnnnnn   \n",
      "condition verified\n",
      "nnnnnnnnnnnnnnnnnnnnn   \n",
      "nnnnnnnnnnnnnnnnnnnnn    Singapore\n",
      "condition verified\n"
     ]
    },
    {
     "name": "stderr",
     "output_type": "stream",
     "text": [
      "C:\\Users\\samir\\AppData\\Local\\Temp\\ipykernel_11084\\3614904585.py:4: FutureWarning: The frame.append method is deprecated and will be removed from pandas in a future version. Use pandas.concat instead.\n",
      "  final_data = final_data.append(new_row, ignore_index = True)\n"
     ]
    },
    {
     "name": "stdout",
     "output_type": "stream",
     "text": [
      "nnnnnnnnnnnnnnnnnnnnn   China \n",
      "condition verified\n",
      "nnnnnnnnnnnnnnnnnnnnn   China \n",
      "nnnnnnnnnnnnnnnnnnnnn   China \n",
      "nnnnnnnnnnnnnnnnnnnnn   China \n",
      "nnnnnnnnnnnnnnnnnnnnn   China \n"
     ]
    },
    {
     "name": "stderr",
     "output_type": "stream",
     "text": [
      "C:\\Users\\samir\\AppData\\Local\\Temp\\ipykernel_11084\\3614904585.py:4: FutureWarning: The frame.append method is deprecated and will be removed from pandas in a future version. Use pandas.concat instead.\n",
      "  final_data = final_data.append(new_row, ignore_index = True)\n"
     ]
    },
    {
     "name": "stdout",
     "output_type": "stream",
     "text": [
      "nnnnnnnnnnnnnnnnnnnnn   UAE\n",
      "condition verified\n",
      "nnnnnnnnnnnnnnnnnnnnn    UAE\n",
      "condition verified\n",
      "nnnnnnnnnnnnnnnnnnnnn    UAE\n",
      "nnnnnnnnnnnnnnnnnnnnn    UAE\n",
      "nnnnnnnnnnnnnnnnnnnnn    UAE\n",
      "nnnnnnnnnnnnnnnnnnnnn    UAE\n",
      "nnnnnnnnnnnnnnnnnnnnn    China\n",
      "condition verified\n"
     ]
    },
    {
     "name": "stderr",
     "output_type": "stream",
     "text": [
      "C:\\Users\\samir\\AppData\\Local\\Temp\\ipykernel_11084\\3614904585.py:4: FutureWarning: The frame.append method is deprecated and will be removed from pandas in a future version. Use pandas.concat instead.\n",
      "  final_data = final_data.append(new_row, ignore_index = True)\n",
      "C:\\Users\\samir\\AppData\\Local\\Temp\\ipykernel_11084\\3614904585.py:4: FutureWarning: The frame.append method is deprecated and will be removed from pandas in a future version. Use pandas.concat instead.\n",
      "  final_data = final_data.append(new_row, ignore_index = True)\n"
     ]
    },
    {
     "name": "stdout",
     "output_type": "stream",
     "text": [
      "nnnnnnnnnnnnnnnnnnnnn   \n",
      "condition verified\n",
      "nnnnnnnnnnnnnnnnnnnnn   \n",
      "nnnnnnnnnnnnnnnnnnnnn   \n",
      "nnnnnnnnnnnnnnnnnnnnn   \n",
      "nnnnnnnnnnnnnnnnnnnnn   \n",
      "nnnnnnnnnnnnnnnnnnnnn   \n",
      "nnnnnnnnnnnnnnnnnnnnn   \n"
     ]
    },
    {
     "name": "stderr",
     "output_type": "stream",
     "text": [
      "C:\\Users\\samir\\AppData\\Local\\Temp\\ipykernel_11084\\3614904585.py:4: FutureWarning: The frame.append method is deprecated and will be removed from pandas in a future version. Use pandas.concat instead.\n",
      "  final_data = final_data.append(new_row, ignore_index = True)\n"
     ]
    },
    {
     "name": "stdout",
     "output_type": "stream",
     "text": [
      "nnnnnnnnnnnnnnnnnnnnn   China \n",
      "condition verified\n",
      "nnnnnnnnnnnnnnnnnnnnn   China \n",
      "nnnnnnnnnnnnnnnnnnnnn   \n",
      "condition verified\n",
      "nnnnnnnnnnnnnnnnnnnnn   \n",
      "nnnnnnnnnnnnnnnnnnnnn   China \n"
     ]
    },
    {
     "name": "stderr",
     "output_type": "stream",
     "text": [
      "C:\\Users\\samir\\AppData\\Local\\Temp\\ipykernel_11084\\3614904585.py:4: FutureWarning: The frame.append method is deprecated and will be removed from pandas in a future version. Use pandas.concat instead.\n",
      "  final_data = final_data.append(new_row, ignore_index = True)\n"
     ]
    },
    {
     "name": "stdout",
     "output_type": "stream",
     "text": [
      "nnnnnnnnnnnnnnnnnnnnn    China\n",
      "condition verified\n",
      "nnnnnnnnnnnnnnnnnnnnn    China\n",
      "nnnnnnnnnnnnnnnnnnnnn    China\n",
      "nnnnnnnnnnnnnnnnnnnnn    China\n",
      "nnnnnnnnnnnnnnnnnnnnn    China\n",
      "nnnnnnnnnnnnnnnnnnnnn    China\n",
      "nnnnnnnnnnnnnnnnnnnnn    China\n",
      "condition verified\n"
     ]
    },
    {
     "name": "stderr",
     "output_type": "stream",
     "text": [
      "C:\\Users\\samir\\AppData\\Local\\Temp\\ipykernel_11084\\3614904585.py:4: FutureWarning: The frame.append method is deprecated and will be removed from pandas in a future version. Use pandas.concat instead.\n",
      "  final_data = final_data.append(new_row, ignore_index = True)\n"
     ]
    },
    {
     "name": "stdout",
     "output_type": "stream",
     "text": [
      "nnnnnnnnnnnnnnnnnnnnn    China\n",
      "nnnnnnnnnnnnnnnnnnnnn    China\n",
      "nnnnnnnnnnnnnnnnnnnnn    China\n",
      "nnnnnnnnnnnnnnnnnnnnn    China\n",
      "nnnnnnnnnnnnnnnnnnnnn    Canada\n",
      "condition verified\n"
     ]
    },
    {
     "name": "stderr",
     "output_type": "stream",
     "text": [
      "C:\\Users\\samir\\AppData\\Local\\Temp\\ipykernel_11084\\3614904585.py:4: FutureWarning: The frame.append method is deprecated and will be removed from pandas in a future version. Use pandas.concat instead.\n",
      "  final_data = final_data.append(new_row, ignore_index = True)\n",
      "C:\\Users\\samir\\AppData\\Local\\Temp\\ipykernel_11084\\3614904585.py:4: FutureWarning: The frame.append method is deprecated and will be removed from pandas in a future version. Use pandas.concat instead.\n",
      "  final_data = final_data.append(new_row, ignore_index = True)\n"
     ]
    },
    {
     "name": "stdout",
     "output_type": "stream",
     "text": [
      "nnnnnnnnnnnnnnnnnnnnn    China\n",
      "condition verified\n",
      "nnnnnnnnnnnnnnnnnnnnn    China\n",
      "nnnnnnnnnnnnnnnnnnnnn    China\n",
      "nnnnnnnnnnnnnnnnnnnnn    UK\n",
      "condition verified\n",
      "nnnnnnnnnnnnnnnnnnnnn    Canada\n",
      "condition verified\n",
      "nnnnnnnnnnnnnnnnnnnnn   \n",
      "condition verified\n"
     ]
    },
    {
     "name": "stderr",
     "output_type": "stream",
     "text": [
      "C:\\Users\\samir\\AppData\\Local\\Temp\\ipykernel_11084\\3614904585.py:4: FutureWarning: The frame.append method is deprecated and will be removed from pandas in a future version. Use pandas.concat instead.\n",
      "  final_data = final_data.append(new_row, ignore_index = True)\n",
      "C:\\Users\\samir\\AppData\\Local\\Temp\\ipykernel_11084\\3614904585.py:4: FutureWarning: The frame.append method is deprecated and will be removed from pandas in a future version. Use pandas.concat instead.\n",
      "  final_data = final_data.append(new_row, ignore_index = True)\n",
      "C:\\Users\\samir\\AppData\\Local\\Temp\\ipykernel_11084\\3614904585.py:4: FutureWarning: The frame.append method is deprecated and will be removed from pandas in a future version. Use pandas.concat instead.\n",
      "  final_data = final_data.append(new_row, ignore_index = True)\n"
     ]
    },
    {
     "name": "stdout",
     "output_type": "stream",
     "text": [
      "nnnnnnnnnnnnnnnnnnnnn    Egypt\n",
      "condition verified\n",
      "nnnnnnnnnnnnnnnnnnnnn    Canada\n",
      "condition verified\n"
     ]
    },
    {
     "name": "stderr",
     "output_type": "stream",
     "text": [
      "C:\\Users\\samir\\AppData\\Local\\Temp\\ipykernel_11084\\3614904585.py:4: FutureWarning: The frame.append method is deprecated and will be removed from pandas in a future version. Use pandas.concat instead.\n",
      "  final_data = final_data.append(new_row, ignore_index = True)\n",
      "C:\\Users\\samir\\AppData\\Local\\Temp\\ipykernel_11084\\3614904585.py:4: FutureWarning: The frame.append method is deprecated and will be removed from pandas in a future version. Use pandas.concat instead.\n",
      "  final_data = final_data.append(new_row, ignore_index = True)\n"
     ]
    },
    {
     "name": "stdout",
     "output_type": "stream",
     "text": [
      "nnnnnnnnnnnnnnnnnnnnn    China\n",
      "condition verified\n",
      "nnnnnnnnnnnnnnnnnnnnn    China\n",
      "nnnnnnnnnnnnnnnnnnnnn    China\n",
      "nnnnnnnnnnnnnnnnnnnnn    China\n",
      "nnnnnnnnnnnnnnnnnnnnn    Australia\n",
      "condition verified\n",
      "nnnnnnnnnnnnnnnnnnnnn    China\n",
      "nnnnnnnnnnnnnnnnnnnnn    Iran\n",
      "condition verified\n",
      "nnnnnnnnnnnnnnnnnnnnn    China\n",
      "condition verified\n"
     ]
    },
    {
     "name": "stderr",
     "output_type": "stream",
     "text": [
      "C:\\Users\\samir\\AppData\\Local\\Temp\\ipykernel_11084\\3614904585.py:4: FutureWarning: The frame.append method is deprecated and will be removed from pandas in a future version. Use pandas.concat instead.\n",
      "  final_data = final_data.append(new_row, ignore_index = True)\n",
      "C:\\Users\\samir\\AppData\\Local\\Temp\\ipykernel_11084\\3614904585.py:4: FutureWarning: The frame.append method is deprecated and will be removed from pandas in a future version. Use pandas.concat instead.\n",
      "  final_data = final_data.append(new_row, ignore_index = True)\n",
      "C:\\Users\\samir\\AppData\\Local\\Temp\\ipykernel_11084\\3614904585.py:4: FutureWarning: The frame.append method is deprecated and will be removed from pandas in a future version. Use pandas.concat instead.\n",
      "  final_data = final_data.append(new_row, ignore_index = True)\n"
     ]
    },
    {
     "name": "stdout",
     "output_type": "stream",
     "text": [
      "nnnnnnnnnnnnnnnnnnnnn    China\n",
      "nnnnnnnnnnnnnnnnnnnnn    China\n",
      "nnnnnnnnnnnnnnnnnnnnn    China\n"
     ]
    },
    {
     "name": "stderr",
     "output_type": "stream",
     "text": [
      "C:\\Users\\samir\\AppData\\Local\\Temp\\ipykernel_11084\\3614904585.py:4: FutureWarning: The frame.append method is deprecated and will be removed from pandas in a future version. Use pandas.concat instead.\n",
      "  final_data = final_data.append(new_row, ignore_index = True)\n"
     ]
    },
    {
     "name": "stdout",
     "output_type": "stream",
     "text": [
      "nnnnnnnnnnnnnnnnnnnnn    China\n",
      "condition verified\n",
      "nnnnnnnnnnnnnnnnnnnnn    China\n",
      "nnnnnnnnnnnnnnnnnnnnn   \n",
      "condition verified\n",
      "nnnnnnnnnnnnnnnnnnnnn    Germany\n",
      "condition verified\n",
      "nnnnnnnnnnnnnnnnnnnnn    China\n",
      "nnnnnnnnnnnnnnnnnnnnn    China\n",
      "nnnnnnnnnnnnnnnnnnnnn    Germany\n",
      "nnnnnnnnnnnnnnnnnnnnn    China\n",
      "condition verified\n"
     ]
    },
    {
     "name": "stderr",
     "output_type": "stream",
     "text": [
      "C:\\Users\\samir\\AppData\\Local\\Temp\\ipykernel_11084\\3614904585.py:4: FutureWarning: The frame.append method is deprecated and will be removed from pandas in a future version. Use pandas.concat instead.\n",
      "  final_data = final_data.append(new_row, ignore_index = True)\n",
      "C:\\Users\\samir\\AppData\\Local\\Temp\\ipykernel_11084\\3614904585.py:4: FutureWarning: The frame.append method is deprecated and will be removed from pandas in a future version. Use pandas.concat instead.\n",
      "  final_data = final_data.append(new_row, ignore_index = True)\n"
     ]
    },
    {
     "name": "stdout",
     "output_type": "stream",
     "text": [
      "nnnnnnnnnnnnnnnnnnnnn    China\n",
      "nnnnnnnnnnnnnnnnnnnnn    China\n",
      "nnnnnnnnnnnnnnnnnnnnn    China\n",
      "nnnnnnnnnnnnnnnnnnnnn    China\n",
      "nnnnnnnnnnnnnnnnnnnnn    Australia\n",
      "condition verified\n",
      "nnnnnnnnnnnnnnnnnnnnn    Australia\n",
      "nnnnnnnnnnnnnnnnnnnnn    China\n",
      "condition verified\n"
     ]
    },
    {
     "name": "stderr",
     "output_type": "stream",
     "text": [
      "C:\\Users\\samir\\AppData\\Local\\Temp\\ipykernel_11084\\3614904585.py:4: FutureWarning: The frame.append method is deprecated and will be removed from pandas in a future version. Use pandas.concat instead.\n",
      "  final_data = final_data.append(new_row, ignore_index = True)\n",
      "C:\\Users\\samir\\AppData\\Local\\Temp\\ipykernel_11084\\3614904585.py:4: FutureWarning: The frame.append method is deprecated and will be removed from pandas in a future version. Use pandas.concat instead.\n",
      "  final_data = final_data.append(new_row, ignore_index = True)\n"
     ]
    },
    {
     "name": "stdout",
     "output_type": "stream",
     "text": [
      "nnnnnnnnnnnnnnnnnnnnn    China\n",
      "nnnnnnnnnnnnnnnnnnnnn    China\n",
      "nnnnnnnnnnnnnnnnnnnnn    China\n",
      "nnnnnnnnnnnnnnnnnnnnn    China\n",
      "nnnnnnnnnnnnnnnnnnnnn    China\n",
      "nnnnnnnnnnnnnnnnnnnnn    China\n",
      "nnnnnnnnnnnnnnnnnnnnn    USA\n",
      "condition verified\n",
      "nnnnnnnnnnnnnnnnnnnnn    China\n"
     ]
    },
    {
     "name": "stderr",
     "output_type": "stream",
     "text": [
      "C:\\Users\\samir\\AppData\\Local\\Temp\\ipykernel_11084\\3614904585.py:4: FutureWarning: The frame.append method is deprecated and will be removed from pandas in a future version. Use pandas.concat instead.\n",
      "  final_data = final_data.append(new_row, ignore_index = True)\n",
      "C:\\Users\\samir\\AppData\\Local\\Temp\\ipykernel_11084\\3614904585.py:4: FutureWarning: The frame.append method is deprecated and will be removed from pandas in a future version. Use pandas.concat instead.\n",
      "  final_data = final_data.append(new_row, ignore_index = True)\n"
     ]
    },
    {
     "name": "stdout",
     "output_type": "stream",
     "text": [
      "nnnnnnnnnnnnnnnnnnnnn    China\n",
      "condition verified\n",
      "nnnnnnnnnnnnnnnnnnnnn    China\n",
      "nnnnnnnnnnnnnnnnnnnnn    China\n",
      "nnnnnnnnnnnnnnnnnnnnn    China\n",
      "nnnnnnnnnnnnnnnnnnnnn    China\n",
      "nnnnnnnnnnnnnnnnnnnnn    Australia\n",
      "condition verified\n"
     ]
    },
    {
     "name": "stderr",
     "output_type": "stream",
     "text": [
      "C:\\Users\\samir\\AppData\\Local\\Temp\\ipykernel_11084\\3614904585.py:4: FutureWarning: The frame.append method is deprecated and will be removed from pandas in a future version. Use pandas.concat instead.\n",
      "  final_data = final_data.append(new_row, ignore_index = True)\n",
      "C:\\Users\\samir\\AppData\\Local\\Temp\\ipykernel_11084\\3614904585.py:4: FutureWarning: The frame.append method is deprecated and will be removed from pandas in a future version. Use pandas.concat instead.\n",
      "  final_data = final_data.append(new_row, ignore_index = True)\n"
     ]
    },
    {
     "name": "stdout",
     "output_type": "stream",
     "text": [
      "nnnnnnnnnnnnnnnnnnnnn    China\n",
      "condition verified\n",
      "nnnnnnnnnnnnnnnnnnnnn    China\n",
      "nnnnnnnnnnnnnnnnnnnnn    China\n",
      "nnnnnnnnnnnnnnnnnnnnn    China\n",
      "nnnnnnnnnnnnnnnnnnnnn    China\n",
      "nnnnnnnnnnnnnnnnnnnnn    China\n",
      "nnnnnnnnnnnnnnnnnnnnn    China\n",
      "condition verified\n"
     ]
    },
    {
     "name": "stderr",
     "output_type": "stream",
     "text": [
      "C:\\Users\\samir\\AppData\\Local\\Temp\\ipykernel_11084\\3614904585.py:4: FutureWarning: The frame.append method is deprecated and will be removed from pandas in a future version. Use pandas.concat instead.\n",
      "  final_data = final_data.append(new_row, ignore_index = True)\n"
     ]
    },
    {
     "name": "stdout",
     "output_type": "stream",
     "text": [
      "nnnnnnnnnnnnnnnnnnnnn    China\n",
      "nnnnnnnnnnnnnnnnnnnnn    China\n",
      "nnnnnnnnnnnnnnnnnnnnn    China\n",
      "nnnnnnnnnnnnnnnnnnnnn   Singapore  Singapore\n",
      "condition verified\n",
      "nnnnnnnnnnnnnnnnnnnnn   \n",
      "condition verified\n"
     ]
    },
    {
     "name": "stderr",
     "output_type": "stream",
     "text": [
      "C:\\Users\\samir\\AppData\\Local\\Temp\\ipykernel_11084\\3614904585.py:4: FutureWarning: The frame.append method is deprecated and will be removed from pandas in a future version. Use pandas.concat instead.\n",
      "  final_data = final_data.append(new_row, ignore_index = True)\n",
      "C:\\Users\\samir\\AppData\\Local\\Temp\\ipykernel_11084\\3614904585.py:4: FutureWarning: The frame.append method is deprecated and will be removed from pandas in a future version. Use pandas.concat instead.\n",
      "  final_data = final_data.append(new_row, ignore_index = True)\n"
     ]
    },
    {
     "name": "stdout",
     "output_type": "stream",
     "text": [
      "nnnnnnnnnnnnnnnnnnnnn    China\n",
      "condition verified\n",
      "nnnnnnnnnnnnnnnnnnnnn    China\n",
      "nnnnnnnnnnnnnnnnnnnnn    China\n",
      "nnnnnnnnnnnnnnnnnnnnn    China\n",
      "nnnnnnnnnnnnnnnnnnnnn    China\n",
      "nnnnnnnnnnnnnnnnnnnnn    China\n"
     ]
    },
    {
     "name": "stderr",
     "output_type": "stream",
     "text": [
      "C:\\Users\\samir\\AppData\\Local\\Temp\\ipykernel_11084\\3614904585.py:4: FutureWarning: The frame.append method is deprecated and will be removed from pandas in a future version. Use pandas.concat instead.\n",
      "  final_data = final_data.append(new_row, ignore_index = True)\n"
     ]
    },
    {
     "name": "stdout",
     "output_type": "stream",
     "text": [
      "nnnnnnnnnnnnnnnnnnnnn    China\n",
      "condition verified\n",
      "nnnnnnnnnnnnnnnnnnnnn    Japan\n",
      "condition verified\n",
      "nnnnnnnnnnnnnnnnnnnnn   SA  Australia\n",
      "condition verified\n",
      "nnnnnnnnnnnnnnnnnnnnn    Australia\n",
      "condition verified\n",
      "nnnnnnnnnnnnnnnnnnnnn    China\n",
      "nnnnnnnnnnnnnnnnnnnnn    Australia\n",
      "nnnnnnnnnnnnnnnnnnnnn    China\n",
      "condition verified\n"
     ]
    },
    {
     "name": "stderr",
     "output_type": "stream",
     "text": [
      "C:\\Users\\samir\\AppData\\Local\\Temp\\ipykernel_11084\\3614904585.py:4: FutureWarning: The frame.append method is deprecated and will be removed from pandas in a future version. Use pandas.concat instead.\n",
      "  final_data = final_data.append(new_row, ignore_index = True)\n",
      "C:\\Users\\samir\\AppData\\Local\\Temp\\ipykernel_11084\\3614904585.py:4: FutureWarning: The frame.append method is deprecated and will be removed from pandas in a future version. Use pandas.concat instead.\n",
      "  final_data = final_data.append(new_row, ignore_index = True)\n",
      "C:\\Users\\samir\\AppData\\Local\\Temp\\ipykernel_11084\\3614904585.py:4: FutureWarning: The frame.append method is deprecated and will be removed from pandas in a future version. Use pandas.concat instead.\n",
      "  final_data = final_data.append(new_row, ignore_index = True)\n",
      "C:\\Users\\samir\\AppData\\Local\\Temp\\ipykernel_11084\\3614904585.py:4: FutureWarning: The frame.append method is deprecated and will be removed from pandas in a future version. Use pandas.concat instead.\n",
      "  final_data = final_data.append(new_row, ignore_index = True)\n"
     ]
    },
    {
     "name": "stdout",
     "output_type": "stream",
     "text": [
      "nnnnnnnnnnnnnnnnnnnnn    China\n",
      "nnnnnnnnnnnnnnnnnnnnn    China\n",
      "nnnnnnnnnnnnnnnnnnnnn    China\n",
      "condition verified\n"
     ]
    },
    {
     "name": "stderr",
     "output_type": "stream",
     "text": [
      "C:\\Users\\samir\\AppData\\Local\\Temp\\ipykernel_11084\\3614904585.py:4: FutureWarning: The frame.append method is deprecated and will be removed from pandas in a future version. Use pandas.concat instead.\n",
      "  final_data = final_data.append(new_row, ignore_index = True)\n"
     ]
    },
    {
     "name": "stdout",
     "output_type": "stream",
     "text": [
      "nnnnnnnnnnnnnnnnnnnnn    China\n",
      "nnnnnnnnnnnnnnnnnnnnn    China\n",
      "nnnnnnnnnnnnnnnnnnnnn    China\n",
      "nnnnnnnnnnnnnnnnnnnnn    China\n",
      "nnnnnnnnnnnnnnnnnnnnn    China\n",
      "condition verified\n"
     ]
    },
    {
     "name": "stderr",
     "output_type": "stream",
     "text": [
      "C:\\Users\\samir\\AppData\\Local\\Temp\\ipykernel_11084\\3614904585.py:4: FutureWarning: The frame.append method is deprecated and will be removed from pandas in a future version. Use pandas.concat instead.\n",
      "  final_data = final_data.append(new_row, ignore_index = True)\n"
     ]
    },
    {
     "name": "stdout",
     "output_type": "stream",
     "text": [
      "nnnnnnnnnnnnnnnnnnnnn    China\n",
      "nnnnnnnnnnnnnnnnnnnnn    China\n",
      "nnnnnnnnnnnnnnnnnnnnn    China\n"
     ]
    },
    {
     "name": "stderr",
     "output_type": "stream",
     "text": [
      "C:\\Users\\samir\\AppData\\Local\\Temp\\ipykernel_11084\\3614904585.py:4: FutureWarning: The frame.append method is deprecated and will be removed from pandas in a future version. Use pandas.concat instead.\n",
      "  final_data = final_data.append(new_row, ignore_index = True)\n"
     ]
    },
    {
     "name": "stdout",
     "output_type": "stream",
     "text": [
      "nnnnnnnnnnnnnnnnnnnnn    China\n",
      "condition verified\n",
      "nnnnnnnnnnnnnnnnnnnnn    Japan\n",
      "condition verified\n",
      "nnnnnnnnnnnnnnnnnnnnn   \n",
      "condition verified\n",
      "nnnnnnnnnnnnnnnnnnnnn   \n",
      "nnnnnnnnnnnnnnnnnnnnn  \n",
      "nnnnnnnnnnnnnnnnnnnnn   China\n",
      "condition verified\n",
      "nnnnnnnnnnnnnnnnnnnnn    Uk\n",
      "condition verified\n",
      "nnnnnnnnnnnnnnnnnnnnn    UAE\n",
      "condition verified\n"
     ]
    },
    {
     "name": "stderr",
     "output_type": "stream",
     "text": [
      "C:\\Users\\samir\\AppData\\Local\\Temp\\ipykernel_11084\\3614904585.py:4: FutureWarning: The frame.append method is deprecated and will be removed from pandas in a future version. Use pandas.concat instead.\n",
      "  final_data = final_data.append(new_row, ignore_index = True)\n",
      "C:\\Users\\samir\\AppData\\Local\\Temp\\ipykernel_11084\\3614904585.py:4: FutureWarning: The frame.append method is deprecated and will be removed from pandas in a future version. Use pandas.concat instead.\n",
      "  final_data = final_data.append(new_row, ignore_index = True)\n",
      "C:\\Users\\samir\\AppData\\Local\\Temp\\ipykernel_11084\\3614904585.py:4: FutureWarning: The frame.append method is deprecated and will be removed from pandas in a future version. Use pandas.concat instead.\n",
      "  final_data = final_data.append(new_row, ignore_index = True)\n",
      "C:\\Users\\samir\\AppData\\Local\\Temp\\ipykernel_11084\\3614904585.py:4: FutureWarning: The frame.append method is deprecated and will be removed from pandas in a future version. Use pandas.concat instead.\n",
      "  final_data = final_data.append(new_row, ignore_index = True)\n",
      "C:\\Users\\samir\\AppData\\Local\\Temp\\ipykernel_11084\\3614904585.py:4: FutureWarning: The frame.append method is deprecated and will be removed from pandas in a future version. Use pandas.concat instead.\n",
      "  final_data = final_data.append(new_row, ignore_index = True)\n"
     ]
    },
    {
     "name": "stdout",
     "output_type": "stream",
     "text": [
      "nnnnnnnnnnnnnnnnnnnnn  \n",
      "nnnnnnnnnnnnnnnnnnnnn    Finland\n",
      "condition verified\n",
      "nnnnnnnnnnnnnnnnnnnnn    India\n",
      "condition verified\n",
      "nnnnnnnnnnnnnnnnnnnnn    Australia\n",
      "condition verified\n",
      "nnnnnnnnnnnnnnnnnnnnn    Finland\n"
     ]
    },
    {
     "name": "stderr",
     "output_type": "stream",
     "text": [
      "C:\\Users\\samir\\AppData\\Local\\Temp\\ipykernel_11084\\3614904585.py:4: FutureWarning: The frame.append method is deprecated and will be removed from pandas in a future version. Use pandas.concat instead.\n",
      "  final_data = final_data.append(new_row, ignore_index = True)\n",
      "C:\\Users\\samir\\AppData\\Local\\Temp\\ipykernel_11084\\3614904585.py:4: FutureWarning: The frame.append method is deprecated and will be removed from pandas in a future version. Use pandas.concat instead.\n",
      "  final_data = final_data.append(new_row, ignore_index = True)\n",
      "C:\\Users\\samir\\AppData\\Local\\Temp\\ipykernel_11084\\3614904585.py:4: FutureWarning: The frame.append method is deprecated and will be removed from pandas in a future version. Use pandas.concat instead.\n",
      "  final_data = final_data.append(new_row, ignore_index = True)\n"
     ]
    },
    {
     "name": "stdout",
     "output_type": "stream",
     "text": [
      "nnnnnnnnnnnnnnnnnnnnn    China\n",
      "condition verified\n",
      "nnnnnnnnnnnnnnnnnnnnn    China\n",
      "nnnnnnnnnnnnnnnnnnnnn    China\n",
      "nnnnnnnnnnnnnnnnnnnnn    China\n"
     ]
    },
    {
     "name": "stderr",
     "output_type": "stream",
     "text": [
      "C:\\Users\\samir\\AppData\\Local\\Temp\\ipykernel_11084\\3614904585.py:4: FutureWarning: The frame.append method is deprecated and will be removed from pandas in a future version. Use pandas.concat instead.\n",
      "  final_data = final_data.append(new_row, ignore_index = True)\n"
     ]
    },
    {
     "name": "stdout",
     "output_type": "stream",
     "text": [
      "nnnnnnnnnnnnnnnnnnnnn    France\n",
      "condition verified\n",
      "nnnnnnnnnnnnnnnnnnnnn    France\n",
      "nnnnnnnnnnnnnnnnnnnnn    France\n",
      "nnnnnnnnnnnnnnnnnnnnn    Slovenia\n",
      "condition verified\n",
      "nnnnnnnnnnnnnnnnnnnnn   \n",
      "condition verified\n"
     ]
    },
    {
     "name": "stderr",
     "output_type": "stream",
     "text": [
      "C:\\Users\\samir\\AppData\\Local\\Temp\\ipykernel_11084\\3614904585.py:4: FutureWarning: The frame.append method is deprecated and will be removed from pandas in a future version. Use pandas.concat instead.\n",
      "  final_data = final_data.append(new_row, ignore_index = True)\n",
      "C:\\Users\\samir\\AppData\\Local\\Temp\\ipykernel_11084\\3614904585.py:4: FutureWarning: The frame.append method is deprecated and will be removed from pandas in a future version. Use pandas.concat instead.\n",
      "  final_data = final_data.append(new_row, ignore_index = True)\n"
     ]
    },
    {
     "name": "stdout",
     "output_type": "stream",
     "text": [
      "nnnnnnnnnnnnnnnnnnnnn   \n",
      "condition verified\n",
      "nnnnnnnnnnnnnnnnnnnnn   \n",
      "nnnnnnnnnnnnnnnnnnnnn   \n",
      "nnnnnnnnnnnnnnnnnnnnn   \n",
      "nnnnnnnnnnnnnnnnnnnnn   \n",
      "nnnnnnnnnnnnnnnnnnnnn   PA  USA\n",
      "condition verified\n",
      "nnnnnnnnnnnnnnnnnnnnn   \n",
      "condition verified\n",
      "nnnnnnnnnnnnnnnnnnnnn   \n",
      "nnnnnnnnnnnnnnnnnnnnn    USA\n",
      "condition verified\n",
      "nnnnnnnnnnnnnnnnnnnnn   MD  USA\n",
      "condition verified\n",
      "nnnnnnnnnnnnnnnnnnnnn    India\n",
      "condition verified\n"
     ]
    },
    {
     "name": "stderr",
     "output_type": "stream",
     "text": [
      "C:\\Users\\samir\\AppData\\Local\\Temp\\ipykernel_11084\\3614904585.py:4: FutureWarning: The frame.append method is deprecated and will be removed from pandas in a future version. Use pandas.concat instead.\n",
      "  final_data = final_data.append(new_row, ignore_index = True)\n",
      "C:\\Users\\samir\\AppData\\Local\\Temp\\ipykernel_11084\\3614904585.py:4: FutureWarning: The frame.append method is deprecated and will be removed from pandas in a future version. Use pandas.concat instead.\n",
      "  final_data = final_data.append(new_row, ignore_index = True)\n",
      "C:\\Users\\samir\\AppData\\Local\\Temp\\ipykernel_11084\\3614904585.py:4: FutureWarning: The frame.append method is deprecated and will be removed from pandas in a future version. Use pandas.concat instead.\n",
      "  final_data = final_data.append(new_row, ignore_index = True)\n",
      "C:\\Users\\samir\\AppData\\Local\\Temp\\ipykernel_11084\\3614904585.py:4: FutureWarning: The frame.append method is deprecated and will be removed from pandas in a future version. Use pandas.concat instead.\n",
      "  final_data = final_data.append(new_row, ignore_index = True)\n"
     ]
    },
    {
     "name": "stdout",
     "output_type": "stream",
     "text": [
      "nnnnnnnnnnnnnnnnnnnnn    USA\n",
      "condition verified\n",
      "nnnnnnnnnnnnnnnnnnnnn    MS USA\n",
      "condition verified\n",
      "nnnnnnnnnnnnnnnnnnnnn    MS USA\n",
      "nnnnnnnnnnnnnnnnnnnnn    MS USA\n",
      "nnnnnnnnnnnnnnnnnnnnn    MS USA\n",
      "nnnnnnnnnnnnnnnnnnnnn    MS USA\n",
      "nnnnnnnnnnnnnnnnnnnnn    Italy\n",
      "condition verified\n"
     ]
    },
    {
     "name": "stderr",
     "output_type": "stream",
     "text": [
      "C:\\Users\\samir\\AppData\\Local\\Temp\\ipykernel_11084\\3614904585.py:4: FutureWarning: The frame.append method is deprecated and will be removed from pandas in a future version. Use pandas.concat instead.\n",
      "  final_data = final_data.append(new_row, ignore_index = True)\n",
      "C:\\Users\\samir\\AppData\\Local\\Temp\\ipykernel_11084\\3614904585.py:4: FutureWarning: The frame.append method is deprecated and will be removed from pandas in a future version. Use pandas.concat instead.\n",
      "  final_data = final_data.append(new_row, ignore_index = True)\n"
     ]
    },
    {
     "name": "stdout",
     "output_type": "stream",
     "text": [
      "nnnnnnnnnnnnnnnnnnnnn    Italy\n",
      "nnnnnnnnnnnnnnnnnnnnn    Italy\n",
      "nnnnnnnnnnnnnnnnnnnnn    Italy\n",
      "condition verified\n"
     ]
    },
    {
     "name": "stderr",
     "output_type": "stream",
     "text": [
      "C:\\Users\\samir\\AppData\\Local\\Temp\\ipykernel_11084\\3614904585.py:4: FutureWarning: The frame.append method is deprecated and will be removed from pandas in a future version. Use pandas.concat instead.\n",
      "  final_data = final_data.append(new_row, ignore_index = True)\n"
     ]
    },
    {
     "name": "stdout",
     "output_type": "stream",
     "text": [
      "nnnnnnnnnnnnnnnnnnnnn    Italy\n",
      "nnnnnnnnnnnnnnnnnnnnn    Italy\n",
      "nnnnnnnnnnnnnnnnnnnnn    Italy\n",
      "nnnnnnnnnnnnnnnnnnnnn    Italy\n",
      "nnnnnnnnnnnnnnnnnnnnn    Italy\n",
      "condition verified\n"
     ]
    },
    {
     "name": "stderr",
     "output_type": "stream",
     "text": [
      "C:\\Users\\samir\\AppData\\Local\\Temp\\ipykernel_11084\\3614904585.py:4: FutureWarning: The frame.append method is deprecated and will be removed from pandas in a future version. Use pandas.concat instead.\n",
      "  final_data = final_data.append(new_row, ignore_index = True)\n"
     ]
    },
    {
     "name": "stdout",
     "output_type": "stream",
     "text": [
      "nnnnnnnnnnnnnnnnnnnnn    Italy\n",
      "nnnnnnnnnnnnnnnnnnnnn    Italy\n",
      "nnnnnnnnnnnnnnnnnnnnn    Italy\n"
     ]
    },
    {
     "name": "stderr",
     "output_type": "stream",
     "text": [
      "C:\\Users\\samir\\AppData\\Local\\Temp\\ipykernel_11084\\3614904585.py:4: FutureWarning: The frame.append method is deprecated and will be removed from pandas in a future version. Use pandas.concat instead.\n",
      "  final_data = final_data.append(new_row, ignore_index = True)\n"
     ]
    },
    {
     "name": "stdout",
     "output_type": "stream",
     "text": [
      "nnnnnnnnnnnnnnnnnnnnn    China\n",
      "condition verified\n",
      "nnnnnnnnnnnnnnnnnnnnn    China\n",
      "nnnnnnnnnnnnnnnnnnnnn   \n",
      "condition verified\n",
      "nnnnnnnnnnnnnnnnnnnnn    China\n",
      "nnnnnnnnnnnnnnnnnnnnn    China\n",
      "nnnnnnnnnnnnnnnnnnnnn    China\n"
     ]
    },
    {
     "name": "stderr",
     "output_type": "stream",
     "text": [
      "C:\\Users\\samir\\AppData\\Local\\Temp\\ipykernel_11084\\3614904585.py:4: FutureWarning: The frame.append method is deprecated and will be removed from pandas in a future version. Use pandas.concat instead.\n",
      "  final_data = final_data.append(new_row, ignore_index = True)\n"
     ]
    },
    {
     "name": "stdout",
     "output_type": "stream",
     "text": [
      "nnnnnnnnnnnnnnnnnnnnn  \n",
      "nnnnnnnnnnnnnnnnnnnnn   \n",
      "condition verified\n",
      "nnnnnnnnnnnnnnnnnnnnn    China\n",
      "condition verified\n",
      "nnnnnnnnnnnnnnnnnnnnn    USA\n",
      "condition verified\n",
      "nnnnnnnnnnnnnnnnnnnnn    Netherlands\n",
      "condition verified\n",
      "nnnnnnnnnnnnnnnnnnnnn    Netherlands\n",
      "nnnnnnnnnnnnnnnnnnnnn    Italy\n",
      "condition verified\n",
      "nnnnnnnnnnnnnnnnnnnnn    Australia\n",
      "condition verified\n"
     ]
    },
    {
     "name": "stderr",
     "output_type": "stream",
     "text": [
      "C:\\Users\\samir\\AppData\\Local\\Temp\\ipykernel_11084\\3614904585.py:4: FutureWarning: The frame.append method is deprecated and will be removed from pandas in a future version. Use pandas.concat instead.\n",
      "  final_data = final_data.append(new_row, ignore_index = True)\n",
      "C:\\Users\\samir\\AppData\\Local\\Temp\\ipykernel_11084\\3614904585.py:4: FutureWarning: The frame.append method is deprecated and will be removed from pandas in a future version. Use pandas.concat instead.\n",
      "  final_data = final_data.append(new_row, ignore_index = True)\n",
      "C:\\Users\\samir\\AppData\\Local\\Temp\\ipykernel_11084\\3614904585.py:4: FutureWarning: The frame.append method is deprecated and will be removed from pandas in a future version. Use pandas.concat instead.\n",
      "  final_data = final_data.append(new_row, ignore_index = True)\n",
      "C:\\Users\\samir\\AppData\\Local\\Temp\\ipykernel_11084\\3614904585.py:4: FutureWarning: The frame.append method is deprecated and will be removed from pandas in a future version. Use pandas.concat instead.\n",
      "  final_data = final_data.append(new_row, ignore_index = True)\n",
      "C:\\Users\\samir\\AppData\\Local\\Temp\\ipykernel_11084\\3614904585.py:4: FutureWarning: The frame.append method is deprecated and will be removed from pandas in a future version. Use pandas.concat instead.\n",
      "  final_data = final_data.append(new_row, ignore_index = True)\n"
     ]
    },
    {
     "name": "stdout",
     "output_type": "stream",
     "text": [
      "nnnnnnnnnnnnnnnnnnnnn    France\n",
      "condition verified\n",
      "nnnnnnnnnnnnnnnnnnnnn    Italy\n",
      "condition verified\n",
      "nnnnnnnnnnnnnnnnnnnnn    France\n",
      "nnnnnnnnnnnnnnnnnnnnn    Italy\n"
     ]
    },
    {
     "name": "stderr",
     "output_type": "stream",
     "text": [
      "C:\\Users\\samir\\AppData\\Local\\Temp\\ipykernel_11084\\3614904585.py:4: FutureWarning: The frame.append method is deprecated and will be removed from pandas in a future version. Use pandas.concat instead.\n",
      "  final_data = final_data.append(new_row, ignore_index = True)\n",
      "C:\\Users\\samir\\AppData\\Local\\Temp\\ipykernel_11084\\3614904585.py:4: FutureWarning: The frame.append method is deprecated and will be removed from pandas in a future version. Use pandas.concat instead.\n",
      "  final_data = final_data.append(new_row, ignore_index = True)\n"
     ]
    },
    {
     "name": "stdout",
     "output_type": "stream",
     "text": [
      "nnnnnnnnnnnnnnnnnnnnn   \n",
      "condition verified\n",
      "nnnnnnnnnnnnnnnnnnnnn   \n",
      "nnnnnnnnnnnnnnnnnnnnn   \n",
      "nnnnnnnnnnnnnnnnnnnnn   \n",
      "nnnnnnnnnnnnnnnnnnnnn   \n",
      "nnnnnnnnnnnnnnnnnnnnn   \n",
      "nnnnnnnnnnnnnnnnnnnnn    India\n",
      "condition verified\n",
      "nnnnnnnnnnnnnnnnnnnnn    India\n",
      "nnnnnnnnnnnnnnnnnnnnn    India\n",
      "nnnnnnnnnnnnnnnnnnnnn    India\n",
      "nnnnnnnnnnnnnnnnnnnnn    Taiwan\n",
      "condition verified\n",
      "nnnnnnnnnnnnnnnnnnnnn    India\n",
      "nnnnnnnnnnnnnnnnnnnnn    India\n",
      "condition verified\n"
     ]
    },
    {
     "name": "stderr",
     "output_type": "stream",
     "text": [
      "C:\\Users\\samir\\AppData\\Local\\Temp\\ipykernel_11084\\3614904585.py:4: FutureWarning: The frame.append method is deprecated and will be removed from pandas in a future version. Use pandas.concat instead.\n",
      "  final_data = final_data.append(new_row, ignore_index = True)\n",
      "C:\\Users\\samir\\AppData\\Local\\Temp\\ipykernel_11084\\3614904585.py:4: FutureWarning: The frame.append method is deprecated and will be removed from pandas in a future version. Use pandas.concat instead.\n",
      "  final_data = final_data.append(new_row, ignore_index = True)\n"
     ]
    },
    {
     "name": "stdout",
     "output_type": "stream",
     "text": [
      "nnnnnnnnnnnnnnnnnnnnn    India\n",
      "nnnnnnnnnnnnnnnnnnnnn   \n",
      "condition verified\n",
      "nnnnnnnnnnnnnnnnnnnnn    India\n",
      "nnnnnnnnnnnnnnnnnnnnn    India\n",
      "nnnnnnnnnnnnnnnnnnnnn    Taiwan\n",
      "condition verified\n",
      "nnnnnnnnnnnnnnnnnnnnn    India\n"
     ]
    },
    {
     "name": "stderr",
     "output_type": "stream",
     "text": [
      "C:\\Users\\samir\\AppData\\Local\\Temp\\ipykernel_11084\\3614904585.py:4: FutureWarning: The frame.append method is deprecated and will be removed from pandas in a future version. Use pandas.concat instead.\n",
      "  final_data = final_data.append(new_row, ignore_index = True)\n",
      "C:\\Users\\samir\\AppData\\Local\\Temp\\ipykernel_11084\\3614904585.py:4: FutureWarning: The frame.append method is deprecated and will be removed from pandas in a future version. Use pandas.concat instead.\n",
      "  final_data = final_data.append(new_row, ignore_index = True)\n"
     ]
    },
    {
     "name": "stdout",
     "output_type": "stream",
     "text": [
      "nnnnnnnnnnnnnnnnnnnnn    India\n",
      "condition verified\n",
      "nnnnnnnnnnnnnnnnnnnnn    Finland\n",
      "condition verified\n",
      "nnnnnnnnnnnnnnnnnnnnn   \n",
      "condition verified\n",
      "nnnnnnnnnnnnnnnnnnnnn    Finland\n",
      "nnnnnnnnnnnnnnnnnnnnn    Australia\n",
      "condition verified\n",
      "nnnnnnnnnnnnnnnnnnnnn    Canada\n",
      "condition verified\n"
     ]
    },
    {
     "name": "stderr",
     "output_type": "stream",
     "text": [
      "C:\\Users\\samir\\AppData\\Local\\Temp\\ipykernel_11084\\3614904585.py:4: FutureWarning: The frame.append method is deprecated and will be removed from pandas in a future version. Use pandas.concat instead.\n",
      "  final_data = final_data.append(new_row, ignore_index = True)\n",
      "C:\\Users\\samir\\AppData\\Local\\Temp\\ipykernel_11084\\3614904585.py:4: FutureWarning: The frame.append method is deprecated and will be removed from pandas in a future version. Use pandas.concat instead.\n",
      "  final_data = final_data.append(new_row, ignore_index = True)\n",
      "C:\\Users\\samir\\AppData\\Local\\Temp\\ipykernel_11084\\3614904585.py:4: FutureWarning: The frame.append method is deprecated and will be removed from pandas in a future version. Use pandas.concat instead.\n",
      "  final_data = final_data.append(new_row, ignore_index = True)\n",
      "C:\\Users\\samir\\AppData\\Local\\Temp\\ipykernel_11084\\3614904585.py:4: FutureWarning: The frame.append method is deprecated and will be removed from pandas in a future version. Use pandas.concat instead.\n",
      "  final_data = final_data.append(new_row, ignore_index = True)\n"
     ]
    },
    {
     "name": "stdout",
     "output_type": "stream",
     "text": [
      "nnnnnnnnnnnnnnnnnnnnn    China\n",
      "condition verified\n",
      "nnnnnnnnnnnnnnnnnnnnn    China\n",
      "nnnnnnnnnnnnnnnnnnnnn    China\n",
      "nnnnnnnnnnnnnnnnnnnnn    China\n",
      "nnnnnnnnnnnnnnnnnnnnn    China\n",
      "nnnnnnnnnnnnnnnnnnnnn    PR China\n",
      "condition verified\n"
     ]
    },
    {
     "name": "stderr",
     "output_type": "stream",
     "text": [
      "C:\\Users\\samir\\AppData\\Local\\Temp\\ipykernel_11084\\3614904585.py:4: FutureWarning: The frame.append method is deprecated and will be removed from pandas in a future version. Use pandas.concat instead.\n",
      "  final_data = final_data.append(new_row, ignore_index = True)\n",
      "C:\\Users\\samir\\AppData\\Local\\Temp\\ipykernel_11084\\3614904585.py:4: FutureWarning: The frame.append method is deprecated and will be removed from pandas in a future version. Use pandas.concat instead.\n",
      "  final_data = final_data.append(new_row, ignore_index = True)\n"
     ]
    },
    {
     "name": "stdout",
     "output_type": "stream",
     "text": [
      "nnnnnnnnnnnnnnnnnnnnn   China  China\n",
      "condition verified\n",
      "nnnnnnnnnnnnnnnnnnnnn   China  China\n",
      "nnnnnnnnnnnnnnnnnnnnn    Australia\n",
      "condition verified\n"
     ]
    },
    {
     "name": "stderr",
     "output_type": "stream",
     "text": [
      "C:\\Users\\samir\\AppData\\Local\\Temp\\ipykernel_11084\\3614904585.py:4: FutureWarning: The frame.append method is deprecated and will be removed from pandas in a future version. Use pandas.concat instead.\n",
      "  final_data = final_data.append(new_row, ignore_index = True)\n",
      "C:\\Users\\samir\\AppData\\Local\\Temp\\ipykernel_11084\\3614904585.py:4: FutureWarning: The frame.append method is deprecated and will be removed from pandas in a future version. Use pandas.concat instead.\n",
      "  final_data = final_data.append(new_row, ignore_index = True)\n"
     ]
    },
    {
     "name": "stdout",
     "output_type": "stream",
     "text": [
      "nnnnnnnnnnnnnnnnnnnnn    China\n",
      "condition verified\n",
      "nnnnnnnnnnnnnnnnnnnnn    China\n",
      "nnnnnnnnnnnnnnnnnnnnn    China\n",
      "nnnnnnnnnnnnnnnnnnnnn    China\n",
      "nnnnnnnnnnnnnnnnnnnnn   China \n",
      "condition verified\n"
     ]
    },
    {
     "name": "stderr",
     "output_type": "stream",
     "text": [
      "C:\\Users\\samir\\AppData\\Local\\Temp\\ipykernel_11084\\3614904585.py:4: FutureWarning: The frame.append method is deprecated and will be removed from pandas in a future version. Use pandas.concat instead.\n",
      "  final_data = final_data.append(new_row, ignore_index = True)\n",
      "C:\\Users\\samir\\AppData\\Local\\Temp\\ipykernel_11084\\3614904585.py:4: FutureWarning: The frame.append method is deprecated and will be removed from pandas in a future version. Use pandas.concat instead.\n",
      "  final_data = final_data.append(new_row, ignore_index = True)\n"
     ]
    },
    {
     "name": "stdout",
     "output_type": "stream",
     "text": [
      "nnnnnnnnnnnnnnnnnnnnn   China \n",
      "condition verified\n",
      "nnnnnnnnnnnnnnnnnnnnn   China \n",
      "nnnnnnnnnnnnnnnnnnnnn   China \n",
      "nnnnnnnnnnnnnnnnnnnnn   China \n",
      "nnnnnnnnnnnnnnnnnnnnn   China \n",
      "nnnnnnnnnnnnnnnnnnnnn   China \n",
      "nnnnnnnnnnnnnnnnnnnnn    China\n",
      "condition verified\n"
     ]
    },
    {
     "name": "stderr",
     "output_type": "stream",
     "text": [
      "C:\\Users\\samir\\AppData\\Local\\Temp\\ipykernel_11084\\3614904585.py:4: FutureWarning: The frame.append method is deprecated and will be removed from pandas in a future version. Use pandas.concat instead.\n",
      "  final_data = final_data.append(new_row, ignore_index = True)\n"
     ]
    },
    {
     "name": "stdout",
     "output_type": "stream",
     "text": [
      "nnnnnnnnnnnnnnnnnnnnn    China\n",
      "nnnnnnnnnnnnnnnnnnnnn   China \n",
      "condition verified\n",
      "nnnnnnnnnnnnnnnnnnnnn    China\n",
      "nnnnnnnnnnnnnnnnnnnnn    China\n",
      "nnnnnnnnnnnnnnnnnnnnn    China\n",
      "nnnnnnnnnnnnnnnnnnnnn    China\n",
      "nnnnnnnnnnnnnnnnnnnnn    China\n",
      "nnnnnnnnnnnnnnnnnnnnn   China \n"
     ]
    },
    {
     "name": "stderr",
     "output_type": "stream",
     "text": [
      "C:\\Users\\samir\\AppData\\Local\\Temp\\ipykernel_11084\\3614904585.py:4: FutureWarning: The frame.append method is deprecated and will be removed from pandas in a future version. Use pandas.concat instead.\n",
      "  final_data = final_data.append(new_row, ignore_index = True)\n",
      "C:\\Users\\samir\\AppData\\Local\\Temp\\ipykernel_11084\\3614904585.py:4: FutureWarning: The frame.append method is deprecated and will be removed from pandas in a future version. Use pandas.concat instead.\n",
      "  final_data = final_data.append(new_row, ignore_index = True)\n"
     ]
    },
    {
     "name": "stdout",
     "output_type": "stream",
     "text": [
      "nnnnnnnnnnnnnnnnnnnnn   Singapore \n",
      "condition verified\n",
      "nnnnnnnnnnnnnnnnnnnnn   China \n",
      "condition verified\n",
      "nnnnnnnnnnnnnnnnnnnnn   China \n",
      "nnnnnnnnnnnnnnnnnnnnn   China \n",
      "nnnnnnnnnnnnnnnnnnnnn   China \n"
     ]
    },
    {
     "name": "stderr",
     "output_type": "stream",
     "text": [
      "C:\\Users\\samir\\AppData\\Local\\Temp\\ipykernel_11084\\3614904585.py:4: FutureWarning: The frame.append method is deprecated and will be removed from pandas in a future version. Use pandas.concat instead.\n",
      "  final_data = final_data.append(new_row, ignore_index = True)\n",
      "C:\\Users\\samir\\AppData\\Local\\Temp\\ipykernel_11084\\3614904585.py:4: FutureWarning: The frame.append method is deprecated and will be removed from pandas in a future version. Use pandas.concat instead.\n",
      "  final_data = final_data.append(new_row, ignore_index = True)\n"
     ]
    },
    {
     "name": "stdout",
     "output_type": "stream",
     "text": [
      "nnnnnnnnnnnnnnnnnnnnn   China \n",
      "condition verified\n",
      "nnnnnnnnnnnnnnnnnnnnn   China \n",
      "nnnnnnnnnnnnnnnnnnnnn   China \n",
      "nnnnnnnnnnnnnnnnnnnnn   China \n",
      "nnnnnnnnnnnnnnnnnnnnn   \n",
      "condition verified\n"
     ]
    },
    {
     "name": "stderr",
     "output_type": "stream",
     "text": [
      "C:\\Users\\samir\\AppData\\Local\\Temp\\ipykernel_11084\\3614904585.py:4: FutureWarning: The frame.append method is deprecated and will be removed from pandas in a future version. Use pandas.concat instead.\n",
      "  final_data = final_data.append(new_row, ignore_index = True)\n"
     ]
    },
    {
     "name": "stdout",
     "output_type": "stream",
     "text": [
      "nnnnnnnnnnnnnnnnnnnnn    Canada\n",
      "condition verified\n",
      "nnnnnnnnnnnnnnnnnnnnn    Canada\n",
      "nnnnnnnnnnnnnnnnnnnnn    Canada\n",
      "nnnnnnnnnnnnnnnnnnnnn    Canada\n",
      "nnnnnnnnnnnnnnnnnnnnn    Pakistan\n",
      "condition verified\n",
      "nnnnnnnnnnnnnnnnnnnnn   \n",
      "condition verified\n",
      "nnnnnnnnnnnnnnnnnnnnn    USA\n",
      "condition verified\n"
     ]
    },
    {
     "name": "stderr",
     "output_type": "stream",
     "text": [
      "C:\\Users\\samir\\AppData\\Local\\Temp\\ipykernel_11084\\3614904585.py:4: FutureWarning: The frame.append method is deprecated and will be removed from pandas in a future version. Use pandas.concat instead.\n",
      "  final_data = final_data.append(new_row, ignore_index = True)\n",
      "C:\\Users\\samir\\AppData\\Local\\Temp\\ipykernel_11084\\3614904585.py:4: FutureWarning: The frame.append method is deprecated and will be removed from pandas in a future version. Use pandas.concat instead.\n",
      "  final_data = final_data.append(new_row, ignore_index = True)\n",
      "C:\\Users\\samir\\AppData\\Local\\Temp\\ipykernel_11084\\3614904585.py:4: FutureWarning: The frame.append method is deprecated and will be removed from pandas in a future version. Use pandas.concat instead.\n",
      "  final_data = final_data.append(new_row, ignore_index = True)\n"
     ]
    },
    {
     "name": "stdout",
     "output_type": "stream",
     "text": [
      "nnnnnnnnnnnnnnnnnnnnn    China\n",
      "condition verified\n",
      "nnnnnnnnnnnnnnnnnnnnn    China\n",
      "nnnnnnnnnnnnnnnnnnnnn    China\n",
      "nnnnnnnnnnnnnnnnnnnnn  NA\n",
      "condition verified\n",
      "nnnnnnnnnnnnnnnnnnnnn   NA\n",
      "condition verified\n"
     ]
    },
    {
     "name": "stderr",
     "output_type": "stream",
     "text": [
      "C:\\Users\\samir\\AppData\\Local\\Temp\\ipykernel_11084\\3614904585.py:4: FutureWarning: The frame.append method is deprecated and will be removed from pandas in a future version. Use pandas.concat instead.\n",
      "  final_data = final_data.append(new_row, ignore_index = True)\n",
      "C:\\Users\\samir\\AppData\\Local\\Temp\\ipykernel_11084\\3614904585.py:4: FutureWarning: The frame.append method is deprecated and will be removed from pandas in a future version. Use pandas.concat instead.\n",
      "  final_data = final_data.append(new_row, ignore_index = True)\n",
      "C:\\Users\\samir\\AppData\\Local\\Temp\\ipykernel_11084\\3614904585.py:4: FutureWarning: The frame.append method is deprecated and will be removed from pandas in a future version. Use pandas.concat instead.\n",
      "  final_data = final_data.append(new_row, ignore_index = True)\n"
     ]
    },
    {
     "name": "stdout",
     "output_type": "stream",
     "text": [
      "nnnnnnnnnnnnnnnnnnnnn   Macau  China\n",
      "condition verified\n",
      "nnnnnnnnnnnnnnnnnnnnn   Macau  China\n",
      "nnnnnnnnnnnnnnnnnnnnn   Macau  China\n",
      "nnnnnnnnnnnnnnnnnnnnn    China\n",
      "condition verified\n",
      "nnnnnnnnnnnnnnnnnnnnn   Macau  China\n",
      "nnnnnnnnnnnnnnnnnnnnn    China\n",
      "nnnnnnnnnnnnnnnnnnnnn   Macau  China\n",
      "nnnnnnnnnnnnnnnnnnnnn    China\n",
      "condition verified\n"
     ]
    },
    {
     "name": "stderr",
     "output_type": "stream",
     "text": [
      "C:\\Users\\samir\\AppData\\Local\\Temp\\ipykernel_11084\\3614904585.py:4: FutureWarning: The frame.append method is deprecated and will be removed from pandas in a future version. Use pandas.concat instead.\n",
      "  final_data = final_data.append(new_row, ignore_index = True)\n",
      "C:\\Users\\samir\\AppData\\Local\\Temp\\ipykernel_11084\\3614904585.py:4: FutureWarning: The frame.append method is deprecated and will be removed from pandas in a future version. Use pandas.concat instead.\n",
      "  final_data = final_data.append(new_row, ignore_index = True)\n"
     ]
    },
    {
     "name": "stdout",
     "output_type": "stream",
     "text": [
      "nnnnnnnnnnnnnnnnnnnnn    China\n",
      "nnnnnnnnnnnnnnnnnnnnn    China\n",
      "nnnnnnnnnnnnnnnnnnnnn    China\n",
      "nnnnnnnnnnnnnnnnnnnnn    China\n",
      "nnnnnnnnnnnnnnnnnnnnn    China\n",
      "nnnnnnnnnnnnnnnnnnnnn    China\n",
      "nnnnnnnnnnnnnnnnnnnnn    UK\n",
      "condition verified\n"
     ]
    },
    {
     "name": "stderr",
     "output_type": "stream",
     "text": [
      "C:\\Users\\samir\\AppData\\Local\\Temp\\ipykernel_11084\\3614904585.py:4: FutureWarning: The frame.append method is deprecated and will be removed from pandas in a future version. Use pandas.concat instead.\n",
      "  final_data = final_data.append(new_row, ignore_index = True)\n"
     ]
    },
    {
     "name": "stdout",
     "output_type": "stream",
     "text": [
      "nnnnnnnnnnnnnnnnnnnnn    UK\n",
      "nnnnnnnnnnnnnnnnnnnnn    UK\n",
      "nnnnnnnnnnnnnnnnnnnnn    UK\n",
      "nnnnnnnnnnnnnnnnnnnnn    China\n",
      "condition verified\n",
      "nnnnnnnnnnnnnnnnnnnnn    UK\n",
      "nnnnnnnnnnnnnnnnnnnnn    USA\n",
      "condition verified\n"
     ]
    },
    {
     "name": "stderr",
     "output_type": "stream",
     "text": [
      "C:\\Users\\samir\\AppData\\Local\\Temp\\ipykernel_11084\\3614904585.py:4: FutureWarning: The frame.append method is deprecated and will be removed from pandas in a future version. Use pandas.concat instead.\n",
      "  final_data = final_data.append(new_row, ignore_index = True)\n",
      "C:\\Users\\samir\\AppData\\Local\\Temp\\ipykernel_11084\\3614904585.py:4: FutureWarning: The frame.append method is deprecated and will be removed from pandas in a future version. Use pandas.concat instead.\n",
      "  final_data = final_data.append(new_row, ignore_index = True)\n",
      "C:\\Users\\samir\\AppData\\Local\\Temp\\ipykernel_11084\\3614904585.py:4: FutureWarning: The frame.append method is deprecated and will be removed from pandas in a future version. Use pandas.concat instead.\n",
      "  final_data = final_data.append(new_row, ignore_index = True)\n"
     ]
    },
    {
     "name": "stdout",
     "output_type": "stream",
     "text": [
      "nnnnnnnnnnnnnnnnnnnnn   Canada\n",
      "condition verified\n"
     ]
    },
    {
     "name": "stderr",
     "output_type": "stream",
     "text": [
      "C:\\Users\\samir\\AppData\\Local\\Temp\\ipykernel_11084\\3614904585.py:4: FutureWarning: The frame.append method is deprecated and will be removed from pandas in a future version. Use pandas.concat instead.\n",
      "  final_data = final_data.append(new_row, ignore_index = True)\n"
     ]
    },
    {
     "name": "stdout",
     "output_type": "stream",
     "text": [
      "nnnnnnnnnnnnnnnnnnnnn   \n",
      "condition verified\n",
      "nnnnnnnnnnnnnnnnnnnnn   \n",
      "nnnnnnnnnnnnnnnnnnnnn   \n",
      "nnnnnnnnnnnnnnnnnnnnn    Norway\n",
      "condition verified\n",
      "nnnnnnnnnnnnnnnnnnnnn    Egypt\n",
      "condition verified\n"
     ]
    },
    {
     "name": "stderr",
     "output_type": "stream",
     "text": [
      "C:\\Users\\samir\\AppData\\Local\\Temp\\ipykernel_11084\\3614904585.py:4: FutureWarning: The frame.append method is deprecated and will be removed from pandas in a future version. Use pandas.concat instead.\n",
      "  final_data = final_data.append(new_row, ignore_index = True)\n",
      "C:\\Users\\samir\\AppData\\Local\\Temp\\ipykernel_11084\\3614904585.py:4: FutureWarning: The frame.append method is deprecated and will be removed from pandas in a future version. Use pandas.concat instead.\n",
      "  final_data = final_data.append(new_row, ignore_index = True)\n"
     ]
    },
    {
     "name": "stdout",
     "output_type": "stream",
     "text": [
      "nnnnnnnnnnnnnnnnnnnnn    China\n",
      "condition verified\n",
      "nnnnnnnnnnnnnnnnnnnnn    China\n",
      "nnnnnnnnnnnnnnnnnnnnn    China\n",
      "nnnnnnnnnnnnnnnnnnnnn    China\n",
      "nnnnnnnnnnnnnnnnnnnnn    China\n"
     ]
    },
    {
     "name": "stderr",
     "output_type": "stream",
     "text": [
      "C:\\Users\\samir\\AppData\\Local\\Temp\\ipykernel_11084\\3614904585.py:4: FutureWarning: The frame.append method is deprecated and will be removed from pandas in a future version. Use pandas.concat instead.\n",
      "  final_data = final_data.append(new_row, ignore_index = True)\n"
     ]
    },
    {
     "name": "stdout",
     "output_type": "stream",
     "text": [
      "nnnnnnnnnnnnnnnnnnnnn    China\n",
      "condition verified\n",
      "nnnnnnnnnnnnnnnnnnnnn    China\n",
      "nnnnnnnnnnnnnnnnnnnnn    China\n",
      "nnnnnnnnnnnnnnnnnnnnn    China\n",
      "nnnnnnnnnnnnnnnnnnnnn    China\n",
      "nnnnnnnnnnnnnnnnnnnnn    Australia\n",
      "condition verified\n",
      "nnnnnnnnnnnnnnnnnnnnn    China\n"
     ]
    },
    {
     "name": "stderr",
     "output_type": "stream",
     "text": [
      "C:\\Users\\samir\\AppData\\Local\\Temp\\ipykernel_11084\\3614904585.py:4: FutureWarning: The frame.append method is deprecated and will be removed from pandas in a future version. Use pandas.concat instead.\n",
      "  final_data = final_data.append(new_row, ignore_index = True)\n",
      "C:\\Users\\samir\\AppData\\Local\\Temp\\ipykernel_11084\\3614904585.py:4: FutureWarning: The frame.append method is deprecated and will be removed from pandas in a future version. Use pandas.concat instead.\n",
      "  final_data = final_data.append(new_row, ignore_index = True)\n"
     ]
    },
    {
     "name": "stdout",
     "output_type": "stream",
     "text": [
      "nnnnnnnnnnnnnnnnnnnnn    China\n",
      "condition verified\n",
      "nnnnnnnnnnnnnnnnnnnnn    USA\n",
      "condition verified\n",
      "nnnnnnnnnnnnnnnnnnnnn    China\n",
      "nnnnnnnnnnnnnnnnnnnnn    China\n"
     ]
    },
    {
     "name": "stderr",
     "output_type": "stream",
     "text": [
      "C:\\Users\\samir\\AppData\\Local\\Temp\\ipykernel_11084\\3614904585.py:4: FutureWarning: The frame.append method is deprecated and will be removed from pandas in a future version. Use pandas.concat instead.\n",
      "  final_data = final_data.append(new_row, ignore_index = True)\n",
      "C:\\Users\\samir\\AppData\\Local\\Temp\\ipykernel_11084\\3614904585.py:4: FutureWarning: The frame.append method is deprecated and will be removed from pandas in a future version. Use pandas.concat instead.\n",
      "  final_data = final_data.append(new_row, ignore_index = True)\n"
     ]
    },
    {
     "name": "stdout",
     "output_type": "stream",
     "text": [
      "nnnnnnnnnnnnnnnnnnnnn    Nigeria\n",
      "condition verified\n",
      "nnnnnnnnnnnnnnnnnnnnn    Nigeria\n",
      "nnnnnnnnnnnnnnnnnnnnn    Nigeria\n"
     ]
    },
    {
     "name": "stderr",
     "output_type": "stream",
     "text": [
      "C:\\Users\\samir\\AppData\\Local\\Temp\\ipykernel_11084\\3614904585.py:4: FutureWarning: The frame.append method is deprecated and will be removed from pandas in a future version. Use pandas.concat instead.\n",
      "  final_data = final_data.append(new_row, ignore_index = True)\n"
     ]
    },
    {
     "name": "stdout",
     "output_type": "stream",
     "text": [
      "nnnnnnnnnnnnnnnnnnnnn    China\n",
      "condition verified\n",
      "nnnnnnnnnnnnnnnnnnnnn    China\n",
      "nnnnnnnnnnnnnnnnnnnnn    China\n",
      "nnnnnnnnnnnnnnnnnnnnn    China\n",
      "nnnnnnnnnnnnnnnnnnnnn    China\n"
     ]
    },
    {
     "name": "stderr",
     "output_type": "stream",
     "text": [
      "C:\\Users\\samir\\AppData\\Local\\Temp\\ipykernel_11084\\3614904585.py:4: FutureWarning: The frame.append method is deprecated and will be removed from pandas in a future version. Use pandas.concat instead.\n",
      "  final_data = final_data.append(new_row, ignore_index = True)\n"
     ]
    },
    {
     "name": "stdout",
     "output_type": "stream",
     "text": [
      "nnnnnnnnnnnnnnnnnnnnn   \n",
      "condition verified\n",
      "nnnnnnnnnnnnnnnnnnnnn   \n",
      "nnnnnnnnnnnnnnnnnnnnn   \n",
      "nnnnnnnnnnnnnnnnnnnnn    China\n",
      "condition verified\n",
      "nnnnnnnnnnnnnnnnnnnnn    China\n",
      "nnnnnnnnnnnnnnnnnnnnn    China\n",
      "nnnnnnnnnnnnnnnnnnnnn    China\n",
      "nnnnnnnnnnnnnnnnnnnnn    China\n",
      "nnnnnnnnnnnnnnnnnnnnn  NA\n",
      "condition verified\n",
      "nnnnnnnnnnnnnnnnnnnnn   NA\n",
      "condition verified\n"
     ]
    },
    {
     "name": "stderr",
     "output_type": "stream",
     "text": [
      "C:\\Users\\samir\\AppData\\Local\\Temp\\ipykernel_11084\\3614904585.py:4: FutureWarning: The frame.append method is deprecated and will be removed from pandas in a future version. Use pandas.concat instead.\n",
      "  final_data = final_data.append(new_row, ignore_index = True)\n"
     ]
    },
    {
     "name": "stdout",
     "output_type": "stream",
     "text": [
      "nnnnnnnnnnnnnnnnnnnnn   NA\n",
      "nnnnnnnnnnnnnnnnnnnnn   NA\n"
     ]
    },
    {
     "name": "stderr",
     "output_type": "stream",
     "text": [
      "C:\\Users\\samir\\AppData\\Local\\Temp\\ipykernel_11084\\3614904585.py:4: FutureWarning: The frame.append method is deprecated and will be removed from pandas in a future version. Use pandas.concat instead.\n",
      "  final_data = final_data.append(new_row, ignore_index = True)\n",
      "C:\\Users\\samir\\AppData\\Local\\Temp\\ipykernel_11084\\3614904585.py:4: FutureWarning: The frame.append method is deprecated and will be removed from pandas in a future version. Use pandas.concat instead.\n",
      "  final_data = final_data.append(new_row, ignore_index = True)\n"
     ]
    },
    {
     "name": "stdout",
     "output_type": "stream",
     "text": [
      "nnnnnnnnnnnnnnnnnnnnn    China\n",
      "condition verified\n",
      "nnnnnnnnnnnnnnnnnnnnn    China\n",
      "nnnnnnnnnnnnnnnnnnnnn    China\n",
      "nnnnnnnnnnnnnnnnnnnnn    China\n",
      "nnnnnnnnnnnnnnnnnnnnn    China\n",
      "nnnnnnnnnnnnnnnnnnnnn    China\n"
     ]
    },
    {
     "name": "stderr",
     "output_type": "stream",
     "text": [
      "C:\\Users\\samir\\AppData\\Local\\Temp\\ipykernel_11084\\3614904585.py:4: FutureWarning: The frame.append method is deprecated and will be removed from pandas in a future version. Use pandas.concat instead.\n",
      "  final_data = final_data.append(new_row, ignore_index = True)\n"
     ]
    },
    {
     "name": "stdout",
     "output_type": "stream",
     "text": [
      "nnnnnnnnnnnnnnnnnnnnn    UAE\n",
      "condition verified\n",
      "nnnnnnnnnnnnnnnnnnnnn    UK\n",
      "condition verified\n",
      "nnnnnnnnnnnnnnnnnnnnn    UK\n",
      "nnnnnnnnnnnnnnnnnnnnn    UAE\n"
     ]
    },
    {
     "name": "stderr",
     "output_type": "stream",
     "text": [
      "C:\\Users\\samir\\AppData\\Local\\Temp\\ipykernel_11084\\3614904585.py:4: FutureWarning: The frame.append method is deprecated and will be removed from pandas in a future version. Use pandas.concat instead.\n",
      "  final_data = final_data.append(new_row, ignore_index = True)\n",
      "C:\\Users\\samir\\AppData\\Local\\Temp\\ipykernel_11084\\3614904585.py:4: FutureWarning: The frame.append method is deprecated and will be removed from pandas in a future version. Use pandas.concat instead.\n",
      "  final_data = final_data.append(new_row, ignore_index = True)\n"
     ]
    },
    {
     "name": "stdout",
     "output_type": "stream",
     "text": [
      "nnnnnnnnnnnnnnnnnnnnn    China\n",
      "condition verified\n",
      "nnnnnnnnnnnnnnnnnnnnn    China\n",
      "nnnnnnnnnnnnnnnnnnnnn    China\n"
     ]
    },
    {
     "name": "stderr",
     "output_type": "stream",
     "text": [
      "C:\\Users\\samir\\AppData\\Local\\Temp\\ipykernel_11084\\3614904585.py:4: FutureWarning: The frame.append method is deprecated and will be removed from pandas in a future version. Use pandas.concat instead.\n",
      "  final_data = final_data.append(new_row, ignore_index = True)\n"
     ]
    },
    {
     "name": "stdout",
     "output_type": "stream",
     "text": [
      "nnnnnnnnnnnnnnnnnnnnn   UAE\n",
      "condition verified\n",
      "nnnnnnnnnnnnnnnnnnnnn    UAE\n",
      "condition verified\n",
      "nnnnnnnnnnnnnnnnnnnnn    UAE\n",
      "nnnnnnnnnnnnnnnnnnnnn    UAE\n",
      "nnnnnnnnnnnnnnnnnnnnn    UAE\n",
      "nnnnnnnnnnnnnnnnnnnnn    UAE\n",
      "nnnnnnnnnnnnnnnnnnnnn    Algeria\n",
      "condition verified\n"
     ]
    },
    {
     "name": "stderr",
     "output_type": "stream",
     "text": [
      "C:\\Users\\samir\\AppData\\Local\\Temp\\ipykernel_11084\\3614904585.py:4: FutureWarning: The frame.append method is deprecated and will be removed from pandas in a future version. Use pandas.concat instead.\n",
      "  final_data = final_data.append(new_row, ignore_index = True)\n",
      "C:\\Users\\samir\\AppData\\Local\\Temp\\ipykernel_11084\\3614904585.py:4: FutureWarning: The frame.append method is deprecated and will be removed from pandas in a future version. Use pandas.concat instead.\n",
      "  final_data = final_data.append(new_row, ignore_index = True)\n"
     ]
    },
    {
     "name": "stdout",
     "output_type": "stream",
     "text": [
      "nnnnnnnnnnnnnnnnnnnnn    India\n",
      "condition verified\n",
      "nnnnnnnnnnnnnnnnnnnnn    Algeria\n",
      "nnnnnnnnnnnnnnnnnnnnn    India\n",
      "nnnnnnnnnnnnnnnnnnnnn    Nigeria\n",
      "condition verified\n",
      "nnnnnnnnnnnnnnnnnnnnn    Algeria\n",
      "nnnnnnnnnnnnnnnnnnnnn    Algeria\n"
     ]
    },
    {
     "name": "stderr",
     "output_type": "stream",
     "text": [
      "C:\\Users\\samir\\AppData\\Local\\Temp\\ipykernel_11084\\3614904585.py:4: FutureWarning: The frame.append method is deprecated and will be removed from pandas in a future version. Use pandas.concat instead.\n",
      "  final_data = final_data.append(new_row, ignore_index = True)\n",
      "C:\\Users\\samir\\AppData\\Local\\Temp\\ipykernel_11084\\3614904585.py:4: FutureWarning: The frame.append method is deprecated and will be removed from pandas in a future version. Use pandas.concat instead.\n",
      "  final_data = final_data.append(new_row, ignore_index = True)\n",
      "C:\\Users\\samir\\AppData\\Local\\Temp\\ipykernel_11084\\3614904585.py:4: FutureWarning: The frame.append method is deprecated and will be removed from pandas in a future version. Use pandas.concat instead.\n",
      "  final_data = final_data.append(new_row, ignore_index = True)\n"
     ]
    },
    {
     "name": "stdout",
     "output_type": "stream",
     "text": [
      "nnnnnnnnnnnnnnnnnnnnn    China\n",
      "condition verified\n",
      "nnnnnnnnnnnnnnnnnnnnn    China\n",
      "nnnnnnnnnnnnnnnnnnnnn    China\n",
      "nnnnnnnnnnnnnnnnnnnnn    China\n",
      "nnnnnnnnnnnnnnnnnnnnn    China\n"
     ]
    },
    {
     "name": "stderr",
     "output_type": "stream",
     "text": [
      "C:\\Users\\samir\\AppData\\Local\\Temp\\ipykernel_11084\\3614904585.py:4: FutureWarning: The frame.append method is deprecated and will be removed from pandas in a future version. Use pandas.concat instead.\n",
      "  final_data = final_data.append(new_row, ignore_index = True)\n"
     ]
    },
    {
     "name": "stdout",
     "output_type": "stream",
     "text": [
      "nnnnnnnnnnnnnnnnnnnnn    China\n",
      "condition verified\n",
      "nnnnnnnnnnnnnnnnnnnnn    China\n",
      "nnnnnnnnnnnnnnnnnnnnn    China\n",
      "nnnnnnnnnnnnnnnnnnnnn   \n",
      "condition verified\n",
      "nnnnnnnnnnnnnnnnnnnnn   \n",
      "nnnnnnnnnnnnnnnnnnnnn    Egypt\n",
      "condition verified\n",
      "nnnnnnnnnnnnnnnnnnnnn    Egypt\n"
     ]
    },
    {
     "name": "stderr",
     "output_type": "stream",
     "text": [
      "C:\\Users\\samir\\AppData\\Local\\Temp\\ipykernel_11084\\3614904585.py:4: FutureWarning: The frame.append method is deprecated and will be removed from pandas in a future version. Use pandas.concat instead.\n",
      "  final_data = final_data.append(new_row, ignore_index = True)\n",
      "C:\\Users\\samir\\AppData\\Local\\Temp\\ipykernel_11084\\3614904585.py:4: FutureWarning: The frame.append method is deprecated and will be removed from pandas in a future version. Use pandas.concat instead.\n",
      "  final_data = final_data.append(new_row, ignore_index = True)\n"
     ]
    },
    {
     "name": "stdout",
     "output_type": "stream",
     "text": [
      "nnnnnnnnnnnnnnnnnnnnn    Turkey\n",
      "condition verified\n",
      "nnnnnnnnnnnnnnnnnnnnn    Turkey\n",
      "nnnnnnnnnnnnnnnnnnnnn    Turkey\n",
      "nnnnnnnnnnnnnnnnnnnnn    Turkey\n",
      "nnnnnnnnnnnnnnnnnnnnn    India\n",
      "condition verified\n",
      "nnnnnnnnnnnnnnnnnnnnn    Serbia\n",
      "condition verified\n",
      "nnnnnnnnnnnnnnnnnnnnn \n",
      "condition verified\n",
      "nnnnnnnnnnnnnnnnnnnnn \n"
     ]
    },
    {
     "name": "stderr",
     "output_type": "stream",
     "text": [
      "C:\\Users\\samir\\AppData\\Local\\Temp\\ipykernel_11084\\3614904585.py:4: FutureWarning: The frame.append method is deprecated and will be removed from pandas in a future version. Use pandas.concat instead.\n",
      "  final_data = final_data.append(new_row, ignore_index = True)\n",
      "C:\\Users\\samir\\AppData\\Local\\Temp\\ipykernel_11084\\3614904585.py:4: FutureWarning: The frame.append method is deprecated and will be removed from pandas in a future version. Use pandas.concat instead.\n",
      "  final_data = final_data.append(new_row, ignore_index = True)\n",
      "C:\\Users\\samir\\AppData\\Local\\Temp\\ipykernel_11084\\3614904585.py:4: FutureWarning: The frame.append method is deprecated and will be removed from pandas in a future version. Use pandas.concat instead.\n",
      "  final_data = final_data.append(new_row, ignore_index = True)\n"
     ]
    },
    {
     "name": "stdout",
     "output_type": "stream",
     "text": [
      "nnnnnnnnnnnnnnnnnnnnn   Germany\n",
      "condition verified\n",
      "nnnnnnnnnnnnnnnnnnnnn  \n",
      "nnnnnnnnnnnnnnnnnnnnn \n",
      "nnnnnnnnnnnnnnnnnnnnn   Germany\n",
      "nnnnnnnnnnnnnnnnnnnnn    Germany\n",
      "condition verified\n",
      "nnnnnnnnnnnnnnnnnnnnn  \n",
      "nnnnnnnnnnnnnnnnnnnnn \n",
      "nnnnnnnnnnnnnnnnnnnnn   Germany\n"
     ]
    },
    {
     "name": "stderr",
     "output_type": "stream",
     "text": [
      "C:\\Users\\samir\\AppData\\Local\\Temp\\ipykernel_11084\\3614904585.py:4: FutureWarning: The frame.append method is deprecated and will be removed from pandas in a future version. Use pandas.concat instead.\n",
      "  final_data = final_data.append(new_row, ignore_index = True)\n",
      "C:\\Users\\samir\\AppData\\Local\\Temp\\ipykernel_11084\\3614904585.py:4: FutureWarning: The frame.append method is deprecated and will be removed from pandas in a future version. Use pandas.concat instead.\n",
      "  final_data = final_data.append(new_row, ignore_index = True)\n"
     ]
    },
    {
     "name": "stdout",
     "output_type": "stream",
     "text": [
      "nnnnnnnnnnnnnnnnnnnnn    China\n",
      "condition verified\n",
      "nnnnnnnnnnnnnnnnnnnnn    China\n",
      "nnnnnnnnnnnnnnnnnnnnn    China\n",
      "nnnnnnnnnnnnnnnnnnnnn    China\n",
      "nnnnnnnnnnnnnnnnnnnnn    China\n"
     ]
    },
    {
     "name": "stderr",
     "output_type": "stream",
     "text": [
      "C:\\Users\\samir\\AppData\\Local\\Temp\\ipykernel_11084\\3614904585.py:4: FutureWarning: The frame.append method is deprecated and will be removed from pandas in a future version. Use pandas.concat instead.\n",
      "  final_data = final_data.append(new_row, ignore_index = True)\n"
     ]
    },
    {
     "name": "stdout",
     "output_type": "stream",
     "text": [
      "nnnnnnnnnnnnnnnnnnnnn    China\n",
      "condition verified\n",
      "nnnnnnnnnnnnnnnnnnnnn    China\n",
      "nnnnnnnnnnnnnnnnnnnnn    USA\n",
      "condition verified\n",
      "nnnnnnnnnnnnnnnnnnnnn    China\n",
      "nnnnnnnnnnnnnnnnnnnnn    USA\n"
     ]
    },
    {
     "name": "stderr",
     "output_type": "stream",
     "text": [
      "C:\\Users\\samir\\AppData\\Local\\Temp\\ipykernel_11084\\3614904585.py:4: FutureWarning: The frame.append method is deprecated and will be removed from pandas in a future version. Use pandas.concat instead.\n",
      "  final_data = final_data.append(new_row, ignore_index = True)\n",
      "C:\\Users\\samir\\AppData\\Local\\Temp\\ipykernel_11084\\3614904585.py:4: FutureWarning: The frame.append method is deprecated and will be removed from pandas in a future version. Use pandas.concat instead.\n",
      "  final_data = final_data.append(new_row, ignore_index = True)\n"
     ]
    }
   ],
   "source": [
    "for index, row in df.iterrows():\n",
    "    new_rows = addCountry_Row(row)\n",
    "    for new_row in new_rows:\n",
    "        final_data = final_data.append(new_row, ignore_index = True)"
   ]
  },
  {
   "cell_type": "code",
   "execution_count": 47,
   "id": "91c88e20",
   "metadata": {},
   "outputs": [
    {
     "name": "stderr",
     "output_type": "stream",
     "text": [
      "C:\\Users\\samir\\AppData\\Local\\Programs\\Python\\Python311\\Lib\\site-packages\\pandas\\core\\internals\\blocks.py:2323: RuntimeWarning: invalid value encountered in cast\n",
      "  values = values.astype(str)\n"
     ]
    }
   ],
   "source": [
    "final_data.to_csv(\"final_data.csv\")"
   ]
  },
  {
   "cell_type": "code",
   "execution_count": 75,
   "id": "38f3628a",
   "metadata": {},
   "outputs": [
    {
     "data": {
      "text/plain": [
       "10224"
      ]
     },
     "execution_count": 75,
     "metadata": {},
     "output_type": "execute_result"
    }
   ],
   "source": [
    "final_data = pd.read_csv(\"final_data.csv\")\n",
    "final_data.size"
   ]
  },
  {
   "cell_type": "code",
   "execution_count": 76,
   "id": "a0e1cf5d",
   "metadata": {},
   "outputs": [
    {
     "data": {
      "text/plain": [
       "5335"
      ]
     },
     "execution_count": 76,
     "metadata": {},
     "output_type": "execute_result"
    }
   ],
   "source": [
    "df.size"
   ]
  },
  {
   "cell_type": "code",
   "execution_count": 77,
   "id": "5048e533",
   "metadata": {},
   "outputs": [
    {
     "data": {
      "text/html": [
       "<div>\n",
       "<style scoped>\n",
       "    .dataframe tbody tr th:only-of-type {\n",
       "        vertical-align: middle;\n",
       "    }\n",
       "\n",
       "    .dataframe tbody tr th {\n",
       "        vertical-align: top;\n",
       "    }\n",
       "\n",
       "    .dataframe thead th {\n",
       "        text-align: right;\n",
       "    }\n",
       "</style>\n",
       "<table border=\"1\" class=\"dataframe\">\n",
       "  <thead>\n",
       "    <tr style=\"text-align: right;\">\n",
       "      <th></th>\n",
       "      <th>Unnamed: 0</th>\n",
       "      <th>Document Title</th>\n",
       "      <th>Authors</th>\n",
       "      <th>Author Affiliations</th>\n",
       "      <th>Publication Year</th>\n",
       "      <th>Abstract</th>\n",
       "      <th>ISSN</th>\n",
       "      <th>ISBNs</th>\n",
       "      <th>DOI</th>\n",
       "      <th>Article Citation Count</th>\n",
       "      <th>Patent Citation Count</th>\n",
       "      <th>Publisher</th>\n",
       "    </tr>\n",
       "  </thead>\n",
       "  <tbody>\n",
       "    <tr>\n",
       "      <th>0</th>\n",
       "      <td>0</td>\n",
       "      <td>NaN</td>\n",
       "      <td>NaN</td>\n",
       "      <td>NaN</td>\n",
       "      <td>NaN</td>\n",
       "      <td>NaN</td>\n",
       "      <td>NaN</td>\n",
       "      <td>NaN</td>\n",
       "      <td>NaN</td>\n",
       "      <td>NaN</td>\n",
       "      <td>NaN</td>\n",
       "      <td>NaN</td>\n",
       "    </tr>\n",
       "    <tr>\n",
       "      <th>1</th>\n",
       "      <td>1</td>\n",
       "      <td>A Blockchain-based Model Migration Approach fo...</td>\n",
       "      <td>C. Zhang; Y. Xu; H. Elahi; D. Zhang; Y. Tan; J...</td>\n",
       "      <td>China</td>\n",
       "      <td>2022.0</td>\n",
       "      <td>Model migration can accelerate model convergen...</td>\n",
       "      <td>2327-4662</td>\n",
       "      <td>NaN</td>\n",
       "      <td>10.1109/JIOT.2022.3171926</td>\n",
       "      <td>NaN</td>\n",
       "      <td>NaN</td>\n",
       "      <td>IEEE</td>\n",
       "    </tr>\n",
       "    <tr>\n",
       "      <th>2</th>\n",
       "      <td>2</td>\n",
       "      <td>A Blockchain-based Model Migration Approach fo...</td>\n",
       "      <td>C. Zhang; Y. Xu; H. Elahi; D. Zhang; Y. Tan; J...</td>\n",
       "      <td>Sweden</td>\n",
       "      <td>2022.0</td>\n",
       "      <td>Model migration can accelerate model convergen...</td>\n",
       "      <td>2327-4662</td>\n",
       "      <td>NaN</td>\n",
       "      <td>10.1109/JIOT.2022.3171926</td>\n",
       "      <td>NaN</td>\n",
       "      <td>NaN</td>\n",
       "      <td>IEEE</td>\n",
       "    </tr>\n",
       "    <tr>\n",
       "      <th>3</th>\n",
       "      <td>3</td>\n",
       "      <td>BESIFL: Blockchain Empowered Secure and Incent...</td>\n",
       "      <td>Y. Xu; Z. Lu; K. Gai; Q. Duan; J. Lin; J. Wu; ...</td>\n",
       "      <td>China</td>\n",
       "      <td>2021.0</td>\n",
       "      <td>Federated Learning (FL) offers a promising app...</td>\n",
       "      <td>2327-4662</td>\n",
       "      <td>NaN</td>\n",
       "      <td>10.1109/JIOT.2021.3138693</td>\n",
       "      <td>2.0</td>\n",
       "      <td>NaN</td>\n",
       "      <td>IEEE</td>\n",
       "    </tr>\n",
       "    <tr>\n",
       "      <th>4</th>\n",
       "      <td>4</td>\n",
       "      <td>BESIFL: Blockchain Empowered Secure and Incent...</td>\n",
       "      <td>Y. Xu; Z. Lu; K. Gai; Q. Duan; J. Lin; J. Wu; ...</td>\n",
       "      <td>USA</td>\n",
       "      <td>2021.0</td>\n",
       "      <td>Federated Learning (FL) offers a promising app...</td>\n",
       "      <td>2327-4662</td>\n",
       "      <td>NaN</td>\n",
       "      <td>10.1109/JIOT.2021.3138693</td>\n",
       "      <td>2.0</td>\n",
       "      <td>NaN</td>\n",
       "      <td>IEEE</td>\n",
       "    </tr>\n",
       "    <tr>\n",
       "      <th>5</th>\n",
       "      <td>5</td>\n",
       "      <td>BPPS:Blockchain-Enabled Privacy-Preserving Sch...</td>\n",
       "      <td>K. Park; J. Lee; A. K. Das; Y. Park</td>\n",
       "      <td>India</td>\n",
       "      <td>2022.0</td>\n",
       "      <td>With the ongoing revolutionary growth of the i...</td>\n",
       "      <td>1941-0018</td>\n",
       "      <td>NaN</td>\n",
       "      <td>10.1109/TDSC.2022.3163138</td>\n",
       "      <td>3.0</td>\n",
       "      <td>NaN</td>\n",
       "      <td>IEEE</td>\n",
       "    </tr>\n",
       "    <tr>\n",
       "      <th>6</th>\n",
       "      <td>6</td>\n",
       "      <td>TRUCON: Blockchain-Based Trusted Data Sharing ...</td>\n",
       "      <td>M. Yuan; Y. Xu; C. Zhang; Y. Tan; Y. Wang; J. ...</td>\n",
       "      <td>China</td>\n",
       "      <td>2022.0</td>\n",
       "      <td>The Internet of vehicles (IoV) has a substanti...</td>\n",
       "      <td>1558-0016</td>\n",
       "      <td>NaN</td>\n",
       "      <td>10.1109/TITS.2022.3226500</td>\n",
       "      <td>NaN</td>\n",
       "      <td>NaN</td>\n",
       "      <td>IEEE</td>\n",
       "    </tr>\n",
       "    <tr>\n",
       "      <th>7</th>\n",
       "      <td>7</td>\n",
       "      <td>Conditional Anonymous Remote Healthcare Data S...</td>\n",
       "      <td>J. Liu; W. Jiang; R. Sun; A. K. Bashir; M. D. ...</td>\n",
       "      <td>China</td>\n",
       "      <td>2022.0</td>\n",
       "      <td>As an important carrier of healthcare data, El...</td>\n",
       "      <td>2168-2208</td>\n",
       "      <td>NaN</td>\n",
       "      <td>10.1109/JBHI.2022.3183397</td>\n",
       "      <td>NaN</td>\n",
       "      <td>NaN</td>\n",
       "      <td>IEEE</td>\n",
       "    </tr>\n",
       "    <tr>\n",
       "      <th>8</th>\n",
       "      <td>8</td>\n",
       "      <td>Conditional Anonymous Remote Healthcare Data S...</td>\n",
       "      <td>J. Liu; W. Jiang; R. Sun; A. K. Bashir; M. D. ...</td>\n",
       "      <td>China</td>\n",
       "      <td>2022.0</td>\n",
       "      <td>As an important carrier of healthcare data, El...</td>\n",
       "      <td>2168-2208</td>\n",
       "      <td>NaN</td>\n",
       "      <td>10.1109/JBHI.2022.3183397</td>\n",
       "      <td>NaN</td>\n",
       "      <td>NaN</td>\n",
       "      <td>IEEE</td>\n",
       "    </tr>\n",
       "    <tr>\n",
       "      <th>9</th>\n",
       "      <td>9</td>\n",
       "      <td>Conditional Anonymous Remote Healthcare Data S...</td>\n",
       "      <td>J. Liu; W. Jiang; R. Sun; A. K. Bashir; M. D. ...</td>\n",
       "      <td>Japan</td>\n",
       "      <td>2022.0</td>\n",
       "      <td>As an important carrier of healthcare data, El...</td>\n",
       "      <td>2168-2208</td>\n",
       "      <td>NaN</td>\n",
       "      <td>10.1109/JBHI.2022.3183397</td>\n",
       "      <td>NaN</td>\n",
       "      <td>NaN</td>\n",
       "      <td>IEEE</td>\n",
       "    </tr>\n",
       "    <tr>\n",
       "      <th>10</th>\n",
       "      <td>10</td>\n",
       "      <td>Secure and Efficiently Searchable IoT Communic...</td>\n",
       "      <td>H. Zhang; X. Zhang; Z. Guo; H. Wang; D. Cui; Q...</td>\n",
       "      <td>China</td>\n",
       "      <td>2021.0</td>\n",
       "      <td>With the rapid development of the Internet of ...</td>\n",
       "      <td>2327-4662</td>\n",
       "      <td>NaN</td>\n",
       "      <td>10.1109/JIOT.2021.3121482</td>\n",
       "      <td>NaN</td>\n",
       "      <td>NaN</td>\n",
       "      <td>IEEE</td>\n",
       "    </tr>\n",
       "    <tr>\n",
       "      <th>11</th>\n",
       "      <td>11</td>\n",
       "      <td>MSTDB: A Hybrid Storage-Empowered Scalable Sem...</td>\n",
       "      <td>E. Zhou; Z. Hong; Y. Xiao; D. Zhao; Q. Pei; S....</td>\n",
       "      <td>China</td>\n",
       "      <td>2022.0</td>\n",
       "      <td>Blockchain has been regarded as a trusted carr...</td>\n",
       "      <td>1558-2191</td>\n",
       "      <td>NaN</td>\n",
       "      <td>10.1109/TKDE.2022.3220522</td>\n",
       "      <td>NaN</td>\n",
       "      <td>NaN</td>\n",
       "      <td>IEEE</td>\n",
       "    </tr>\n",
       "    <tr>\n",
       "      <th>12</th>\n",
       "      <td>12</td>\n",
       "      <td>MSTDB: A Hybrid Storage-Empowered Scalable Sem...</td>\n",
       "      <td>E. Zhou; Z. Hong; Y. Xiao; D. Zhao; Q. Pei; S....</td>\n",
       "      <td>Norway</td>\n",
       "      <td>2022.0</td>\n",
       "      <td>Blockchain has been regarded as a trusted carr...</td>\n",
       "      <td>1558-2191</td>\n",
       "      <td>NaN</td>\n",
       "      <td>10.1109/TKDE.2022.3220522</td>\n",
       "      <td>NaN</td>\n",
       "      <td>NaN</td>\n",
       "      <td>IEEE</td>\n",
       "    </tr>\n",
       "    <tr>\n",
       "      <th>13</th>\n",
       "      <td>13</td>\n",
       "      <td>Blockchain-enabled Secure and Trusted Federate...</td>\n",
       "      <td>Z. Zhou; Y. Tian; J. Xiong; J. Ma; C. Peng</td>\n",
       "      <td>China</td>\n",
       "      <td>2022.0</td>\n",
       "      <td>Federated learning breaks down data silos and ...</td>\n",
       "      <td>1941-0050</td>\n",
       "      <td>NaN</td>\n",
       "      <td>10.1109/TII.2022.3215192</td>\n",
       "      <td>NaN</td>\n",
       "      <td>NaN</td>\n",
       "      <td>IEEE</td>\n",
       "    </tr>\n",
       "    <tr>\n",
       "      <th>14</th>\n",
       "      <td>14</td>\n",
       "      <td>A Tractable Probabilistic Approach to Analyze ...</td>\n",
       "      <td>A. Hafid; A. S. Hafid; M. Samih</td>\n",
       "      <td>Canada</td>\n",
       "      <td>2022.0</td>\n",
       "      <td>Blockchain like Bitcoin and Ethereum suffer fr...</td>\n",
       "      <td>2168-6750</td>\n",
       "      <td>NaN</td>\n",
       "      <td>10.1109/TETC.2022.3179638</td>\n",
       "      <td>1.0</td>\n",
       "      <td>NaN</td>\n",
       "      <td>IEEE</td>\n",
       "    </tr>\n",
       "    <tr>\n",
       "      <th>15</th>\n",
       "      <td>15</td>\n",
       "      <td>A Tractable Probabilistic Approach to Analyze ...</td>\n",
       "      <td>A. Hafid; A. S. Hafid; M. Samih</td>\n",
       "      <td>Morocco</td>\n",
       "      <td>2022.0</td>\n",
       "      <td>Blockchain like Bitcoin and Ethereum suffer fr...</td>\n",
       "      <td>2168-6750</td>\n",
       "      <td>NaN</td>\n",
       "      <td>10.1109/TETC.2022.3179638</td>\n",
       "      <td>1.0</td>\n",
       "      <td>NaN</td>\n",
       "      <td>IEEE</td>\n",
       "    </tr>\n",
       "    <tr>\n",
       "      <th>16</th>\n",
       "      <td>16</td>\n",
       "      <td>Immutable Log Storage as a Service on Private ...</td>\n",
       "      <td>W. Pourmajidi; L. Zhang; J. Steinbacher; T. Er...</td>\n",
       "      <td>Canada</td>\n",
       "      <td>2021.0</td>\n",
       "      <td>Service Level Agreements (SLA) are employed to...</td>\n",
       "      <td>1939-1374</td>\n",
       "      <td>NaN</td>\n",
       "      <td>10.1109/TSC.2021.3120690</td>\n",
       "      <td>1.0</td>\n",
       "      <td>NaN</td>\n",
       "      <td>IEEE</td>\n",
       "    </tr>\n",
       "    <tr>\n",
       "      <th>17</th>\n",
       "      <td>17</td>\n",
       "      <td>GpDB: A Graph-partition Based Storage Strategy...</td>\n",
       "      <td>Z. Liao; S. Cheng; J. Zhang; W. Wu; J. Wang; P...</td>\n",
       "      <td>China</td>\n",
       "      <td>2022.0</td>\n",
       "      <td>The industrial Internet-of-things (IIoT) has a...</td>\n",
       "      <td>1941-0050</td>\n",
       "      <td>NaN</td>\n",
       "      <td>10.1109/TII.2022.3162201</td>\n",
       "      <td>NaN</td>\n",
       "      <td>NaN</td>\n",
       "      <td>IEEE</td>\n",
       "    </tr>\n",
       "    <tr>\n",
       "      <th>18</th>\n",
       "      <td>18</td>\n",
       "      <td>GpDB: A Graph-partition Based Storage Strategy...</td>\n",
       "      <td>Z. Liao; S. Cheng; J. Zhang; W. Wu; J. Wang; P...</td>\n",
       "      <td>Ireland</td>\n",
       "      <td>2022.0</td>\n",
       "      <td>The industrial Internet-of-things (IIoT) has a...</td>\n",
       "      <td>1941-0050</td>\n",
       "      <td>NaN</td>\n",
       "      <td>10.1109/TII.2022.3162201</td>\n",
       "      <td>NaN</td>\n",
       "      <td>NaN</td>\n",
       "      <td>IEEE</td>\n",
       "    </tr>\n",
       "    <tr>\n",
       "      <th>19</th>\n",
       "      <td>19</td>\n",
       "      <td>DS2PM:A Data Sharing Privacy Protection Model ...</td>\n",
       "      <td>Y. Chen; J. Li; F. Wang; K. Yue; Y. Li; B. Xin...</td>\n",
       "      <td>China</td>\n",
       "      <td>2021.0</td>\n",
       "      <td>With the development of big data and blockchai...</td>\n",
       "      <td>2327-4662</td>\n",
       "      <td>NaN</td>\n",
       "      <td>10.1109/JIOT.2021.3134755</td>\n",
       "      <td>2.0</td>\n",
       "      <td>NaN</td>\n",
       "      <td>IEEE</td>\n",
       "    </tr>\n",
       "    <tr>\n",
       "      <th>20</th>\n",
       "      <td>20</td>\n",
       "      <td>Protecting Vaccine Safety: An Improved, Blockc...</td>\n",
       "      <td>L. Cui; Z. Xiao; F. Chen; H. Dai; J. Li</td>\n",
       "      <td>China</td>\n",
       "      <td>2022.0</td>\n",
       "      <td>In recent years, vaccine safety incidents have...</td>\n",
       "      <td>2168-2275</td>\n",
       "      <td>NaN</td>\n",
       "      <td>10.1109/TCYB.2022.3163743</td>\n",
       "      <td>NaN</td>\n",
       "      <td>NaN</td>\n",
       "      <td>IEEE</td>\n",
       "    </tr>\n",
       "    <tr>\n",
       "      <th>21</th>\n",
       "      <td>21</td>\n",
       "      <td>Cooperative Task Offloading and Block Mining i...</td>\n",
       "      <td>D. Nguyen; M. Ding; P. Pathirana; A. Senevirat...</td>\n",
       "      <td>Australia</td>\n",
       "      <td>2021.0</td>\n",
       "      <td>The convergence of mobile edge computing (MEC)...</td>\n",
       "      <td>1558-0660</td>\n",
       "      <td>NaN</td>\n",
       "      <td>10.1109/TMC.2021.3120050</td>\n",
       "      <td>4.0</td>\n",
       "      <td>NaN</td>\n",
       "      <td>IEEE</td>\n",
       "    </tr>\n",
       "    <tr>\n",
       "      <th>22</th>\n",
       "      <td>22</td>\n",
       "      <td>Cooperative Task Offloading and Block Mining i...</td>\n",
       "      <td>D. Nguyen; M. Ding; P. Pathirana; A. Senevirat...</td>\n",
       "      <td>China</td>\n",
       "      <td>2021.0</td>\n",
       "      <td>The convergence of mobile edge computing (MEC)...</td>\n",
       "      <td>1558-0660</td>\n",
       "      <td>NaN</td>\n",
       "      <td>10.1109/TMC.2021.3120050</td>\n",
       "      <td>4.0</td>\n",
       "      <td>NaN</td>\n",
       "      <td>IEEE</td>\n",
       "    </tr>\n",
       "    <tr>\n",
       "      <th>23</th>\n",
       "      <td>23</td>\n",
       "      <td>Blockchain and Federated Edge Learning for Pri...</td>\n",
       "      <td>Q. Hu; Z. Wang; M. Xu; X. Cheng</td>\n",
       "      <td>USA</td>\n",
       "      <td>2021.0</td>\n",
       "      <td>Mobile crowdsensing (MCS) counting on the mobi...</td>\n",
       "      <td>2327-4662</td>\n",
       "      <td>NaN</td>\n",
       "      <td>10.1109/JIOT.2021.3128155</td>\n",
       "      <td>3.0</td>\n",
       "      <td>NaN</td>\n",
       "      <td>IEEE</td>\n",
       "    </tr>\n",
       "    <tr>\n",
       "      <th>24</th>\n",
       "      <td>24</td>\n",
       "      <td>Blockchain and Federated Edge Learning for Pri...</td>\n",
       "      <td>Q. Hu; Z. Wang; M. Xu; X. Cheng</td>\n",
       "      <td>China</td>\n",
       "      <td>2021.0</td>\n",
       "      <td>Mobile crowdsensing (MCS) counting on the mobi...</td>\n",
       "      <td>2327-4662</td>\n",
       "      <td>NaN</td>\n",
       "      <td>10.1109/JIOT.2021.3128155</td>\n",
       "      <td>3.0</td>\n",
       "      <td>NaN</td>\n",
       "      <td>IEEE</td>\n",
       "    </tr>\n",
       "    <tr>\n",
       "      <th>25</th>\n",
       "      <td>25</td>\n",
       "      <td>A Blockchain Framework in Post-Quantum Decentr...</td>\n",
       "      <td>R. Saha; G. Kumar; T. Devgun; W. Buchanan; R. ...</td>\n",
       "      <td>India</td>\n",
       "      <td>2021.0</td>\n",
       "      <td>The decentralization and transparency have pro...</td>\n",
       "      <td>1939-1374</td>\n",
       "      <td>NaN</td>\n",
       "      <td>10.1109/TSC.2021.3116896</td>\n",
       "      <td>2.0</td>\n",
       "      <td>NaN</td>\n",
       "      <td>IEEE</td>\n",
       "    </tr>\n",
       "    <tr>\n",
       "      <th>26</th>\n",
       "      <td>26</td>\n",
       "      <td>A Blockchain Framework in Post-Quantum Decentr...</td>\n",
       "      <td>R. Saha; G. Kumar; T. Devgun; W. Buchanan; R. ...</td>\n",
       "      <td>Ireland</td>\n",
       "      <td>2021.0</td>\n",
       "      <td>The decentralization and transparency have pro...</td>\n",
       "      <td>1939-1374</td>\n",
       "      <td>NaN</td>\n",
       "      <td>10.1109/TSC.2021.3116896</td>\n",
       "      <td>2.0</td>\n",
       "      <td>NaN</td>\n",
       "      <td>IEEE</td>\n",
       "    </tr>\n",
       "    <tr>\n",
       "      <th>27</th>\n",
       "      <td>27</td>\n",
       "      <td>A Blockchain Framework in Post-Quantum Decentr...</td>\n",
       "      <td>R. Saha; G. Kumar; T. Devgun; W. Buchanan; R. ...</td>\n",
       "      <td>Australia</td>\n",
       "      <td>2021.0</td>\n",
       "      <td>The decentralization and transparency have pro...</td>\n",
       "      <td>1939-1374</td>\n",
       "      <td>NaN</td>\n",
       "      <td>10.1109/TSC.2021.3116896</td>\n",
       "      <td>2.0</td>\n",
       "      <td>NaN</td>\n",
       "      <td>IEEE</td>\n",
       "    </tr>\n",
       "    <tr>\n",
       "      <th>28</th>\n",
       "      <td>28</td>\n",
       "      <td>A Blockchain Framework in Post-Quantum Decentr...</td>\n",
       "      <td>R. Saha; G. Kumar; T. Devgun; W. Buchanan; R. ...</td>\n",
       "      <td>Brazil</td>\n",
       "      <td>2021.0</td>\n",
       "      <td>The decentralization and transparency have pro...</td>\n",
       "      <td>1939-1374</td>\n",
       "      <td>NaN</td>\n",
       "      <td>10.1109/TSC.2021.3116896</td>\n",
       "      <td>2.0</td>\n",
       "      <td>NaN</td>\n",
       "      <td>IEEE</td>\n",
       "    </tr>\n",
       "    <tr>\n",
       "      <th>29</th>\n",
       "      <td>29</td>\n",
       "      <td>BLOWN: A Blockchain Protocol for Single-Hop Wi...</td>\n",
       "      <td>M. Xu; F. Zhao; Y. Zou; C. Liu; X. Cheng; F. D...</td>\n",
       "      <td>China</td>\n",
       "      <td>2022.0</td>\n",
       "      <td>Known as a distributed ledger technology (DLT)...</td>\n",
       "      <td>1558-0660</td>\n",
       "      <td>NaN</td>\n",
       "      <td>10.1109/TMC.2022.3162117</td>\n",
       "      <td>1.0</td>\n",
       "      <td>NaN</td>\n",
       "      <td>IEEE</td>\n",
       "    </tr>\n",
       "    <tr>\n",
       "      <th>30</th>\n",
       "      <td>30</td>\n",
       "      <td>BLOWN: A Blockchain Protocol for Single-Hop Wi...</td>\n",
       "      <td>M. Xu; F. Zhao; Y. Zou; C. Liu; X. Cheng; F. D...</td>\n",
       "      <td>China</td>\n",
       "      <td>2022.0</td>\n",
       "      <td>Known as a distributed ledger technology (DLT)...</td>\n",
       "      <td>1558-0660</td>\n",
       "      <td>NaN</td>\n",
       "      <td>10.1109/TMC.2022.3162117</td>\n",
       "      <td>1.0</td>\n",
       "      <td>NaN</td>\n",
       "      <td>IEEE</td>\n",
       "    </tr>\n",
       "    <tr>\n",
       "      <th>31</th>\n",
       "      <td>31</td>\n",
       "      <td>BLOWN: A Blockchain Protocol for Single-Hop Wi...</td>\n",
       "      <td>M. Xu; F. Zhao; Y. Zou; C. Liu; X. Cheng; F. D...</td>\n",
       "      <td>Germany</td>\n",
       "      <td>2022.0</td>\n",
       "      <td>Known as a distributed ledger technology (DLT)...</td>\n",
       "      <td>1558-0660</td>\n",
       "      <td>NaN</td>\n",
       "      <td>10.1109/TMC.2022.3162117</td>\n",
       "      <td>1.0</td>\n",
       "      <td>NaN</td>\n",
       "      <td>IEEE</td>\n",
       "    </tr>\n",
       "    <tr>\n",
       "      <th>32</th>\n",
       "      <td>32</td>\n",
       "      <td>HyperMaze: Towards Privacy-Preserving and Scal...</td>\n",
       "      <td>W. Liu; Z. Wan; J. Shao; Y. Yu</td>\n",
       "      <td>China</td>\n",
       "      <td>2021.0</td>\n",
       "      <td>Blockchain systems face two emergent problems,...</td>\n",
       "      <td>1941-0018</td>\n",
       "      <td>NaN</td>\n",
       "      <td>10.1109/TDSC.2021.3133840</td>\n",
       "      <td>NaN</td>\n",
       "      <td>NaN</td>\n",
       "      <td>IEEE</td>\n",
       "    </tr>\n",
       "    <tr>\n",
       "      <th>33</th>\n",
       "      <td>33</td>\n",
       "      <td>Evolved PoW: Integrating the Matrix Computatio...</td>\n",
       "      <td>Y. Wei; Z. An; S. Leng; K. Yang</td>\n",
       "      <td>China</td>\n",
       "      <td>2022.0</td>\n",
       "      <td>Machine learning is an essential technology pr...</td>\n",
       "      <td>2327-4662</td>\n",
       "      <td>NaN</td>\n",
       "      <td>10.1109/JIOT.2022.3165973</td>\n",
       "      <td>NaN</td>\n",
       "      <td>NaN</td>\n",
       "      <td>IEEE</td>\n",
       "    </tr>\n",
       "    <tr>\n",
       "      <th>34</th>\n",
       "      <td>34</td>\n",
       "      <td>Evolved PoW: Integrating the Matrix Computatio...</td>\n",
       "      <td>Y. Wei; Z. An; S. Leng; K. Yang</td>\n",
       "      <td>UK</td>\n",
       "      <td>2022.0</td>\n",
       "      <td>Machine learning is an essential technology pr...</td>\n",
       "      <td>2327-4662</td>\n",
       "      <td>NaN</td>\n",
       "      <td>10.1109/JIOT.2022.3165973</td>\n",
       "      <td>NaN</td>\n",
       "      <td>NaN</td>\n",
       "      <td>IEEE</td>\n",
       "    </tr>\n",
       "    <tr>\n",
       "      <th>35</th>\n",
       "      <td>35</td>\n",
       "      <td>Toward On-Device Federated Learning: A Direct ...</td>\n",
       "      <td>M. Cao; L. Zhang; B. Cao</td>\n",
       "      <td>China</td>\n",
       "      <td>2021.0</td>\n",
       "      <td>Due to the distributed characteristics of fede...</td>\n",
       "      <td>2162-2388</td>\n",
       "      <td>NaN</td>\n",
       "      <td>10.1109/TNNLS.2021.3105810</td>\n",
       "      <td>5.0</td>\n",
       "      <td>NaN</td>\n",
       "      <td>IEEE</td>\n",
       "    </tr>\n",
       "    <tr>\n",
       "      <th>36</th>\n",
       "      <td>36</td>\n",
       "      <td>Resource Management and Pricing for Cloud Comp...</td>\n",
       "      <td>W. Junfei; J. Li; Z. Gao; Z. Han; C. Qiu; X. Wang</td>\n",
       "      <td>China</td>\n",
       "      <td>2021.0</td>\n",
       "      <td>In a public blockchain system applying Proof o...</td>\n",
       "      <td>2168-7161</td>\n",
       "      <td>NaN</td>\n",
       "      <td>10.1109/TCC.2021.3081580</td>\n",
       "      <td>3.0</td>\n",
       "      <td>NaN</td>\n",
       "      <td>IEEE</td>\n",
       "    </tr>\n",
       "    <tr>\n",
       "      <th>37</th>\n",
       "      <td>37</td>\n",
       "      <td>DRL-Based V2V Computation Offloading for Block...</td>\n",
       "      <td>J. Shi; J. Du; Y. Shen; J. Wang; J. Yuan; Z. Han</td>\n",
       "      <td>China</td>\n",
       "      <td>2022.0</td>\n",
       "      <td>Vehicular edge computing (VEC) is an effective...</td>\n",
       "      <td>1558-0660</td>\n",
       "      <td>NaN</td>\n",
       "      <td>10.1109/TMC.2022.3153346</td>\n",
       "      <td>2.0</td>\n",
       "      <td>NaN</td>\n",
       "      <td>IEEE</td>\n",
       "    </tr>\n",
       "    <tr>\n",
       "      <th>38</th>\n",
       "      <td>38</td>\n",
       "      <td>DRL-Based V2V Computation Offloading for Block...</td>\n",
       "      <td>J. Shi; J. Du; Y. Shen; J. Wang; J. Yuan; Z. Han</td>\n",
       "      <td>China</td>\n",
       "      <td>2022.0</td>\n",
       "      <td>Vehicular edge computing (VEC) is an effective...</td>\n",
       "      <td>1558-0660</td>\n",
       "      <td>NaN</td>\n",
       "      <td>10.1109/TMC.2022.3153346</td>\n",
       "      <td>2.0</td>\n",
       "      <td>NaN</td>\n",
       "      <td>IEEE</td>\n",
       "    </tr>\n",
       "    <tr>\n",
       "      <th>39</th>\n",
       "      <td>39</td>\n",
       "      <td>Pricing and Budget Allocation for IoT Blockcha...</td>\n",
       "      <td>X. Ding; J. Guo; D. Li; W. Wu</td>\n",
       "      <td>China</td>\n",
       "      <td>2022.0</td>\n",
       "      <td>Attracted by the inherent security and privacy...</td>\n",
       "      <td>2168-7161</td>\n",
       "      <td>NaN</td>\n",
       "      <td>10.1109/TCC.2022.3150766</td>\n",
       "      <td>1.0</td>\n",
       "      <td>NaN</td>\n",
       "      <td>IEEE</td>\n",
       "    </tr>\n",
       "  </tbody>\n",
       "</table>\n",
       "</div>"
      ],
      "text/plain": [
       "    Unnamed: 0                                     Document Title  \\\n",
       "0            0                                                NaN   \n",
       "1            1  A Blockchain-based Model Migration Approach fo...   \n",
       "2            2  A Blockchain-based Model Migration Approach fo...   \n",
       "3            3  BESIFL: Blockchain Empowered Secure and Incent...   \n",
       "4            4  BESIFL: Blockchain Empowered Secure and Incent...   \n",
       "5            5  BPPS:Blockchain-Enabled Privacy-Preserving Sch...   \n",
       "6            6  TRUCON: Blockchain-Based Trusted Data Sharing ...   \n",
       "7            7  Conditional Anonymous Remote Healthcare Data S...   \n",
       "8            8  Conditional Anonymous Remote Healthcare Data S...   \n",
       "9            9  Conditional Anonymous Remote Healthcare Data S...   \n",
       "10          10  Secure and Efficiently Searchable IoT Communic...   \n",
       "11          11  MSTDB: A Hybrid Storage-Empowered Scalable Sem...   \n",
       "12          12  MSTDB: A Hybrid Storage-Empowered Scalable Sem...   \n",
       "13          13  Blockchain-enabled Secure and Trusted Federate...   \n",
       "14          14  A Tractable Probabilistic Approach to Analyze ...   \n",
       "15          15  A Tractable Probabilistic Approach to Analyze ...   \n",
       "16          16  Immutable Log Storage as a Service on Private ...   \n",
       "17          17  GpDB: A Graph-partition Based Storage Strategy...   \n",
       "18          18  GpDB: A Graph-partition Based Storage Strategy...   \n",
       "19          19  DS2PM:A Data Sharing Privacy Protection Model ...   \n",
       "20          20  Protecting Vaccine Safety: An Improved, Blockc...   \n",
       "21          21  Cooperative Task Offloading and Block Mining i...   \n",
       "22          22  Cooperative Task Offloading and Block Mining i...   \n",
       "23          23  Blockchain and Federated Edge Learning for Pri...   \n",
       "24          24  Blockchain and Federated Edge Learning for Pri...   \n",
       "25          25  A Blockchain Framework in Post-Quantum Decentr...   \n",
       "26          26  A Blockchain Framework in Post-Quantum Decentr...   \n",
       "27          27  A Blockchain Framework in Post-Quantum Decentr...   \n",
       "28          28  A Blockchain Framework in Post-Quantum Decentr...   \n",
       "29          29  BLOWN: A Blockchain Protocol for Single-Hop Wi...   \n",
       "30          30  BLOWN: A Blockchain Protocol for Single-Hop Wi...   \n",
       "31          31  BLOWN: A Blockchain Protocol for Single-Hop Wi...   \n",
       "32          32  HyperMaze: Towards Privacy-Preserving and Scal...   \n",
       "33          33  Evolved PoW: Integrating the Matrix Computatio...   \n",
       "34          34  Evolved PoW: Integrating the Matrix Computatio...   \n",
       "35          35  Toward On-Device Federated Learning: A Direct ...   \n",
       "36          36  Resource Management and Pricing for Cloud Comp...   \n",
       "37          37  DRL-Based V2V Computation Offloading for Block...   \n",
       "38          38  DRL-Based V2V Computation Offloading for Block...   \n",
       "39          39  Pricing and Budget Allocation for IoT Blockcha...   \n",
       "\n",
       "                                              Authors Author Affiliations  \\\n",
       "0                                                 NaN                 NaN   \n",
       "1   C. Zhang; Y. Xu; H. Elahi; D. Zhang; Y. Tan; J...               China   \n",
       "2   C. Zhang; Y. Xu; H. Elahi; D. Zhang; Y. Tan; J...              Sweden   \n",
       "3   Y. Xu; Z. Lu; K. Gai; Q. Duan; J. Lin; J. Wu; ...               China   \n",
       "4   Y. Xu; Z. Lu; K. Gai; Q. Duan; J. Lin; J. Wu; ...                 USA   \n",
       "5                 K. Park; J. Lee; A. K. Das; Y. Park               India   \n",
       "6   M. Yuan; Y. Xu; C. Zhang; Y. Tan; Y. Wang; J. ...               China   \n",
       "7   J. Liu; W. Jiang; R. Sun; A. K. Bashir; M. D. ...               China   \n",
       "8   J. Liu; W. Jiang; R. Sun; A. K. Bashir; M. D. ...               China   \n",
       "9   J. Liu; W. Jiang; R. Sun; A. K. Bashir; M. D. ...               Japan   \n",
       "10  H. Zhang; X. Zhang; Z. Guo; H. Wang; D. Cui; Q...               China   \n",
       "11  E. Zhou; Z. Hong; Y. Xiao; D. Zhao; Q. Pei; S....               China   \n",
       "12  E. Zhou; Z. Hong; Y. Xiao; D. Zhao; Q. Pei; S....              Norway   \n",
       "13         Z. Zhou; Y. Tian; J. Xiong; J. Ma; C. Peng               China   \n",
       "14                    A. Hafid; A. S. Hafid; M. Samih              Canada   \n",
       "15                    A. Hafid; A. S. Hafid; M. Samih             Morocco   \n",
       "16  W. Pourmajidi; L. Zhang; J. Steinbacher; T. Er...              Canada   \n",
       "17  Z. Liao; S. Cheng; J. Zhang; W. Wu; J. Wang; P...               China   \n",
       "18  Z. Liao; S. Cheng; J. Zhang; W. Wu; J. Wang; P...             Ireland   \n",
       "19  Y. Chen; J. Li; F. Wang; K. Yue; Y. Li; B. Xin...               China   \n",
       "20            L. Cui; Z. Xiao; F. Chen; H. Dai; J. Li               China   \n",
       "21  D. Nguyen; M. Ding; P. Pathirana; A. Senevirat...           Australia   \n",
       "22  D. Nguyen; M. Ding; P. Pathirana; A. Senevirat...               China   \n",
       "23                    Q. Hu; Z. Wang; M. Xu; X. Cheng                 USA   \n",
       "24                    Q. Hu; Z. Wang; M. Xu; X. Cheng               China   \n",
       "25  R. Saha; G. Kumar; T. Devgun; W. Buchanan; R. ...               India   \n",
       "26  R. Saha; G. Kumar; T. Devgun; W. Buchanan; R. ...             Ireland   \n",
       "27  R. Saha; G. Kumar; T. Devgun; W. Buchanan; R. ...           Australia   \n",
       "28  R. Saha; G. Kumar; T. Devgun; W. Buchanan; R. ...              Brazil   \n",
       "29  M. Xu; F. Zhao; Y. Zou; C. Liu; X. Cheng; F. D...               China   \n",
       "30  M. Xu; F. Zhao; Y. Zou; C. Liu; X. Cheng; F. D...               China   \n",
       "31  M. Xu; F. Zhao; Y. Zou; C. Liu; X. Cheng; F. D...             Germany   \n",
       "32                     W. Liu; Z. Wan; J. Shao; Y. Yu               China   \n",
       "33                    Y. Wei; Z. An; S. Leng; K. Yang               China   \n",
       "34                    Y. Wei; Z. An; S. Leng; K. Yang                  UK   \n",
       "35                           M. Cao; L. Zhang; B. Cao               China   \n",
       "36  W. Junfei; J. Li; Z. Gao; Z. Han; C. Qiu; X. Wang               China   \n",
       "37   J. Shi; J. Du; Y. Shen; J. Wang; J. Yuan; Z. Han               China   \n",
       "38   J. Shi; J. Du; Y. Shen; J. Wang; J. Yuan; Z. Han               China   \n",
       "39                      X. Ding; J. Guo; D. Li; W. Wu               China   \n",
       "\n",
       "    Publication Year                                           Abstract  \\\n",
       "0                NaN                                                NaN   \n",
       "1             2022.0  Model migration can accelerate model convergen...   \n",
       "2             2022.0  Model migration can accelerate model convergen...   \n",
       "3             2021.0  Federated Learning (FL) offers a promising app...   \n",
       "4             2021.0  Federated Learning (FL) offers a promising app...   \n",
       "5             2022.0  With the ongoing revolutionary growth of the i...   \n",
       "6             2022.0  The Internet of vehicles (IoV) has a substanti...   \n",
       "7             2022.0  As an important carrier of healthcare data, El...   \n",
       "8             2022.0  As an important carrier of healthcare data, El...   \n",
       "9             2022.0  As an important carrier of healthcare data, El...   \n",
       "10            2021.0  With the rapid development of the Internet of ...   \n",
       "11            2022.0  Blockchain has been regarded as a trusted carr...   \n",
       "12            2022.0  Blockchain has been regarded as a trusted carr...   \n",
       "13            2022.0  Federated learning breaks down data silos and ...   \n",
       "14            2022.0  Blockchain like Bitcoin and Ethereum suffer fr...   \n",
       "15            2022.0  Blockchain like Bitcoin and Ethereum suffer fr...   \n",
       "16            2021.0  Service Level Agreements (SLA) are employed to...   \n",
       "17            2022.0  The industrial Internet-of-things (IIoT) has a...   \n",
       "18            2022.0  The industrial Internet-of-things (IIoT) has a...   \n",
       "19            2021.0  With the development of big data and blockchai...   \n",
       "20            2022.0  In recent years, vaccine safety incidents have...   \n",
       "21            2021.0  The convergence of mobile edge computing (MEC)...   \n",
       "22            2021.0  The convergence of mobile edge computing (MEC)...   \n",
       "23            2021.0  Mobile crowdsensing (MCS) counting on the mobi...   \n",
       "24            2021.0  Mobile crowdsensing (MCS) counting on the mobi...   \n",
       "25            2021.0  The decentralization and transparency have pro...   \n",
       "26            2021.0  The decentralization and transparency have pro...   \n",
       "27            2021.0  The decentralization and transparency have pro...   \n",
       "28            2021.0  The decentralization and transparency have pro...   \n",
       "29            2022.0  Known as a distributed ledger technology (DLT)...   \n",
       "30            2022.0  Known as a distributed ledger technology (DLT)...   \n",
       "31            2022.0  Known as a distributed ledger technology (DLT)...   \n",
       "32            2021.0  Blockchain systems face two emergent problems,...   \n",
       "33            2022.0  Machine learning is an essential technology pr...   \n",
       "34            2022.0  Machine learning is an essential technology pr...   \n",
       "35            2021.0  Due to the distributed characteristics of fede...   \n",
       "36            2021.0  In a public blockchain system applying Proof o...   \n",
       "37            2022.0  Vehicular edge computing (VEC) is an effective...   \n",
       "38            2022.0  Vehicular edge computing (VEC) is an effective...   \n",
       "39            2022.0  Attracted by the inherent security and privacy...   \n",
       "\n",
       "         ISSN  ISBNs                         DOI  Article Citation Count  \\\n",
       "0         NaN    NaN                         NaN                     NaN   \n",
       "1   2327-4662    NaN   10.1109/JIOT.2022.3171926                     NaN   \n",
       "2   2327-4662    NaN   10.1109/JIOT.2022.3171926                     NaN   \n",
       "3   2327-4662    NaN   10.1109/JIOT.2021.3138693                     2.0   \n",
       "4   2327-4662    NaN   10.1109/JIOT.2021.3138693                     2.0   \n",
       "5   1941-0018    NaN   10.1109/TDSC.2022.3163138                     3.0   \n",
       "6   1558-0016    NaN   10.1109/TITS.2022.3226500                     NaN   \n",
       "7   2168-2208    NaN   10.1109/JBHI.2022.3183397                     NaN   \n",
       "8   2168-2208    NaN   10.1109/JBHI.2022.3183397                     NaN   \n",
       "9   2168-2208    NaN   10.1109/JBHI.2022.3183397                     NaN   \n",
       "10  2327-4662    NaN   10.1109/JIOT.2021.3121482                     NaN   \n",
       "11  1558-2191    NaN   10.1109/TKDE.2022.3220522                     NaN   \n",
       "12  1558-2191    NaN   10.1109/TKDE.2022.3220522                     NaN   \n",
       "13  1941-0050    NaN    10.1109/TII.2022.3215192                     NaN   \n",
       "14  2168-6750    NaN   10.1109/TETC.2022.3179638                     1.0   \n",
       "15  2168-6750    NaN   10.1109/TETC.2022.3179638                     1.0   \n",
       "16  1939-1374    NaN    10.1109/TSC.2021.3120690                     1.0   \n",
       "17  1941-0050    NaN    10.1109/TII.2022.3162201                     NaN   \n",
       "18  1941-0050    NaN    10.1109/TII.2022.3162201                     NaN   \n",
       "19  2327-4662    NaN   10.1109/JIOT.2021.3134755                     2.0   \n",
       "20  2168-2275    NaN   10.1109/TCYB.2022.3163743                     NaN   \n",
       "21  1558-0660    NaN    10.1109/TMC.2021.3120050                     4.0   \n",
       "22  1558-0660    NaN    10.1109/TMC.2021.3120050                     4.0   \n",
       "23  2327-4662    NaN   10.1109/JIOT.2021.3128155                     3.0   \n",
       "24  2327-4662    NaN   10.1109/JIOT.2021.3128155                     3.0   \n",
       "25  1939-1374    NaN    10.1109/TSC.2021.3116896                     2.0   \n",
       "26  1939-1374    NaN    10.1109/TSC.2021.3116896                     2.0   \n",
       "27  1939-1374    NaN    10.1109/TSC.2021.3116896                     2.0   \n",
       "28  1939-1374    NaN    10.1109/TSC.2021.3116896                     2.0   \n",
       "29  1558-0660    NaN    10.1109/TMC.2022.3162117                     1.0   \n",
       "30  1558-0660    NaN    10.1109/TMC.2022.3162117                     1.0   \n",
       "31  1558-0660    NaN    10.1109/TMC.2022.3162117                     1.0   \n",
       "32  1941-0018    NaN   10.1109/TDSC.2021.3133840                     NaN   \n",
       "33  2327-4662    NaN   10.1109/JIOT.2022.3165973                     NaN   \n",
       "34  2327-4662    NaN   10.1109/JIOT.2022.3165973                     NaN   \n",
       "35  2162-2388    NaN  10.1109/TNNLS.2021.3105810                     5.0   \n",
       "36  2168-7161    NaN    10.1109/TCC.2021.3081580                     3.0   \n",
       "37  1558-0660    NaN    10.1109/TMC.2022.3153346                     2.0   \n",
       "38  1558-0660    NaN    10.1109/TMC.2022.3153346                     2.0   \n",
       "39  2168-7161    NaN    10.1109/TCC.2022.3150766                     1.0   \n",
       "\n",
       "    Patent Citation Count Publisher  \n",
       "0                     NaN       NaN  \n",
       "1                     NaN      IEEE  \n",
       "2                     NaN      IEEE  \n",
       "3                     NaN      IEEE  \n",
       "4                     NaN      IEEE  \n",
       "5                     NaN      IEEE  \n",
       "6                     NaN      IEEE  \n",
       "7                     NaN      IEEE  \n",
       "8                     NaN      IEEE  \n",
       "9                     NaN      IEEE  \n",
       "10                    NaN      IEEE  \n",
       "11                    NaN      IEEE  \n",
       "12                    NaN      IEEE  \n",
       "13                    NaN      IEEE  \n",
       "14                    NaN      IEEE  \n",
       "15                    NaN      IEEE  \n",
       "16                    NaN      IEEE  \n",
       "17                    NaN      IEEE  \n",
       "18                    NaN      IEEE  \n",
       "19                    NaN      IEEE  \n",
       "20                    NaN      IEEE  \n",
       "21                    NaN      IEEE  \n",
       "22                    NaN      IEEE  \n",
       "23                    NaN      IEEE  \n",
       "24                    NaN      IEEE  \n",
       "25                    NaN      IEEE  \n",
       "26                    NaN      IEEE  \n",
       "27                    NaN      IEEE  \n",
       "28                    NaN      IEEE  \n",
       "29                    NaN      IEEE  \n",
       "30                    NaN      IEEE  \n",
       "31                    NaN      IEEE  \n",
       "32                    NaN      IEEE  \n",
       "33                    NaN      IEEE  \n",
       "34                    NaN      IEEE  \n",
       "35                    NaN      IEEE  \n",
       "36                    NaN      IEEE  \n",
       "37                    NaN      IEEE  \n",
       "38                    NaN      IEEE  \n",
       "39                    NaN      IEEE  "
      ]
     },
     "execution_count": 77,
     "metadata": {},
     "output_type": "execute_result"
    }
   ],
   "source": [
    "final_data.head(40)"
   ]
  },
  {
   "cell_type": "markdown",
   "id": "15f3afa8",
   "metadata": {},
   "source": [
    "## Remove duplicates"
   ]
  },
  {
   "cell_type": "code",
   "execution_count": 78,
   "id": "ba06c240",
   "metadata": {},
   "outputs": [
    {
     "data": {
      "text/plain": [
       "9552"
      ]
     },
     "execution_count": 78,
     "metadata": {},
     "output_type": "execute_result"
    }
   ],
   "source": [
    "final_data.drop_duplicates(subset=[\"Document Title\",\"Author Affiliations\"],inplace=True)\n",
    "final_data.size"
   ]
  },
  {
   "cell_type": "code",
   "execution_count": 79,
   "id": "c651287d",
   "metadata": {},
   "outputs": [
    {
     "data": {
      "text/html": [
       "<div>\n",
       "<style scoped>\n",
       "    .dataframe tbody tr th:only-of-type {\n",
       "        vertical-align: middle;\n",
       "    }\n",
       "\n",
       "    .dataframe tbody tr th {\n",
       "        vertical-align: top;\n",
       "    }\n",
       "\n",
       "    .dataframe thead th {\n",
       "        text-align: right;\n",
       "    }\n",
       "</style>\n",
       "<table border=\"1\" class=\"dataframe\">\n",
       "  <thead>\n",
       "    <tr style=\"text-align: right;\">\n",
       "      <th></th>\n",
       "      <th>Unnamed: 0</th>\n",
       "      <th>Document Title</th>\n",
       "      <th>Authors</th>\n",
       "      <th>Author Affiliations</th>\n",
       "      <th>Publication Year</th>\n",
       "      <th>Abstract</th>\n",
       "      <th>ISSN</th>\n",
       "      <th>ISBNs</th>\n",
       "      <th>DOI</th>\n",
       "      <th>Article Citation Count</th>\n",
       "      <th>Patent Citation Count</th>\n",
       "      <th>Publisher</th>\n",
       "    </tr>\n",
       "  </thead>\n",
       "  <tbody>\n",
       "    <tr>\n",
       "      <th>0</th>\n",
       "      <td>0</td>\n",
       "      <td>NaN</td>\n",
       "      <td>NaN</td>\n",
       "      <td>NaN</td>\n",
       "      <td>NaN</td>\n",
       "      <td>NaN</td>\n",
       "      <td>NaN</td>\n",
       "      <td>NaN</td>\n",
       "      <td>NaN</td>\n",
       "      <td>NaN</td>\n",
       "      <td>NaN</td>\n",
       "      <td>NaN</td>\n",
       "    </tr>\n",
       "    <tr>\n",
       "      <th>1</th>\n",
       "      <td>1</td>\n",
       "      <td>A Blockchain-based Model Migration Approach fo...</td>\n",
       "      <td>C. Zhang; Y. Xu; H. Elahi; D. Zhang; Y. Tan; J...</td>\n",
       "      <td>China</td>\n",
       "      <td>2022.0</td>\n",
       "      <td>Model migration can accelerate model convergen...</td>\n",
       "      <td>2327-4662</td>\n",
       "      <td>NaN</td>\n",
       "      <td>10.1109/JIOT.2022.3171926</td>\n",
       "      <td>NaN</td>\n",
       "      <td>NaN</td>\n",
       "      <td>IEEE</td>\n",
       "    </tr>\n",
       "    <tr>\n",
       "      <th>2</th>\n",
       "      <td>2</td>\n",
       "      <td>A Blockchain-based Model Migration Approach fo...</td>\n",
       "      <td>C. Zhang; Y. Xu; H. Elahi; D. Zhang; Y. Tan; J...</td>\n",
       "      <td>Sweden</td>\n",
       "      <td>2022.0</td>\n",
       "      <td>Model migration can accelerate model convergen...</td>\n",
       "      <td>2327-4662</td>\n",
       "      <td>NaN</td>\n",
       "      <td>10.1109/JIOT.2022.3171926</td>\n",
       "      <td>NaN</td>\n",
       "      <td>NaN</td>\n",
       "      <td>IEEE</td>\n",
       "    </tr>\n",
       "    <tr>\n",
       "      <th>3</th>\n",
       "      <td>3</td>\n",
       "      <td>BESIFL: Blockchain Empowered Secure and Incent...</td>\n",
       "      <td>Y. Xu; Z. Lu; K. Gai; Q. Duan; J. Lin; J. Wu; ...</td>\n",
       "      <td>China</td>\n",
       "      <td>2021.0</td>\n",
       "      <td>Federated Learning (FL) offers a promising app...</td>\n",
       "      <td>2327-4662</td>\n",
       "      <td>NaN</td>\n",
       "      <td>10.1109/JIOT.2021.3138693</td>\n",
       "      <td>2.0</td>\n",
       "      <td>NaN</td>\n",
       "      <td>IEEE</td>\n",
       "    </tr>\n",
       "    <tr>\n",
       "      <th>4</th>\n",
       "      <td>4</td>\n",
       "      <td>BESIFL: Blockchain Empowered Secure and Incent...</td>\n",
       "      <td>Y. Xu; Z. Lu; K. Gai; Q. Duan; J. Lin; J. Wu; ...</td>\n",
       "      <td>USA</td>\n",
       "      <td>2021.0</td>\n",
       "      <td>Federated Learning (FL) offers a promising app...</td>\n",
       "      <td>2327-4662</td>\n",
       "      <td>NaN</td>\n",
       "      <td>10.1109/JIOT.2021.3138693</td>\n",
       "      <td>2.0</td>\n",
       "      <td>NaN</td>\n",
       "      <td>IEEE</td>\n",
       "    </tr>\n",
       "    <tr>\n",
       "      <th>5</th>\n",
       "      <td>5</td>\n",
       "      <td>BPPS:Blockchain-Enabled Privacy-Preserving Sch...</td>\n",
       "      <td>K. Park; J. Lee; A. K. Das; Y. Park</td>\n",
       "      <td>India</td>\n",
       "      <td>2022.0</td>\n",
       "      <td>With the ongoing revolutionary growth of the i...</td>\n",
       "      <td>1941-0018</td>\n",
       "      <td>NaN</td>\n",
       "      <td>10.1109/TDSC.2022.3163138</td>\n",
       "      <td>3.0</td>\n",
       "      <td>NaN</td>\n",
       "      <td>IEEE</td>\n",
       "    </tr>\n",
       "    <tr>\n",
       "      <th>6</th>\n",
       "      <td>6</td>\n",
       "      <td>TRUCON: Blockchain-Based Trusted Data Sharing ...</td>\n",
       "      <td>M. Yuan; Y. Xu; C. Zhang; Y. Tan; Y. Wang; J. ...</td>\n",
       "      <td>China</td>\n",
       "      <td>2022.0</td>\n",
       "      <td>The Internet of vehicles (IoV) has a substanti...</td>\n",
       "      <td>1558-0016</td>\n",
       "      <td>NaN</td>\n",
       "      <td>10.1109/TITS.2022.3226500</td>\n",
       "      <td>NaN</td>\n",
       "      <td>NaN</td>\n",
       "      <td>IEEE</td>\n",
       "    </tr>\n",
       "    <tr>\n",
       "      <th>7</th>\n",
       "      <td>7</td>\n",
       "      <td>Conditional Anonymous Remote Healthcare Data S...</td>\n",
       "      <td>J. Liu; W. Jiang; R. Sun; A. K. Bashir; M. D. ...</td>\n",
       "      <td>China</td>\n",
       "      <td>2022.0</td>\n",
       "      <td>As an important carrier of healthcare data, El...</td>\n",
       "      <td>2168-2208</td>\n",
       "      <td>NaN</td>\n",
       "      <td>10.1109/JBHI.2022.3183397</td>\n",
       "      <td>NaN</td>\n",
       "      <td>NaN</td>\n",
       "      <td>IEEE</td>\n",
       "    </tr>\n",
       "    <tr>\n",
       "      <th>9</th>\n",
       "      <td>9</td>\n",
       "      <td>Conditional Anonymous Remote Healthcare Data S...</td>\n",
       "      <td>J. Liu; W. Jiang; R. Sun; A. K. Bashir; M. D. ...</td>\n",
       "      <td>Japan</td>\n",
       "      <td>2022.0</td>\n",
       "      <td>As an important carrier of healthcare data, El...</td>\n",
       "      <td>2168-2208</td>\n",
       "      <td>NaN</td>\n",
       "      <td>10.1109/JBHI.2022.3183397</td>\n",
       "      <td>NaN</td>\n",
       "      <td>NaN</td>\n",
       "      <td>IEEE</td>\n",
       "    </tr>\n",
       "    <tr>\n",
       "      <th>10</th>\n",
       "      <td>10</td>\n",
       "      <td>Secure and Efficiently Searchable IoT Communic...</td>\n",
       "      <td>H. Zhang; X. Zhang; Z. Guo; H. Wang; D. Cui; Q...</td>\n",
       "      <td>China</td>\n",
       "      <td>2021.0</td>\n",
       "      <td>With the rapid development of the Internet of ...</td>\n",
       "      <td>2327-4662</td>\n",
       "      <td>NaN</td>\n",
       "      <td>10.1109/JIOT.2021.3121482</td>\n",
       "      <td>NaN</td>\n",
       "      <td>NaN</td>\n",
       "      <td>IEEE</td>\n",
       "    </tr>\n",
       "    <tr>\n",
       "      <th>11</th>\n",
       "      <td>11</td>\n",
       "      <td>MSTDB: A Hybrid Storage-Empowered Scalable Sem...</td>\n",
       "      <td>E. Zhou; Z. Hong; Y. Xiao; D. Zhao; Q. Pei; S....</td>\n",
       "      <td>China</td>\n",
       "      <td>2022.0</td>\n",
       "      <td>Blockchain has been regarded as a trusted carr...</td>\n",
       "      <td>1558-2191</td>\n",
       "      <td>NaN</td>\n",
       "      <td>10.1109/TKDE.2022.3220522</td>\n",
       "      <td>NaN</td>\n",
       "      <td>NaN</td>\n",
       "      <td>IEEE</td>\n",
       "    </tr>\n",
       "    <tr>\n",
       "      <th>12</th>\n",
       "      <td>12</td>\n",
       "      <td>MSTDB: A Hybrid Storage-Empowered Scalable Sem...</td>\n",
       "      <td>E. Zhou; Z. Hong; Y. Xiao; D. Zhao; Q. Pei; S....</td>\n",
       "      <td>Norway</td>\n",
       "      <td>2022.0</td>\n",
       "      <td>Blockchain has been regarded as a trusted carr...</td>\n",
       "      <td>1558-2191</td>\n",
       "      <td>NaN</td>\n",
       "      <td>10.1109/TKDE.2022.3220522</td>\n",
       "      <td>NaN</td>\n",
       "      <td>NaN</td>\n",
       "      <td>IEEE</td>\n",
       "    </tr>\n",
       "    <tr>\n",
       "      <th>13</th>\n",
       "      <td>13</td>\n",
       "      <td>Blockchain-enabled Secure and Trusted Federate...</td>\n",
       "      <td>Z. Zhou; Y. Tian; J. Xiong; J. Ma; C. Peng</td>\n",
       "      <td>China</td>\n",
       "      <td>2022.0</td>\n",
       "      <td>Federated learning breaks down data silos and ...</td>\n",
       "      <td>1941-0050</td>\n",
       "      <td>NaN</td>\n",
       "      <td>10.1109/TII.2022.3215192</td>\n",
       "      <td>NaN</td>\n",
       "      <td>NaN</td>\n",
       "      <td>IEEE</td>\n",
       "    </tr>\n",
       "    <tr>\n",
       "      <th>14</th>\n",
       "      <td>14</td>\n",
       "      <td>A Tractable Probabilistic Approach to Analyze ...</td>\n",
       "      <td>A. Hafid; A. S. Hafid; M. Samih</td>\n",
       "      <td>Canada</td>\n",
       "      <td>2022.0</td>\n",
       "      <td>Blockchain like Bitcoin and Ethereum suffer fr...</td>\n",
       "      <td>2168-6750</td>\n",
       "      <td>NaN</td>\n",
       "      <td>10.1109/TETC.2022.3179638</td>\n",
       "      <td>1.0</td>\n",
       "      <td>NaN</td>\n",
       "      <td>IEEE</td>\n",
       "    </tr>\n",
       "    <tr>\n",
       "      <th>15</th>\n",
       "      <td>15</td>\n",
       "      <td>A Tractable Probabilistic Approach to Analyze ...</td>\n",
       "      <td>A. Hafid; A. S. Hafid; M. Samih</td>\n",
       "      <td>Morocco</td>\n",
       "      <td>2022.0</td>\n",
       "      <td>Blockchain like Bitcoin and Ethereum suffer fr...</td>\n",
       "      <td>2168-6750</td>\n",
       "      <td>NaN</td>\n",
       "      <td>10.1109/TETC.2022.3179638</td>\n",
       "      <td>1.0</td>\n",
       "      <td>NaN</td>\n",
       "      <td>IEEE</td>\n",
       "    </tr>\n",
       "    <tr>\n",
       "      <th>16</th>\n",
       "      <td>16</td>\n",
       "      <td>Immutable Log Storage as a Service on Private ...</td>\n",
       "      <td>W. Pourmajidi; L. Zhang; J. Steinbacher; T. Er...</td>\n",
       "      <td>Canada</td>\n",
       "      <td>2021.0</td>\n",
       "      <td>Service Level Agreements (SLA) are employed to...</td>\n",
       "      <td>1939-1374</td>\n",
       "      <td>NaN</td>\n",
       "      <td>10.1109/TSC.2021.3120690</td>\n",
       "      <td>1.0</td>\n",
       "      <td>NaN</td>\n",
       "      <td>IEEE</td>\n",
       "    </tr>\n",
       "    <tr>\n",
       "      <th>17</th>\n",
       "      <td>17</td>\n",
       "      <td>GpDB: A Graph-partition Based Storage Strategy...</td>\n",
       "      <td>Z. Liao; S. Cheng; J. Zhang; W. Wu; J. Wang; P...</td>\n",
       "      <td>China</td>\n",
       "      <td>2022.0</td>\n",
       "      <td>The industrial Internet-of-things (IIoT) has a...</td>\n",
       "      <td>1941-0050</td>\n",
       "      <td>NaN</td>\n",
       "      <td>10.1109/TII.2022.3162201</td>\n",
       "      <td>NaN</td>\n",
       "      <td>NaN</td>\n",
       "      <td>IEEE</td>\n",
       "    </tr>\n",
       "    <tr>\n",
       "      <th>18</th>\n",
       "      <td>18</td>\n",
       "      <td>GpDB: A Graph-partition Based Storage Strategy...</td>\n",
       "      <td>Z. Liao; S. Cheng; J. Zhang; W. Wu; J. Wang; P...</td>\n",
       "      <td>Ireland</td>\n",
       "      <td>2022.0</td>\n",
       "      <td>The industrial Internet-of-things (IIoT) has a...</td>\n",
       "      <td>1941-0050</td>\n",
       "      <td>NaN</td>\n",
       "      <td>10.1109/TII.2022.3162201</td>\n",
       "      <td>NaN</td>\n",
       "      <td>NaN</td>\n",
       "      <td>IEEE</td>\n",
       "    </tr>\n",
       "    <tr>\n",
       "      <th>19</th>\n",
       "      <td>19</td>\n",
       "      <td>DS2PM:A Data Sharing Privacy Protection Model ...</td>\n",
       "      <td>Y. Chen; J. Li; F. Wang; K. Yue; Y. Li; B. Xin...</td>\n",
       "      <td>China</td>\n",
       "      <td>2021.0</td>\n",
       "      <td>With the development of big data and blockchai...</td>\n",
       "      <td>2327-4662</td>\n",
       "      <td>NaN</td>\n",
       "      <td>10.1109/JIOT.2021.3134755</td>\n",
       "      <td>2.0</td>\n",
       "      <td>NaN</td>\n",
       "      <td>IEEE</td>\n",
       "    </tr>\n",
       "    <tr>\n",
       "      <th>20</th>\n",
       "      <td>20</td>\n",
       "      <td>Protecting Vaccine Safety: An Improved, Blockc...</td>\n",
       "      <td>L. Cui; Z. Xiao; F. Chen; H. Dai; J. Li</td>\n",
       "      <td>China</td>\n",
       "      <td>2022.0</td>\n",
       "      <td>In recent years, vaccine safety incidents have...</td>\n",
       "      <td>2168-2275</td>\n",
       "      <td>NaN</td>\n",
       "      <td>10.1109/TCYB.2022.3163743</td>\n",
       "      <td>NaN</td>\n",
       "      <td>NaN</td>\n",
       "      <td>IEEE</td>\n",
       "    </tr>\n",
       "    <tr>\n",
       "      <th>21</th>\n",
       "      <td>21</td>\n",
       "      <td>Cooperative Task Offloading and Block Mining i...</td>\n",
       "      <td>D. Nguyen; M. Ding; P. Pathirana; A. Senevirat...</td>\n",
       "      <td>Australia</td>\n",
       "      <td>2021.0</td>\n",
       "      <td>The convergence of mobile edge computing (MEC)...</td>\n",
       "      <td>1558-0660</td>\n",
       "      <td>NaN</td>\n",
       "      <td>10.1109/TMC.2021.3120050</td>\n",
       "      <td>4.0</td>\n",
       "      <td>NaN</td>\n",
       "      <td>IEEE</td>\n",
       "    </tr>\n",
       "    <tr>\n",
       "      <th>22</th>\n",
       "      <td>22</td>\n",
       "      <td>Cooperative Task Offloading and Block Mining i...</td>\n",
       "      <td>D. Nguyen; M. Ding; P. Pathirana; A. Senevirat...</td>\n",
       "      <td>China</td>\n",
       "      <td>2021.0</td>\n",
       "      <td>The convergence of mobile edge computing (MEC)...</td>\n",
       "      <td>1558-0660</td>\n",
       "      <td>NaN</td>\n",
       "      <td>10.1109/TMC.2021.3120050</td>\n",
       "      <td>4.0</td>\n",
       "      <td>NaN</td>\n",
       "      <td>IEEE</td>\n",
       "    </tr>\n",
       "    <tr>\n",
       "      <th>23</th>\n",
       "      <td>23</td>\n",
       "      <td>Blockchain and Federated Edge Learning for Pri...</td>\n",
       "      <td>Q. Hu; Z. Wang; M. Xu; X. Cheng</td>\n",
       "      <td>USA</td>\n",
       "      <td>2021.0</td>\n",
       "      <td>Mobile crowdsensing (MCS) counting on the mobi...</td>\n",
       "      <td>2327-4662</td>\n",
       "      <td>NaN</td>\n",
       "      <td>10.1109/JIOT.2021.3128155</td>\n",
       "      <td>3.0</td>\n",
       "      <td>NaN</td>\n",
       "      <td>IEEE</td>\n",
       "    </tr>\n",
       "    <tr>\n",
       "      <th>24</th>\n",
       "      <td>24</td>\n",
       "      <td>Blockchain and Federated Edge Learning for Pri...</td>\n",
       "      <td>Q. Hu; Z. Wang; M. Xu; X. Cheng</td>\n",
       "      <td>China</td>\n",
       "      <td>2021.0</td>\n",
       "      <td>Mobile crowdsensing (MCS) counting on the mobi...</td>\n",
       "      <td>2327-4662</td>\n",
       "      <td>NaN</td>\n",
       "      <td>10.1109/JIOT.2021.3128155</td>\n",
       "      <td>3.0</td>\n",
       "      <td>NaN</td>\n",
       "      <td>IEEE</td>\n",
       "    </tr>\n",
       "    <tr>\n",
       "      <th>25</th>\n",
       "      <td>25</td>\n",
       "      <td>A Blockchain Framework in Post-Quantum Decentr...</td>\n",
       "      <td>R. Saha; G. Kumar; T. Devgun; W. Buchanan; R. ...</td>\n",
       "      <td>India</td>\n",
       "      <td>2021.0</td>\n",
       "      <td>The decentralization and transparency have pro...</td>\n",
       "      <td>1939-1374</td>\n",
       "      <td>NaN</td>\n",
       "      <td>10.1109/TSC.2021.3116896</td>\n",
       "      <td>2.0</td>\n",
       "      <td>NaN</td>\n",
       "      <td>IEEE</td>\n",
       "    </tr>\n",
       "    <tr>\n",
       "      <th>26</th>\n",
       "      <td>26</td>\n",
       "      <td>A Blockchain Framework in Post-Quantum Decentr...</td>\n",
       "      <td>R. Saha; G. Kumar; T. Devgun; W. Buchanan; R. ...</td>\n",
       "      <td>Ireland</td>\n",
       "      <td>2021.0</td>\n",
       "      <td>The decentralization and transparency have pro...</td>\n",
       "      <td>1939-1374</td>\n",
       "      <td>NaN</td>\n",
       "      <td>10.1109/TSC.2021.3116896</td>\n",
       "      <td>2.0</td>\n",
       "      <td>NaN</td>\n",
       "      <td>IEEE</td>\n",
       "    </tr>\n",
       "    <tr>\n",
       "      <th>27</th>\n",
       "      <td>27</td>\n",
       "      <td>A Blockchain Framework in Post-Quantum Decentr...</td>\n",
       "      <td>R. Saha; G. Kumar; T. Devgun; W. Buchanan; R. ...</td>\n",
       "      <td>Australia</td>\n",
       "      <td>2021.0</td>\n",
       "      <td>The decentralization and transparency have pro...</td>\n",
       "      <td>1939-1374</td>\n",
       "      <td>NaN</td>\n",
       "      <td>10.1109/TSC.2021.3116896</td>\n",
       "      <td>2.0</td>\n",
       "      <td>NaN</td>\n",
       "      <td>IEEE</td>\n",
       "    </tr>\n",
       "    <tr>\n",
       "      <th>28</th>\n",
       "      <td>28</td>\n",
       "      <td>A Blockchain Framework in Post-Quantum Decentr...</td>\n",
       "      <td>R. Saha; G. Kumar; T. Devgun; W. Buchanan; R. ...</td>\n",
       "      <td>Brazil</td>\n",
       "      <td>2021.0</td>\n",
       "      <td>The decentralization and transparency have pro...</td>\n",
       "      <td>1939-1374</td>\n",
       "      <td>NaN</td>\n",
       "      <td>10.1109/TSC.2021.3116896</td>\n",
       "      <td>2.0</td>\n",
       "      <td>NaN</td>\n",
       "      <td>IEEE</td>\n",
       "    </tr>\n",
       "    <tr>\n",
       "      <th>29</th>\n",
       "      <td>29</td>\n",
       "      <td>BLOWN: A Blockchain Protocol for Single-Hop Wi...</td>\n",
       "      <td>M. Xu; F. Zhao; Y. Zou; C. Liu; X. Cheng; F. D...</td>\n",
       "      <td>China</td>\n",
       "      <td>2022.0</td>\n",
       "      <td>Known as a distributed ledger technology (DLT)...</td>\n",
       "      <td>1558-0660</td>\n",
       "      <td>NaN</td>\n",
       "      <td>10.1109/TMC.2022.3162117</td>\n",
       "      <td>1.0</td>\n",
       "      <td>NaN</td>\n",
       "      <td>IEEE</td>\n",
       "    </tr>\n",
       "    <tr>\n",
       "      <th>31</th>\n",
       "      <td>31</td>\n",
       "      <td>BLOWN: A Blockchain Protocol for Single-Hop Wi...</td>\n",
       "      <td>M. Xu; F. Zhao; Y. Zou; C. Liu; X. Cheng; F. D...</td>\n",
       "      <td>Germany</td>\n",
       "      <td>2022.0</td>\n",
       "      <td>Known as a distributed ledger technology (DLT)...</td>\n",
       "      <td>1558-0660</td>\n",
       "      <td>NaN</td>\n",
       "      <td>10.1109/TMC.2022.3162117</td>\n",
       "      <td>1.0</td>\n",
       "      <td>NaN</td>\n",
       "      <td>IEEE</td>\n",
       "    </tr>\n",
       "    <tr>\n",
       "      <th>32</th>\n",
       "      <td>32</td>\n",
       "      <td>HyperMaze: Towards Privacy-Preserving and Scal...</td>\n",
       "      <td>W. Liu; Z. Wan; J. Shao; Y. Yu</td>\n",
       "      <td>China</td>\n",
       "      <td>2021.0</td>\n",
       "      <td>Blockchain systems face two emergent problems,...</td>\n",
       "      <td>1941-0018</td>\n",
       "      <td>NaN</td>\n",
       "      <td>10.1109/TDSC.2021.3133840</td>\n",
       "      <td>NaN</td>\n",
       "      <td>NaN</td>\n",
       "      <td>IEEE</td>\n",
       "    </tr>\n",
       "    <tr>\n",
       "      <th>33</th>\n",
       "      <td>33</td>\n",
       "      <td>Evolved PoW: Integrating the Matrix Computatio...</td>\n",
       "      <td>Y. Wei; Z. An; S. Leng; K. Yang</td>\n",
       "      <td>China</td>\n",
       "      <td>2022.0</td>\n",
       "      <td>Machine learning is an essential technology pr...</td>\n",
       "      <td>2327-4662</td>\n",
       "      <td>NaN</td>\n",
       "      <td>10.1109/JIOT.2022.3165973</td>\n",
       "      <td>NaN</td>\n",
       "      <td>NaN</td>\n",
       "      <td>IEEE</td>\n",
       "    </tr>\n",
       "    <tr>\n",
       "      <th>34</th>\n",
       "      <td>34</td>\n",
       "      <td>Evolved PoW: Integrating the Matrix Computatio...</td>\n",
       "      <td>Y. Wei; Z. An; S. Leng; K. Yang</td>\n",
       "      <td>UK</td>\n",
       "      <td>2022.0</td>\n",
       "      <td>Machine learning is an essential technology pr...</td>\n",
       "      <td>2327-4662</td>\n",
       "      <td>NaN</td>\n",
       "      <td>10.1109/JIOT.2022.3165973</td>\n",
       "      <td>NaN</td>\n",
       "      <td>NaN</td>\n",
       "      <td>IEEE</td>\n",
       "    </tr>\n",
       "    <tr>\n",
       "      <th>35</th>\n",
       "      <td>35</td>\n",
       "      <td>Toward On-Device Federated Learning: A Direct ...</td>\n",
       "      <td>M. Cao; L. Zhang; B. Cao</td>\n",
       "      <td>China</td>\n",
       "      <td>2021.0</td>\n",
       "      <td>Due to the distributed characteristics of fede...</td>\n",
       "      <td>2162-2388</td>\n",
       "      <td>NaN</td>\n",
       "      <td>10.1109/TNNLS.2021.3105810</td>\n",
       "      <td>5.0</td>\n",
       "      <td>NaN</td>\n",
       "      <td>IEEE</td>\n",
       "    </tr>\n",
       "    <tr>\n",
       "      <th>36</th>\n",
       "      <td>36</td>\n",
       "      <td>Resource Management and Pricing for Cloud Comp...</td>\n",
       "      <td>W. Junfei; J. Li; Z. Gao; Z. Han; C. Qiu; X. Wang</td>\n",
       "      <td>China</td>\n",
       "      <td>2021.0</td>\n",
       "      <td>In a public blockchain system applying Proof o...</td>\n",
       "      <td>2168-7161</td>\n",
       "      <td>NaN</td>\n",
       "      <td>10.1109/TCC.2021.3081580</td>\n",
       "      <td>3.0</td>\n",
       "      <td>NaN</td>\n",
       "      <td>IEEE</td>\n",
       "    </tr>\n",
       "    <tr>\n",
       "      <th>37</th>\n",
       "      <td>37</td>\n",
       "      <td>DRL-Based V2V Computation Offloading for Block...</td>\n",
       "      <td>J. Shi; J. Du; Y. Shen; J. Wang; J. Yuan; Z. Han</td>\n",
       "      <td>China</td>\n",
       "      <td>2022.0</td>\n",
       "      <td>Vehicular edge computing (VEC) is an effective...</td>\n",
       "      <td>1558-0660</td>\n",
       "      <td>NaN</td>\n",
       "      <td>10.1109/TMC.2022.3153346</td>\n",
       "      <td>2.0</td>\n",
       "      <td>NaN</td>\n",
       "      <td>IEEE</td>\n",
       "    </tr>\n",
       "    <tr>\n",
       "      <th>39</th>\n",
       "      <td>39</td>\n",
       "      <td>Pricing and Budget Allocation for IoT Blockcha...</td>\n",
       "      <td>X. Ding; J. Guo; D. Li; W. Wu</td>\n",
       "      <td>China</td>\n",
       "      <td>2022.0</td>\n",
       "      <td>Attracted by the inherent security and privacy...</td>\n",
       "      <td>2168-7161</td>\n",
       "      <td>NaN</td>\n",
       "      <td>10.1109/TCC.2022.3150766</td>\n",
       "      <td>1.0</td>\n",
       "      <td>NaN</td>\n",
       "      <td>IEEE</td>\n",
       "    </tr>\n",
       "    <tr>\n",
       "      <th>40</th>\n",
       "      <td>40</td>\n",
       "      <td>Empowering Next-Generation IoT WLANs Through B...</td>\n",
       "      <td>A. Z. Abyaneh; N. Zorba; B. Hamdaoui</td>\n",
       "      <td>Qatar</td>\n",
       "      <td>2022.0</td>\n",
       "      <td>Blockchain emerges as a potential solution for...</td>\n",
       "      <td>1558-0016</td>\n",
       "      <td>NaN</td>\n",
       "      <td>10.1109/TITS.2022.3153484</td>\n",
       "      <td>NaN</td>\n",
       "      <td>NaN</td>\n",
       "      <td>IEEE</td>\n",
       "    </tr>\n",
       "    <tr>\n",
       "      <th>41</th>\n",
       "      <td>41</td>\n",
       "      <td>Empowering Next-Generation IoT WLANs Through B...</td>\n",
       "      <td>A. Z. Abyaneh; N. Zorba; B. Hamdaoui</td>\n",
       "      <td>USA</td>\n",
       "      <td>2022.0</td>\n",
       "      <td>Blockchain emerges as a potential solution for...</td>\n",
       "      <td>1558-0016</td>\n",
       "      <td>NaN</td>\n",
       "      <td>10.1109/TITS.2022.3153484</td>\n",
       "      <td>NaN</td>\n",
       "      <td>NaN</td>\n",
       "      <td>IEEE</td>\n",
       "    </tr>\n",
       "    <tr>\n",
       "      <th>42</th>\n",
       "      <td>42</td>\n",
       "      <td>Privacy-Aware Double Auction with Time-Depende...</td>\n",
       "      <td>K. Zhu; L. Huang; J. Nie; Y. Zhang; Z. Xiong; ...</td>\n",
       "      <td>China</td>\n",
       "      <td>2022.0</td>\n",
       "      <td>For future Internet-of-Things (IoT) systems, d...</td>\n",
       "      <td>2327-4662</td>\n",
       "      <td>NaN</td>\n",
       "      <td>10.1109/JIOT.2022.3165819</td>\n",
       "      <td>NaN</td>\n",
       "      <td>NaN</td>\n",
       "      <td>IEEE</td>\n",
       "    </tr>\n",
       "  </tbody>\n",
       "</table>\n",
       "</div>"
      ],
      "text/plain": [
       "    Unnamed: 0                                     Document Title  \\\n",
       "0            0                                                NaN   \n",
       "1            1  A Blockchain-based Model Migration Approach fo...   \n",
       "2            2  A Blockchain-based Model Migration Approach fo...   \n",
       "3            3  BESIFL: Blockchain Empowered Secure and Incent...   \n",
       "4            4  BESIFL: Blockchain Empowered Secure and Incent...   \n",
       "5            5  BPPS:Blockchain-Enabled Privacy-Preserving Sch...   \n",
       "6            6  TRUCON: Blockchain-Based Trusted Data Sharing ...   \n",
       "7            7  Conditional Anonymous Remote Healthcare Data S...   \n",
       "9            9  Conditional Anonymous Remote Healthcare Data S...   \n",
       "10          10  Secure and Efficiently Searchable IoT Communic...   \n",
       "11          11  MSTDB: A Hybrid Storage-Empowered Scalable Sem...   \n",
       "12          12  MSTDB: A Hybrid Storage-Empowered Scalable Sem...   \n",
       "13          13  Blockchain-enabled Secure and Trusted Federate...   \n",
       "14          14  A Tractable Probabilistic Approach to Analyze ...   \n",
       "15          15  A Tractable Probabilistic Approach to Analyze ...   \n",
       "16          16  Immutable Log Storage as a Service on Private ...   \n",
       "17          17  GpDB: A Graph-partition Based Storage Strategy...   \n",
       "18          18  GpDB: A Graph-partition Based Storage Strategy...   \n",
       "19          19  DS2PM:A Data Sharing Privacy Protection Model ...   \n",
       "20          20  Protecting Vaccine Safety: An Improved, Blockc...   \n",
       "21          21  Cooperative Task Offloading and Block Mining i...   \n",
       "22          22  Cooperative Task Offloading and Block Mining i...   \n",
       "23          23  Blockchain and Federated Edge Learning for Pri...   \n",
       "24          24  Blockchain and Federated Edge Learning for Pri...   \n",
       "25          25  A Blockchain Framework in Post-Quantum Decentr...   \n",
       "26          26  A Blockchain Framework in Post-Quantum Decentr...   \n",
       "27          27  A Blockchain Framework in Post-Quantum Decentr...   \n",
       "28          28  A Blockchain Framework in Post-Quantum Decentr...   \n",
       "29          29  BLOWN: A Blockchain Protocol for Single-Hop Wi...   \n",
       "31          31  BLOWN: A Blockchain Protocol for Single-Hop Wi...   \n",
       "32          32  HyperMaze: Towards Privacy-Preserving and Scal...   \n",
       "33          33  Evolved PoW: Integrating the Matrix Computatio...   \n",
       "34          34  Evolved PoW: Integrating the Matrix Computatio...   \n",
       "35          35  Toward On-Device Federated Learning: A Direct ...   \n",
       "36          36  Resource Management and Pricing for Cloud Comp...   \n",
       "37          37  DRL-Based V2V Computation Offloading for Block...   \n",
       "39          39  Pricing and Budget Allocation for IoT Blockcha...   \n",
       "40          40  Empowering Next-Generation IoT WLANs Through B...   \n",
       "41          41  Empowering Next-Generation IoT WLANs Through B...   \n",
       "42          42  Privacy-Aware Double Auction with Time-Depende...   \n",
       "\n",
       "                                              Authors Author Affiliations  \\\n",
       "0                                                 NaN                 NaN   \n",
       "1   C. Zhang; Y. Xu; H. Elahi; D. Zhang; Y. Tan; J...               China   \n",
       "2   C. Zhang; Y. Xu; H. Elahi; D. Zhang; Y. Tan; J...              Sweden   \n",
       "3   Y. Xu; Z. Lu; K. Gai; Q. Duan; J. Lin; J. Wu; ...               China   \n",
       "4   Y. Xu; Z. Lu; K. Gai; Q. Duan; J. Lin; J. Wu; ...                 USA   \n",
       "5                 K. Park; J. Lee; A. K. Das; Y. Park               India   \n",
       "6   M. Yuan; Y. Xu; C. Zhang; Y. Tan; Y. Wang; J. ...               China   \n",
       "7   J. Liu; W. Jiang; R. Sun; A. K. Bashir; M. D. ...               China   \n",
       "9   J. Liu; W. Jiang; R. Sun; A. K. Bashir; M. D. ...               Japan   \n",
       "10  H. Zhang; X. Zhang; Z. Guo; H. Wang; D. Cui; Q...               China   \n",
       "11  E. Zhou; Z. Hong; Y. Xiao; D. Zhao; Q. Pei; S....               China   \n",
       "12  E. Zhou; Z. Hong; Y. Xiao; D. Zhao; Q. Pei; S....              Norway   \n",
       "13         Z. Zhou; Y. Tian; J. Xiong; J. Ma; C. Peng               China   \n",
       "14                    A. Hafid; A. S. Hafid; M. Samih              Canada   \n",
       "15                    A. Hafid; A. S. Hafid; M. Samih             Morocco   \n",
       "16  W. Pourmajidi; L. Zhang; J. Steinbacher; T. Er...              Canada   \n",
       "17  Z. Liao; S. Cheng; J. Zhang; W. Wu; J. Wang; P...               China   \n",
       "18  Z. Liao; S. Cheng; J. Zhang; W. Wu; J. Wang; P...             Ireland   \n",
       "19  Y. Chen; J. Li; F. Wang; K. Yue; Y. Li; B. Xin...               China   \n",
       "20            L. Cui; Z. Xiao; F. Chen; H. Dai; J. Li               China   \n",
       "21  D. Nguyen; M. Ding; P. Pathirana; A. Senevirat...           Australia   \n",
       "22  D. Nguyen; M. Ding; P. Pathirana; A. Senevirat...               China   \n",
       "23                    Q. Hu; Z. Wang; M. Xu; X. Cheng                 USA   \n",
       "24                    Q. Hu; Z. Wang; M. Xu; X. Cheng               China   \n",
       "25  R. Saha; G. Kumar; T. Devgun; W. Buchanan; R. ...               India   \n",
       "26  R. Saha; G. Kumar; T. Devgun; W. Buchanan; R. ...             Ireland   \n",
       "27  R. Saha; G. Kumar; T. Devgun; W. Buchanan; R. ...           Australia   \n",
       "28  R. Saha; G. Kumar; T. Devgun; W. Buchanan; R. ...              Brazil   \n",
       "29  M. Xu; F. Zhao; Y. Zou; C. Liu; X. Cheng; F. D...               China   \n",
       "31  M. Xu; F. Zhao; Y. Zou; C. Liu; X. Cheng; F. D...             Germany   \n",
       "32                     W. Liu; Z. Wan; J. Shao; Y. Yu               China   \n",
       "33                    Y. Wei; Z. An; S. Leng; K. Yang               China   \n",
       "34                    Y. Wei; Z. An; S. Leng; K. Yang                  UK   \n",
       "35                           M. Cao; L. Zhang; B. Cao               China   \n",
       "36  W. Junfei; J. Li; Z. Gao; Z. Han; C. Qiu; X. Wang               China   \n",
       "37   J. Shi; J. Du; Y. Shen; J. Wang; J. Yuan; Z. Han               China   \n",
       "39                      X. Ding; J. Guo; D. Li; W. Wu               China   \n",
       "40               A. Z. Abyaneh; N. Zorba; B. Hamdaoui               Qatar   \n",
       "41               A. Z. Abyaneh; N. Zorba; B. Hamdaoui                 USA   \n",
       "42  K. Zhu; L. Huang; J. Nie; Y. Zhang; Z. Xiong; ...               China   \n",
       "\n",
       "    Publication Year                                           Abstract  \\\n",
       "0                NaN                                                NaN   \n",
       "1             2022.0  Model migration can accelerate model convergen...   \n",
       "2             2022.0  Model migration can accelerate model convergen...   \n",
       "3             2021.0  Federated Learning (FL) offers a promising app...   \n",
       "4             2021.0  Federated Learning (FL) offers a promising app...   \n",
       "5             2022.0  With the ongoing revolutionary growth of the i...   \n",
       "6             2022.0  The Internet of vehicles (IoV) has a substanti...   \n",
       "7             2022.0  As an important carrier of healthcare data, El...   \n",
       "9             2022.0  As an important carrier of healthcare data, El...   \n",
       "10            2021.0  With the rapid development of the Internet of ...   \n",
       "11            2022.0  Blockchain has been regarded as a trusted carr...   \n",
       "12            2022.0  Blockchain has been regarded as a trusted carr...   \n",
       "13            2022.0  Federated learning breaks down data silos and ...   \n",
       "14            2022.0  Blockchain like Bitcoin and Ethereum suffer fr...   \n",
       "15            2022.0  Blockchain like Bitcoin and Ethereum suffer fr...   \n",
       "16            2021.0  Service Level Agreements (SLA) are employed to...   \n",
       "17            2022.0  The industrial Internet-of-things (IIoT) has a...   \n",
       "18            2022.0  The industrial Internet-of-things (IIoT) has a...   \n",
       "19            2021.0  With the development of big data and blockchai...   \n",
       "20            2022.0  In recent years, vaccine safety incidents have...   \n",
       "21            2021.0  The convergence of mobile edge computing (MEC)...   \n",
       "22            2021.0  The convergence of mobile edge computing (MEC)...   \n",
       "23            2021.0  Mobile crowdsensing (MCS) counting on the mobi...   \n",
       "24            2021.0  Mobile crowdsensing (MCS) counting on the mobi...   \n",
       "25            2021.0  The decentralization and transparency have pro...   \n",
       "26            2021.0  The decentralization and transparency have pro...   \n",
       "27            2021.0  The decentralization and transparency have pro...   \n",
       "28            2021.0  The decentralization and transparency have pro...   \n",
       "29            2022.0  Known as a distributed ledger technology (DLT)...   \n",
       "31            2022.0  Known as a distributed ledger technology (DLT)...   \n",
       "32            2021.0  Blockchain systems face two emergent problems,...   \n",
       "33            2022.0  Machine learning is an essential technology pr...   \n",
       "34            2022.0  Machine learning is an essential technology pr...   \n",
       "35            2021.0  Due to the distributed characteristics of fede...   \n",
       "36            2021.0  In a public blockchain system applying Proof o...   \n",
       "37            2022.0  Vehicular edge computing (VEC) is an effective...   \n",
       "39            2022.0  Attracted by the inherent security and privacy...   \n",
       "40            2022.0  Blockchain emerges as a potential solution for...   \n",
       "41            2022.0  Blockchain emerges as a potential solution for...   \n",
       "42            2022.0  For future Internet-of-Things (IoT) systems, d...   \n",
       "\n",
       "         ISSN  ISBNs                         DOI  Article Citation Count  \\\n",
       "0         NaN    NaN                         NaN                     NaN   \n",
       "1   2327-4662    NaN   10.1109/JIOT.2022.3171926                     NaN   \n",
       "2   2327-4662    NaN   10.1109/JIOT.2022.3171926                     NaN   \n",
       "3   2327-4662    NaN   10.1109/JIOT.2021.3138693                     2.0   \n",
       "4   2327-4662    NaN   10.1109/JIOT.2021.3138693                     2.0   \n",
       "5   1941-0018    NaN   10.1109/TDSC.2022.3163138                     3.0   \n",
       "6   1558-0016    NaN   10.1109/TITS.2022.3226500                     NaN   \n",
       "7   2168-2208    NaN   10.1109/JBHI.2022.3183397                     NaN   \n",
       "9   2168-2208    NaN   10.1109/JBHI.2022.3183397                     NaN   \n",
       "10  2327-4662    NaN   10.1109/JIOT.2021.3121482                     NaN   \n",
       "11  1558-2191    NaN   10.1109/TKDE.2022.3220522                     NaN   \n",
       "12  1558-2191    NaN   10.1109/TKDE.2022.3220522                     NaN   \n",
       "13  1941-0050    NaN    10.1109/TII.2022.3215192                     NaN   \n",
       "14  2168-6750    NaN   10.1109/TETC.2022.3179638                     1.0   \n",
       "15  2168-6750    NaN   10.1109/TETC.2022.3179638                     1.0   \n",
       "16  1939-1374    NaN    10.1109/TSC.2021.3120690                     1.0   \n",
       "17  1941-0050    NaN    10.1109/TII.2022.3162201                     NaN   \n",
       "18  1941-0050    NaN    10.1109/TII.2022.3162201                     NaN   \n",
       "19  2327-4662    NaN   10.1109/JIOT.2021.3134755                     2.0   \n",
       "20  2168-2275    NaN   10.1109/TCYB.2022.3163743                     NaN   \n",
       "21  1558-0660    NaN    10.1109/TMC.2021.3120050                     4.0   \n",
       "22  1558-0660    NaN    10.1109/TMC.2021.3120050                     4.0   \n",
       "23  2327-4662    NaN   10.1109/JIOT.2021.3128155                     3.0   \n",
       "24  2327-4662    NaN   10.1109/JIOT.2021.3128155                     3.0   \n",
       "25  1939-1374    NaN    10.1109/TSC.2021.3116896                     2.0   \n",
       "26  1939-1374    NaN    10.1109/TSC.2021.3116896                     2.0   \n",
       "27  1939-1374    NaN    10.1109/TSC.2021.3116896                     2.0   \n",
       "28  1939-1374    NaN    10.1109/TSC.2021.3116896                     2.0   \n",
       "29  1558-0660    NaN    10.1109/TMC.2022.3162117                     1.0   \n",
       "31  1558-0660    NaN    10.1109/TMC.2022.3162117                     1.0   \n",
       "32  1941-0018    NaN   10.1109/TDSC.2021.3133840                     NaN   \n",
       "33  2327-4662    NaN   10.1109/JIOT.2022.3165973                     NaN   \n",
       "34  2327-4662    NaN   10.1109/JIOT.2022.3165973                     NaN   \n",
       "35  2162-2388    NaN  10.1109/TNNLS.2021.3105810                     5.0   \n",
       "36  2168-7161    NaN    10.1109/TCC.2021.3081580                     3.0   \n",
       "37  1558-0660    NaN    10.1109/TMC.2022.3153346                     2.0   \n",
       "39  2168-7161    NaN    10.1109/TCC.2022.3150766                     1.0   \n",
       "40  1558-0016    NaN   10.1109/TITS.2022.3153484                     NaN   \n",
       "41  1558-0016    NaN   10.1109/TITS.2022.3153484                     NaN   \n",
       "42  2327-4662    NaN   10.1109/JIOT.2022.3165819                     NaN   \n",
       "\n",
       "    Patent Citation Count Publisher  \n",
       "0                     NaN       NaN  \n",
       "1                     NaN      IEEE  \n",
       "2                     NaN      IEEE  \n",
       "3                     NaN      IEEE  \n",
       "4                     NaN      IEEE  \n",
       "5                     NaN      IEEE  \n",
       "6                     NaN      IEEE  \n",
       "7                     NaN      IEEE  \n",
       "9                     NaN      IEEE  \n",
       "10                    NaN      IEEE  \n",
       "11                    NaN      IEEE  \n",
       "12                    NaN      IEEE  \n",
       "13                    NaN      IEEE  \n",
       "14                    NaN      IEEE  \n",
       "15                    NaN      IEEE  \n",
       "16                    NaN      IEEE  \n",
       "17                    NaN      IEEE  \n",
       "18                    NaN      IEEE  \n",
       "19                    NaN      IEEE  \n",
       "20                    NaN      IEEE  \n",
       "21                    NaN      IEEE  \n",
       "22                    NaN      IEEE  \n",
       "23                    NaN      IEEE  \n",
       "24                    NaN      IEEE  \n",
       "25                    NaN      IEEE  \n",
       "26                    NaN      IEEE  \n",
       "27                    NaN      IEEE  \n",
       "28                    NaN      IEEE  \n",
       "29                    NaN      IEEE  \n",
       "31                    NaN      IEEE  \n",
       "32                    NaN      IEEE  \n",
       "33                    NaN      IEEE  \n",
       "34                    NaN      IEEE  \n",
       "35                    NaN      IEEE  \n",
       "36                    NaN      IEEE  \n",
       "37                    NaN      IEEE  \n",
       "39                    NaN      IEEE  \n",
       "40                    NaN      IEEE  \n",
       "41                    NaN      IEEE  \n",
       "42                    NaN      IEEE  "
      ]
     },
     "execution_count": 79,
     "metadata": {},
     "output_type": "execute_result"
    }
   ],
   "source": [
    "final_data.head(40)"
   ]
  },
  {
   "cell_type": "code",
   "execution_count": 80,
   "id": "b07064a7",
   "metadata": {},
   "outputs": [
    {
     "name": "stderr",
     "output_type": "stream",
     "text": [
      "C:\\Users\\samir\\AppData\\Local\\Programs\\Python\\Python311\\Lib\\site-packages\\pandas\\core\\internals\\blocks.py:2323: RuntimeWarning: invalid value encountered in cast\n",
      "  values = values.astype(str)\n"
     ]
    }
   ],
   "source": [
    "final_data.to_csv(\"final_data_2.csv\")"
   ]
  },
  {
   "cell_type": "code",
   "execution_count": null,
   "id": "f7f72aaf",
   "metadata": {},
   "outputs": [],
   "source": []
  }
 ],
 "metadata": {
  "kernelspec": {
   "display_name": "Python 3 (ipykernel)",
   "language": "python",
   "name": "python3"
  },
  "language_info": {
   "codemirror_mode": {
    "name": "ipython",
    "version": 3
   },
   "file_extension": ".py",
   "mimetype": "text/x-python",
   "name": "python",
   "nbconvert_exporter": "python",
   "pygments_lexer": "ipython3",
   "version": "3.11.1"
  }
 },
 "nbformat": 4,
 "nbformat_minor": 5
}
