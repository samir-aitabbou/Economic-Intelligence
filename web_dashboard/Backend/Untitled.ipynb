{
 "cells": [
  {
   "cell_type": "code",
   "execution_count": 1,
   "id": "0493630b",
   "metadata": {},
   "outputs": [
    {
     "name": "stdout",
     "output_type": "stream",
     "text": [
      "Requirement already satisfied: fastapi in c:\\users\\samir\\appdata\\local\\programs\\python\\python311\\lib\\site-packages (0.88.0)Note: you may need to restart the kernel to use updated packages.\n",
      "\n",
      "Requirement already satisfied: pydantic!=1.7,!=1.7.1,!=1.7.2,!=1.7.3,!=1.8,!=1.8.1,<2.0.0,>=1.6.2 in c:\\users\\samir\\appdata\\local\\programs\\python\\python311\\lib\\site-packages (from fastapi) (1.10.3)\n",
      "Requirement already satisfied: starlette==0.22.0 in c:\\users\\samir\\appdata\\local\\programs\\python\\python311\\lib\\site-packages (from fastapi) (0.22.0)\n",
      "Requirement already satisfied: anyio<5,>=3.4.0 in c:\\users\\samir\\appdata\\local\\programs\\python\\python311\\lib\\site-packages (from starlette==0.22.0->fastapi) (3.6.2)\n",
      "Requirement already satisfied: typing-extensions>=4.1.0 in c:\\users\\samir\\appdata\\local\\programs\\python\\python311\\lib\\site-packages (from pydantic!=1.7,!=1.7.1,!=1.7.2,!=1.7.3,!=1.8,!=1.8.1,<2.0.0,>=1.6.2->fastapi) (4.4.0)\n",
      "Requirement already satisfied: idna>=2.8 in c:\\users\\samir\\appdata\\local\\programs\\python\\python311\\lib\\site-packages (from anyio<5,>=3.4.0->starlette==0.22.0->fastapi) (3.4)\n",
      "Requirement already satisfied: sniffio>=1.1 in c:\\users\\samir\\appdata\\local\\programs\\python\\python311\\lib\\site-packages (from anyio<5,>=3.4.0->starlette==0.22.0->fastapi) (1.3.0)\n"
     ]
    }
   ],
   "source": [
    "pip install fastapi"
   ]
  },
  {
   "cell_type": "code",
   "execution_count": 1,
   "id": "c1aa1dd2",
   "metadata": {},
   "outputs": [],
   "source": [
    "from fastapi import FastAPI"
   ]
  },
  {
   "cell_type": "code",
   "execution_count": 2,
   "id": "9221c4e0",
   "metadata": {},
   "outputs": [],
   "source": [
    "#from pymongo import MongoClient\n",
    "import pandas as pd\n",
    "from typing import Union\n",
    "import json"
   ]
  },
  {
   "cell_type": "code",
   "execution_count": 3,
   "id": "f1aa4b4c",
   "metadata": {},
   "outputs": [],
   "source": [
    "df = pd.read_csv(\"ACM_IEEE_ScDir_Finale_Data.csv\")"
   ]
  },
  {
   "cell_type": "code",
   "execution_count": 4,
   "id": "1f4d59d3",
   "metadata": {},
   "outputs": [
    {
     "data": {
      "text/html": [
       "<div>\n",
       "<style scoped>\n",
       "    .dataframe tbody tr th:only-of-type {\n",
       "        vertical-align: middle;\n",
       "    }\n",
       "\n",
       "    .dataframe tbody tr th {\n",
       "        vertical-align: top;\n",
       "    }\n",
       "\n",
       "    .dataframe thead th {\n",
       "        text-align: right;\n",
       "    }\n",
       "</style>\n",
       "<table border=\"1\" class=\"dataframe\">\n",
       "  <thead>\n",
       "    <tr style=\"text-align: right;\">\n",
       "      <th></th>\n",
       "      <th>Document Title</th>\n",
       "      <th>Authors</th>\n",
       "      <th>Universities</th>\n",
       "      <th>Citations</th>\n",
       "      <th>Affiliations</th>\n",
       "      <th>Publisher</th>\n",
       "      <th>DOI</th>\n",
       "      <th>Publication Year</th>\n",
       "    </tr>\n",
       "  </thead>\n",
       "  <tbody>\n",
       "    <tr>\n",
       "      <th>0</th>\n",
       "      <td>Blockchain adoption and channel selection stra...</td>\n",
       "      <td>['Bengang Gong', 'Huaimiao Zhang', 'Yiling Gao...</td>\n",
       "      <td>['Anhui Polytechnic University No8 Beijing Zho...</td>\n",
       "      <td>0.0</td>\n",
       "      <td>China</td>\n",
       "      <td>Science direct</td>\n",
       "      <td>https://www.sciencedirect.com/science/article/...</td>\n",
       "      <td>2022</td>\n",
       "    </tr>\n",
       "  </tbody>\n",
       "</table>\n",
       "</div>"
      ],
      "text/plain": [
       "                                      Document Title  \\\n",
       "0  Blockchain adoption and channel selection stra...   \n",
       "\n",
       "                                             Authors  \\\n",
       "0  ['Bengang Gong', 'Huaimiao Zhang', 'Yiling Gao...   \n",
       "\n",
       "                                        Universities  Citations Affiliations  \\\n",
       "0  ['Anhui Polytechnic University No8 Beijing Zho...        0.0        China   \n",
       "\n",
       "        Publisher                                                DOI  \\\n",
       "0  Science direct  https://www.sciencedirect.com/science/article/...   \n",
       "\n",
       "   Publication Year  \n",
       "0              2022  "
      ]
     },
     "execution_count": 4,
     "metadata": {},
     "output_type": "execute_result"
    }
   ],
   "source": [
    "del df['Unnamed: 0']\n",
    "df.head(1)\n"
   ]
  },
  {
   "cell_type": "code",
   "execution_count": 5,
   "id": "f097ea93",
   "metadata": {},
   "outputs": [],
   "source": [
    "# client = MongoClient('localhost',27017)  # 27017 is the default port number for mongodb\n",
    "# db=client[\"myData\"]\n",
    "# scFinal=db[\"dataFinal\"]\n",
    "# df = pd.DataFrame(list(scFinal.find()))\n",
    "# del df['_id']\n",
    "app = FastAPI()\n",
    "\n",
    "@app.get(\"/nb_article\")\n",
    "def getNbArticles():\n",
    "    return {\n",
    "            \"nb_articles\": df.shape[0],\n",
    "            \"nb_articles_acm\": df[df.Publisher==\"Science direct\"].shape[0],\n",
    "            \"nb_articles_science\": df[df.Publisher==\"ACM\"].shape[0],\n",
    "            \"nb_articles_ieee\": df[df.Publisher==\"IEEE\"].shape[0]\n",
    "           }\n",
    "\n",
    "@app.get(\"/all_articles\")\n",
    "def getArticles():\n",
    "    data=[]\n",
    "    result=scFinal.find({})\n",
    "    for i in result:\n",
    "        data.append({\n",
    "            \"Titre\":i['Document Title'],\n",
    "            \"year\":i['Publication Year'],\n",
    "            #\"Authors\":i['Authors'],\n",
    "            \"Citations\":i['Citations'],\n",
    "            \"Afficliation\":i['Affiliations'],\n",
    "            \"Publisher\":i['Publisher'],\n",
    "            \"doi\":i['DOI']\n",
    "        })\n",
    "    return data\n",
    "\n",
    "@app.get(\"/countries\")\n",
    "def getCountCountries():\n",
    "    data=[]\n",
    "    grouped = df.groupby(\"Affiliations\").count()\n",
    "    # Iterate through the groups and counts\n",
    "    for group, count in grouped[\"Citations\"].items():\n",
    "        data.append({\n",
    "            'country':group,\n",
    "            'count': count\n",
    "        })\n",
    "    return data\n",
    "    \n",
    "@app.get(\"/years\")\n",
    "def getCountYears():\n",
    "    data=[]\n",
    "    grouped = df.groupby(\"Publication Year\").count()\n",
    "    # Iterate through the groups and counts\n",
    "    for group, count in grouped[\"Citations\"].items():\n",
    "        data.append({\n",
    "            'Year':group,\n",
    "            'count': count\n",
    "        })\n",
    "    return data\n",
    "    \n",
    "@app.get(\"/citations\")\n",
    "def getCountCitations():\n",
    "    data=[]\n",
    "    grouped = df.groupby(\"Affiliations\")[\"Citations\"].sum()\n",
    "    # Iterate through the groups and counts\n",
    "    for group, count in grouped.items():\n",
    "        data.append({\n",
    "            'Country':group,\n",
    "            'Citations': count\n",
    "        })\n",
    "    return data\n",
    "\n",
    "\n",
    "    \n",
    "@app.get(\"/citationsCountries\")\n",
    "def getCountCitationsAndCountries():\n",
    "    data=[]\n",
    "    grouped1 = df.groupby(\"Affiliations\").count()\n",
    "    grouped = df.groupby(\"Affiliations\")[\"Citations\"].sum()\n",
    "    # Iterate through the groups and counts\n",
    "    for group1, group2 in zip(grouped.items(), grouped1[\"Publication Year\"].items()):\n",
    "        data.append({\n",
    "            'Country':group1[0],\n",
    "            'Citations': group1[1],\n",
    "            'count':group2[1]\n",
    "        })\n",
    "    return data\n",
    "\n",
    "@app.get(\"/citationsByPublisher\")\n",
    "def getCountCitationsByPublisherr():\n",
    "    data=[]\n",
    "    grouped = df.groupby(\"Publisher\")[\"Citations\"].sum()\n",
    "    # Iterate through the groups and counts\n",
    "    for group, count in grouped.items():\n",
    "        data.append({\n",
    "            'Publisher':group,\n",
    "            'Citations': count\n",
    "        })\n",
    "    return data"
   ]
  },
  {
   "cell_type": "code",
   "execution_count": 14,
   "id": "b7e44132",
   "metadata": {},
   "outputs": [
    {
     "name": "stdout",
     "output_type": "stream",
     "text": [
      "Collecting uvicorn\n",
      "  Downloading uvicorn-0.20.0-py3-none-any.whl (56 kB)\n",
      "     -------------------------------------- 56.9/56.9 kB 249.4 kB/s eta 0:00:00\n",
      "Collecting click>=7.0\n",
      "  Downloading click-8.1.3-py3-none-any.whl (96 kB)\n",
      "     ---------------------------------------- 96.6/96.6 kB 1.4 MB/s eta 0:00:00\n",
      "Requirement already satisfied: h11>=0.8 in c:\\users\\samir\\appdata\\local\\programs\\python\\python311\\lib\\site-packages (from uvicorn) (0.14.0)\n",
      "Requirement already satisfied: colorama in c:\\users\\samir\\appdata\\local\\programs\\python\\python311\\lib\\site-packages (from click>=7.0->uvicorn) (0.4.6)\n",
      "Installing collected packages: click, uvicorn\n",
      "Successfully installed click-8.1.3 uvicorn-0.20.0\n",
      "Note: you may need to restart the kernel to use updated packages.\n"
     ]
    }
   ],
   "source": [
    "pip install uvicorn"
   ]
  },
  {
   "cell_type": "code",
   "execution_count": 7,
   "id": "82739cce",
   "metadata": {},
   "outputs": [
    {
     "ename": "RuntimeError",
     "evalue": "asyncio.run() cannot be called from a running event loop",
     "output_type": "error",
     "traceback": [
      "\u001b[1;31m---------------------------------------------------------------------------\u001b[0m",
      "\u001b[1;31mRuntimeError\u001b[0m                              Traceback (most recent call last)",
      "Cell \u001b[1;32mIn[7], line 4\u001b[0m\n\u001b[0;32m      1\u001b[0m \u001b[38;5;28;01mimport\u001b[39;00m \u001b[38;5;21;01muvicorn\u001b[39;00m\n\u001b[0;32m      3\u001b[0m \u001b[38;5;66;03m# if __name__ == \"__main__\":\u001b[39;00m\n\u001b[1;32m----> 4\u001b[0m \u001b[43muvicorn\u001b[49m\u001b[38;5;241;43m.\u001b[39;49m\u001b[43mrun\u001b[49m\u001b[43m(\u001b[49m\u001b[43mapp\u001b[49m\u001b[43m)\u001b[49m\n",
      "File \u001b[1;32m~\\AppData\\Local\\Programs\\Python\\Python311\\Lib\\site-packages\\uvicorn\\main.py:569\u001b[0m, in \u001b[0;36mrun\u001b[1;34m(app, host, port, uds, fd, loop, http, ws, ws_max_size, ws_ping_interval, ws_ping_timeout, ws_per_message_deflate, lifespan, interface, reload, reload_dirs, reload_includes, reload_excludes, reload_delay, workers, env_file, log_config, log_level, access_log, proxy_headers, server_header, date_header, forwarded_allow_ips, root_path, limit_concurrency, backlog, limit_max_requests, timeout_keep_alive, ssl_keyfile, ssl_certfile, ssl_keyfile_password, ssl_version, ssl_cert_reqs, ssl_ca_certs, ssl_ciphers, headers, use_colors, app_dir, factory, h11_max_incomplete_event_size)\u001b[0m\n\u001b[0;32m    567\u001b[0m     Multiprocess(config, target\u001b[38;5;241m=\u001b[39mserver\u001b[38;5;241m.\u001b[39mrun, sockets\u001b[38;5;241m=\u001b[39m[sock])\u001b[38;5;241m.\u001b[39mrun()\n\u001b[0;32m    568\u001b[0m \u001b[38;5;28;01melse\u001b[39;00m:\n\u001b[1;32m--> 569\u001b[0m     \u001b[43mserver\u001b[49m\u001b[38;5;241;43m.\u001b[39;49m\u001b[43mrun\u001b[49m\u001b[43m(\u001b[49m\u001b[43m)\u001b[49m\n\u001b[0;32m    570\u001b[0m \u001b[38;5;28;01mif\u001b[39;00m config\u001b[38;5;241m.\u001b[39muds \u001b[38;5;129;01mand\u001b[39;00m os\u001b[38;5;241m.\u001b[39mpath\u001b[38;5;241m.\u001b[39mexists(config\u001b[38;5;241m.\u001b[39muds):\n\u001b[0;32m    571\u001b[0m     os\u001b[38;5;241m.\u001b[39mremove(config\u001b[38;5;241m.\u001b[39muds)  \u001b[38;5;66;03m# pragma: py-win32\u001b[39;00m\n",
      "File \u001b[1;32m~\\AppData\\Local\\Programs\\Python\\Python311\\Lib\\site-packages\\uvicorn\\server.py:60\u001b[0m, in \u001b[0;36mServer.run\u001b[1;34m(self, sockets)\u001b[0m\n\u001b[0;32m     58\u001b[0m \u001b[38;5;28;01mdef\u001b[39;00m \u001b[38;5;21mrun\u001b[39m(\u001b[38;5;28mself\u001b[39m, sockets: Optional[List[socket\u001b[38;5;241m.\u001b[39msocket]] \u001b[38;5;241m=\u001b[39m \u001b[38;5;28;01mNone\u001b[39;00m) \u001b[38;5;241m-\u001b[39m\u001b[38;5;241m>\u001b[39m \u001b[38;5;28;01mNone\u001b[39;00m:\n\u001b[0;32m     59\u001b[0m     \u001b[38;5;28mself\u001b[39m\u001b[38;5;241m.\u001b[39mconfig\u001b[38;5;241m.\u001b[39msetup_event_loop()\n\u001b[1;32m---> 60\u001b[0m     \u001b[38;5;28;01mreturn\u001b[39;00m \u001b[43masyncio\u001b[49m\u001b[38;5;241;43m.\u001b[39;49m\u001b[43mrun\u001b[49m\u001b[43m(\u001b[49m\u001b[38;5;28;43mself\u001b[39;49m\u001b[38;5;241;43m.\u001b[39;49m\u001b[43mserve\u001b[49m\u001b[43m(\u001b[49m\u001b[43msockets\u001b[49m\u001b[38;5;241;43m=\u001b[39;49m\u001b[43msockets\u001b[49m\u001b[43m)\u001b[49m\u001b[43m)\u001b[49m\n",
      "File \u001b[1;32m~\\AppData\\Local\\Programs\\Python\\Python311\\Lib\\asyncio\\runners.py:186\u001b[0m, in \u001b[0;36mrun\u001b[1;34m(main, debug)\u001b[0m\n\u001b[0;32m    161\u001b[0m \u001b[38;5;124;03m\"\"\"Execute the coroutine and return the result.\u001b[39;00m\n\u001b[0;32m    162\u001b[0m \n\u001b[0;32m    163\u001b[0m \u001b[38;5;124;03mThis function runs the passed coroutine, taking care of\u001b[39;00m\n\u001b[1;32m   (...)\u001b[0m\n\u001b[0;32m    182\u001b[0m \u001b[38;5;124;03m    asyncio.run(main())\u001b[39;00m\n\u001b[0;32m    183\u001b[0m \u001b[38;5;124;03m\"\"\"\u001b[39;00m\n\u001b[0;32m    184\u001b[0m \u001b[38;5;28;01mif\u001b[39;00m events\u001b[38;5;241m.\u001b[39m_get_running_loop() \u001b[38;5;129;01mis\u001b[39;00m \u001b[38;5;129;01mnot\u001b[39;00m \u001b[38;5;28;01mNone\u001b[39;00m:\n\u001b[0;32m    185\u001b[0m     \u001b[38;5;66;03m# fail fast with short traceback\u001b[39;00m\n\u001b[1;32m--> 186\u001b[0m     \u001b[38;5;28;01mraise\u001b[39;00m \u001b[38;5;167;01mRuntimeError\u001b[39;00m(\n\u001b[0;32m    187\u001b[0m         \u001b[38;5;124m\"\u001b[39m\u001b[38;5;124masyncio.run() cannot be called from a running event loop\u001b[39m\u001b[38;5;124m\"\u001b[39m)\n\u001b[0;32m    189\u001b[0m \u001b[38;5;28;01mwith\u001b[39;00m Runner(debug\u001b[38;5;241m=\u001b[39mdebug) \u001b[38;5;28;01mas\u001b[39;00m runner:\n\u001b[0;32m    190\u001b[0m     \u001b[38;5;28;01mreturn\u001b[39;00m runner\u001b[38;5;241m.\u001b[39mrun(main)\n",
      "\u001b[1;31mRuntimeError\u001b[0m: asyncio.run() cannot be called from a running event loop"
     ]
    }
   ],
   "source": [
    "import uvicorn\n",
    "\n",
    "if __name__ == \"__main__\":\n",
    "    uvicorn.run(app)\n"
   ]
  },
  {
   "cell_type": "code",
   "execution_count": 11,
   "id": "ce5f7ea0",
   "metadata": {},
   "outputs": [
    {
     "data": {
      "text/plain": [
       "{'nb_articles': 2708,\n",
       " 'nb_articles_acm': 1108,\n",
       " 'nb_articles_science': 640,\n",
       " 'nb_articles_ieee': 960}"
      ]
     },
     "execution_count": 11,
     "metadata": {},
     "output_type": "execute_result"
    }
   ],
   "source": [
    "getNbArticles()"
   ]
  },
  {
   "cell_type": "code",
   "execution_count": 13,
   "id": "d9345883",
   "metadata": {},
   "outputs": [
    {
     "name": "stdout",
     "output_type": "stream",
     "text": [
      "<class 'pandas.core.frame.DataFrame'>\n",
      "RangeIndex: 2708 entries, 0 to 2707\n",
      "Data columns (total 8 columns):\n",
      " #   Column            Non-Null Count  Dtype  \n",
      "---  ------            --------------  -----  \n",
      " 0   Document Title    2708 non-null   object \n",
      " 1   Authors           2700 non-null   object \n",
      " 2   Universities      2708 non-null   object \n",
      " 3   Citations         2708 non-null   float64\n",
      " 4   Affiliations      2708 non-null   object \n",
      " 5   Publisher         2708 non-null   object \n",
      " 6   DOI               2708 non-null   object \n",
      " 7   Publication Year  2708 non-null   int64  \n",
      "dtypes: float64(1), int64(1), object(6)\n",
      "memory usage: 169.4+ KB\n"
     ]
    }
   ],
   "source": [
    "df.info()"
   ]
  },
  {
   "cell_type": "code",
   "execution_count": null,
   "id": "bf436588",
   "metadata": {},
   "outputs": [],
   "source": []
  }
 ],
 "metadata": {
  "kernelspec": {
   "display_name": "Python 3 (ipykernel)",
   "language": "python",
   "name": "python3"
  },
  "language_info": {
   "codemirror_mode": {
    "name": "ipython",
    "version": 3
   },
   "file_extension": ".py",
   "mimetype": "text/x-python",
   "name": "python",
   "nbconvert_exporter": "python",
   "pygments_lexer": "ipython3",
   "version": "3.11.1"
  }
 },
 "nbformat": 4,
 "nbformat_minor": 5
}
